{
 "cells": [
  {
   "cell_type": "code",
   "execution_count": null,
   "metadata": {
    "vscode": {
     "languageId": "java"
    }
   },
   "outputs": [],
   "source": [
    "// Implement Stack Using Queues\n",
    "\n",
    "/*\n",
    ">>>>\n",
    ">>>>\n",
    ">>>>\n",
    ">>>>\n",
    "*/\n"
   ]
  },
  {
   "cell_type": "markdown",
   "metadata": {},
   "source": [
    "# Approach 1 (Best Solution).\n",
    "- Time Complexity - O(n).\n",
    "- Space Complexity - O(n).\n",
    "\n",
    "1. **Queue Class**:\n",
    "   - Implements a simple doubly linked list queue with the following methods:\n",
    "     - **enqueue(int val)**: Adds a value to the back of the queue.\n",
    "     - **dequeue()**: Removes and returns the front value of the queue.\n",
    "     - **peek()**: Returns the front value without removing it.\n",
    "     - **isEmpty()**: Checks if the queue is empty by comparing the left and right sentinels.\n",
    "\n",
    "2. **MyStack Class**:\n",
    "   - Implements a stack using a single queue to simulate the behavior of a stack (LIFO).\n",
    "   - The queue's behavior is manipulated to ensure the last inserted element is always dequeued first when performing the `pop()` or `top()` operations.\n",
    "\n",
    "3. **Methods**:\n",
    "   - **push(int x)**:\n",
    "     - Enqueues the element to the queue and increments the stack size.\n",
    "\n",
    "   - **pop()**:\n",
    "     - To simulate the stack's LIFO behavior, it dequeues and re-enqueues all elements except the last one, which is then dequeued and returned.\n",
    "     - Decreases the size.\n",
    "\n",
    "   - **top()**:\n",
    "     - Uses the `pop()` method to get the top element of the stack, then immediately enqueues it back to the queue and restores the size.\n",
    "\n",
    "   - **empty()**:\n",
    "     - Checks if the stack is empty by verifying if the size is zero.\n"
   ]
  },
  {
   "cell_type": "code",
   "execution_count": null,
   "metadata": {
    "vscode": {
     "languageId": "java"
    }
   },
   "outputs": [],
   "source": [
    "class MyStack {\n",
    "    private class Queue {\n",
    "        private class ListNode {\n",
    "            int val;\n",
    "            ListNode prev;\n",
    "            ListNode next;\n",
    "\n",
    "            public ListNode(int val, ListNode prev, ListNode next) {\n",
    "                this.val = val;\n",
    "                this.prev = prev;\n",
    "                this.next = next;\n",
    "            }\n",
    "        }\n",
    "\n",
    "        private ListNode left;\n",
    "        private ListNode right;\n",
    "\n",
    "        public Queue() {\n",
    "            left = new ListNode(0, null, null);\n",
    "            right = new ListNode(0, left, null);\n",
    "        }\n",
    "\n",
    "        public void enqueue(int val) {\n",
    "            ListNode temp = new ListNode(val, right.prev, right);\n",
    "            right.prev.next = temp;\n",
    "            right.prev = temp;\n",
    "        }\n",
    "\n",
    "        public int dequeue() {\n",
    "            left = left.next;\n",
    "            left.prev.next = null;\n",
    "            left.prev = null;\n",
    "            return left.val;\n",
    "        }\n",
    "\n",
    "        public int peek() {\n",
    "            return left.next.val;\n",
    "        }\n",
    "\n",
    "        public boolean isEmpty() {\n",
    "            return left.next == right;\n",
    "        }\n",
    "    }\n",
    "\n",
    "    int size;\n",
    "    Queue queue;\n",
    "\n",
    "    public MyStack() {\n",
    "        size = 0;\n",
    "        queue = new Queue();\n",
    "    }\n",
    "\n",
    "    public void push(int x) {\n",
    "        queue.enqueue(x);\n",
    "        size++;\n",
    "    }\n",
    "\n",
    "    public int pop() {\n",
    "        for (int i = 0; i < size - 1; i++) {\n",
    "            queue.enqueue(queue.dequeue());\n",
    "        }\n",
    "        size--;\n",
    "        return queue.dequeue();\n",
    "    }\n",
    "\n",
    "    public int top() {\n",
    "        int val = this.pop();\n",
    "        size++;\n",
    "        queue.enqueue(val);\n",
    "        return val;\n",
    "    }\n",
    "\n",
    "    public boolean empty() {\n",
    "        return size == 0;\n",
    "    }\n",
    "}"
   ]
  },
  {
   "cell_type": "code",
   "execution_count": null,
   "metadata": {
    "vscode": {
     "languageId": "java"
    }
   },
   "outputs": [],
   "source": [
    "MyStack obj = new MyStack();\n",
    "obj.push(100);\n",
    "obj.top();\n",
    "obj.empty();"
   ]
  },
  {
   "cell_type": "code",
   "execution_count": null,
   "metadata": {
    "vscode": {
     "languageId": "java"
    }
   },
   "outputs": [],
   "source": []
  }
 ],
 "metadata": {
  "kernelspec": {
   "display_name": "Java",
   "language": "java",
   "name": "java"
  },
  "language_info": {
   "codemirror_mode": "java",
   "file_extension": ".jshell",
   "mimetype": "text/x-java-source",
   "name": "Java",
   "pygments_lexer": "java",
   "version": "22.0.2+9-70"
  }
 },
 "nbformat": 4,
 "nbformat_minor": 2
}
