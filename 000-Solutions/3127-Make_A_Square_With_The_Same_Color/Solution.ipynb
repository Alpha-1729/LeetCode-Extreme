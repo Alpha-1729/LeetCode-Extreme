{
 "cells": [
  {
   "cell_type": "code",
   "execution_count": null,
   "metadata": {
    "vscode": {
     "languageId": "java"
    }
   },
   "outputs": [],
   "source": [
    "// Make A Square With The Same Color\n",
    "\n",
    "/*\n",
    ">>>>\n",
    ">>>>\n",
    ">>>>\n",
    ">>>>\n",
    "*/\n"
   ]
  },
  {
   "cell_type": "markdown",
   "metadata": {},
   "source": [
    "# Approach 1 (Best Solution).\n",
    "- Time Complexity - O(n^2).\n",
    "- Space Complexity - O(1).\n",
    "\n",
    "- We can only make a square only if count of white or white should be greater than 2.\n",
    "- Create a function to check the color of the 2x2 grid.\n",
    "- If the 3 colors are same, then this function will return true."
   ]
  },
  {
   "cell_type": "code",
   "execution_count": null,
   "metadata": {
    "vscode": {
     "languageId": "java"
    }
   },
   "outputs": [],
   "source": [
    "class Solution {\n",
    "\n",
    "  public boolean canMakeSquare(char[][] grid) {\n",
    "    for (int i = 0; i < 2; i++) {\n",
    "      for (int j = 0; j < 2; j++) {\n",
    "        if (checkCount(grid, i, j)) {\n",
    "          return true;\n",
    "        }\n",
    "      }\n",
    "    }\n",
    "    return false;\n",
    "  }\n",
    "\n",
    "  public boolean checkCount(char[][] grid, int i, int j) {\n",
    "    int white = 0;\n",
    "    if (grid[i][j] == 'W') {\n",
    "      white++;\n",
    "    }\n",
    "    if (grid[i][j + 1] == 'W') {\n",
    "      white++;\n",
    "    }\n",
    "    if (grid[i + 1][j] == 'W') {\n",
    "      white++;\n",
    "    }\n",
    "    if (grid[i + 1][j + 1] == 'W') {\n",
    "      white++;\n",
    "    }\n",
    "\n",
    "    return white != 2;\n",
    "  }\n",
    "}\n"
   ]
  },
  {
   "cell_type": "code",
   "execution_count": null,
   "metadata": {
    "vscode": {
     "languageId": "java"
    }
   },
   "outputs": [],
   "source": [
    "Solution s = new Solution();\n",
    "char[][] grid = {{'B', 'W', 'B'}, {'B', 'W', 'W'}, {'B', 'W', 'B'}};\n",
    "boolean result = s.canMakeSquare(grid);\n",
    "System.out.println(result);"
   ]
  },
  {
   "cell_type": "code",
   "execution_count": null,
   "metadata": {
    "vscode": {
     "languageId": "java"
    }
   },
   "outputs": [],
   "source": []
  }
 ],
 "metadata": {
  "kernelspec": {
   "display_name": "Java",
   "language": "java",
   "name": "java"
  },
  "language_info": {
   "codemirror_mode": "java",
   "file_extension": ".jshell",
   "mimetype": "text/x-java-source",
   "name": "Java",
   "pygments_lexer": "java",
   "version": "22.0.1+8-16"
  }
 },
 "nbformat": 4,
 "nbformat_minor": 2
}
