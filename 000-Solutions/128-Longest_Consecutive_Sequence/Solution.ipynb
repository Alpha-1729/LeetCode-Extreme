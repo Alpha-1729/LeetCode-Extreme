{
 "cells": [
  {
   "cell_type": "code",
   "execution_count": null,
   "metadata": {
    "vscode": {
     "languageId": "java"
    }
   },
   "outputs": [],
   "source": [
    "// Longest Consecutive Sequence\n",
    "\n",
    "/*\n",
    ">>>>\n",
    ">>>>\n",
    ">>>>\n",
    ">>>>\n",
    "*/\n"
   ]
  },
  {
   "cell_type": "markdown",
   "metadata": {},
   "source": [
    "# Approach 1 (Best Solution).\n",
    "- Time Complexity - O(n).\n",
    "- Space Complexity - O(n).\n",
    "\n",
    "- Store each number in the array to a hashset.\n",
    "- Loop through the number and check the previous number of the current number is not in the hashset.\n",
    "- If previous number not exist, check for the next number of the current number and get its length.\n",
    "- Return the max length."
   ]
  },
  {
   "cell_type": "code",
   "execution_count": 1,
   "metadata": {
    "vscode": {
     "languageId": "java"
    }
   },
   "outputs": [],
   "source": [
    "class Solution {\n",
    "\n",
    "  public int longestConsecutive(int[] nums) {\n",
    "    int maxLength = 0;\n",
    "\n",
    "    // Adding all numbers to a hash set.\n",
    "    Set<Integer> set = new HashSet<>();\n",
    "    for (int num : nums) {\n",
    "      set.add(num);\n",
    "    }\n",
    "\n",
    "    for (int num : nums) {\n",
    "      // To identify the smallest number in the sequence. Then check for its largest number.\n",
    "      if (!set.contains(num - 1)) {\n",
    "        int length = 0;\n",
    "        while (set.contains(num + length)) {\n",
    "          length++;\n",
    "          maxLength = Math.max(length, maxLength);\n",
    "        }\n",
    "      }\n",
    "    }\n",
    "\n",
    "    return maxLength;\n",
    "  }\n",
    "}\n"
   ]
  },
  {
   "cell_type": "code",
   "execution_count": 2,
   "metadata": {
    "vscode": {
     "languageId": "java"
    }
   },
   "outputs": [
    {
     "name": "stdout",
     "output_type": "stream",
     "text": [
      "4\n"
     ]
    }
   ],
   "source": [
    "Solution s = new Solution();\n",
    "int[] nums = {100, 4, 200, 1, 3, 2};\n",
    "int result = s.longestConsecutive(nums);\n",
    "System.out.println(result);"
   ]
  },
  {
   "cell_type": "code",
   "execution_count": null,
   "metadata": {
    "vscode": {
     "languageId": "java"
    }
   },
   "outputs": [],
   "source": []
  }
 ],
 "metadata": {
  "kernelspec": {
   "display_name": "Java",
   "language": "java",
   "name": "java"
  },
  "language_info": {
   "codemirror_mode": "java",
   "file_extension": ".jshell",
   "mimetype": "text/x-java-source",
   "name": "Java",
   "pygments_lexer": "java",
   "version": "22.0.1+8-16"
  }
 },
 "nbformat": 4,
 "nbformat_minor": 2
}
