{
 "cells": [
  {
   "cell_type": "code",
   "execution_count": null,
   "metadata": {},
   "outputs": [],
   "source": [
    "// Three Divisors\n",
    "\n",
    "/*\n",
    ">>>>\n",
    ">>>>\n",
    ">>>>\n",
    ">>>>\n",
    "*/\n"
   ]
  },
  {
   "cell_type": "markdown",
   "metadata": {},
   "source": [
    "# Approach 1 (Best Solution).\n",
    "\n",
    "- Time Complexity - O(logn).\n",
    "- Space Complexity - O(1).\n",
    "\n",
    "- Find all factors from 2 to that numbers.\n",
    "- If factors count is greater than 3, return false.\n",
    "- Else check there is exactly 3 factors.\n"
   ]
  },
  {
   "cell_type": "code",
   "execution_count": null,
   "metadata": {},
   "outputs": [],
   "source": [
    "class Solution {\n",
    "\n",
    "  public boolean isThree(int n) {\n",
    "    int divisorCount = 2;\n",
    "\n",
    "    for (int i = 2; i <= Math.sqrt(n); i++) {\n",
    "      if (n % i == 0) {\n",
    "        divisorCount++;\n",
    "        if (i != (n / i)) {\n",
    "          divisorCount++;\n",
    "        }\n",
    "      }\n",
    "\n",
    "      if (divisorCount > 3) {\n",
    "        return false;\n",
    "      }\n",
    "    }\n",
    "\n",
    "    return divisorCount == 3;\n",
    "  }\n",
    "}\n"
   ]
  },
  {
   "cell_type": "code",
   "execution_count": null,
   "metadata": {},
   "outputs": [],
   "source": [
    "Solution solution = new Solution();\n",
    "int n = 2;\n",
    "boolean result = solution.isThree(n);\n",
    "System.out.println(result);"
   ]
  }
 ],
 "metadata": {
  "kernelspec": {
   "display_name": "Java",
   "language": "java",
   "name": "java"
  },
  "language_info": {
   "codemirror_mode": "java",
   "file_extension": ".jshell",
   "mimetype": "text/x-java-source",
   "name": "java",
   "pygments_lexer": "java",
   "version": "21.0.2+13-LTS-58"
  }
 },
 "nbformat": 4,
 "nbformat_minor": 2
}
