{
 "cells": [
  {
   "cell_type": "code",
   "execution_count": null,
   "metadata": {
    "vscode": {
     "languageId": "java"
    }
   },
   "outputs": [],
   "source": [
    "// Difference Between Element Sum And Diigit Sum Of An Array\n",
    "\n",
    "/*\n",
    ">>>>\n",
    ">>>>\n",
    ">>>>\n",
    ">>>>\n",
    "*/\n"
   ]
  },
  {
   "cell_type": "markdown",
   "metadata": {},
   "source": [
    "# Approach 1 (Best Solution).\n",
    "- Time Complexity - O(n).\n",
    "- Space Complexity - O(1).\n",
    "\n",
    "\n",
    "1. **Initialization**:\n",
    "   - `result` is initialized to 0. This variable will accumulate the total difference for all numbers in the `nums` array.\n",
    "\n",
    "2. **Processing Each Number**:\n",
    "   - The method uses an enhanced `for` loop to iterate through each number (`num`) in the `nums` array.\n",
    "   - For each number, it calculates the difference between the number and the sum of its digits. This is done as follows:\n",
    "     - `(num / 1000)` extracts the thousands digit (for numbers with four digits or more).\n",
    "     - `((num / 100) % 10)` extracts the hundreds digit.\n",
    "     - `((num % 100) / 10)` extracts the tens digit.\n",
    "     - `(num % 10)` extracts the units digit.\n",
    "   - These extracted digits are summed up, and the total is subtracted from the original number.\n",
    "   - The result of this subtraction is added to the `result` variable.\n",
    "\n",
    "3. **Return Value**:\n",
    "   - After processing all numbers in the `nums` array, the method returns the accumulated `result`.\n"
   ]
  },
  {
   "cell_type": "code",
   "execution_count": null,
   "metadata": {
    "vscode": {
     "languageId": "java"
    }
   },
   "outputs": [],
   "source": [
    "class Solution {\n",
    "    public int differenceOfSum(int[] nums) {\n",
    "        int result = 0;\n",
    "        for (int num : nums) {\n",
    "            result += num - ((num / 1000) + ((num / 100) % 10) + ((num % 100) / 10) + (num % 10));\n",
    "        }\n",
    "        return result;\n",
    "    }\n",
    "}"
   ]
  },
  {
   "cell_type": "code",
   "execution_count": null,
   "metadata": {
    "vscode": {
     "languageId": "java"
    }
   },
   "outputs": [],
   "source": [
    "Solution solution = new Solution();\n",
    "int[] nums = {1, 15, 6, 3};\n",
    "int result = solution.differenceOfSum(nums);\n",
    "System.out.println(result);"
   ]
  },
  {
   "cell_type": "code",
   "execution_count": null,
   "metadata": {
    "vscode": {
     "languageId": "java"
    }
   },
   "outputs": [],
   "source": []
  }
 ],
 "metadata": {
  "kernelspec": {
   "display_name": "Java",
   "language": "java",
   "name": "java"
  },
  "language_info": {
   "codemirror_mode": "java",
   "file_extension": ".jshell",
   "mimetype": "text/x-java-source",
   "name": "Java",
   "pygments_lexer": "java",
   "version": "22.0.2+9-70"
  }
 },
 "nbformat": 4,
 "nbformat_minor": 2
}
