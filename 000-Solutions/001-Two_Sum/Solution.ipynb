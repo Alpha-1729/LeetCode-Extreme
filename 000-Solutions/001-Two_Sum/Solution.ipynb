{
 "cells": [
  {
   "cell_type": "code",
   "execution_count": null,
   "metadata": {
    "vscode": {
     "languageId": "java"
    }
   },
   "outputs": [],
   "source": [
    "// Two Sum\n",
    "\n",
    "/*\n",
    ">>>>\n",
    ">>>>\n",
    ">>>>\n",
    ">>>>\n",
    "*/\n"
   ]
  },
  {
   "cell_type": "markdown",
   "metadata": {},
   "source": [
    "# Approach 1 (Best Solution).\n",
    "- Time Complexity - O(n).\n",
    "- Space Complexity - O(n).\n",
    "- \n",
    "- Initialize an HasMap to store the number and it's index.\n",
    "- Loop through the each element of the array.\n",
    "- Calculate the complement of the number.\n",
    "- If complement is present in the HashMap, then return the index of the current element and previous element.\n",
    "- Finally return the default empty array."
   ]
  },
  {
   "cell_type": "code",
   "execution_count": 1,
   "metadata": {
    "vscode": {
     "languageId": "java"
    }
   },
   "outputs": [],
   "source": [
    "class Solution {\n",
    "\n",
    "  public int[] twoSum(int[] nums, int target) {\n",
    "    Map<Integer, Integer> map = new HashMap<>();\n",
    "    for (int i = 0; i < nums.length; i++) {\n",
    "      int complement = target - nums[i];\n",
    "      if (map.containsKey(complement)) {\n",
    "        return new int[] { map.get(complement), i };\n",
    "      }\n",
    "      map.put(nums[i], i);\n",
    "    }\n",
    "    return new int[] {};\n",
    "  }\n",
    "}\n"
   ]
  },
  {
   "cell_type": "code",
   "execution_count": 4,
   "metadata": {
    "vscode": {
     "languageId": "java"
    }
   },
   "outputs": [
    {
     "name": "stdout",
     "output_type": "stream",
     "text": [
      "[0, 1]\n"
     ]
    }
   ],
   "source": [
    "Solution s = new Solution();\n",
    "\n",
    "int[] nums = {2,7,11,15};\n",
    "int target = 9;\n",
    "int[] result = s.twoSum(nums, target);\n",
    "System.out.println(Arrays.toString(result));\n"
   ]
  },
  {
   "cell_type": "code",
   "execution_count": null,
   "metadata": {
    "vscode": {
     "languageId": "java"
    }
   },
   "outputs": [],
   "source": []
  }
 ],
 "metadata": {
  "kernelspec": {
   "display_name": "Java",
   "language": "java",
   "name": "java"
  },
  "language_info": {
   "codemirror_mode": "java",
   "file_extension": ".jshell",
   "mimetype": "text/x-java-source",
   "name": "Java",
   "pygments_lexer": "java",
   "version": "21.0.2+13-LTS-58"
  }
 },
 "nbformat": 4,
 "nbformat_minor": 2
}
