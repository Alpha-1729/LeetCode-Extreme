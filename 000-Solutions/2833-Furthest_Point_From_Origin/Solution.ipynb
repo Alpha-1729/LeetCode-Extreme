{
 "cells": [
  {
   "cell_type": "code",
   "execution_count": null,
   "metadata": {
    "vscode": {
     "languageId": "java"
    }
   },
   "outputs": [],
   "source": [
    "// Furthest Point From Origin\n",
    "\n",
    "/*\n",
    ">>>>\n",
    ">>>>\n",
    ">>>>\n",
    ">>>>\n",
    "*/\n"
   ]
  },
  {
   "cell_type": "markdown",
   "metadata": {},
   "source": [
    "# Approach 1 (Best Solution).\n",
    "- Time Complexity - O(n).\n",
    "- Space Complexity - O(1).\n",
    "\n",
    "1. **Initialization**:\n",
    "   - Two counters, `lCount` and `rCount`, are initialized to keep track of the number of left ('L') and right ('R') moves respectively.\n",
    "\n",
    "2. **Processing Moves**:\n",
    "   - The method iterates through each character in the `moves` string.\n",
    "   - For each 'L' character, `lCount` is incremented.\n",
    "   - For each 'R' character, `rCount` is incremented.\n",
    "\n",
    "3. **Calculating the Distance**:\n",
    "   - The difference between `lCount` and `rCount` is computed using `Math.abs()` to get the absolute value. This represents the net displacement along the horizontal axis.\n",
    "   - The total distance is then calculated by adding the number of moves that are neither 'L' nor 'R'. This is done by subtracting `lCount` and `rCount` from the total number of moves.\n",
    "\n",
    "4. **Return Value**:\n",
    "   - The method returns the calculated distance, which accounts for both the net horizontal displacement and any additional moves that do not affect this displacement."
   ]
  },
  {
   "cell_type": "code",
   "execution_count": null,
   "metadata": {
    "vscode": {
     "languageId": "java"
    }
   },
   "outputs": [],
   "source": [
    "class Solution {\n",
    "    public int furthestDistanceFromOrigin(String moves) {\n",
    "        int lCount = 0;\n",
    "        int rCount = 0;\n",
    "        int n = moves.length();\n",
    "        for (int i = 0; i < n; i++) {\n",
    "            char ch = moves.charAt(i);\n",
    "            if (ch == 'L') {\n",
    "                lCount++;\n",
    "            } else if (ch  == 'R') {\n",
    "                rCount++;\n",
    "            }\n",
    "        }\n",
    "\n",
    "        return Math.abs(lCount - rCount) + (n - rCount - lCount);\n",
    "    }\n",
    "}"
   ]
  },
  {
   "cell_type": "code",
   "execution_count": null,
   "metadata": {
    "vscode": {
     "languageId": "java"
    }
   },
   "outputs": [],
   "source": [
    "Solution solution = new Solution();\n",
    "String moves = \"L_RL__R\";\n",
    "int result = solution.furthestDistanceFromOrigin(moves);\n",
    "System.out.println(result);"
   ]
  },
  {
   "cell_type": "code",
   "execution_count": null,
   "metadata": {
    "vscode": {
     "languageId": "java"
    }
   },
   "outputs": [],
   "source": []
  }
 ],
 "metadata": {
  "kernelspec": {
   "display_name": "Java",
   "language": "java",
   "name": "java"
  },
  "language_info": {
   "codemirror_mode": "java",
   "file_extension": ".jshell",
   "mimetype": "text/x-java-source",
   "name": "Java",
   "pygments_lexer": "java",
   "version": "22.0.2+9-70"
  }
 },
 "nbformat": 4,
 "nbformat_minor": 2
}
