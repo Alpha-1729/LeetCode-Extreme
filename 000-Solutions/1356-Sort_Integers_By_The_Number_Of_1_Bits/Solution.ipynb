{
 "cells": [
  {
   "cell_type": "code",
   "execution_count": null,
   "metadata": {
    "vscode": {
     "languageId": "java"
    }
   },
   "outputs": [],
   "source": [
    "// Sort Integers By The Number Of 1 Bits\n",
    "\n",
    "/*\n",
    ">>>>\n",
    ">>>>\n",
    ">>>>\n",
    ">>>>\n",
    "*/\n"
   ]
  },
  {
   "cell_type": "markdown",
   "metadata": {},
   "source": [
    "# Approach 1 (Best Solution).\n",
    "- Time Complexity - O(nlogn).\n",
    "- Space Complexity - O(1).\n",
    "\n",
    "1. **Modify Array**: \n",
    "   - For each element in the array, the number of 1s in its binary form (using `bitCount`) is calculated and multiplied by `10001`.\n",
    "   - This value is added to the original number, modifying the array. The large multiplier ensures that the bit count influences sorting while keeping the original number intact.\n",
    "  \n",
    "2. **Sort the Array**:\n",
    "   - The array is sorted using `Arrays.sort()`. Since the values are modified with the bit count, this sorting effectively orders the elements first by bit count, then by value.\n",
    "\n",
    "3. **Restore Original Values**:\n",
    "   - After sorting, each element is reverted to its original value by taking the modulus of `10001`, which removes the added bit count component.\n",
    "\n",
    "4. **Return**: The sorted array is returned."
   ]
  },
  {
   "cell_type": "code",
   "execution_count": 1,
   "metadata": {
    "vscode": {
     "languageId": "java"
    }
   },
   "outputs": [],
   "source": [
    "public class Solution {\n",
    "    public int[] sortByBits(int[] arr) {\n",
    "        for (int i = 0; i < arr.length; i++) {\n",
    "            arr[i] += bitCount(arr[i]) * 10001;\n",
    "        }\n",
    "\n",
    "        Arrays.sort(arr);\n",
    "\n",
    "        for (int i = 0; i < arr.length; i++) {\n",
    "            arr[i] = arr[i] % 10001;\n",
    "        }\n",
    "        return arr;\n",
    "\n",
    "    }\n",
    "\n",
    "    public int bitCount(int num) {\n",
    "        int count = 0;\n",
    "        while (num != 0) {\n",
    "            count += (num & 1);\n",
    "            num >>= 1;\n",
    "        }\n",
    "        return count;\n",
    "    }\n",
    "}"
   ]
  },
  {
   "cell_type": "code",
   "execution_count": 2,
   "metadata": {
    "vscode": {
     "languageId": "java"
    }
   },
   "outputs": [
    {
     "name": "stdout",
     "output_type": "stream",
     "text": [
      "[0, 1, 2, 4, 8, 3, 5, 6, 7]\n"
     ]
    }
   ],
   "source": [
    "Solution solution = new Solution();\n",
    "int[] arr = {0, 1, 2, 3, 4, 5, 6, 7, 8};\n",
    "int[] result = solution.sortByBits(arr);\n",
    "System.out.println(Arrays.toString(result));"
   ]
  },
  {
   "cell_type": "code",
   "execution_count": null,
   "metadata": {
    "vscode": {
     "languageId": "java"
    }
   },
   "outputs": [],
   "source": []
  }
 ],
 "metadata": {
  "kernelspec": {
   "display_name": "Java",
   "language": "java",
   "name": "java"
  },
  "language_info": {
   "codemirror_mode": "java",
   "file_extension": ".jshell",
   "mimetype": "text/x-java-source",
   "name": "Java",
   "pygments_lexer": "java",
   "version": "22.0.2+9-70"
  }
 },
 "nbformat": 4,
 "nbformat_minor": 2
}
