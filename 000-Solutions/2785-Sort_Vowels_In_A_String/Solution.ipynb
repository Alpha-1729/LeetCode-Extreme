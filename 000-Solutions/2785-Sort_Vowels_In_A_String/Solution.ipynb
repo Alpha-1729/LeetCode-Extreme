{
 "cells": [
  {
   "cell_type": "code",
   "execution_count": null,
   "metadata": {
    "vscode": {
     "languageId": "java"
    }
   },
   "outputs": [],
   "source": [
    "// Sort Vowels In A String\n",
    "\n",
    "/*\n",
    ">>>>\n",
    ">>>>\n",
    ">>>>\n",
    ">>>>\n",
    "*/\n"
   ]
  },
  {
   "cell_type": "markdown",
   "metadata": {},
   "source": [
    "# Approach 1 (Best Solution).\n",
    "\n",
    "- Time Complexity - O(n).\n",
    "- Space Complexity - O(n).\n",
    "\n",
    "- Create an integer array to store the count of the vowels.\n",
    "- Create an array to store all the vowels arranged in ascending order of their ASCII values.\n",
    "- Increment the count of all vowels to 1.\n",
    "- So all the characters with count = 1 is a vowel.\n",
    "- Loop through the characters in the string and update the count of vowels.\n",
    "- Again loop through the characters in the string.\n",
    "  - If the character is a vowel.\n",
    "  - Update it with the first vowel in the array, with count > 1.\n",
    "  - Decrement the count of the vowel in the array.\n",
    "- Return the final string.\n"
   ]
  },
  {
   "cell_type": "code",
   "execution_count": 1,
   "metadata": {
    "vscode": {
     "languageId": "java"
    }
   },
   "outputs": [],
   "source": [
    "class Solution {\n",
    "\n",
    "    public String sortVowels(String s) {\n",
    "        int[] set = new int[128];\n",
    "        char[] vowels = new char[] { 'A', 'E', 'I', 'O', 'U', 'a', 'e', 'i', 'o', 'u' };\n",
    "        char[] chars = s.toCharArray();\n",
    "\n",
    "        for (char ch : vowels) {\n",
    "            set[ch]++;\n",
    "        }\n",
    "\n",
    "        for (char ch : chars) {\n",
    "            if (set[ch] > 0) {\n",
    "                set[ch]++;\n",
    "            }\n",
    "        }\n",
    "\n",
    "        int start = 0;\n",
    "        for (int i = 0; i < chars.length; i++) {\n",
    "            char ch = chars[i];\n",
    "            if (set[ch] > 0) {\n",
    "                while (set[vowels[start]] <= 1) {\n",
    "                    start++;\n",
    "                }\n",
    "                chars[i] = vowels[start];\n",
    "                set[vowels[start]]--;\n",
    "            }\n",
    "        }\n",
    "\n",
    "        return new String(chars);\n",
    "\n",
    "    }\n",
    "}"
   ]
  },
  {
   "cell_type": "code",
   "execution_count": 2,
   "metadata": {
    "vscode": {
     "languageId": "java"
    }
   },
   "outputs": [
    {
     "name": "stdout",
     "output_type": "stream",
     "text": [
      "lEOtcede\n"
     ]
    }
   ],
   "source": [
    "Solution solution = new Solution();\n",
    "String s = \"lEetcOde\";\n",
    "String result = solution.sortVowels(s);\n",
    "System.out.println(result);"
   ]
  },
  {
   "cell_type": "code",
   "execution_count": null,
   "metadata": {
    "vscode": {
     "languageId": "java"
    }
   },
   "outputs": [],
   "source": []
  }
 ],
 "metadata": {
  "kernelspec": {
   "display_name": "Java",
   "language": "java",
   "name": "java"
  },
  "language_info": {
   "codemirror_mode": "java",
   "file_extension": ".jshell",
   "mimetype": "text/x-java-source",
   "name": "Java",
   "pygments_lexer": "java",
   "version": "22.0.1+8-16"
  }
 },
 "nbformat": 4,
 "nbformat_minor": 2
}
