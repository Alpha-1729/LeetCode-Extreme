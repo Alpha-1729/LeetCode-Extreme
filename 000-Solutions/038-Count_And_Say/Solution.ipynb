{
 "cells": [
  {
   "cell_type": "code",
   "execution_count": null,
   "metadata": {
    "vscode": {
     "languageId": "java"
    }
   },
   "outputs": [],
   "source": [
    "// Count And Say\n",
    "\n",
    "/*\n",
    ">>>>\n",
    ">>>>\n",
    ">>>>\n",
    ">>>>\n",
    "*/\n"
   ]
  },
  {
   "cell_type": "markdown",
   "metadata": {},
   "source": [
    "# Approach 1 (Best Solution).\n",
    "- Time Complexity - O(n).\n",
    "- Space Complexity - O(1).\n",
    "\n",
    "- Create a function to generate the RLE from a string.\n",
    "- Call this function n-1 times.\n",
    "- Return the generated string."
   ]
  },
  {
   "cell_type": "code",
   "execution_count": null,
   "metadata": {
    "vscode": {
     "languageId": "java"
    }
   },
   "outputs": [],
   "source": [
    "class Solution {\n",
    "\n",
    "  public String countAndSay(int n) {\n",
    "    String input = \"1\";\n",
    "\n",
    "    for (int i = 1; i < n; i++) {\n",
    "      input = getRLE(input);\n",
    "    }\n",
    "    return input;\n",
    "  }\n",
    "\n",
    "  public String getRLE(String input) {\n",
    "    StringBuilder sb = new StringBuilder();\n",
    "    int count = 1;\n",
    "    char prevChar = input.charAt(0);\n",
    "\n",
    "    for (int i = 1; i < input.length(); i++) {\n",
    "      char currentChar = input.charAt(i);\n",
    "      if (currentChar == prevChar) {\n",
    "        count++;\n",
    "      } else {\n",
    "        sb.append(count).append(prevChar);\n",
    "        prevChar = currentChar;\n",
    "        count = 1;\n",
    "      }\n",
    "    }\n",
    "    sb.append(count).append(prevChar);\n",
    "    return sb.toString();\n",
    "  }\n",
    "}\n"
   ]
  },
  {
   "cell_type": "code",
   "execution_count": null,
   "metadata": {
    "vscode": {
     "languageId": "java"
    }
   },
   "outputs": [],
   "source": [
    "Solution s = new Solution();\n",
    "int n  = 4;\n",
    "String result = s.countAndSay(n);\n",
    "System.out.println(result);"
   ]
  },
  {
   "cell_type": "code",
   "execution_count": null,
   "metadata": {
    "vscode": {
     "languageId": "java"
    }
   },
   "outputs": [],
   "source": []
  },
  {
   "cell_type": "code",
   "execution_count": null,
   "metadata": {
    "vscode": {
     "languageId": "java"
    }
   },
   "outputs": [],
   "source": []
  }
 ],
 "metadata": {
  "kernelspec": {
   "display_name": "Java",
   "language": "java",
   "name": "java"
  },
  "language_info": {
   "codemirror_mode": "java",
   "file_extension": ".jshell",
   "mimetype": "text/x-java-source",
   "name": "Java",
   "pygments_lexer": "java",
   "version": "22.0.1+8-16"
  }
 },
 "nbformat": 4,
 "nbformat_minor": 2
}
