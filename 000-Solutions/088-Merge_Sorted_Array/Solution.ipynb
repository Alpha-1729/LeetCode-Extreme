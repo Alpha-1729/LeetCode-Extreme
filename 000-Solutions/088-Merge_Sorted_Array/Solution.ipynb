{
 "cells": [
  {
   "cell_type": "code",
   "execution_count": null,
   "metadata": {},
   "outputs": [],
   "source": [
    "// Merge Sorted Array\n",
    "\n",
    "/*\n",
    ">>>>\n",
    ">>>>\n",
    ">>>>\n",
    ">>>>\n",
    "*/\n"
   ]
  },
  {
   "cell_type": "markdown",
   "metadata": {},
   "source": [
    "# Approach 1 (Best Solution).\n",
    "- Time Complexity - O(m + n).\n",
    "- Space Complexity - O(1).\n",
    "\n",
    "- We compare the values at the end of the nums1 and nums2.\n",
    "- Then we append the largest values to the end of the nums1."
   ]
  },
  {
   "cell_type": "code",
   "execution_count": null,
   "metadata": {},
   "outputs": [],
   "source": [
    "class Solution {\n",
    "\n",
    "  public void merge(int[] nums1, int m, int[] nums2, int n) {\n",
    "    int i = m - 1;\n",
    "    int j = n - 1;\n",
    "    int k = m + n - 1;\n",
    "\n",
    "    while (j >= 0) {\n",
    "      if (i >= 0 && nums1[i] > nums2[j]) {\n",
    "        nums1[k--] = nums1[i--];\n",
    "      } else {\n",
    "        nums1[k--] = nums2[j--];\n",
    "      }\n",
    "    }\n",
    "  }\n",
    "}\n"
   ]
  },
  {
   "cell_type": "code",
   "execution_count": null,
   "metadata": {},
   "outputs": [],
   "source": [
    "Solution solution = new Solution();\n",
    "int[] nums1 = {1, 2, 3, 0, 0, 0};\n",
    "int m = 3;\n",
    "int[] nums2 = {2, 5, 6};\n",
    "int n = 3;"
   ]
  }
 ],
 "metadata": {
  "kernelspec": {
   "display_name": "Java",
   "language": "java",
   "name": "java"
  },
  "language_info": {
   "codemirror_mode": "java",
   "file_extension": ".jshell",
   "mimetype": "text/x-java-source",
   "name": "java",
   "pygments_lexer": "java",
   "version": "21.0.2+13-LTS-58"
  }
 },
 "nbformat": 4,
 "nbformat_minor": 2
}
