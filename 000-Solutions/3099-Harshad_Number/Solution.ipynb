{
 "cells": [
  {
   "cell_type": "code",
   "execution_count": null,
   "metadata": {
    "vscode": {
     "languageId": "java"
    }
   },
   "outputs": [],
   "source": [
    "// Harshad Number\n",
    "\n",
    "/*\n",
    ">>>>\n",
    ">>>>\n",
    ">>>>\n",
    ">>>>\n",
    "*/\n"
   ]
  },
  {
   "cell_type": "markdown",
   "metadata": {},
   "source": [
    "# Approach 1 (Best Solution).\n",
    "- Time Complexity - O(log n).\n",
    "- Space Complexity - O(1).\n",
    "\n",
    "- Find the sum of digits.\n",
    "- Find the remainder when number is divided by sum of digits.\n",
    "- Return -1 if number is not divisible by sum, Else return the sum."
   ]
  },
  {
   "cell_type": "code",
   "execution_count": 4,
   "metadata": {
    "vscode": {
     "languageId": "java"
    }
   },
   "outputs": [],
   "source": [
    "class Solution {\n",
    "    public int sumOfTheDigitsOfHarshadNumber(int x) {\n",
    "        int sum = getSum(x);\n",
    "        if (x % sum == 0)\n",
    "        {\n",
    "            return sum;\n",
    "        }\n",
    "        return -1;\n",
    "    }\n",
    "\n",
    "    public int getSum(int num)\n",
    "    {\n",
    "        int sum = 0;\n",
    "        while (num > 0)\n",
    "        {\n",
    "            sum += num % 10;\n",
    "            num /= 10;\n",
    "        }\n",
    "        return sum;\n",
    "    }\n",
    "}"
   ]
  },
  {
   "cell_type": "code",
   "execution_count": 6,
   "metadata": {
    "vscode": {
     "languageId": "java"
    }
   },
   "outputs": [
    {
     "name": "stdout",
     "output_type": "stream",
     "text": [
      "9\n"
     ]
    }
   ],
   "source": [
    "Solution solution = new Solution();\n",
    "int x = 18;\n",
    "int result = solution.sumOfTheDigitsOfHarshadNumber(x);\n",
    "System.out.println(result);"
   ]
  },
  {
   "cell_type": "code",
   "execution_count": null,
   "metadata": {
    "vscode": {
     "languageId": "java"
    }
   },
   "outputs": [],
   "source": []
  }
 ],
 "metadata": {
  "kernelspec": {
   "display_name": "Java",
   "language": "java",
   "name": "java"
  },
  "language_info": {
   "codemirror_mode": "java",
   "file_extension": ".jshell",
   "mimetype": "text/x-java-source",
   "name": "Java",
   "pygments_lexer": "java",
   "version": "22.0.1+8-16"
  }
 },
 "nbformat": 4,
 "nbformat_minor": 2
}
