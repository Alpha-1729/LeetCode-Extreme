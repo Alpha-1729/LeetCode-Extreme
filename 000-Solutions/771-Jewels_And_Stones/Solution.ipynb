{
 "cells": [
  {
   "cell_type": "code",
   "execution_count": null,
   "metadata": {
    "vscode": {
     "languageId": "java"
    }
   },
   "outputs": [],
   "source": [
    "// Jewels And Stones\n",
    "\n",
    "/*\n",
    ">>>>\n",
    ">>>>\n",
    ">>>>\n",
    ">>>>\n",
    "*/\n"
   ]
  },
  {
   "cell_type": "markdown",
   "metadata": {},
   "source": [
    "# Approach 1 (Best Solution).\n",
    "- Time Complexity - O(n + m).\n",
    "- Space Complexity - O(1).\n",
    "\n",
    "1. **Initialize Variables**:\n",
    "   - `count`: A variable to keep track of the total number of jewels found in the stones.\n",
    "   - `set`: An integer array of size 52, where each index represents a letter in the alphabet (both lowercase and uppercase).\n",
    "\n",
    "2. **Count Stones**:\n",
    "   - The first loop iterates through each character in `stones` to determine how many of each stone type exists.\n",
    "   - For each stone `ch`, it checks if it is lowercase or uppercase:\n",
    "     - If `ch` is lowercase, it computes the index as `ch - 'a'`.\n",
    "     - If `ch` is uppercase, the index is adjusted to place it in the second half of the array: `ch - 'A' + 26`.\n",
    "   - The array `set` stores the count of each stone in its respective index.\n",
    "\n",
    "3. **Count Jewels in Stones**:\n",
    "   - The second loop iterates through each character in `jewels`.\n",
    "   - Similar to the first loop, it determines the index for each jewel `ch` based on whether it's lowercase or uppercase.\n",
    "   - If `set[index]` (the count of that stone type in `stones`) is greater than zero, it adds the count to `count`.\n",
    "\n",
    "4. **Return Total Count**:\n",
    "   - After both loops, the method returns `count`, which represents how many of the jewels were found in the stones.\n",
    "\n"
   ]
  },
  {
   "cell_type": "code",
   "execution_count": null,
   "metadata": {
    "vscode": {
     "languageId": "java"
    }
   },
   "outputs": [],
   "source": [
    "class Solution {\n",
    "    public int numJewelsInStones(String jewels, String stones) {\n",
    "        int count = 0;\n",
    "        int[] set = new int[52];\n",
    "\n",
    "        for (int i = 0; i < stones.length(); i++) {\n",
    "            char ch = stones.charAt(i);\n",
    "            int index = ch < 'a' ? ch - 'A' + 26 : ch - 'a';\n",
    "            set[index]++;\n",
    "        }\n",
    "\n",
    "        for (int i = 0; i < jewels.length(); i++) {\n",
    "            char ch = jewels.charAt(i);\n",
    "            int index = ch < 'a' ? ch - 'A' + 26 : ch - 'a';\n",
    "            if (set[index] > 0) {\n",
    "                count += set[index];\n",
    "            }\n",
    "        }\n",
    "\n",
    "        return count;\n",
    "    }\n",
    "}"
   ]
  },
  {
   "cell_type": "code",
   "execution_count": null,
   "metadata": {
    "vscode": {
     "languageId": "java"
    }
   },
   "outputs": [],
   "source": [
    "Solution solution = new Solution();\n",
    "String jewels = \"aA\";\n",
    "String stones = \"aAAbbbb\";\n",
    "int result = solution.numJewelsInStones(jewels, stones);\n",
    "System.out.println(result);"
   ]
  },
  {
   "cell_type": "code",
   "execution_count": null,
   "metadata": {
    "vscode": {
     "languageId": "java"
    }
   },
   "outputs": [],
   "source": []
  }
 ],
 "metadata": {
  "kernelspec": {
   "display_name": "Java",
   "language": "java",
   "name": "java"
  },
  "language_info": {
   "codemirror_mode": "java",
   "file_extension": ".jshell",
   "mimetype": "text/x-java-source",
   "name": "Java",
   "pygments_lexer": "java",
   "version": "22.0.2+9-70"
  }
 },
 "nbformat": 4,
 "nbformat_minor": 2
}
