{
 "cells": [
  {
   "cell_type": "code",
   "execution_count": null,
   "metadata": {
    "vscode": {
     "languageId": "java"
    }
   },
   "outputs": [],
   "source": [
    "// Validate Stack Sequences\n",
    "\n",
    "/*\n",
    ">>>>\n",
    ">>>>\n",
    ">>>>\n",
    ">>>>\n",
    "*/\n"
   ]
  },
  {
   "cell_type": "markdown",
   "metadata": {},
   "source": [
    "# Approach 1 (Best Solution).\n",
    "- Time Complexity - O(n).\n",
    "- Space Complexity - O(1).\n",
    "\n",
    "1. **Variables**:\n",
    "   - `top`: Acts as a pointer to simulate a stack using the `pushed` array.\n",
    "   - `pushIndex`: Tracks the current element being pushed onto the stack.\n",
    "   - `popIndex`: Tracks the current element being popped from the stack.\n",
    "   - `n`: The length of the `pushed` array.\n",
    "\n",
    "2. **Simulation of Stack Operations**:\n",
    "   - The while loop runs until all elements have been either pushed or popped.\n",
    "   - **Pop Condition**: If the stack is not empty (`top != -1`) and the current top element matches the next element to be popped (`pushed[top] == popped[popIndex]`), the element is \"popped\" by incrementing `popIndex` and decrementing `top`.\n",
    "   - **Push Condition**: If there's still an element to be pushed (`pushIndex < n`), it is pushed onto the stack by incrementing `top` and `pushIndex`.\n",
    "   - **Mismatch Case**: If neither of the above conditions is satisfied and elements remain in the `popped` sequence, the sequences are invalid, and the method returns `false`.\n",
    "\n",
    "3. **Return**:\n",
    "   - If all elements are successfully pushed and popped, the sequences are valid, and the method returns `true`.\n",
    "\n"
   ]
  },
  {
   "cell_type": "code",
   "execution_count": 26,
   "metadata": {
    "vscode": {
     "languageId": "java"
    }
   },
   "outputs": [],
   "source": [
    "class Solution {\n",
    "    public boolean validateStackSequences(int[] pushed, int[] popped) {\n",
    "        int top = -1;\n",
    "        int pushIndex = 0;\n",
    "        int popIndex = 0;\n",
    "        int n = pushed.length;\n",
    "\n",
    "        while (pushIndex < n || popIndex < n) {\n",
    "            if (top != -1 && popIndex < n && pushed[top] == popped[popIndex]) {\n",
    "                popIndex++;\n",
    "                top--;\n",
    "            } else if (pushIndex < n) {\n",
    "                pushed[++top] = pushed[pushIndex++];\n",
    "            } else {\n",
    "                return false;\n",
    "            }\n",
    "        }\n",
    "\n",
    "        return true;\n",
    "    }\n",
    "}"
   ]
  },
  {
   "cell_type": "code",
   "execution_count": 27,
   "metadata": {
    "vscode": {
     "languageId": "java"
    }
   },
   "outputs": [
    {
     "name": "stdout",
     "output_type": "stream",
     "text": [
      "false\n"
     ]
    }
   ],
   "source": [
    "Solution solution = new Solution();\n",
    "int[] pushed = {1, 2, 3, 4, 5};\n",
    "int[] popped = {4, 3, 5, 1, 2};\n",
    "boolean result = solution.validateStackSequences(pushed, popped);\n",
    "System.out.println(result);"
   ]
  },
  {
   "cell_type": "code",
   "execution_count": null,
   "metadata": {
    "vscode": {
     "languageId": "java"
    }
   },
   "outputs": [],
   "source": []
  }
 ],
 "metadata": {
  "kernelspec": {
   "display_name": "Java",
   "language": "java",
   "name": "java"
  },
  "language_info": {
   "codemirror_mode": "java",
   "file_extension": ".jshell",
   "mimetype": "text/x-java-source",
   "name": "Java",
   "pygments_lexer": "java",
   "version": "22.0.2+9-70"
  }
 },
 "nbformat": 4,
 "nbformat_minor": 2
}
