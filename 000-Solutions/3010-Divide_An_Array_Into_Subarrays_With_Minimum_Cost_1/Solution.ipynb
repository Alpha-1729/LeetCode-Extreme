{
 "cells": [
  {
   "cell_type": "code",
   "execution_count": null,
   "metadata": {},
   "outputs": [],
   "source": [
    "// Divide An Array Into Subarrays With Minimum Cost 1\n",
    "\n",
    "/*\n",
    ">>>>\n",
    ">>>>\n",
    ">>>>\n",
    ">>>>\n",
    "*/\n"
   ]
  },
  {
   "cell_type": "markdown",
   "metadata": {},
   "source": [
    "# Approach 1 (Best Solution).\n",
    "- Time Complexity - O(n).\n",
    "- Space Complexity - O(1).\n",
    "\n",
    "- First element in the array contribute to the cost.\n",
    "- Second and third number will the minimum two numbers after the first elements.\n",
    "- Return the sum of these numbers."
   ]
  },
  {
   "cell_type": "code",
   "execution_count": null,
   "metadata": {},
   "outputs": [],
   "source": [
    "class Solution {\n",
    "\n",
    "  public int minimumCost(int[] nums) {\n",
    "    int min = Math.min(nums[1], nums[2]);\n",
    "    int secondMin = Math.max(nums[1], nums[2]);\n",
    "\n",
    "    for (int i = 3; i < nums.length; i++) {\n",
    "      if (nums[i] < min) {\n",
    "        secondMin = min;\n",
    "        min = nums[i];\n",
    "      } else if (nums[i] < secondMin) {\n",
    "        secondMin = nums[i];\n",
    "      }\n",
    "    }\n",
    "\n",
    "    return nums[0] + min + secondMin;\n",
    "  }\n",
    "}\n"
   ]
  },
  {
   "cell_type": "code",
   "execution_count": null,
   "metadata": {},
   "outputs": [],
   "source": [
    "Solution solution = new Solution();\n",
    "int[] nums = {1, 2, 3, 12};\n",
    "int result = solution.minimumCost(nums);\n",
    "System.out.println(result);"
   ]
  }
 ],
 "metadata": {
  "kernelspec": {
   "display_name": "Java",
   "language": "java",
   "name": "java"
  },
  "language_info": {
   "codemirror_mode": "java",
   "file_extension": ".jshell",
   "mimetype": "text/x-java-source",
   "name": "java",
   "pygments_lexer": "java",
   "version": "21.0.2+13-LTS-58"
  }
 },
 "nbformat": 4,
 "nbformat_minor": 2
}
