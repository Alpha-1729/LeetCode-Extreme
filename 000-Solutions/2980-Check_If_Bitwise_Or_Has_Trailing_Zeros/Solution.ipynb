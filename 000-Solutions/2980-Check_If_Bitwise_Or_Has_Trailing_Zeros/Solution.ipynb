{
 "cells": [
  {
   "cell_type": "code",
   "execution_count": null,
   "metadata": {
    "vscode": {
     "languageId": "java"
    }
   },
   "outputs": [],
   "source": [
    "// Check If Bitwise Or Has Trailing Zeros\n",
    "\n",
    "/*\n",
    ">>>>\n",
    ">>>>\n",
    ">>>>\n",
    ">>>>\n",
    "*/\n"
   ]
  },
  {
   "cell_type": "markdown",
   "metadata": {},
   "source": [
    "# Approach 1 (Best Solution).\n",
    "- Time Complexity - O(n).\n",
    "- Space Complexity - O(1).\n",
    "\n",
    "1. **Initialize a Counter**:\n",
    "   - Initialize an integer `count` to `0` to keep track of the number of even numbers in the array.\n",
    "\n",
    "2. **Iterate Through the Array**:\n",
    "   - Use a `for` loop to iterate through each element `num` in the array `nums`.\n",
    "   - For each number, check if it is even by evaluating `(num & 1) == 0`:\n",
    "     - The expression `num & 1` checks if the least significant bit (LSB) of `num` is `0`, meaning the number is even.\n",
    "   - If `num` is even, increment `count`.\n",
    "\n",
    "3. **Check if More Than One Even Number**:\n",
    "   - After incrementing `count`, check if `count` exceeds `1`. If it does, return `true` immediately, indicating that there is more than one even number in the array.\n",
    "\n",
    "4. **Return**:\n",
    "   - If the loop completes and `count` never exceeds `1`, return `false`, indicating there are zero or one even numbers in the array.\n"
   ]
  },
  {
   "cell_type": "code",
   "execution_count": null,
   "metadata": {
    "vscode": {
     "languageId": "java"
    }
   },
   "outputs": [],
   "source": [
    "class Solution {\n",
    "    public boolean hasTrailingZeros(int[] nums) {\n",
    "        int count = 0;\n",
    "        for (int num : nums) {\n",
    "            if ((num & 1) == 0) {\n",
    "                count++;\n",
    "            }\n",
    "\n",
    "            if (count > 1) {\n",
    "                return true;\n",
    "            }\n",
    "        }\n",
    "        return false;\n",
    "    }\n",
    "}"
   ]
  },
  {
   "cell_type": "code",
   "execution_count": null,
   "metadata": {
    "vscode": {
     "languageId": "java"
    }
   },
   "outputs": [],
   "source": [
    "Solution solution = new Solution();\n",
    "int[] nums = {1, 2, 3, 4, 5};\n",
    "boolean result = solution.hasTrailingZeros(nums);\n",
    "System.out.println(result);"
   ]
  },
  {
   "cell_type": "code",
   "execution_count": null,
   "metadata": {
    "vscode": {
     "languageId": "java"
    }
   },
   "outputs": [],
   "source": []
  }
 ],
 "metadata": {
  "kernelspec": {
   "display_name": "Java",
   "language": "java",
   "name": "java"
  },
  "language_info": {
   "codemirror_mode": "java",
   "file_extension": ".jshell",
   "mimetype": "text/x-java-source",
   "name": "Java",
   "pygments_lexer": "java",
   "version": "22.0.2+9-70"
  }
 },
 "nbformat": 4,
 "nbformat_minor": 2
}
