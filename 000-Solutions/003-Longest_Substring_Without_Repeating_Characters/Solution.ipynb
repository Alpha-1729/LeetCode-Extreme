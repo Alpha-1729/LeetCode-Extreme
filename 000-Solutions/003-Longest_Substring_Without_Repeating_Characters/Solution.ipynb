{
 "cells": [
  {
   "cell_type": "code",
   "execution_count": null,
   "metadata": {
    "vscode": {
     "languageId": "java"
    }
   },
   "outputs": [],
   "source": [
    "// Longest Substring Without Repeating Characters\n",
    "\n",
    "/*\n",
    ">>>>\n",
    ">>>>\n",
    ">>>>\n",
    ">>>>\n",
    "*/\n"
   ]
  },
  {
   "cell_type": "markdown",
   "metadata": {},
   "source": [
    "# Approach 1 (Best Solution).\n",
    "- Time Complexity - O(n).\n",
    "- Space Complexity - O(1).\n",
    "\n",
    "1. **Initialization:** \n",
    "   - Create an integer array `set` of size 128 to represent the ASCII characters. This array stores the latest index + 1 of each character in the string.\n",
    "   - Initialize two pointers: `left` (to track the left boundary of the current substring) and `maxLength` (to track the length of the longest substring without repeating characters).\n",
    "\n",
    "2. **Loop Through the String:**\n",
    "   - Iterate through each character in the string using the `right` pointer.\n",
    "   - For each character, check its last occurrence using `set[currentChar]`.\n",
    "     - If the character has appeared before, move the `left` pointer to the right of the last occurrence.\n",
    "   - Calculate the length of the current substring without repeating characters and update `maxLength` if it's the longest so far.\n",
    "   - Update the `set` array with the current character’s next index.\n",
    "\n",
    "3. **Final Result:**\n",
    "   - After processing all characters, return `maxLength`, which holds the length of the longest substring without repeating characters."
   ]
  },
  {
   "cell_type": "code",
   "execution_count": null,
   "metadata": {
    "vscode": {
     "languageId": "java"
    }
   },
   "outputs": [],
   "source": [
    "class Solution {\n",
    "    public int lengthOfLongestSubstring(String s) {\n",
    "        int[] set = new int[128];\n",
    "        int left = 0;\n",
    "        int maxLength = 0;\n",
    "\n",
    "        for (int right = 0; right < s.length(); right++) {\n",
    "            char currentChar = s.charAt(right);\n",
    "\n",
    "            left = Math.max(left, set[currentChar]);\n",
    "            maxLength = Math.max(maxLength, right - left + 1);\n",
    "            set[currentChar] = right + 1;\n",
    "        }\n",
    "        return maxLength;\n",
    "    }\n",
    "}"
   ]
  },
  {
   "cell_type": "markdown",
   "metadata": {
    "vscode": {
     "languageId": "java"
    }
   },
   "source": [
    "# Approach 2 (Solution).\n",
    "- Time Complexity - O(n).\n",
    "- Space Complexity - O(1).\n",
    "\n",
    "- Create a hashset to store the character.\n",
    "- Loop through the character in the string.\n",
    "- If the current character is already present in the hashset.\n",
    "- We iterate from left of the string, and remove all the character from the hashset till the duplicate character is removed.\n",
    "- Then calculate the max length.\n",
    "- Repeat this step for all other values.\n",
    "- Finally return the maxLength."
   ]
  },
  {
   "cell_type": "code",
   "execution_count": null,
   "metadata": {
    "vscode": {
     "languageId": "java"
    }
   },
   "outputs": [],
   "source": [
    "class Solution {\n",
    "    public int lengthOfLongestSubstring(String s) {\n",
    "        HashSet<Character> set = new HashSet<>();\n",
    "        int left = 0;\n",
    "        int maxLength = 0;\n",
    "\n",
    "        for (int i = 0; i < s.length(); i++) {\n",
    "            char ch = s.charAt(i);\n",
    "\n",
    "            while (set.contains(ch)) {\n",
    "                set.remove(s.charAt(left));\n",
    "                left++;\n",
    "            }\n",
    "            set.add(ch);\n",
    "            maxLength = Math.max(maxLength, (i - left + 1));\n",
    "        }\n",
    "        return maxLength;\n",
    "    }\n",
    "}"
   ]
  },
  {
   "cell_type": "code",
   "execution_count": 18,
   "metadata": {
    "vscode": {
     "languageId": "java"
    }
   },
   "outputs": [
    {
     "name": "stdout",
     "output_type": "stream",
     "text": [
      "3\n"
     ]
    }
   ],
   "source": [
    "Solution solution = new Solution();\n",
    "String s = \"abcabcbb\";\n",
    "int result = solution.lengthOfLongestSubstring(s);\n",
    "System.out.println(result)"
   ]
  },
  {
   "cell_type": "code",
   "execution_count": null,
   "metadata": {
    "vscode": {
     "languageId": "java"
    }
   },
   "outputs": [],
   "source": []
  }
 ],
 "metadata": {
  "kernelspec": {
   "display_name": "Java",
   "language": "java",
   "name": "java"
  },
  "language_info": {
   "codemirror_mode": "java",
   "file_extension": ".jshell",
   "mimetype": "text/x-java-source",
   "name": "Java",
   "pygments_lexer": "java",
   "version": "22.0.2+9-70"
  }
 },
 "nbformat": 4,
 "nbformat_minor": 2
}
