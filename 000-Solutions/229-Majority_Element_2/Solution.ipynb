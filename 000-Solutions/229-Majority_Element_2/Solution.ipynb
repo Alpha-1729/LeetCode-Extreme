{
 "cells": [
  {
   "cell_type": "code",
   "execution_count": null,
   "metadata": {
    "vscode": {
     "languageId": "java"
    }
   },
   "outputs": [],
   "source": [
    "// Majority Element 2\n",
    "\n",
    "/*\n",
    ">>>>\n",
    ">>>>\n",
    ">>>>\n",
    ">>>>\n",
    "*/\n"
   ]
  },
  {
   "cell_type": "markdown",
   "metadata": {},
   "source": [
    "# Approach 1 (Best Solution).\n",
    "\n",
    "- Time Complexity - O(n).\n",
    "- Space Complexity - O(1).\n",
    "\n",
    "- Apply the Boyer-Moore Majority Vote Algorithm two times.\n",
    "- Reference Video: https://www.youtube.com/watch?v=KzJHu5sWLKE\n"
   ]
  },
  {
   "cell_type": "code",
   "execution_count": null,
   "metadata": {
    "vscode": {
     "languageId": "java"
    }
   },
   "outputs": [],
   "source": [
    "class Solution {\n",
    "\n",
    "  public List<Integer> majorityElement(int[] nums) {\n",
    "    int majorityOne = 0;\n",
    "    int majorityTwo = 0;\n",
    "    int countOne = 0;\n",
    "    int countTwo = 0;\n",
    "\n",
    "    for (int num : nums) {\n",
    "      if (num == majorityOne) {\n",
    "        countOne++;\n",
    "      } else if (num == majorityTwo) {\n",
    "        countTwo++;\n",
    "      } else if (countOne == 0) {\n",
    "        majorityOne = num;\n",
    "        countOne++;\n",
    "      } else if (countTwo == 0) {\n",
    "        majorityTwo = num;\n",
    "        countTwo++;\n",
    "      } else {\n",
    "        countOne--;\n",
    "        countTwo--;\n",
    "      }\n",
    "    }\n",
    "\n",
    "    countOne = 0;\n",
    "    countTwo = 0;\n",
    "\n",
    "    for (int num : nums) {\n",
    "      if (num == majorityOne) {\n",
    "        countOne++;\n",
    "      } else if (num == majorityTwo) {\n",
    "        countTwo++;\n",
    "      }\n",
    "    }\n",
    "\n",
    "    List<Integer> result = new ArrayList<>();\n",
    "    if (countOne > (nums.length / 3)) {\n",
    "      result.add(majorityOne);\n",
    "    }\n",
    "    if (countTwo > (nums.length / 3)) {\n",
    "      result.add(majorityTwo);\n",
    "    }\n",
    "\n",
    "    return result;\n",
    "  }\n",
    "}\n"
   ]
  },
  {
   "cell_type": "code",
   "execution_count": null,
   "metadata": {
    "vscode": {
     "languageId": "java"
    }
   },
   "outputs": [],
   "source": [
    "Solution solution = new Solution();\n",
    "int[] nums = {3, 2, 3};\n",
    "List<Integer> result = solution.majorityElement(nums);\n",
    "System.out.println(result);"
   ]
  },
  {
   "cell_type": "code",
   "execution_count": null,
   "metadata": {
    "vscode": {
     "languageId": "java"
    }
   },
   "outputs": [],
   "source": []
  }
 ],
 "metadata": {
  "kernelspec": {
   "display_name": "Java",
   "language": "java",
   "name": "java"
  },
  "language_info": {
   "codemirror_mode": "java",
   "file_extension": ".jshell",
   "mimetype": "text/x-java-source",
   "name": "Java",
   "pygments_lexer": "java",
   "version": "22.0.1+8-16"
  }
 },
 "nbformat": 4,
 "nbformat_minor": 2
}
