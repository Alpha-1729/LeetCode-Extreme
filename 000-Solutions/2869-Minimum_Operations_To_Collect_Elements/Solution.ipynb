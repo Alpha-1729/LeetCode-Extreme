{
 "cells": [
  {
   "cell_type": "code",
   "execution_count": null,
   "metadata": {},
   "outputs": [],
   "source": [
    "// Minimum Operations To Collect Elements\n",
    "\n",
    "/*\n",
    ">>>>\n",
    ">>>>\n",
    ">>>>\n",
    ">>>>\n",
    "*/\n"
   ]
  },
  {
   "cell_type": "markdown",
   "metadata": {},
   "source": [
    "# Approach 1 (Best Solution).\n",
    "- Time Complexity - O(n).\n",
    "- Space Complexity - O(n).\n",
    "\n",
    "- Loop from the end of the list.\n",
    "- Store all the values less than k in a hashset.\n",
    "- If size of the hashset is equal to k, return the number of operation.\n"
   ]
  },
  {
   "cell_type": "code",
   "execution_count": null,
   "metadata": {},
   "outputs": [],
   "source": [
    "class Solution {\n",
    "    public int minOperations(List<Integer> nums, int k) {\n",
    "        HashSet<Integer> set = new HashSet<>();\n",
    "        int numberOfOperations = 0;\n",
    "        \n",
    "        for (int i = nums.size() - 1; i >= 0; i--) {\n",
    "            int current = nums.get(i);\n",
    "            numberOfOperations++;\n",
    "\n",
    "            if (current <= k) {\n",
    "               set.add(current);\n",
    "            }\n",
    "            if (set.size() == k) {\n",
    "                return numberOfOperations;\n",
    "            }\n",
    "        }\n",
    "        return 0;\n",
    "    }\n",
    "}"
   ]
  },
  {
   "cell_type": "markdown",
   "metadata": {},
   "source": [
    "# Approach 2 using array.\n",
    "- Time Complexity - O(n).\n",
    "- Space Complexity - O(n).\n",
    "\n",
    "- Loop from the end of the list.\n",
    "- Keep a boolean array to check the visited elements.\n",
    "- If the current element is less than or equal to k and that element is previously not visited.\n",
    "- Then keep a variable to track count.\n",
    "- When the count is equal to k, return the number of operations."
   ]
  },
  {
   "cell_type": "code",
   "execution_count": 3,
   "metadata": {},
   "outputs": [],
   "source": [
    "class Solution {\n",
    "    public int minOperations(List<Integer> nums, int k) {\n",
    "        int count = 0;\n",
    "        int numberOfOperation = 0;\n",
    "        boolean[] set = new boolean[nums.size()];\n",
    "        \n",
    "        for (int i = nums.size() - 1; i >= 0; i--) {\n",
    "            int last = nums.get(i);\n",
    "            numberOfOperation++;\n",
    "            \n",
    "            if (last <= k && set[last] == false)\n",
    "            {\n",
    "                set[last] = true;\n",
    "                count++;\n",
    "            }\n",
    "            if (count == k) {\n",
    "                break;\n",
    "            }\n",
    "        }\n",
    "        return numberOfOperation;\n",
    "    }\n",
    "}"
   ]
  },
  {
   "cell_type": "code",
   "execution_count": 4,
   "metadata": {},
   "outputs": [
    {
     "name": "stdout",
     "output_type": "stream",
     "text": [
      "4\n"
     ]
    }
   ],
   "source": [
    "Solution solution = new Solution();\n",
    "int k = 2;\n",
    "List<Integer> nums = Arrays.asList(3, 1, 5, 4, 2);\n",
    "int result = solution.minOperations(nums, k);\n",
    "System.out.println(result);"
   ]
  },
  {
   "cell_type": "code",
   "execution_count": null,
   "metadata": {},
   "outputs": [],
   "source": []
  }
 ],
 "metadata": {
  "kernelspec": {
   "display_name": "Java",
   "language": "java",
   "name": "java"
  },
  "language_info": {
   "codemirror_mode": "java",
   "file_extension": ".jshell",
   "mimetype": "text/x-java-source",
   "name": "Java",
   "pygments_lexer": "java",
   "version": "21.0.3+9-Debian-2"
  }
 },
 "nbformat": 4,
 "nbformat_minor": 4
}
