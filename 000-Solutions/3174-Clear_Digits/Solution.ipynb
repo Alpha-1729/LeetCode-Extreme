{
 "cells": [
  {
   "cell_type": "code",
   "execution_count": null,
   "metadata": {
    "vscode": {
     "languageId": "java"
    }
   },
   "outputs": [],
   "source": [
    "// Clear Digits\n",
    "\n",
    "/*\n",
    ">>>>\n",
    ">>>>\n",
    ">>>>\n",
    ">>>>\n",
    "*/\n"
   ]
  },
  {
   "cell_type": "markdown",
   "metadata": {},
   "source": [
    "# Approach 1 (Best Solution).\n",
    "\n",
    "- Time Complexity - O(n).\n",
    "- Space Complexity - O(n).\n",
    "\n",
    "- Use char array as a stack.\n"
   ]
  },
  {
   "cell_type": "code",
   "execution_count": 22,
   "metadata": {
    "vscode": {
     "languageId": "java"
    }
   },
   "outputs": [],
   "source": [
    "class Solution {\n",
    "\n",
    "  public String clearDigits(String s) {\n",
    "    char[] stack = new char[s.length()];\n",
    "    int current = -1;\n",
    "\n",
    "    for (int i = 0; i < s.length(); i++) {\n",
    "      char ch = s.charAt(i);\n",
    "\n",
    "      if (\n",
    "        current > -1 &&\n",
    "        Character.isDigit(ch) &&\n",
    "        Character.isLetter(stack[current])\n",
    "      ) {\n",
    "        current--;\n",
    "      } else {\n",
    "        stack[++current] = ch;\n",
    "      }\n",
    "    }\n",
    "\n",
    "    return new String(stack, 0, current + 1);\n",
    "  }\n",
    "}\n"
   ]
  },
  {
   "cell_type": "markdown",
   "metadata": {},
   "source": [
    "# Approach 2 (Best Solution).\n",
    "\n",
    "- Time Complexity - O(n).\n",
    "- Space Complexity - O(n).\n",
    "\n",
    "- Use StringBuilder as a stack.\n"
   ]
  },
  {
   "cell_type": "code",
   "execution_count": 26,
   "metadata": {
    "vscode": {
     "languageId": "java"
    }
   },
   "outputs": [],
   "source": [
    "class Solution {\n",
    "\n",
    "  public String clearDigits(String s) {\n",
    "    StringBuilder sb = new StringBuilder();\n",
    "    int k = -1;\n",
    "    for (int i = 0; i < s.length(); i++) {\n",
    "      char ch = s.charAt(i);\n",
    "\n",
    "      if (Character.isDigit(ch)) {\n",
    "        if (k > -1) {\n",
    "          sb.deleteCharAt(k--);\n",
    "        }\n",
    "      } else {\n",
    "        sb.append(ch);\n",
    "        k++;\n",
    "      }\n",
    "    }\n",
    "    return sb.toString();\n",
    "  }\n",
    "}\n"
   ]
  },
  {
   "cell_type": "code",
   "execution_count": 28,
   "metadata": {
    "vscode": {
     "languageId": "java"
    }
   },
   "outputs": [
    {
     "name": "stdout",
     "output_type": "stream",
     "text": [
      "a\n"
     ]
    }
   ],
   "source": [
    "Solution solution = new Solution();\n",
    "String s = \"abc31\";\n",
    "String result = solution.clearDigits(s);\n",
    "System.out.println(result);"
   ]
  },
  {
   "cell_type": "code",
   "execution_count": null,
   "metadata": {
    "vscode": {
     "languageId": "java"
    }
   },
   "outputs": [],
   "source": []
  },
  {
   "cell_type": "code",
   "execution_count": null,
   "metadata": {
    "vscode": {
     "languageId": "java"
    }
   },
   "outputs": [],
   "source": []
  }
 ],
 "metadata": {
  "kernelspec": {
   "display_name": "Java",
   "language": "java",
   "name": "java"
  },
  "language_info": {
   "codemirror_mode": "java",
   "file_extension": ".jshell",
   "mimetype": "text/x-java-source",
   "name": "Java",
   "pygments_lexer": "java",
   "version": "22.0.1+8-16"
  }
 },
 "nbformat": 4,
 "nbformat_minor": 2
}
