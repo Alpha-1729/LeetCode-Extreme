{
 "cells": [
  {
   "cell_type": "code",
   "execution_count": null,
   "metadata": {
    "vscode": {
     "languageId": "java"
    }
   },
   "outputs": [],
   "source": [
    "// Sum Of All Odd Length Subarrays\n",
    "\n",
    "/*\n",
    ">>>>\n",
    ">>>>\n",
    ">>>>\n",
    ">>>>\n",
    "*/\n"
   ]
  },
  {
   "cell_type": "markdown",
   "metadata": {},
   "source": [
    "# Approach 1 (Best Solution).\n",
    "- Time Complexity - O(n).\n",
    "- Space Complexity - O(1).\n",
    "\n",
    "1. **Initialize Result Variable**:\n",
    "   - The method starts by initializing a variable `res` to zero. This variable will accumulate the total sum of all odd-length subarrays.\n",
    "\n",
    "2. **Iterate Through Array**:\n",
    "   - The method iterates through each element in the array using a for-loop, where `i` represents the index of the current element.\n",
    "\n",
    "3. **Calculate Subarray Contribution**:\n",
    "   - For each element at index `i`, the method calculates the number of odd-length subarrays that include this element.\n",
    "     - **`left`**: The number of subarrays starting from the beginning of the array to the current element. This is calculated as `arr.length - i`.\n",
    "     - **`right`**: The number of subarrays ending at the current element. This is calculated as `i + 1`.\n",
    "   - **`subArrayCount`**: The total number of subarrays that include the element at index `i` is `left * right`.\n",
    "   - **`oddCount`**: The count of subarrays with odd length that include the current element is `(subArrayCount + 1) / 2`. This works because every second subarray is odd-length.\n",
    "\n",
    "4. **Update Result**:\n",
    "   - The method updates the result `res` by adding the contribution of the current element. This is done by multiplying `oddCount` with the element's value `arr[i]`.\n",
    "\n",
    "5. **Return Final Result**:\n",
    "   - After processing all elements in the array, the method returns `res`, which contains the sum of all subarrays of odd length."
   ]
  },
  {
   "cell_type": "code",
   "execution_count": 1,
   "metadata": {
    "vscode": {
     "languageId": "java"
    }
   },
   "outputs": [],
   "source": [
    "class Solution {\n",
    "    public int sumOddLengthSubarrays(int[] arr) {\n",
    "        int res = 0;\n",
    "        for (int i = 0; i < arr.length; i++) {\n",
    "            int left = arr.length - i;\n",
    "            int right = i + 1;\n",
    "            int subArrayCount = left * right + 1;\n",
    "            int oddCount = subArrayCount / 2;\n",
    "            res += oddCount * arr[i];\n",
    "        }\n",
    "\n",
    "        return res;\n",
    "    }\n",
    "}\n"
   ]
  },
  {
   "cell_type": "code",
   "execution_count": 3,
   "metadata": {
    "vscode": {
     "languageId": "java"
    }
   },
   "outputs": [
    {
     "name": "stdout",
     "output_type": "stream",
     "text": [
      "58\n"
     ]
    }
   ],
   "source": [
    "Solution solution = new Solution();\n",
    "int[] arr = {1, 4, 2, 5, 3};\n",
    "int result = solution.sumOddLengthSubarrays(arr);\n",
    "System.out.println(result);"
   ]
  },
  {
   "cell_type": "code",
   "execution_count": null,
   "metadata": {
    "vscode": {
     "languageId": "java"
    }
   },
   "outputs": [],
   "source": []
  }
 ],
 "metadata": {
  "kernelspec": {
   "display_name": "Java",
   "language": "java",
   "name": "java"
  },
  "language_info": {
   "codemirror_mode": "java",
   "file_extension": ".jshell",
   "mimetype": "text/x-java-source",
   "name": "Java",
   "pygments_lexer": "java",
   "version": "22.0.2+9-70"
  }
 },
 "nbformat": 4,
 "nbformat_minor": 2
}
