{
 "cells": [
  {
   "cell_type": "code",
   "execution_count": null,
   "metadata": {},
   "outputs": [],
   "source": [
    "// Trapping Rain Water\n",
    "\n",
    "/*\n",
    ">>>>\n",
    ">>>>\n",
    ">>>>\n",
    ">>>>\n",
    "*/\n"
   ]
  },
  {
   "cell_type": "markdown",
   "metadata": {},
   "source": [
    "# Approach 1 (Best Solution).\n",
    "- Time Complexity - O(n).\n",
    "- Space Complexity - O(1).\n",
    "\n",
    "1. **Initialization**:\n",
    "   - `left` and `right`: Pointers starting at the beginning and end of the `height` array, respectively.\n",
    "   - `leftMax` and `rightMax`: Variables to track the maximum height encountered so far from the left and right.\n",
    "   - `total`: Stores the total amount of trapped water.\n",
    "\n",
    "2. **Two-pointer Approach**:\n",
    "   - The `while` loop runs until the `left` and `right` pointers meet.\n",
    "   - **Left vs. Right Comparison**: \n",
    "     - If the height at the left pointer (`leftHeight`) is less than or equal to the height at the right pointer (`rightHeight`), process the left side:\n",
    "       - If `leftMax` is greater than `leftHeight`, trapped water is calculated as `leftMax - leftHeight` and added to `total`.\n",
    "       - Otherwise, update `leftMax` to the current `leftHeight`.\n",
    "       - Move the `left` pointer to the right.\n",
    "     - If `leftHeight` is greater than `rightHeight`, process the right side similarly:\n",
    "       - If `rightMax` is greater than `rightHeight`, trapped water is calculated as `rightMax - rightHeight` and added to `total`.\n",
    "       - Otherwise, update `rightMax` to the current `rightHeight`.\n",
    "       - Move the `right` pointer to the left.\n",
    "\n",
    "3. **Return**:\n",
    "   - After the loop finishes, return the `total` amount of trapped water.\n"
   ]
  },
  {
   "cell_type": "code",
   "execution_count": null,
   "metadata": {},
   "outputs": [],
   "source": [
    "class Solution {\n",
    "    public int trap(int[] height) {\n",
    "        int left = 0;\n",
    "        int right = height.length - 1;\n",
    "        int leftMax = 0;\n",
    "        int rightMax = 0;\n",
    "        int total = 0;\n",
    "\n",
    "        while (left < right) {\n",
    "            int leftHeight = height[left];\n",
    "            int rightHeight = height[right];\n",
    "            if (leftHeight <= rightHeight) {\n",
    "                if (leftMax > leftHeight) {\n",
    "                    total += (leftMax - leftHeight);\n",
    "                } else {\n",
    "                    leftMax = leftHeight;\n",
    "                }\n",
    "                left++;\n",
    "            } else {\n",
    "                if (rightMax > rightHeight) {\n",
    "                    total += (rightMax - rightHeight);\n",
    "                } else {\n",
    "                    rightMax = rightHeight;\n",
    "                }\n",
    "                right--;\n",
    "            }\n",
    "        }\n",
    "\n",
    "        return total;\n",
    "    }\n",
    "}"
   ]
  },
  {
   "cell_type": "code",
   "execution_count": null,
   "metadata": {},
   "outputs": [],
   "source": [
    "Solution solution = new Solution();\n",
    "int[] height = {0, 1, 0, 2, 1, 0, 1, 3, 2, 1, 2, 1};\n",
    "int result = solution.trap(height);\n",
    "System.out.println(result);"
   ]
  }
 ],
 "metadata": {
  "kernelspec": {
   "display_name": "Java",
   "language": "java",
   "name": "java"
  },
  "language_info": {
   "codemirror_mode": "java",
   "file_extension": ".jshell",
   "mimetype": "text/x-java-source",
   "name": "java",
   "pygments_lexer": "java",
   "version": "21.0.2+13-LTS-58"
  }
 },
 "nbformat": 4,
 "nbformat_minor": 2
}
