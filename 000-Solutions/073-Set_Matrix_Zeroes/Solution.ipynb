{
 "cells": [
  {
   "cell_type": "code",
   "execution_count": null,
   "metadata": {
    "vscode": {
     "languageId": "java"
    }
   },
   "outputs": [],
   "source": [
    "// Set Matrix Zeroes\n",
    "\n",
    "/*\n",
    ">>>>\n",
    ">>>>\n",
    ">>>>\n",
    ">>>>\n",
    "*/\n"
   ]
  },
  {
   "cell_type": "markdown",
   "metadata": {},
   "source": [
    "# Approach 1 (Best Solution).\n",
    "- Time Complexity - O(mxn).\n",
    "- Space Complexity - O(1).\n"
   ]
  },
  {
   "cell_type": "code",
   "execution_count": null,
   "metadata": {
    "vscode": {
     "languageId": "java"
    }
   },
   "outputs": [],
   "source": [
    "class Solution {\n",
    "\n",
    "  public void setZeroes(int[][] matrix) {\n",
    "    int rows = matrix.length;\n",
    "    int cols = matrix[0].length;\n",
    "\n",
    "    // To check whether the first row should be made zero or not.\n",
    "    boolean rowZero = false;\n",
    "\n",
    "    // Mark all row header and column header, if the corresponding row or column\n",
    "    // contain a zero.\n",
    "    for (int i = 0; i < rows; i++) {\n",
    "      for (int j = 0; j < cols; j++) {\n",
    "        if (matrix[i][j] == 0) {\n",
    "          matrix[0][j] = 0;\n",
    "\n",
    "          if (i > 0) {\n",
    "            matrix[i][0] = 0;\n",
    "          } else {\n",
    "            rowZero = true;\n",
    "          }\n",
    "        }\n",
    "      }\n",
    "    }\n",
    "\n",
    "    // Mark all inner column and rows to zero.\n",
    "    for (int i = 1; i < rows; i++) {\n",
    "      for (int j = 1; j < cols; j++) {\n",
    "        if (matrix[0][j] == 0 || matrix[i][0] == 0) {\n",
    "          matrix[i][j] = 0;\n",
    "        }\n",
    "      }\n",
    "    }\n",
    "\n",
    "    // Mark the row header to zero if required.\n",
    "    if (matrix[0][0] == 0) {\n",
    "      for (int i = 1; i < rows; i++) {\n",
    "        matrix[i][0] = 0;\n",
    "      }\n",
    "    }\n",
    "\n",
    "    // mark the column header to zero if required.\n",
    "    if (rowZero) {\n",
    "      for (int i = 0; i < cols; i++) {\n",
    "        matrix[0][i] = 0;\n",
    "      }\n",
    "    }\n",
    "  }\n",
    "}\n"
   ]
  },
  {
   "cell_type": "code",
   "execution_count": null,
   "metadata": {
    "vscode": {
     "languageId": "java"
    }
   },
   "outputs": [],
   "source": [
    "Solution s = new Solution();\n",
    "int[][] matrix = {{0, 1, 2, 0}, {3, 4, 5, 2}, {1, 3, 1, 5}};\n",
    "s.setZeroes(matrix);\n",
    "for (int[] rows : matrix)\n",
    "{\n",
    "\tSystem.out.println(Arrays.toString(rows));\n",
    "}"
   ]
  },
  {
   "cell_type": "code",
   "execution_count": null,
   "metadata": {
    "vscode": {
     "languageId": "java"
    }
   },
   "outputs": [],
   "source": []
  }
 ],
 "metadata": {
  "kernelspec": {
   "display_name": "Java",
   "language": "java",
   "name": "java"
  },
  "language_info": {
   "codemirror_mode": "java",
   "file_extension": ".jshell",
   "mimetype": "text/x-java-source",
   "name": "Java",
   "pygments_lexer": "java",
   "version": "22.0.1+8-16"
  }
 },
 "nbformat": 4,
 "nbformat_minor": 2
}
