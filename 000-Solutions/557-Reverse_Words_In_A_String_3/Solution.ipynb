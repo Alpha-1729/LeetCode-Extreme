{
 "cells": [
  {
   "cell_type": "code",
   "execution_count": null,
   "metadata": {
    "vscode": {
     "languageId": "java"
    }
   },
   "outputs": [],
   "source": [
    "// Reverse Words In A String 3\n",
    "\n",
    "/*\n",
    ">>>>\n",
    ">>>>\n",
    ">>>>\n",
    ">>>>\n",
    "*/\n"
   ]
  },
  {
   "cell_type": "markdown",
   "metadata": {},
   "source": [
    "# Approach 1 (Best Solution).\n",
    "- Time Complexity - O(n).\n",
    "- Space Complexity - O(n).\n",
    "\n",
    "- Convert string to array of characters.\n",
    "- After finding the word, Reverse the words using the two pointer approach."
   ]
  },
  {
   "cell_type": "code",
   "execution_count": null,
   "metadata": {
    "vscode": {
     "languageId": "java"
    }
   },
   "outputs": [],
   "source": [
    "class Solution {\n",
    "    public String reverseWords(String s) {\n",
    "        char[] arr = s.toCharArray();\n",
    "        int start = 0;\n",
    "\n",
    "        for (int end = 0; end <= arr.length; end++) {\n",
    "            if (end == arr.length || arr[end] == ' ') {\n",
    "                reverse(arr, start, end - 1);\n",
    "                start = end + 1;\n",
    "            }\n",
    "        }\n",
    "\n",
    "        return new String(arr);\n",
    "\n",
    "    }\n",
    "\n",
    "    public void reverse(char[] arr, int left, int right) {\n",
    "        while (left < right) {\n",
    "            char temp = arr[left];\n",
    "            arr[left] = arr[right];\n",
    "            arr[right] = temp;\n",
    "            left++;\n",
    "            right--;\n",
    "        }\n",
    "    }\n",
    "}"
   ]
  },
  {
   "cell_type": "code",
   "execution_count": null,
   "metadata": {
    "vscode": {
     "languageId": "java"
    }
   },
   "outputs": [],
   "source": [
    "Solution solution = new Solution();\n",
    "String s = \"Let's take LeetCode contest\";\n",
    "String result = solution.reverseWords(s);\n",
    "System.out.println(result);"
   ]
  },
  {
   "cell_type": "code",
   "execution_count": null,
   "metadata": {
    "vscode": {
     "languageId": "java"
    }
   },
   "outputs": [],
   "source": []
  }
 ],
 "metadata": {
  "kernelspec": {
   "display_name": "Java",
   "language": "java",
   "name": "java"
  },
  "language_info": {
   "codemirror_mode": "java",
   "file_extension": ".jshell",
   "mimetype": "text/x-java-source",
   "name": "Java",
   "pygments_lexer": "java",
   "version": "22.0.2+9-70"
  }
 },
 "nbformat": 4,
 "nbformat_minor": 2
}
