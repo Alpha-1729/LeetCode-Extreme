{
 "cells": [
  {
   "cell_type": "code",
   "execution_count": null,
   "metadata": {
    "vscode": {
     "languageId": "java"
    }
   },
   "outputs": [],
   "source": [
    "// Maximum Average Subarray I\n",
    "\n",
    "/*\n",
    ">>>>\n",
    ">>>>\n",
    ">>>>\n",
    ">>>>\n",
    "*/\n"
   ]
  },
  {
   "cell_type": "markdown",
   "metadata": {},
   "source": [
    "# Approach 1 (Best Solution).\n",
    "- Time Complexity - O(n).\n",
    "- Space Complexity - O(1).\n",
    "\n",
    "\n",
    "1. **Initialize the Maximum Sum**:\n",
    "   - The method starts by calculating the sum of the first `k` elements in the `nums` array.\n",
    "   - This sum is stored in the variable `maxSum`, which represents the maximum sum encountered so far.\n",
    "   - The same sum is also stored in `currentSum`, which will be used to track the sum of the current subarray of length `k` as the method iterates through the array.\n",
    "\n",
    "2. **Sliding Window Technique**:\n",
    "   - The method uses a sliding window technique to find the maximum sum of any subarray of length `k`.\n",
    "   - Starting from the `k`-th element (index `k`), the method iterates through the array and updates the `currentSum` by adding the current element (`nums[i]`) and subtracting the element that falls out of the window (`nums[i - k]`).\n",
    "   - If the updated `currentSum` is greater than `maxSum`, the `maxSum` is updated to `currentSum`.\n",
    "\n",
    "3. **Calculate and Return the Maximum Average**:\n",
    "   - After the loop completes, the maximum sum `maxSum` is divided by `k` to calculate the maximum average.\n",
    "   - The method returns this average as a `double`.\n"
   ]
  },
  {
   "cell_type": "code",
   "execution_count": null,
   "metadata": {
    "vscode": {
     "languageId": "java"
    }
   },
   "outputs": [],
   "source": [
    "class Solution {\n",
    "    public double findMaxAverage(int[] nums, int k) {\n",
    "        int maxSum = 0;\n",
    "        for (int i = 0; i < k; i++) {\n",
    "            maxSum += nums[i];\n",
    "        }\n",
    "\n",
    "        int currentSum = maxSum;\n",
    "        for (int i = k; i < nums.length; i++) {\n",
    "            currentSum += (nums[i] - nums[i - k]);\n",
    "            if (currentSum > maxSum) {\n",
    "                maxSum = currentSum;\n",
    "            }\n",
    "        }\n",
    "        return (double) maxSum / k;\n",
    "    }\n",
    "}"
   ]
  },
  {
   "cell_type": "code",
   "execution_count": null,
   "metadata": {
    "vscode": {
     "languageId": "java"
    }
   },
   "outputs": [],
   "source": [
    "Solution solution = new Solution();\n",
    "int[] nums = {1, 12, -5, -6, 50, 3};\n",
    "int k = 4;\n",
    "double result = solution.findMaxAverage(nums, k);\n",
    "System.out.println(result);"
   ]
  },
  {
   "cell_type": "code",
   "execution_count": null,
   "metadata": {
    "vscode": {
     "languageId": "java"
    }
   },
   "outputs": [],
   "source": []
  }
 ],
 "metadata": {
  "kernelspec": {
   "display_name": "Java",
   "language": "java",
   "name": "java"
  },
  "language_info": {
   "codemirror_mode": "java",
   "file_extension": ".jshell",
   "mimetype": "text/x-java-source",
   "name": "Java",
   "pygments_lexer": "java",
   "version": "22.0.2+9-70"
  }
 },
 "nbformat": 4,
 "nbformat_minor": 4
}
