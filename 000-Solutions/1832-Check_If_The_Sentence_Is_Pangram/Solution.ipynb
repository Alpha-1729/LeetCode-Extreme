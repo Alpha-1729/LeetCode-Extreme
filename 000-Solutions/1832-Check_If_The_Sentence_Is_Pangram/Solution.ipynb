{
 "cells": [
  {
   "cell_type": "code",
   "execution_count": null,
   "metadata": {},
   "outputs": [],
   "source": [
    "// Check If The Sentence Is Pangram\n",
    "\n",
    "/*\n",
    ">>>>\n",
    ">>>>\n",
    ">>>>\n",
    ">>>>\n",
    "*/\n"
   ]
  },
  {
   "cell_type": "markdown",
   "metadata": {},
   "source": [
    "# Approach 1 (Best Solution).\n",
    "- Time Complexity - O(n).\n",
    "- Space Complexity - O(1).\n",
    "\n",
    "- Create a boolean array to track all the character in the english alphabets.\n",
    "- If a new elements is marked in the array, update the totalChars variable.\n",
    "- If the totalChars variable reaches 26, break the loop.\n",
    "- Finally check whether the totalChars is 26 or not.\n",
    "- Return the result."
   ]
  },
  {
   "cell_type": "code",
   "execution_count": null,
   "metadata": {},
   "outputs": [],
   "source": [
    "class Solution {\n",
    "    public boolean checkIfPangram(String sentence) {\n",
    "        boolean[] set = new boolean[26];\n",
    "        int totalChars = 0;\n",
    "\n",
    "        for (int i = 0; i < sentence.length(); i++)\n",
    "        {\n",
    "            char ch = sentence.charAt(i);\n",
    "            if (set[ch - 'a'] == false) {\n",
    "                set[ch - 'a'] = true;\n",
    "                totalChars++;\n",
    "            }\n",
    "\n",
    "            if (totalChars == 26) {\n",
    "                break;\n",
    "            }\n",
    "        }\n",
    "\n",
    "        return totalChars == 26;        \n",
    "    }\n",
    "}"
   ]
  },
  {
   "cell_type": "code",
   "execution_count": null,
   "metadata": {},
   "outputs": [],
   "source": [
    "Solution solution = new Solution();\n",
    "String sentence = \"thequickbrownfoxjumpsoverthelazydog\";\n",
    "boolean result = solution.checkIfPangram(sentence);\n",
    "System.out.println(result);"
   ]
  }
 ],
 "metadata": {
  "kernelspec": {
   "display_name": "Java",
   "language": "java",
   "name": "java"
  },
  "language_info": {
   "codemirror_mode": "java",
   "file_extension": ".jshell",
   "mimetype": "text/x-java-source",
   "name": "java",
   "pygments_lexer": "java",
   "version": "21.0.2+13-LTS-58"
  }
 },
 "nbformat": 4,
 "nbformat_minor": 2
}
