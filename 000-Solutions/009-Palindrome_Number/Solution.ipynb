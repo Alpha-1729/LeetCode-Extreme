{
 "cells": [
  {
   "cell_type": "code",
   "execution_count": null,
   "metadata": {
    "vscode": {
     "languageId": "java"
    }
   },
   "outputs": [],
   "source": [
    "// Palindrome Number\n",
    "\n",
    "/*\n",
    ">>>>\n",
    ">>>>\n",
    ">>>>\n",
    ">>>>\n",
    "*/\n"
   ]
  },
  {
   "cell_type": "markdown",
   "metadata": {},
   "source": [
    "# Approach 1 (Best Solution).\n",
    "- Time Complexity - O(1).\n",
    "- Space Complexity - O(1).\n",
    "\n",
    "- If the number is negative -> return false.\n",
    "- If the number is a multiple of 10 -> return false.v\n",
    "- If the number is zero, -> return true.\n",
    "- Else do the following logic.\n",
    "  - Create a variable to store the reverse of the number.\n",
    "  - Drop last digit from the actual number and append at the end of the reverse number.\n",
    "  - Exit when actual number become less than the reversed number.\n",
    "  - Eg 1: Suppose the actual number is 12321\n",
    "    - Then\n",
    "      - x = 12321 rev = 0\n",
    "      - x = 1232 rev = 1\n",
    "      - x = 123 rev = 12\n",
    "      - x = 123 rev = 123\n",
    "      - x = 12 rev = 1232, Exit at this logic (actual number should be greater than rev)\n",
    "      - Finally check rev/10 == x, -> return true.\n",
    "  - Eg 2: Suppose the actual number is 1221\n",
    "    - Then\n",
    "      - x = 1221 rev = 0\n",
    "      - x = 122 rev = 1\n",
    "      - x = 12 rev = 12 Exit at this logic (actual number should be greater than rev)\n",
    "      - Finally check rev == x, -> return true.\n"
   ]
  },
  {
   "cell_type": "code",
   "execution_count": null,
   "metadata": {
    "vscode": {
     "languageId": "java"
    }
   },
   "outputs": [],
   "source": [
    "class Solution {\n",
    "\n",
    "  public boolean isPalindrome(int x) {\n",
    "    if (x < 0 || (x != 0 && x % 10 == 0)) return false;\n",
    "\n",
    "    int reverse = 0;\n",
    "    while (x > reverse) {\n",
    "      int lastDigit = x % 10;\n",
    "      reverse = (reverse * 10) + lastDigit;\n",
    "      x /= 10;\n",
    "    }\n",
    "    return (x == reverse || x == reverse / 10);\n",
    "  }\n",
    "}\n"
   ]
  },
  {
   "cell_type": "markdown",
   "metadata": {},
   "source": [
    "# Approach 2.\n",
    "- Time Complexity - O(1).\n",
    "- Space Complexity - O(1).\n",
    "\n",
    "- If the number is negative -> return false.\n",
    "- Create two variable reverseNum and originalNum.\n",
    "- Store the value of x in originalNum.\n",
    "- Drop all digit from the x and append it to the reverseNum.\n",
    "- When the x become 0, stop.\n",
    "- Check the originalNum and reverseNum are equal or not and return.\n"
   ]
  },
  {
   "cell_type": "code",
   "execution_count": null,
   "metadata": {
    "vscode": {
     "languageId": "java"
    }
   },
   "outputs": [],
   "source": [
    "class Solution {\n",
    "\n",
    "  public boolean isPalindrome(int x) {\n",
    "    if (x < 0) return false;\n",
    "    int reverseNum = 0, originalNum = x;\n",
    "    while (x != 0) {\n",
    "      int lastDigit = x % 10;\n",
    "      reverseNum = (reverseNum * 10) + lastDigit;\n",
    "      x /= 10;\n",
    "    }\n",
    "    return originalNum == reverseNum;\n",
    "  }\n",
    "}\n"
   ]
  },
  {
   "cell_type": "code",
   "execution_count": null,
   "metadata": {
    "vscode": {
     "languageId": "java"
    }
   },
   "outputs": [],
   "source": [
    "Solution s = new Solution();\n",
    "\n",
    "int x = 123321;\n",
    "boolean result = s.isPalindrome(x);\n",
    "System.out.println(result);"
   ]
  },
  {
   "cell_type": "code",
   "execution_count": null,
   "metadata": {
    "vscode": {
     "languageId": "java"
    }
   },
   "outputs": [],
   "source": []
  }
 ],
 "metadata": {
  "kernelspec": {
   "display_name": "Java",
   "language": "java",
   "name": "java"
  },
  "language_info": {
   "codemirror_mode": "java",
   "file_extension": ".jshell",
   "mimetype": "text/x-java-source",
   "name": "Java",
   "pygments_lexer": "java",
   "version": "21.0.2+13-LTS-58"
  }
 },
 "nbformat": 4,
 "nbformat_minor": 2
}
