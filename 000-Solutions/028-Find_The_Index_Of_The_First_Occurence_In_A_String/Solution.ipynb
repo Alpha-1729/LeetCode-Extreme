{
 "cells": [
  {
   "cell_type": "code",
   "execution_count": null,
   "metadata": {
    "vscode": {
     "languageId": "java"
    }
   },
   "outputs": [],
   "source": [
    "// Find The Index Of The First Occurence In A String\n",
    "\n",
    "/*\n",
    ">>>>\n",
    ">>>>\n",
    ">>>>\n",
    ">>>>\n",
    "*/\n"
   ]
  },
  {
   "cell_type": "markdown",
   "metadata": {},
   "source": [
    "# Approach 1 (Best Solution).\n",
    "- Time Complexity - O(m + n).\n",
    "- Space Complexity - O(n).\n",
    "\n",
    "\n",
    "1. **Compute LPS Array**:\n",
    "   - Calls `computeLPSArray` to get the Longest Prefix which is also Suffix (LPS) array for the `needle` string.\n",
    "\n",
    "2. **Initialize Variables**:\n",
    "   - `N`: Length of the `haystack` string.\n",
    "   - `M`: Length of the `needle` string.\n",
    "   - `i`: Index for iterating through `haystack`.\n",
    "   - `j`: Index for iterating through `needle`.\n",
    "\n",
    "3. **Search Logic**:\n",
    "   - **Match Characters**:\n",
    "     - If characters at current positions (`haystack.charAt(i)` and `needle.charAt(j)`) match, increment both `i` and `j`.\n",
    "   - **Mismatch Handling**:\n",
    "     - If characters do not match and `j` is not 0, update `j` to `lps[j - 1]` to backtrack in the pattern.\n",
    "     - If `j` is 0, just increment `i` to move forward in `haystack`.\n",
    "   - **Pattern Found**:\n",
    "     - If `j` equals `M` (length of `needle`), it means the `needle` was found. Return the starting index (`i - j`).\n",
    "\n",
    "4. **Return**:\n",
    "   - If the loop ends without finding the `needle`, return `-1`.\n",
    "\n",
    "### computeLPSArray Method\n",
    "- **Purpose**: Computes the LPS (Longest Prefix Suffix) array for the given `pattern` string used in the KMP algorithm.\n",
    "\n",
    "#### Steps:\n",
    "1. **Initialize Variables**:\n",
    "   - `m`: Length of the `pattern` string.\n",
    "   - `lps`: Array to store the LPS values.\n",
    "   - `length`: Length of the previous longest prefix suffix.\n",
    "   - `i`: Index for iterating through `pattern`.\n",
    "\n",
    "2. **Compute LPS Array**:\n",
    "   - **Match Characters**:\n",
    "     - If characters at current positions (`pattern.charAt(i)` and `pattern.charAt(length)`) match, increment `length` and update `lps[i]`.\n",
    "     - Increment `i` to move to the next character.\n",
    "   - **Mismatch Handling**:\n",
    "     - If characters do not match and `length` is not 0, update `length` to `lps[length - 1]` to find a shorter prefix suffix.\n",
    "     - If `length` is 0, set `lps[i]` to 0 and increment `i` to move forward in `pattern`.\n",
    "\n",
    "3. **Return**:\n",
    "   - Return the computed `lps` array."
   ]
  },
  {
   "cell_type": "code",
   "execution_count": 1,
   "metadata": {
    "vscode": {
     "languageId": "java"
    }
   },
   "outputs": [],
   "source": [
    "class Solution {\n",
    "    public int strStr(String haystack, String needle) {\n",
    "        int[] lps = computeLPSArray(needle);\n",
    "        int N = haystack.length();\n",
    "        int M = needle.length();\n",
    "        int i = 0;\n",
    "        int j = 0;\n",
    "\n",
    "        while (i < N) {\n",
    "            if (haystack.charAt(i) == needle.charAt(j)) {\n",
    "                i++;\n",
    "                j++;\n",
    "            } else {\n",
    "                if (j != 0) {\n",
    "                    j = lps[j - 1];\n",
    "                } else {\n",
    "                    i++;\n",
    "                }\n",
    "            }\n",
    "            if (j == M) {\n",
    "                return i - j;\n",
    "            }\n",
    "        }\n",
    "        return -1;\n",
    "    }\n",
    "\n",
    "    public int[] computeLPSArray(String pattern) {\n",
    "        int m = pattern.length();\n",
    "        int[] lps = new int[m];\n",
    "        int length = 0;\n",
    "        int i = 1;\n",
    "\n",
    "        while (i < m) {\n",
    "            if (pattern.charAt(i) == pattern.charAt(length)) {\n",
    "                length++;\n",
    "                lps[i] = length;\n",
    "                i++;\n",
    "            } else {\n",
    "                if (length != 0) {\n",
    "                    length = lps[length - 1];\n",
    "                } else {\n",
    "                    lps[i] = 0;\n",
    "                    i++;\n",
    "                }\n",
    "            }\n",
    "        }\n",
    "        return lps;\n",
    "    }\n",
    "}"
   ]
  },
  {
   "cell_type": "code",
   "execution_count": 2,
   "metadata": {
    "vscode": {
     "languageId": "java"
    }
   },
   "outputs": [
    {
     "name": "stdout",
     "output_type": "stream",
     "text": [
      "0\n"
     ]
    }
   ],
   "source": [
    "Solution solution = new Solution();\n",
    "String haystack = \"sadbutsad\";\n",
    "String needle = \"sad\";\n",
    "int result = solution.strStr(haystack, needle);\n",
    "System.out.println(result);"
   ]
  },
  {
   "cell_type": "code",
   "execution_count": null,
   "metadata": {
    "vscode": {
     "languageId": "java"
    }
   },
   "outputs": [],
   "source": []
  }
 ],
 "metadata": {
  "kernelspec": {
   "display_name": "Java",
   "language": "java",
   "name": "java"
  },
  "language_info": {
   "codemirror_mode": "java",
   "file_extension": ".jshell",
   "mimetype": "text/x-java-source",
   "name": "Java",
   "pygments_lexer": "java",
   "version": "22.0.2+9-70"
  }
 },
 "nbformat": 4,
 "nbformat_minor": 2
}
