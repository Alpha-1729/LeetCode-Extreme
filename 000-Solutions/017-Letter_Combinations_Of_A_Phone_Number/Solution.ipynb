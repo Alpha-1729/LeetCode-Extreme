{
 "cells": [
  {
   "cell_type": "code",
   "execution_count": null,
   "metadata": {
    "vscode": {
     "languageId": "java"
    }
   },
   "outputs": [],
   "source": [
    "// Letter Combinations Of A Phone Number\n",
    "\n",
    "/*\n",
    ">>>>\n",
    ">>>>\n",
    ">>>>\n",
    ">>>>\n",
    "*/\n"
   ]
  },
  {
   "cell_type": "markdown",
   "metadata": {},
   "source": [
    "# Approach 1 (Best Solution using StringBuilder and recursion).\n",
    "- Time Complexity - O(4^n).\n",
    "- Space Complexity - O(n.4^n).\n",
    "\n",
    "1. **`generateString` Method**\n",
    "   - **Purpose**: Recursively builds possible letter combinations.\n",
    "   - **Process**:\n",
    "     - If the current `StringBuilder` (`sb`) has a length equal to the input digits, it adds the current string to the result list.\n",
    "     - It iterates over the characters mapped to the current digit, appends each character to `sb`, and makes a recursive call to handle the next digit.\n",
    "     - After recursion, it backtracks by removing the last character to explore other combinations.\n",
    "\n",
    "2. **`letterCombinations` Method**\n",
    "   - **Purpose**: Initializes the required data structures and starts the process of generating combinations.\n",
    "   - **Process**:\n",
    "     - Initializes the result list and the mapping of digits to corresponding letters.\n",
    "     - If the input `digits` is not empty, it calls `generateString` to start generating combinations.\n",
    "     - Returns the list of generated combinations."
   ]
  },
  {
   "cell_type": "code",
   "execution_count": 33,
   "metadata": {
    "vscode": {
     "languageId": "java"
    }
   },
   "outputs": [],
   "source": [
    "class Solution {\n",
    "\n",
    "    public void generateString(int i, StringBuilder sb, String digits, List<String> result,\n",
    "            HashMap<Character, String> map) {\n",
    "\n",
    "        if (sb.length() == digits.length()) {\n",
    "            result.add(sb.toString());\n",
    "            return;\n",
    "        }\n",
    "\n",
    "        String temp = map.get(digits.charAt(i));\n",
    "        for (char c : temp.toCharArray()) {\n",
    "            sb.append(c);\n",
    "            generateString(i + 1, sb, digits, result, map);\n",
    "            sb.deleteCharAt(sb.length() - 1);\n",
    "        }\n",
    "    }\n",
    "\n",
    "    public List<String> letterCombinations(String digits) {\n",
    "        List<String> result = new ArrayList<>();\n",
    "        HashMap<Character, String> map = new HashMap<>();\n",
    "        map.put('2', \"abc\");\n",
    "        map.put('3', \"def\");\n",
    "        map.put('4', \"ghi\");\n",
    "        map.put('5', \"jkl\");\n",
    "        map.put('6', \"mno\");\n",
    "        map.put('7', \"pqrs\");\n",
    "        map.put('8', \"tuv\");\n",
    "        map.put('9', \"wxyz\");\n",
    "\n",
    "        if (!digits.isEmpty()) {\n",
    "            generateString(0, new StringBuilder(), digits, result, map);\n",
    "        }\n",
    "\n",
    "        return result;\n",
    "    }\n",
    "}"
   ]
  },
  {
   "cell_type": "markdown",
   "metadata": {
    "vscode": {
     "languageId": "java"
    }
   },
   "source": [
    "# Approach 2 (Iterative solution).\n",
    "- Time Complexity - O(4^n).\n",
    "- Space Complexity - O(n.4^n).\n",
    "\n",
    "1. **Initialization**:\n",
    "   - **`result`**: A `LinkedList` used to store the intermediate combinations. It is initialized with an empty string.\n",
    "\n",
    "2. **Digit to Letter Mapping**:\n",
    "   - **`mapping`**: An array where each index represents a digit from `2` to `9` and maps to a string of letters. For example:\n",
    "     - `'2'` maps to `\"abc\"`\n",
    "     - `'3'` maps to `\"def\"`\n",
    "     - and so forth.\n",
    "\n",
    "3. **Processing Each Digit**:\n",
    "   - **Loop Through Digits**: For each digit in the input string:\n",
    "     - Retrieve the corresponding letters from the `mapping` array.\n",
    "     - Create new combinations by appending each letter to existing combinations in `result`.\n",
    "     - Use a new `LinkedList` (`newResult`) to collect these new combinations and then update `result` with `newResult`.\n",
    "\n",
    "4. **Return Value**:\n",
    "   - The final list of letter combinations is returned after processing all the digits."
   ]
  },
  {
   "cell_type": "code",
   "execution_count": null,
   "metadata": {
    "vscode": {
     "languageId": "java"
    }
   },
   "outputs": [],
   "source": [
    "class Solution {\n",
    "    public List<String> letterCombinations(String digits) {\n",
    "        List<String> result = new LinkedList<>(); // Use LinkedList for efficient add/remove operations\n",
    "        if (digits.length() == 0) {\n",
    "            return result;\n",
    "        }\n",
    "\n",
    "        // Initialize with an empty string\n",
    "        result.add(\"\");\n",
    "\n",
    "        // Mapping of digits to letters\n",
    "        String[] mapping = {\"\", \"\", \"abc\", \"def\", \"ghi\", \"jkl\", \"mno\", \"pqrs\", \"tuv\", \"wxyz\"};\n",
    "\n",
    "        // Process each digit in the input\n",
    "        for (int i = 0; i < digits.length(); i++) {\n",
    "            int index = digits.charAt(i) - '0'; // Convert char to corresponding digit index\n",
    "            String letters = mapping[index];\n",
    "            List<String> newResult = new LinkedList<>();\n",
    "\n",
    "            // Build new combinations by appending each letter\n",
    "            for (String combination : result) {\n",
    "                for (char letter : letters.toCharArray()) {\n",
    "                    newResult.add(combination + letter);\n",
    "                }\n",
    "            }\n",
    "\n",
    "            result = newResult; // Update result with new combinations\n",
    "        }\n",
    "\n",
    "        return result;\n",
    "    }\n",
    "}\n"
   ]
  },
  {
   "cell_type": "code",
   "execution_count": null,
   "metadata": {
    "vscode": {
     "languageId": "java"
    }
   },
   "outputs": [],
   "source": []
  },
  {
   "cell_type": "code",
   "execution_count": 34,
   "metadata": {
    "vscode": {
     "languageId": "java"
    }
   },
   "outputs": [
    {
     "name": "stdout",
     "output_type": "stream",
     "text": [
      "[ad, ae, af, bd, be, bf, cd, ce, cf]\n"
     ]
    }
   ],
   "source": [
    "Solution solution = new Solution();\n",
    "String digits = \"23\";\n",
    "List<String> result = solution.letterCombinations(digits);\n",
    "System.out.println(result);"
   ]
  },
  {
   "cell_type": "code",
   "execution_count": null,
   "metadata": {
    "vscode": {
     "languageId": "java"
    }
   },
   "outputs": [],
   "source": []
  }
 ],
 "metadata": {
  "kernelspec": {
   "display_name": "Java",
   "language": "java",
   "name": "java"
  },
  "language_info": {
   "codemirror_mode": "java",
   "file_extension": ".jshell",
   "mimetype": "text/x-java-source",
   "name": "Java",
   "pygments_lexer": "java",
   "version": "22.0.2+9-70"
  }
 },
 "nbformat": 4,
 "nbformat_minor": 2
}
