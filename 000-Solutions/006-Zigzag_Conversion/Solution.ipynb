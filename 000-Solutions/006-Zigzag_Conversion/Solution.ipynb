{
 "cells": [
  {
   "cell_type": "code",
   "execution_count": null,
   "metadata": {
    "vscode": {
     "languageId": "java"
    }
   },
   "outputs": [],
   "source": [
    "// Zigzag Conversion\n",
    "\n",
    "/*\n",
    ">>>>\n",
    ">>>>\n",
    ">>>>\n",
    ">>>>\n",
    "*/\n"
   ]
  },
  {
   "cell_type": "markdown",
   "metadata": {},
   "source": [
    "# Approach 1 (Best Solution).\n",
    "- Time Complexity - O(n).\n",
    "- Space Complexity - O(n).\n",
    "\n",
    "1. **Base Case:**\n",
    "   - If `numRows` is 1 or the string length is less than `numRows`, the zigzag pattern is not needed, so the function simply returns the original string `s`.\n",
    "\n",
    "2. **StringBuilder:**\n",
    "   - A `StringBuilder` is used to efficiently build the final result by appending characters as we find them.\n",
    "\n",
    "3. **Outer Loop (Rows):**\n",
    "   - The outer loop iterates over each row (`r`), determining which characters belong to that row in the zigzag pattern.\n",
    "\n",
    "4. **Increment Calculation:**\n",
    "   - The `increment` is calculated as `2 * (numRows - 1)`. This determines the step size needed to jump to the next character in the same row.\n",
    "\n",
    "5. **Inner Loop (Characters):**\n",
    "   - The inner loop moves through the string, starting from the current row (`r`), and appends characters that belong to the current row using the calculated `increment`.\n",
    "\n",
    "6. **Middle Character Handling:**\n",
    "   - For rows that are neither the first nor the last, there is a \"middle\" character in the zigzag pattern that needs to be included. The index of this middle character is calculated, and it is appended if it falls within the bounds of the string.\n",
    "\n",
    "7. **Final Output:**\n",
    "   - After processing all rows, the `StringBuilder` contains the characters in the correct zigzag order, and the function returns the final string.\n",
    "\n"
   ]
  },
  {
   "cell_type": "code",
   "execution_count": null,
   "metadata": {
    "vscode": {
     "languageId": "java"
    }
   },
   "outputs": [],
   "source": [
    "class Solution {\n",
    "    public String convert(String s, int numRows) {\n",
    "        if (numRows == 1 || s.length() < numRows) {\n",
    "            return s;\n",
    "        }\n",
    "\n",
    "        StringBuilder sb = new StringBuilder();\n",
    "\n",
    "        for (int r = 0; r < numRows; r++) {\n",
    "            int increment = 2 * (numRows - 1);\n",
    "            for (int i = r; i < s.length(); i += increment) {\n",
    "                sb.append(s.charAt(i));\n",
    "\n",
    "                int middle = (i + increment) - (r * 2);\n",
    "                if ((r > 0) && (r < numRows - 1) && (middle < s.length())) {\n",
    "                    sb.append(s.charAt(middle));\n",
    "                }\n",
    "            }\n",
    "        }\n",
    "\n",
    "        return sb.toString();\n",
    "    }\n",
    "}"
   ]
  },
  {
   "cell_type": "code",
   "execution_count": null,
   "metadata": {
    "vscode": {
     "languageId": "java"
    }
   },
   "outputs": [],
   "source": [
    "Solution solution = new Solution();\n",
    "String s = \"PAYPALISHIRING\";\n",
    "String result = solution.convert(s, 4);\n",
    "System.out.println(result);"
   ]
  },
  {
   "cell_type": "code",
   "execution_count": null,
   "metadata": {
    "vscode": {
     "languageId": "java"
    }
   },
   "outputs": [],
   "source": []
  }
 ],
 "metadata": {
  "kernelspec": {
   "display_name": "Java",
   "language": "java",
   "name": "java"
  },
  "language_info": {
   "codemirror_mode": "java",
   "file_extension": ".jshell",
   "mimetype": "text/x-java-source",
   "name": "Java",
   "pygments_lexer": "java",
   "version": "22.0.2+9-70"
  }
 },
 "nbformat": 4,
 "nbformat_minor": 2
}
