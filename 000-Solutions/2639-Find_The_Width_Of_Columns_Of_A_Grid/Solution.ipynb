{
 "cells": [
  {
   "cell_type": "code",
   "execution_count": null,
   "metadata": {},
   "outputs": [],
   "source": [
    "// Find The Width Of Columns Of A Grid\n",
    "\n",
    "/*\n",
    ">>>>\n",
    ">>>>\n",
    ">>>>\n",
    ">>>>\n",
    "*/\n"
   ]
  },
  {
   "cell_type": "markdown",
   "metadata": {},
   "source": [
    "# Approach 1 (Best Solution).\n",
    "- Time Complexity - O(nxm).\n",
    "- Space Complexity - O(m).\n",
    "\n",
    "- Create a function to get the length of the integer.\n",
    "- Create two variable to track the min and max in the column.\n",
    "- Get the max length of the min and max.\n",
    "- Store the max length in the array.\n",
    "- Return the array.\n"
   ]
  },
  {
   "cell_type": "code",
   "execution_count": null,
   "metadata": {},
   "outputs": [],
   "source": [
    "class Solution {\n",
    "\n",
    "  public int[] findColumnWidth(int[][] grid) {\n",
    "    int rows = grid.length;\n",
    "    int cols = grid[0].length;\n",
    "\n",
    "    // Array to store the result.\n",
    "    int[] result = new int[cols];\n",
    "\n",
    "    for (int i = 0; i < cols; i++) {\n",
    "      int max = grid[0][i], min = grid[0][i];\n",
    "      for (int j = 1; j < rows; j++) {\n",
    "        int current = grid[j][i];\n",
    "        if (current > max) {\n",
    "          max = current;\n",
    "        }\n",
    "        if (current < min) {\n",
    "          min = current;\n",
    "        }\n",
    "      }\n",
    "      result[i] = Math.max(getLength(min), getLength(max));\n",
    "    }\n",
    "    return result;\n",
    "  }\n",
    "\n",
    "  public int getLength(int x) {\n",
    "    int length = x <= 0 ? 1 : 0;\n",
    "\n",
    "    x = Math.abs(x);\n",
    "    while (x > 0) {\n",
    "      length++;\n",
    "      x /= 10;\n",
    "    }\n",
    "    return length;\n",
    "  }\n",
    "}\n"
   ]
  },
  {
   "cell_type": "code",
   "execution_count": null,
   "metadata": {},
   "outputs": [],
   "source": [
    "Solution s = new Solution();"
   ]
  }
 ],
 "metadata": {
  "kernelspec": {
   "display_name": "Java",
   "language": "java",
   "name": "java"
  },
  "language_info": {
   "codemirror_mode": "java",
   "file_extension": ".jshell",
   "mimetype": "text/x-java-source",
   "name": "java",
   "pygments_lexer": "java",
   "version": "21.0.2+13-LTS-58"
  }
 },
 "nbformat": 4,
 "nbformat_minor": 2
}
