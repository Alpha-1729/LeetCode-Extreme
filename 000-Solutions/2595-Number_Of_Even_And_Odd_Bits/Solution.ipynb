{
 "cells": [
  {
   "cell_type": "code",
   "execution_count": null,
   "metadata": {
    "vscode": {
     "languageId": "java"
    }
   },
   "outputs": [],
   "source": [
    "// Number Of Even And Odd Bits\n",
    "\n",
    "/*\n",
    ">>>>\n",
    ">>>>\n",
    ">>>>\n",
    ">>>>\n",
    "*/\n"
   ]
  },
  {
   "cell_type": "markdown",
   "metadata": {},
   "source": [
    "# Approach 1 (Best Solution).\n",
    "- Time Complexity - O(n).\n",
    "- Space Complexity - O(1).\n",
    "\n",
    "1. **Initialize Result Array**:\n",
    "   - Create an array `res` of size `2` to store two counts:\n",
    "     - `res[0]`: The number of `1` bits at even positions.\n",
    "     - `res[1]`: The number of `1` bits at odd positions.\n",
    "\n",
    "2. **Track Bit Position**:\n",
    "   - Initialize a variable `count` to keep track of the current bit position as we traverse the binary representation of `n`.\n",
    "\n",
    "3. **Process Each Bit**:\n",
    "   - Use a `while` loop to process the bits of `n` until `n` becomes `0`:\n",
    "     - Check the least significant bit (`n & 1`), and if it's `1`, increment the count for either the even or odd position based on `count % 2`:\n",
    "       - If `count` is even (`count % 2 == 0`), increment `res[0]`.\n",
    "       - If `count` is odd (`count % 2 == 1`), increment `res[1]`.\n",
    "     - Right shift `n` by `1` (`n >>= 1`) to check the next bit.\n",
    "     - Increment `count` to move to the next bit position.\n",
    "\n",
    "4. **Return**:\n",
    "   - After processing all bits, return the array `res`, where:\n",
    "     - `res[0]` contains the count of `1` bits at even positions.\n",
    "     - `res[1]` contains the count of `1` bits at odd positions."
   ]
  },
  {
   "cell_type": "code",
   "execution_count": null,
   "metadata": {
    "vscode": {
     "languageId": "java"
    }
   },
   "outputs": [],
   "source": [
    "class Solution {\n",
    "    public int[] evenOddBit(int n) {\n",
    "        int[] res = new int[2];\n",
    "        int count = 0;\n",
    "\n",
    "        while (n != 0) {\n",
    "            if ((n & 1) == 1) {\n",
    "                res[count % 2]++;\n",
    "            }\n",
    "            n >>= 1;\n",
    "            count++;\n",
    "        }\n",
    "\n",
    "        return res;\n",
    "    }\n",
    "}"
   ]
  },
  {
   "cell_type": "code",
   "execution_count": null,
   "metadata": {
    "vscode": {
     "languageId": "java"
    }
   },
   "outputs": [],
   "source": [
    "Solution solution = new Solution();\n",
    "int n = 50;\n",
    "int[] result = solution.evenOddBit(n);\n",
    "System.out.println(Arrays.toString(result));"
   ]
  },
  {
   "cell_type": "code",
   "execution_count": null,
   "metadata": {
    "vscode": {
     "languageId": "java"
    }
   },
   "outputs": [],
   "source": []
  }
 ],
 "metadata": {
  "kernelspec": {
   "display_name": "Java",
   "language": "java",
   "name": "java"
  },
  "language_info": {
   "codemirror_mode": "java",
   "file_extension": ".jshell",
   "mimetype": "text/x-java-source",
   "name": "Java",
   "pygments_lexer": "java",
   "version": "22.0.2+9-70"
  }
 },
 "nbformat": 4,
 "nbformat_minor": 2
}
