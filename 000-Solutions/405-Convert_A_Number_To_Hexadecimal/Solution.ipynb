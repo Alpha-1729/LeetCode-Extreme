{
 "cells": [
  {
   "cell_type": "code",
   "execution_count": null,
   "metadata": {
    "vscode": {
     "languageId": "java"
    }
   },
   "outputs": [],
   "source": [
    "// Convert A Number To Hexadecimal\n",
    "\n",
    "/*\n",
    ">>>>\n",
    ">>>>\n",
    ">>>>\n",
    ">>>>\n",
    "*/\n"
   ]
  },
  {
   "cell_type": "markdown",
   "metadata": {},
   "source": [
    "# Approach 1 (Best Solution).\n",
    "- Time Complexity - O(1).\n",
    "- Space Complexity - O(1).\n",
    "\n",
    "1. **Handle the Corner Case**:\n",
    "   - The method first checks if `num` is `0`. If so, it directly returns `\"0\"` since the hexadecimal representation of zero is simply `\"0\"`.\n",
    "\n",
    "2. **Convert Number to Hexadecimal**:\n",
    "   - A `StringBuilder` named `hex` is initialized to build the hexadecimal string.\n",
    "   - The method uses a while loop to repeatedly extract the last 4 bits of `num` and convert these bits into a hexadecimal digit:\n",
    "     - **Extract Last 4 Bits**: The expression `num & 15` extracts the last 4 bits from `num`. The value `15` in binary is `1111`, so the bitwise AND operation masks out the upper bits.\n",
    "     - **Convert to Hexadecimal Digit**:\n",
    "       - If the digit is less than `10`, it represents a numeric value (`0` to `9`), so it's directly appended to `hex`.\n",
    "       - If the digit is `10` or greater, it corresponds to a letter (`a` to `f`). The method converts this value into the corresponding character using the expression `(char) ('a' + (digit - 10))`.\n",
    "     - **Shift Right**: The expression `num >>> 4` shifts `num` right by 4 bits, discarding the processed bits and making the next 4 bits available for the next iteration.\n",
    "\n",
    "3. **Reverse and Return the Result**:\n",
    "   - After the loop completes, the hexadecimal digits are in reverse order. The method reverses the `StringBuilder` and converts it to a string using `hex.reverse().toString()`.\n"
   ]
  },
  {
   "cell_type": "code",
   "execution_count": 1,
   "metadata": {
    "vscode": {
     "languageId": "java"
    }
   },
   "outputs": [],
   "source": [
    "public class Solution {\n",
    "    public String toHex(int num) {\n",
    "        // check for corner case\n",
    "        if (num == 0)\n",
    "            return \"0\";\n",
    "\n",
    "        // convert number to hexadecimal\n",
    "        StringBuilder hex = new StringBuilder();\n",
    "        while (num != 0) {\n",
    "            int digit = num & 15;\n",
    "            if (digit < 10) {\n",
    "                hex.append(digit);\n",
    "            } else {\n",
    "                hex.append((char) ('a' + (digit - 10)));\n",
    "            }\n",
    "            num = num >>> 4;\n",
    "        }\n",
    "\n",
    "        // reverse string\n",
    "        return hex.reverse().toString();\n",
    "    }\n",
    "}"
   ]
  },
  {
   "cell_type": "code",
   "execution_count": 2,
   "metadata": {
    "vscode": {
     "languageId": "java"
    }
   },
   "outputs": [
    {
     "name": "stdout",
     "output_type": "stream",
     "text": [
      "1a\n"
     ]
    }
   ],
   "source": [
    "Solution solution = new Solution();\n",
    "int num = 26;\n",
    "String result = solution.toHex(num);\n",
    "System.out.println(result);"
   ]
  },
  {
   "cell_type": "code",
   "execution_count": null,
   "metadata": {
    "vscode": {
     "languageId": "java"
    }
   },
   "outputs": [],
   "source": []
  }
 ],
 "metadata": {
  "kernelspec": {
   "display_name": "Java",
   "language": "java",
   "name": "java"
  },
  "language_info": {
   "codemirror_mode": "java",
   "file_extension": ".jshell",
   "mimetype": "text/x-java-source",
   "name": "Java",
   "pygments_lexer": "java",
   "version": "22.0.2+9-70"
  }
 },
 "nbformat": 4,
 "nbformat_minor": 2
}
