{
 "cells": [
  {
   "cell_type": "code",
   "execution_count": null,
   "metadata": {
    "vscode": {
     "languageId": "java"
    }
   },
   "outputs": [],
   "source": [
    "// Permutation Difference Between Two Strings\n",
    "\n",
    "/*\n",
    ">>>>\n",
    ">>>>\n",
    ">>>>\n",
    ">>>>\n",
    "*/\n"
   ]
  },
  {
   "cell_type": "markdown",
   "metadata": {},
   "source": [
    "# Approach 1 (Best Solution).\n",
    "- Time Complexity - O(n).\n",
    "- Space Complexity - O(1).\n",
    "\n",
    "- First loop through the character in the s.\n",
    "- Store the index in the array.\n",
    "- Then loop through the characters in the t and calculate the difference between index of s and t.\n",
    "- Add it to the permutationDiff variable.\n",
    "- Return the permutationDiff variable."
   ]
  },
  {
   "cell_type": "code",
   "execution_count": 10,
   "metadata": {
    "vscode": {
     "languageId": "java"
    }
   },
   "outputs": [],
   "source": [
    "class Solution {\n",
    "\n",
    "  public int findPermutationDifference(String s, String t) {\n",
    "    int permutationDiff = 0;\n",
    "    int[] set = new int[26];\n",
    "\n",
    "    for (int i = 0; i < s.length(); i++) {\n",
    "      char ch = s.charAt(i);\n",
    "      set[ch - 'a'] = i;\n",
    "    }\n",
    "    for (int i = 0; i < t.length(); i++) {\n",
    "      char ch = t.charAt(i);\n",
    "      permutationDiff += Math.abs(set[ch - 'a'] - i);\n",
    "    }\n",
    "    return permutationDiff;\n",
    "  }\n",
    "}\n"
   ]
  },
  {
   "cell_type": "code",
   "execution_count": 11,
   "metadata": {
    "vscode": {
     "languageId": "java"
    }
   },
   "outputs": [
    {
     "name": "stdout",
     "output_type": "stream",
     "text": [
      "12\n"
     ]
    }
   ],
   "source": [
    "Solution solution = new Solution();\n",
    "String s = \"abcde\";\n",
    "String t = \"edbac\";\n",
    "int result = solution.findPermutationDifference(s, t);\n",
    "System.out.println(result);"
   ]
  },
  {
   "cell_type": "code",
   "execution_count": null,
   "metadata": {
    "vscode": {
     "languageId": "java"
    }
   },
   "outputs": [],
   "source": []
  },
  {
   "cell_type": "code",
   "execution_count": null,
   "metadata": {
    "vscode": {
     "languageId": "java"
    }
   },
   "outputs": [],
   "source": []
  }
 ],
 "metadata": {
  "kernelspec": {
   "display_name": "Java",
   "language": "java",
   "name": "java"
  },
  "language_info": {
   "codemirror_mode": "java",
   "file_extension": ".jshell",
   "mimetype": "text/x-java-source",
   "name": "Java",
   "pygments_lexer": "java",
   "version": "22.0.1+8-16"
  }
 },
 "nbformat": 4,
 "nbformat_minor": 2
}
