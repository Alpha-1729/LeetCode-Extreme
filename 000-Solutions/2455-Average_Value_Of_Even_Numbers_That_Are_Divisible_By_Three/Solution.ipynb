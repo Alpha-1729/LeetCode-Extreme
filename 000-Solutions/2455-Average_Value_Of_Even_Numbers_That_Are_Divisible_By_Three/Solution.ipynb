{
 "cells": [
  {
   "cell_type": "code",
   "execution_count": null,
   "metadata": {},
   "outputs": [],
   "source": [
    "// Average Value Of Even Numbers That Are Divisible By Three\n",
    "\n",
    "/*\n",
    ">>>>\n",
    ">>>>\n",
    ">>>>\n",
    ">>>>\n",
    "*/\n"
   ]
  },
  {
   "cell_type": "markdown",
   "metadata": {},
   "source": [
    "# Approach 1 (Best Solution).\n",
    "- Time Complexity - O(n).\n",
    "- Space Complexity - O(1).\n",
    "\n",
    "1. **Initialize Variables**:\n",
    "   - `count`: Tracks how many numbers in the array are divisible by 6.\n",
    "   - `sum`: Stores the sum of these divisible numbers.\n",
    "\n",
    "2. **Iterate Through the Array**:\n",
    "   - The method loops through each element in `nums`.\n",
    "   - For each element, it checks if the number is divisible by 6 using the condition `nums[i] % 6 == 0`.\n",
    "   - If true, it increments `count` and adds the number to `sum`.\n",
    "\n",
    "3. **Check for Divisible Numbers**:\n",
    "   - After the loop, if `count` is 0 (meaning no numbers were divisible by 6), the method returns 0.\n",
    "\n",
    "4. **Calculate and Return Average**:\n",
    "   - If there are numbers divisible by 6, the method calculates the average by dividing `sum` by `count` and returns the result as an integer.\n"
   ]
  },
  {
   "cell_type": "code",
   "execution_count": null,
   "metadata": {},
   "outputs": [],
   "source": [
    "class Solution {\n",
    "    public int averageValue(int[] nums) {\n",
    "        int count = 0;\n",
    "        int sum = 0;\n",
    "\n",
    "        for (int i = 0; i < nums.length; i++) {\n",
    "            if (nums[i] % 6 == 0) {\n",
    "                count++;\n",
    "                sum += nums[i];\n",
    "            }\n",
    "        }\n",
    "\n",
    "        if (count == 0) {\n",
    "            return 0;\n",
    "        }\n",
    "\n",
    "        return (int) (sum / count);\n",
    "    }\n",
    "}"
   ]
  },
  {
   "cell_type": "code",
   "execution_count": null,
   "metadata": {},
   "outputs": [],
   "source": [
    "Solution solution = new Solution();\n",
    "int[] nums = {1, 3, 6, 10, 12, 15};\n",
    "int result = solution.averageValue(nums);\n",
    "System.out.println(result);"
   ]
  }
 ],
 "metadata": {
  "kernelspec": {
   "display_name": "Java",
   "language": "java",
   "name": "java"
  },
  "language_info": {
   "codemirror_mode": "java",
   "file_extension": ".jshell",
   "mimetype": "text/x-java-source",
   "name": "java",
   "pygments_lexer": "java",
   "version": "21.0.2+13-LTS-58"
  }
 },
 "nbformat": 4,
 "nbformat_minor": 2
}
