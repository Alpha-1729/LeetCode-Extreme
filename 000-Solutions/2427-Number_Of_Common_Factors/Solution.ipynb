{
 "cells": [
  {
   "cell_type": "code",
   "execution_count": null,
   "metadata": {
    "vscode": {
     "languageId": "java"
    }
   },
   "outputs": [],
   "source": [
    "// Number Of Common Factors\n",
    "\n",
    "/*\n",
    ">>>>\n",
    ">>>>\n",
    ">>>>\n",
    ">>>>\n",
    "*/\n"
   ]
  },
  {
   "cell_type": "markdown",
   "metadata": {},
   "source": [
    "# Approach 1 (Best Solution).\n",
    "- Time Complexity - O(n).\n",
    "- Space Complexity - O(1).\n",
    "\n",
    "1. **Determine the Smaller Number**  \n",
    "   The method identifies the smaller of the two integers (`a` and `b`). This helps limit the range of numbers to check, as a common factor cannot be larger than the smallest number.\n",
    "\n",
    "2. **Initialize Count**  \n",
    "   It starts with a count of 1, which accounts for the factor 1 (since 1 is a factor of every integer).\n",
    "\n",
    "3. **Iterate Through Possible Factors**  \n",
    "   The method iterates through all integers from 2 up to the smaller of the two numbers. For each integer, it checks if it divides both `a` and `b` without leaving a remainder.\n",
    "\n",
    "4. **Update Count**  \n",
    "   If the integer is a common factor of both `a` and `b`, the count is incremented.\n",
    "\n",
    "5. **Return Result**  \n",
    "   The method returns the total count of common factors found.\n"
   ]
  },
  {
   "cell_type": "code",
   "execution_count": null,
   "metadata": {
    "vscode": {
     "languageId": "java"
    }
   },
   "outputs": [],
   "source": [
    "class Solution {\n",
    "    public int commonFactors(int a, int b) {\n",
    "        int min = a > b ? b : a;\n",
    "        int result = 1;\n",
    "\n",
    "        for (int i = 2; i <= min; i++) {\n",
    "            if ((a % i == 0) && (b % i == 0)) {\n",
    "                result++;\n",
    "            }\n",
    "        }\n",
    "        return result;\n",
    "    }\n",
    "}"
   ]
  },
  {
   "cell_type": "code",
   "execution_count": null,
   "metadata": {
    "vscode": {
     "languageId": "java"
    }
   },
   "outputs": [],
   "source": [
    "Solution solution = new Solution();\n",
    "int a = 12;\n",
    "int b = 6;\n",
    "int result = solution.commonFactors(a, b);\n",
    "System.out.println(result);"
   ]
  },
  {
   "cell_type": "code",
   "execution_count": null,
   "metadata": {
    "vscode": {
     "languageId": "java"
    }
   },
   "outputs": [],
   "source": []
  }
 ],
 "metadata": {
  "kernelspec": {
   "display_name": "Java",
   "language": "java",
   "name": "java"
  },
  "language_info": {
   "codemirror_mode": "java",
   "file_extension": ".jshell",
   "mimetype": "text/x-java-source",
   "name": "Java",
   "pygments_lexer": "java",
   "version": "22.0.2+9-70"
  }
 },
 "nbformat": 4,
 "nbformat_minor": 2
}
