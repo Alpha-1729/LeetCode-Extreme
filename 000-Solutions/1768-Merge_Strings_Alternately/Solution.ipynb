{
 "cells": [
  {
   "cell_type": "code",
   "execution_count": null,
   "metadata": {
    "vscode": {
     "languageId": "java"
    }
   },
   "outputs": [],
   "source": [
    "// Merge Strings Alternately\n",
    "\n",
    "/*\n",
    ">>>>\n",
    ">>>>\n",
    ">>>>\n",
    ">>>>\n",
    "*/\n"
   ]
  },
  {
   "cell_type": "markdown",
   "metadata": {},
   "source": [
    "# Approach 1 (Best Solution) Using the String Builder.\n",
    "- Time Complexity - O(n).\n",
    "- Space Complexity - O(1).\n",
    "- If the length of the first string is empty, then return the second string.\n",
    "- If the length of the second string is empty, then return the first string.\n",
    "- Loop through the each character from both string, append it to the StringBuilder.\n",
    "- Convert StringBuilder to string and return."
   ]
  },
  {
   "cell_type": "code",
   "execution_count": null,
   "metadata": {
    "vscode": {
     "languageId": "java"
    }
   },
   "outputs": [],
   "source": [
    "class Solution {\n",
    "\n",
    "  public String mergeAlternately(String word1, String word2) {\n",
    "    if (word1.length() == 0) return word2;\n",
    "    if (word2.length() == 0) return word1;\n",
    "\n",
    "    int counter = 0;\n",
    "    StringBuilder sb = new StringBuilder();\n",
    "\n",
    "    while (counter < word1.length() || counter < word2.length()) {\n",
    "      if (counter < word1.length()) {\n",
    "        sb.append(word1.charAt(counter));\n",
    "      }\n",
    "      if (counter < word2.length()) {\n",
    "        sb.append(word2.charAt(counter));\n",
    "      }\n",
    "      counter++;\n",
    "    }\n",
    "\n",
    "    return sb.toString();\n",
    "  }\n",
    "}\n"
   ]
  },
  {
   "cell_type": "markdown",
   "metadata": {},
   "source": [
    "# Approach 2 (Best Solution).\n",
    "- Time Complexity - O(n).\n",
    "- Space Complexity - O(1).\n",
    "- If the length of the first string is empty, then return the second string.\n",
    "- If the length of the second string is empty, then return the first string.\n",
    "- Loop through the each character from both string, Add each character to char array.\n",
    "- Add the remaining characters from word1 to char array.\n",
    "- Add the remaining characters from word2 to char array.\n",
    "- Convert the char array to string and return."
   ]
  },
  {
   "cell_type": "code",
   "execution_count": null,
   "metadata": {
    "vscode": {
     "languageId": "java"
    }
   },
   "outputs": [],
   "source": [
    "class Solution {\n",
    "\n",
    "  public String mergeAlternately(String word1, String word2) {\n",
    "    if (word1.length() == 0) return word2;\n",
    "    if (word2.length() == 0) return word1;\n",
    "\n",
    "    int mergedLength = word1.length() + word2.length();\n",
    "    char[] mergedChars = new char[mergedLength];\n",
    "\n",
    "    // For looping through the first word, second word, character array.\n",
    "    int i = 0, j = 0, k = 0;\n",
    "\n",
    "    while (i < word1.length() && j < word2.length()) {\n",
    "      mergedChars[k++] = word1.charAt(i++);\n",
    "      mergedChars[k++] = word2.charAt(j++);\n",
    "    }\n",
    "\n",
    "    while (i < word1.length()) {\n",
    "      mergedChars[k++] = word1.charAt(i++);\n",
    "    }\n",
    "\n",
    "    while (j < word2.length()) {\n",
    "      mergedChars[k++] = word2.charAt(j++);\n",
    "    }\n",
    "\n",
    "    return new String(mergedChars);\n",
    "  }\n",
    "}\n"
   ]
  },
  {
   "cell_type": "code",
   "execution_count": null,
   "metadata": {
    "vscode": {
     "languageId": "java"
    }
   },
   "outputs": [],
   "source": [
    "Solution s = new Solution();\n",
    "\n",
    "String word1= \"abcd\";\n",
    "String word2= \"pq\";\n",
    "\n",
    "String result = s.mergeAlternately(word1, word2);\n",
    "System.out.println(result);"
   ]
  }
 ],
 "metadata": {
  "kernelspec": {
   "display_name": "Java",
   "language": "java",
   "name": "java"
  },
  "language_info": {
   "codemirror_mode": "java",
   "file_extension": ".jshell",
   "mimetype": "text/x-java-source",
   "name": "Java",
   "pygments_lexer": "java",
   "version": "21.0.2+13-LTS-58"
  }
 },
 "nbformat": 4,
 "nbformat_minor": 2
}
