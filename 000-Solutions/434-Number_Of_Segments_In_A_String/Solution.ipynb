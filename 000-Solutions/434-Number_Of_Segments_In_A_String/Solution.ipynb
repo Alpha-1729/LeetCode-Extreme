{
 "cells": [
  {
   "cell_type": "code",
   "execution_count": null,
   "metadata": {
    "vscode": {
     "languageId": "java"
    }
   },
   "outputs": [],
   "source": [
    "// Number Of Segments In A String\n",
    "\n",
    "/*\n",
    ">>>>\n",
    ">>>>\n",
    ">>>>\n",
    ">>>>\n",
    "*/\n"
   ]
  },
  {
   "cell_type": "markdown",
   "metadata": {},
   "source": [
    "# Approach 1 (Best Solution).\n",
    "- Time Complexity - O(n).\n",
    "- Space Complexity - O(1).\n",
    "\n",
    "- Set the previous char as space.\n",
    "- Loop through all characters in the string.\n",
    "- Whenever there is a combination of prev = space and current = non-space, increment the spaceCount.\n",
    "- Return the spaceCount."
   ]
  },
  {
   "cell_type": "code",
   "execution_count": null,
   "metadata": {
    "vscode": {
     "languageId": "java"
    }
   },
   "outputs": [],
   "source": [
    "class Solution {\n",
    "    public int countSegments(String s) {\n",
    "        if (s.length() == 0) {\n",
    "            return 0;\n",
    "        }\n",
    "        int spaceCount = 0;\n",
    "        char prev = ' ';\n",
    "        for (int i = 0; i < s.length(); i++) {\n",
    "            char current = s.charAt(i);\n",
    "            if (prev == ' ' && current != ' ') {\n",
    "                spaceCount++;\n",
    "            }\n",
    "            prev = current;\n",
    "        }\n",
    "\n",
    "        return spaceCount;\n",
    "    }\n",
    "}"
   ]
  },
  {
   "cell_type": "code",
   "execution_count": null,
   "metadata": {
    "vscode": {
     "languageId": "java"
    }
   },
   "outputs": [],
   "source": [
    "Solution solution = new Solution();\n",
    "String s = \"Hello, my name is John\";\n",
    "int result = solution.countSegments(s);\n",
    "System.out.println(result);"
   ]
  },
  {
   "cell_type": "code",
   "execution_count": null,
   "metadata": {
    "vscode": {
     "languageId": "java"
    }
   },
   "outputs": [],
   "source": []
  }
 ],
 "metadata": {
  "kernelspec": {
   "display_name": "Java",
   "language": "java",
   "name": "java"
  },
  "language_info": {
   "codemirror_mode": "java",
   "file_extension": ".jshell",
   "mimetype": "text/x-java-source",
   "name": "Java",
   "pygments_lexer": "java",
   "version": "22.0.1+8-16"
  }
 },
 "nbformat": 4,
 "nbformat_minor": 2
}
