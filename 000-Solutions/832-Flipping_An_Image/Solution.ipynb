{
 "cells": [
  {
   "cell_type": "code",
   "execution_count": null,
   "metadata": {
    "vscode": {
     "languageId": "java"
    }
   },
   "outputs": [],
   "source": [
    "// Flipping An Image\n",
    "\n",
    "/*\n",
    ">>>>\n",
    ">>>>\n",
    ">>>>\n",
    ">>>>\n",
    "*/\n"
   ]
  },
  {
   "cell_type": "markdown",
   "metadata": {},
   "source": [
    "# Approach 1 using ternary operator(Best Solution).\n",
    "- Time Complexity - O(nxn).\n",
    "- Space Complexity - O(1).\n",
    "\n",
    "- Ternary operator is used in the function.\n",
    "- Loop through each row in the image.\n",
    "- Loop through the half of the values in the rows.\n",
    "- Swap and flip the mirror values in the rows.\n",
    "- Return the matrix."
   ]
  },
  {
   "cell_type": "code",
   "execution_count": null,
   "metadata": {
    "vscode": {
     "languageId": "java"
    }
   },
   "outputs": [],
   "source": [
    "class Solution {\n",
    "\n",
    "  public int[][] flipAndInvertImage(int[][] image) {\n",
    "    int m = image.length;\n",
    "    int n = image[0].length - 1;\n",
    "\n",
    "    for (int i = 0; i < m; i++) {\n",
    "      for (int j = 0; j <= (n / 2); j++) {\n",
    "        swapElements(image[i], j, n - j);\n",
    "      }\n",
    "    }\n",
    "    return image;\n",
    "  }\n",
    "\n",
    "  public void swapElements(int[] row, int i, int j) {\n",
    "    int temp = row[i] == 1 ? 0 : 1;\n",
    "    row[i] = row[j] == 1 ? 0 : 1;\n",
    "    row[j] = temp;\n",
    "  }\n",
    "}\n"
   ]
  },
  {
   "cell_type": "markdown",
   "metadata": {},
   "source": [
    "# Approach 2 using XOR operator(Best Solution).\n",
    "- Time Complexity - O(nxn).\n",
    "- Space Complexity - O(1).\n",
    "\n",
    "- XOR operator is used in the function.\n",
    "- Loop through each row in the image.\n",
    "- Loop through the half of the values in the rows.\n",
    "- Swap and flip the mirror values in the rows.\n",
    "- Return the matrix."
   ]
  },
  {
   "cell_type": "code",
   "execution_count": null,
   "metadata": {
    "vscode": {
     "languageId": "java"
    }
   },
   "outputs": [],
   "source": [
    "class Solution {\n",
    "\n",
    "  public int[][] flipAndInvertImage(int[][] image) {\n",
    "    int m = image.length;\n",
    "    int n = image[0].length - 1;\n",
    "\n",
    "    for (int i = 0; i < m; i++) {\n",
    "      for (int j = 0; j <= (n / 2); j++) {\n",
    "        swapElements(image[i], j, n - j);\n",
    "      }\n",
    "    }\n",
    "    return image;\n",
    "  }\n",
    "\n",
    "  public void swapElements(int[] row, int i, int j) {\n",
    "    int temp = row[i] ^ 1;\n",
    "    row[i] = row[j] ^ 1;\n",
    "    row[j] = temp;\n",
    "  }\n",
    "}\n"
   ]
  },
  {
   "cell_type": "code",
   "execution_count": null,
   "metadata": {
    "vscode": {
     "languageId": "java"
    }
   },
   "outputs": [],
   "source": [
    "Solution s = new Solution();\n",
    "int[][] image = {{1, 1, 0}, {1, 0, 1}, {0, 0, 0}};\n",
    "int[][] result = s.flipAndInvertImage(image);\n",
    "for (int[] rows : result)\n",
    "{\n",
    "\tSystem.out.println(Arrays.toString(rows));\n",
    "}"
   ]
  },
  {
   "cell_type": "code",
   "execution_count": null,
   "metadata": {
    "vscode": {
     "languageId": "java"
    }
   },
   "outputs": [],
   "source": []
  }
 ],
 "metadata": {
  "kernelspec": {
   "display_name": "Java",
   "language": "java",
   "name": "java"
  },
  "language_info": {
   "codemirror_mode": "java",
   "file_extension": ".jshell",
   "mimetype": "text/x-java-source",
   "name": "Java",
   "pygments_lexer": "java",
   "version": "22.0.1+8-16"
  }
 },
 "nbformat": 4,
 "nbformat_minor": 2
}
