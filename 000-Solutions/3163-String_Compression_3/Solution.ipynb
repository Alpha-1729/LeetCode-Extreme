{
 "cells": [
  {
   "cell_type": "code",
   "execution_count": null,
   "metadata": {
    "vscode": {
     "languageId": "java"
    }
   },
   "outputs": [],
   "source": [
    "// String Compression 3\n",
    "\n",
    "/*\n",
    ">>>>\n",
    ">>>>\n",
    ">>>>\n",
    ">>>>\n",
    "*/\n"
   ]
  },
  {
   "cell_type": "markdown",
   "metadata": {},
   "source": [
    "# Approach 1 (Best Solution).\n",
    "- Time Complexity - O(n).\n",
    "- Space Complexity - O(1).\n",
    "\n",
    "- Keep two variable to track the previous and current character in the string.\n",
    "- If the current and previous character are same, increment the count.\n",
    "- Else Add the count of previous character to the result.\n",
    "- If the count is 9, Add the count of the previous character to the result.\n",
    "- Return the final string."
   ]
  },
  {
   "cell_type": "code",
   "execution_count": null,
   "metadata": {
    "vscode": {
     "languageId": "java"
    }
   },
   "outputs": [],
   "source": [
    "class Solution {\n",
    "    public String compressedString(String word) {\n",
    "        StringBuilder sb = new StringBuilder();\n",
    "        \n",
    "        char prev = word.charAt(0);\n",
    "        char current = prev;\n",
    "        int count = 0;\n",
    "        for (int i = 0; i < word.length(); i++)\n",
    "        {\n",
    "            current = word.charAt(i);\n",
    "            if ((current != prev) || count == 9)\n",
    "            {   \n",
    "                sb.append(count).append(prev);\n",
    "                count = 1;\n",
    "                prev = current;\n",
    "            }\n",
    "            else{\n",
    "                count++;\n",
    "            }\n",
    "            \n",
    "        }\n",
    "        sb.append(count).append(current);\n",
    "        return sb.toString();\n",
    "    }\n",
    "}"
   ]
  },
  {
   "cell_type": "code",
   "execution_count": null,
   "metadata": {
    "vscode": {
     "languageId": "java"
    }
   },
   "outputs": [],
   "source": [
    "Solution solution = new Solution();\n",
    "String word = \"aaaaaaaaaaaaaabb\";\n",
    "String result = solution.compressedString(word);\n",
    "System.out.println(result);"
   ]
  },
  {
   "cell_type": "code",
   "execution_count": null,
   "metadata": {
    "vscode": {
     "languageId": "java"
    }
   },
   "outputs": [],
   "source": []
  }
 ],
 "metadata": {
  "kernelspec": {
   "display_name": "Java",
   "language": "java",
   "name": "java"
  },
  "language_info": {
   "codemirror_mode": "java",
   "file_extension": ".jshell",
   "mimetype": "text/x-java-source",
   "name": "Java",
   "pygments_lexer": "java",
   "version": "22.0.1+8-16"
  }
 },
 "nbformat": 4,
 "nbformat_minor": 2
}
