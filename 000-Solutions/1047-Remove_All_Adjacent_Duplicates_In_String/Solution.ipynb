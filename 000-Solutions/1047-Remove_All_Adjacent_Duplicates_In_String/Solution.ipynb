{
 "cells": [
  {
   "cell_type": "code",
   "execution_count": null,
   "metadata": {
    "vscode": {
     "languageId": "java"
    }
   },
   "outputs": [],
   "source": [
    "// Remove All Adjacent Duplicates In String\n",
    "\n",
    "/*\n",
    ">>>>\n",
    ">>>>\n",
    ">>>>\n",
    ">>>>\n",
    "*/\n"
   ]
  },
  {
   "cell_type": "markdown",
   "metadata": {},
   "source": [
    "# Approach 1 (Best Solution).\n",
    "- Time Complexity - O(n).\n",
    "- Space Complexity - O(n).\n",
    "\n",
    "1. **Initialization**:\n",
    "   - `stack`: A character array initialized with the characters of the input string `s`.\n",
    "   - `top`: An index variable to simulate the top of the stack, initialized to `-1`.\n",
    "\n",
    "2. **Iterating Through the String**:\n",
    "   - A `for` loop iterates through each character of the string using the `stack` array.\n",
    "   \n",
    "3. **Removing Duplicates**:\n",
    "   - **Condition 1**: If `top > -1` (stack is not empty) and the current character `stack[i]` is the same as the character at the top of the stack (`stack[top]`), we simulate a `pop` by decrementing `top`.\n",
    "   - **Condition 2**: If the current character is different from the top of the stack, we simulate a `push` by incrementing `top` and assigning the current character to `stack[top]`.\n",
    "\n",
    "4. **Returning the Result**:\n",
    "   - After processing all characters, the result is constructed by creating a new string from the `stack` array, starting at index `0` and ending at `top + 1` to capture all non-duplicate characters.\n"
   ]
  },
  {
   "cell_type": "code",
   "execution_count": null,
   "metadata": {
    "vscode": {
     "languageId": "java"
    }
   },
   "outputs": [],
   "source": [
    "class Solution {\n",
    "    public String removeDuplicates(String s) {\n",
    "        char[] stack = s.toCharArray();\n",
    "        int top = -1;\n",
    "\n",
    "        for (int i = 0; i < stack.length; i++) {\n",
    "            if (top > -1 && stack[i] == stack[top]) {\n",
    "                top--;\n",
    "            } else {\n",
    "                stack[++top] = stack[i];\n",
    "            }\n",
    "        }\n",
    "\n",
    "        return new String(stack, 0, top + 1);\n",
    "    }\n",
    "}"
   ]
  },
  {
   "cell_type": "code",
   "execution_count": null,
   "metadata": {
    "vscode": {
     "languageId": "java"
    }
   },
   "outputs": [],
   "source": [
    "Solution solution = new Solution();\n",
    "String s = \"abbaca\";\n",
    "String result = solution.removeDuplicates(s);\n",
    "System.out.println(result);"
   ]
  },
  {
   "cell_type": "code",
   "execution_count": null,
   "metadata": {
    "vscode": {
     "languageId": "java"
    }
   },
   "outputs": [],
   "source": []
  }
 ],
 "metadata": {
  "kernelspec": {
   "display_name": "Java",
   "language": "java",
   "name": "java"
  },
  "language_info": {
   "codemirror_mode": "java",
   "file_extension": ".jshell",
   "mimetype": "text/x-java-source",
   "name": "Java",
   "pygments_lexer": "java",
   "version": "22.0.2+9-70"
  }
 },
 "nbformat": 4,
 "nbformat_minor": 2
}
