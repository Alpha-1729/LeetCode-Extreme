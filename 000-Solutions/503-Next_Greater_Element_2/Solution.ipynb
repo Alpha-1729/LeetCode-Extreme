{
 "cells": [
  {
   "cell_type": "code",
   "execution_count": null,
   "metadata": {
    "vscode": {
     "languageId": "java"
    }
   },
   "outputs": [],
   "source": [
    "// Next Greater Element 2\n",
    "\n",
    "/*\n",
    ">>>>\n",
    ">>>>\n",
    ">>>>\n",
    ">>>>\n",
    "*/\n"
   ]
  },
  {
   "cell_type": "markdown",
   "metadata": {},
   "source": [
    "# Approach 1 (Best Solution).\n",
    "- Time Complexity - O(n).\n",
    "- Space Complexity - O(n).\n",
    "\n",
    "1. **Initialization**:\n",
    "   - `n`: Stores the length of the `nums` array.\n",
    "   - `stack`: An array used as a stack to track the next greater elements.\n",
    "   - `top`: A pointer representing the top of the stack, initialized to `-1`.\n",
    "\n",
    "2. **First Pass (Populating Stack)**:\n",
    "   - A `for` loop iterates from the last element to the first, checking for the next greater element.\n",
    "   - **Stack Cleanup**: For each element, it removes elements from the stack that are smaller or equal to the current element.\n",
    "   - The current element is then pushed onto the stack.\n",
    "\n",
    "3. **Second Pass (Filling Result)**:\n",
    "   - Another `for` loop iterates from the last element to the first.\n",
    "   - It continues to remove smaller or equal elements from the stack to find the next greater element.\n",
    "   - If no greater element is found, the value is set to `-1`; otherwise, it's set to the top element of the stack.\n",
    "   - The current element is then pushed back onto the stack for further comparisons.\n",
    "\n",
    "4. **Return**:\n",
    "   - The modified `nums` array, where each element is replaced by its next greater element (or `-1` if no such element exists), is returned.\n",
    "\n"
   ]
  },
  {
   "cell_type": "code",
   "execution_count": 10,
   "metadata": {
    "vscode": {
     "languageId": "java"
    }
   },
   "outputs": [],
   "source": [
    "class Solution {\n",
    "    public int[] nextGreaterElements(int[] nums) {\n",
    "        int n = nums.length;\n",
    "        int top = -1;\n",
    "        int[] stack = new int[nums.length];\n",
    "\n",
    "        for (int i = n - 1; i >= 0; i--) {\n",
    "            while (top > -1 && stack[top] <= nums[i]) {\n",
    "                top--;\n",
    "            }\n",
    "\n",
    "            stack[++top] = nums[i];\n",
    "        }\n",
    "\n",
    "        for (int i = n - 1; i >= 0; i--) {\n",
    "            while (top > -1 && stack[top] <= nums[i]) {\n",
    "                top--;\n",
    "            }\n",
    "\n",
    "            int num = nums[i];\n",
    "            if (top == -1) {\n",
    "                nums[i] = -1;\n",
    "            } else {\n",
    "                nums[i] = stack[top];\n",
    "            }\n",
    "            stack[++top] = num;\n",
    "        }\n",
    "\n",
    "        return nums;\n",
    "\n",
    "    }\n",
    "}"
   ]
  },
  {
   "cell_type": "code",
   "execution_count": 12,
   "metadata": {
    "vscode": {
     "languageId": "java"
    }
   },
   "outputs": [
    {
     "name": "stdout",
     "output_type": "stream",
     "text": [
      "[2, 3, 4, -1, 4]\n"
     ]
    }
   ],
   "source": [
    "Solution solution = new Solution();\n",
    "int[] nums = {1, 2, 3, 4, 3};\n",
    "int[] result = solution.nextGreaterElements(nums);\n",
    "System.out.println(Arrays.toString(result));"
   ]
  },
  {
   "cell_type": "code",
   "execution_count": null,
   "metadata": {
    "vscode": {
     "languageId": "java"
    }
   },
   "outputs": [],
   "source": []
  }
 ],
 "metadata": {
  "kernelspec": {
   "display_name": "Java",
   "language": "java",
   "name": "java"
  },
  "language_info": {
   "codemirror_mode": "java",
   "file_extension": ".jshell",
   "mimetype": "text/x-java-source",
   "name": "Java",
   "pygments_lexer": "java",
   "version": "22.0.2+9-70"
  }
 },
 "nbformat": 4,
 "nbformat_minor": 2
}
