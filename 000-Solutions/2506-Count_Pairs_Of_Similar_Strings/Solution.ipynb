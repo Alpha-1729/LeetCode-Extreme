{
 "cells": [
  {
   "cell_type": "code",
   "execution_count": null,
   "metadata": {},
   "outputs": [],
   "source": [
    "// Count Pairs Of Similar Strings\n",
    "\n",
    "/*\n",
    ">>>>\n",
    ">>>>\n",
    ">>>>\n",
    ">>>>\n",
    "*/\n"
   ]
  },
  {
   "cell_type": "markdown",
   "metadata": {},
   "source": [
    "# Approach 1 (Best Solution).\n",
    "- Time Complexity - O(nxm).\n",
    "- Space Complexity - O(n).\n",
    "\n",
    "- We create a unique integer number from the words in the list.\n",
    "    - Words with same characters have same unique number.\n",
    "- Loop through the each word in the list.\n",
    "- Compare the unique number of each word with the words after it.\n",
    "- Update the count for same unique number.\n",
    "- Return the count."
   ]
  },
  {
   "cell_type": "code",
   "execution_count": 26,
   "metadata": {},
   "outputs": [],
   "source": [
    "class Solution {\n",
    "    public int similarPairs(String[] words) {\n",
    "        int count = 0;\n",
    "        int[] masks = new int[words.length];\n",
    "\n",
    "        // Generate the unique number corresponding to each word in the list.\n",
    "        for (int i = 0; i < words.length; i++) {\n",
    "            masks[i] = getMask(words[i]);\n",
    "        }\n",
    "\n",
    "        for (int i = 0; i < words.length; i++) {\n",
    "            for (int j = i + 1; j < words.length; j++) {\n",
    "                if (masks[i] == masks[j]) {\n",
    "                    count++;\n",
    "                }\n",
    "            }\n",
    "        }\n",
    "        return count;        \n",
    "    }\n",
    "\n",
    "    public int getMask(String word)\n",
    "    {\n",
    "        int mask = 0;\n",
    "        for (int i = 0; i < word.length(); i++) {\n",
    "            char ch = word.charAt(i);\n",
    "\n",
    "            // Here we generate a binary number from the unique characters in the string.\n",
    "            // First create a binary number with all zeroes.\n",
    "            // Set the binary 1 in the index position of the character.\n",
    "            // for character 'a', we set the last bit of the binary number to 1.\n",
    "            // for character 'b' we set the second last bit of the binary number to 1.\n",
    "            // Steps used here are: \n",
    "            // Get 0-based index of char.\n",
    "            // Left shift the 1 by that index.\n",
    "            // We use OR to replace the current zero in the binary number with 1.\n",
    "            // Finally we get a unique number based on the unique characters present in the string.\n",
    "            mask |= (1 << (ch - 'a'));\n",
    "        }\n",
    "        return mask;\n",
    "    }\n",
    "}"
   ]
  },
  {
   "cell_type": "code",
   "execution_count": 27,
   "metadata": {},
   "outputs": [
    {
     "name": "stdout",
     "output_type": "stream",
     "text": [
      "2\n"
     ]
    }
   ],
   "source": [
    "Solution solution = new Solution();\n",
    "String[] words = {\"aba\", \"aabb\", \"abcd\", \"bac\", \"aabc\"};\n",
    "int result = solution.similarPairs(words);\n",
    "System.out.println(result);"
   ]
  },
  {
   "cell_type": "code",
   "execution_count": null,
   "metadata": {},
   "outputs": [],
   "source": []
  }
 ],
 "metadata": {
  "kernelspec": {
   "display_name": "Java",
   "language": "java",
   "name": "java"
  },
  "language_info": {
   "codemirror_mode": "java",
   "file_extension": ".jshell",
   "mimetype": "text/x-java-source",
   "name": "Java",
   "pygments_lexer": "java",
   "version": "21.0.3+9-Debian-2"
  }
 },
 "nbformat": 4,
 "nbformat_minor": 4
}
