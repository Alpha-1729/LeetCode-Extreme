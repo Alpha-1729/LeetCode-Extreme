{
 "cells": [
  {
   "cell_type": "code",
   "execution_count": null,
   "metadata": {
    "vscode": {
     "languageId": "java"
    }
   },
   "outputs": [],
   "source": [
    "// Count Pairs Whose Sum Is Less Than Target\n",
    "\n",
    "/*\n",
    ">>>>\n",
    ">>>>\n",
    ">>>>\n",
    ">>>>\n",
    "*/\n"
   ]
  },
  {
   "cell_type": "markdown",
   "metadata": {},
   "source": [
    "# Approach 1 (Best Solution).\n",
    "- Time Complexity - O(n).\n",
    "- Space Complexity - O(n).\n",
    "\n",
    "- Sort the array using an additional array, since constraints are small.\n",
    "- Then compare the elements from the left and right.\n",
    "- Return the count."
   ]
  },
  {
   "cell_type": "code",
   "execution_count": 10,
   "metadata": {
    "vscode": {
     "languageId": "java"
    }
   },
   "outputs": [],
   "source": [
    "class Solution {\n",
    "    public int countPairs(List<Integer> nums, int target) {\n",
    "        int pairCount = 0;\n",
    "        for (int i = 0; i < nums.size() - 1; i++) {\n",
    "            for (int j = i + 1; j < nums.size(); j++) {\n",
    "                if (nums.get(i) + nums.get(j) < target) {\n",
    "                    pairCount++;\n",
    "                }\n",
    "            }\n",
    "        }\n",
    "        return pairCount;\n",
    "    }\n",
    "}"
   ]
  },
  {
   "cell_type": "code",
   "execution_count": 20,
   "metadata": {
    "vscode": {
     "languageId": "java"
    }
   },
   "outputs": [],
   "source": [
    "class Solution {\n",
    "\n",
    "    public int countPairs(List<Integer> nums, int target) {\n",
    "        int[] set = new int[101];\n",
    "        for (int num : nums) {\n",
    "            set[num + 50]++;\n",
    "        }\n",
    "\n",
    "        // Sorting the array.\n",
    "        int index = 0;\n",
    "        for (int i = 0; i < 101; i++) {\n",
    "            if (set[i] > 0) {\n",
    "                nums.set(index++, i - 50);\n",
    "                set[i--]--;\n",
    "            }\n",
    "        }\n",
    "\n",
    "        // Comparing in a sorted array.\n",
    "        int left = 0;\n",
    "        int right = nums.size() - 1;\n",
    "        int count = 0;\n",
    "        while (left < right) {\n",
    "            if (nums.get(left) + nums.get(right) < target) {\n",
    "                count += (right - left);\n",
    "                left++;\n",
    "            } else {\n",
    "                right--;\n",
    "            }\n",
    "        }\n",
    "\n",
    "        return count;\n",
    "    }\n",
    "}\n"
   ]
  },
  {
   "cell_type": "code",
   "execution_count": 21,
   "metadata": {
    "vscode": {
     "languageId": "java"
    }
   },
   "outputs": [
    {
     "name": "stdout",
     "output_type": "stream",
     "text": [
      "4\n"
     ]
    }
   ],
   "source": [
    "Solution solution = new Solution();\n",
    "List<Integer> nums = Arrays.asList(-50, 1, 2, 3, 50);\n",
    "int target = 2;\n",
    "int result = solution.countPairs(nums, target);\n",
    "System.out.println(result);"
   ]
  },
  {
   "cell_type": "code",
   "execution_count": null,
   "metadata": {
    "vscode": {
     "languageId": "java"
    }
   },
   "outputs": [],
   "source": []
  }
 ],
 "metadata": {
  "kernelspec": {
   "display_name": "Java",
   "language": "java",
   "name": "java"
  },
  "language_info": {
   "codemirror_mode": "java",
   "file_extension": ".jshell",
   "mimetype": "text/x-java-source",
   "name": "Java",
   "pygments_lexer": "java",
   "version": "22.0.1+8-16"
  }
 },
 "nbformat": 4,
 "nbformat_minor": 4
}
