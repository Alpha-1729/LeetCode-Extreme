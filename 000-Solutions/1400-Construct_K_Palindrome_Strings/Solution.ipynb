{
 "cells": [
  {
   "cell_type": "code",
   "execution_count": null,
   "metadata": {
    "vscode": {
     "languageId": "java"
    }
   },
   "outputs": [],
   "source": [
    "// Construct K Palindrome Strings\n",
    "\n",
    "/*\n",
    ">>>>\n",
    ">>>>\n",
    ">>>>\n",
    ">>>>\n",
    "*/\n"
   ]
  },
  {
   "cell_type": "markdown",
   "metadata": {},
   "source": [
    "# Approach 1 (Best Solution).\n",
    "- Time Complexity - O(n).\n",
    "- Space Complexity - O(1).\n",
    "\n",
    "- **Initial Checks**:\n",
    "  - The length of the string `s` is stored in `n`.\n",
    "  - If `n < k`, it's impossible to form `k` palindromes (since you don't have enough characters), so the method returns `false`.\n",
    "  - If `n == k` or `k >= 26`, it returns `true`. This means:\n",
    "    - If `n == k`, each character could potentially be its own palindrome.\n",
    "    - If `k >= 26`, you can always form palindromes (since there are only 26 letters in the English alphabet).\n",
    "\n",
    "- **Character Frequency Analysis**:\n",
    "  - A boolean array `set` of size 26 is used to track the occurrence of each character (from 'a' to 'z').\n",
    "  - The line `set[s.charAt(i) - 'a'] ^= true;` flips the value in `set` for each character, effectively counting whether the character occurs an odd or even number of times.\n",
    "\n",
    "- **Counting Odd Frequency Characters**:\n",
    "  - The code then counts how many characters have an odd frequency (`oneCount`).\n",
    "  - If the number of characters with odd frequency (`oneCount`) is less than or equal to `k`, then it's possible to create `k` palindrome strings.\n",
    "\n",
    "- **Final Return**:\n",
    "  - The method returns `true` if the number of odd frequency characters is less than or equal to `k`, otherwise it returns `false`.\n",
    "\n"
   ]
  },
  {
   "cell_type": "code",
   "execution_count": 1,
   "metadata": {
    "vscode": {
     "languageId": "java"
    }
   },
   "outputs": [],
   "source": [
    "class Solution {\n",
    "    public boolean canConstruct(String s, int k) {\n",
    "        int n = s.length();\n",
    "\n",
    "        if (n < k) {\n",
    "            return false;\n",
    "        } else if (n == k || k >=26) {\n",
    "            return true;\n",
    "        }\n",
    "\n",
    "        boolean[] set = new boolean[26];\n",
    "        for (int i = 0; i < s.length(); i++) {\n",
    "            char ch = s.charAt(i);\n",
    "            set[ch - 'a'] = !set[ch - 'a'];\n",
    "        }\n",
    "\n",
    "        int oneCount = 0;\n",
    "        for (int i = 0; i < 26; i++) {\n",
    "            if (set[i]) {\n",
    "                oneCount++;\n",
    "            }\n",
    "\n",
    "            if (oddCount > k) {\n",
    "                return false;\n",
    "            }\n",
    "        }\n",
    "\n",
    "        return true;\n",
    "    }\n",
    "}"
   ]
  },
  {
   "cell_type": "code",
   "execution_count": 4,
   "metadata": {
    "vscode": {
     "languageId": "java"
    }
   },
   "outputs": [
    {
     "name": "stdout",
     "output_type": "stream",
     "text": [
      "false\n"
     ]
    }
   ],
   "source": [
    "Solution solution = new Solution();\n",
    "String s = \"leetcode\";\n",
    "int k = 2;\n",
    "boolean result = solution.canConstruct(s, k);\n",
    "System.out.println(result);"
   ]
  },
  {
   "cell_type": "code",
   "execution_count": null,
   "metadata": {
    "vscode": {
     "languageId": "java"
    }
   },
   "outputs": [],
   "source": []
  },
  {
   "cell_type": "code",
   "execution_count": null,
   "metadata": {
    "vscode": {
     "languageId": "java"
    }
   },
   "outputs": [],
   "source": []
  }
 ],
 "metadata": {
  "kernelspec": {
   "display_name": "Java",
   "language": "java",
   "name": "java"
  },
  "language_info": {
   "codemirror_mode": "java",
   "file_extension": ".jshell",
   "mimetype": "text/x-java-source",
   "name": "Java",
   "pygments_lexer": "java",
   "version": "22.0.2+9-70"
  }
 },
 "nbformat": 4,
 "nbformat_minor": 2
}
