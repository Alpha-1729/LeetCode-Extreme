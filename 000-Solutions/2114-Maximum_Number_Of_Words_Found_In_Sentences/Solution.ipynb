{
 "cells": [
  {
   "cell_type": "code",
   "execution_count": null,
   "metadata": {
    "vscode": {
     "languageId": "java"
    }
   },
   "outputs": [],
   "source": [
    "// Maximum Number Of Words Found In Sentences\n",
    "\n",
    "/*\n",
    ">>>>\n",
    ">>>>\n",
    ">>>>\n",
    ">>>>\n",
    "*/\n"
   ]
  },
  {
   "cell_type": "markdown",
   "metadata": {},
   "source": [
    "# Approach 1 (Best Solution).\n",
    "- Time Complexity - O(n.m).\n",
    "- Space Complexity - O(1).\n",
    "\n",
    "- Add a function to get the count of word.\n",
    "- Update the maxWordCount."
   ]
  },
  {
   "cell_type": "code",
   "execution_count": null,
   "metadata": {
    "vscode": {
     "languageId": "java"
    }
   },
   "outputs": [],
   "source": [
    "class Solution {\n",
    "    public int mostWordsFound(String[] sentences) {\n",
    "        int maxWordCount = 0;\n",
    "        for (int i = 0; i < sentences.length; i++) {\n",
    "            int wordCount = getWordCount(sentences[i]);\n",
    "            if (wordCount > maxWordCount) {\n",
    "                maxWordCount = wordCount;\n",
    "            }\n",
    "        }\n",
    "\n",
    "        return maxWordCount;\n",
    "    }\n",
    "\n",
    "    public int getWordCount(String s) {\n",
    "        int words = 1;\n",
    "        for (int i = 0; i < s.length(); i++) {\n",
    "            if (s.charAt(i) == ' ') {\n",
    "                words++;\n",
    "            }\n",
    "        }\n",
    "        return words;\n",
    "    }\n",
    "}"
   ]
  },
  {
   "cell_type": "code",
   "execution_count": null,
   "metadata": {
    "vscode": {
     "languageId": "java"
    }
   },
   "outputs": [],
   "source": [
    "Solution solution = new Solution();\n",
    "String[] sentences = {\"alice and bob love leetcode\", \"i think so too\", \"this is great thanks very much\"};\n",
    "int result = solution.mostWordsFound(sentences);\n",
    "System.out.println(result);"
   ]
  },
  {
   "cell_type": "code",
   "execution_count": null,
   "metadata": {
    "vscode": {
     "languageId": "java"
    }
   },
   "outputs": [],
   "source": []
  }
 ],
 "metadata": {
  "kernelspec": {
   "display_name": "Java",
   "language": "java",
   "name": "java"
  },
  "language_info": {
   "codemirror_mode": "java",
   "file_extension": ".jshell",
   "mimetype": "text/x-java-source",
   "name": "Java",
   "pygments_lexer": "java",
   "version": "22.0.2+9-70"
  }
 },
 "nbformat": 4,
 "nbformat_minor": 4
}
