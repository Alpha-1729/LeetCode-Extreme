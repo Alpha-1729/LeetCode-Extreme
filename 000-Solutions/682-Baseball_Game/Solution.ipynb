{
 "cells": [
  {
   "cell_type": "code",
   "execution_count": null,
   "metadata": {
    "vscode": {
     "languageId": "java"
    }
   },
   "outputs": [],
   "source": [
    "// Baseball Game\n",
    "\n",
    "/*\n",
    ">>>>\n",
    ">>>>\n",
    ">>>>\n",
    ">>>>\n",
    "*/\n"
   ]
  },
  {
   "cell_type": "markdown",
   "metadata": {},
   "source": [
    "# Approach 1 (Best Solution).\n",
    "- Time Complexity - O(n).\n",
    "- Space Complexity - O(1).\n",
    "\n",
    "- Create and array to store the scores.\n",
    "- Implement the conditions mentioned in the question.\n",
    "- Return the sum variable.\n"
   ]
  },
  {
   "cell_type": "code",
   "execution_count": null,
   "metadata": {
    "vscode": {
     "languageId": "java"
    }
   },
   "outputs": [],
   "source": [
    "class Solution {\n",
    "\n",
    "  public int calPoints(String[] operations) {\n",
    "    int pos = -1;\n",
    "    int sum = 0;\n",
    "    int[] arr = new int[operations.length];\n",
    "    \n",
    "    for (String op : operations) {\n",
    "      switch (op) {\n",
    "        case \"C\":\n",
    "          sum -= arr[pos];\n",
    "          pos--;\n",
    "          break;\n",
    "        case \"D\":\n",
    "          pos++;\n",
    "          arr[pos] = 2 * (arr[pos - 1]);\n",
    "          sum += arr[pos];\n",
    "          break;\n",
    "        case \"+\":\n",
    "          pos++;\n",
    "          arr[pos] = arr[pos - 1] + arr[pos - 2];\n",
    "          sum += arr[pos];\n",
    "          break;\n",
    "        default:\n",
    "          int value = Integer.parseInt(op);\n",
    "          pos++;\n",
    "          arr[pos] = value;\n",
    "          sum += value;\n",
    "      }\n",
    "    }\n",
    "    return sum;\n",
    "  }\n",
    "}\n"
   ]
  },
  {
   "cell_type": "code",
   "execution_count": null,
   "metadata": {
    "vscode": {
     "languageId": "java"
    }
   },
   "outputs": [],
   "source": [
    "Solution s = new Solution();\n",
    "\n",
    "String[] ops = {\"5\", \"2\", \"C\", \"D\", \"+\"};\n",
    "int result = s.calPoints(ops);\n",
    "System.out.println(result);"
   ]
  },
  {
   "cell_type": "code",
   "execution_count": null,
   "metadata": {
    "vscode": {
     "languageId": "java"
    }
   },
   "outputs": [],
   "source": []
  }
 ],
 "metadata": {
  "kernelspec": {
   "display_name": "Java",
   "language": "java",
   "name": "java"
  },
  "language_info": {
   "codemirror_mode": "java",
   "file_extension": ".jshell",
   "mimetype": "text/x-java-source",
   "name": "Java",
   "pygments_lexer": "java",
   "version": "22.0.1+8-16"
  }
 },
 "nbformat": 4,
 "nbformat_minor": 2
}
