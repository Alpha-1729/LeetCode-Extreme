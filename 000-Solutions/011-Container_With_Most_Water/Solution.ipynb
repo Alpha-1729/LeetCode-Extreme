{
 "cells": [
  {
   "cell_type": "code",
   "execution_count": null,
   "metadata": {
    "vscode": {
     "languageId": "java"
    }
   },
   "outputs": [],
   "source": [
    "// Container With Most Water\n",
    "\n",
    "/*\n",
    ">>>>\n",
    ">>>>\n",
    ">>>>\n",
    ">>>>\n",
    "*/\n"
   ]
  },
  {
   "cell_type": "markdown",
   "metadata": {},
   "source": [
    "# Approach 1 (Best Solution).\n",
    "- Time Complexity - O(n).\n",
    "- Space Complexity - O(1).\n",
    "\n",
    "1. **Initialization**:\n",
    "   - `left` is set to the start of the array (`0`).\n",
    "   - `right` is set to the end of the array (`height.length - 1`).\n",
    "   - `maxArea` is initialized to `0` to keep track of the maximum area found.\n",
    "\n",
    "2. **While Loop**:\n",
    "   - The loop continues as long as `left` is less than `right`.\n",
    "\n",
    "3. **Calculate the Area**:\n",
    "   - Determine the minimum height between the `left` and `right` pointers.\n",
    "   - Compute the area with the current `left` and `right` pointers: `(right - left) * min`.\n",
    "   - Update `maxArea` if the newly computed area is greater than the current `maxArea`.\n",
    "\n",
    "4. **Move Pointers**:\n",
    "   - Move the `right` pointer to the left if the height at `right` is less than or equal to the current minimum height.\n",
    "   - Move the `left` pointer to the right if the height at `left` is less than or equal to the current minimum height.\n",
    "\n",
    "5. **Return Result**:\n",
    "   - After the loop ends, return `maxArea`, which holds the maximum area found."
   ]
  },
  {
   "cell_type": "code",
   "execution_count": 3,
   "metadata": {
    "vscode": {
     "languageId": "java"
    }
   },
   "outputs": [],
   "source": [
    "class Solution {\n",
    "    public int maxArea(int[] height) {\n",
    "        int left = 0;\n",
    "        int right = height.length - 1;\n",
    "        int maxArea = 0;\n",
    "        while (left < right) {\n",
    "            int min = Math.min(height[left], height[right]);\n",
    "            int area = (right - left) * min;\n",
    "            maxArea = Math.max(maxArea, area);\n",
    "\n",
    "            while (left < right && height[right] <= min) {\n",
    "                right--;\n",
    "            }\n",
    "\n",
    "            while (left < right && height[left] <= min) {\n",
    "                left++;\n",
    "            }\n",
    "\n",
    "        }\n",
    "        return maxArea;\n",
    "    }\n",
    "}"
   ]
  },
  {
   "cell_type": "code",
   "execution_count": 4,
   "metadata": {
    "vscode": {
     "languageId": "java"
    }
   },
   "outputs": [
    {
     "name": "stdout",
     "output_type": "stream",
     "text": [
      "49\n"
     ]
    }
   ],
   "source": [
    "Solution solution = new Solution();\n",
    "int[] height = {1, 8, 6, 2, 5, 4, 8, 3, 7};\n",
    "int result = solution.maxArea(height);\n",
    "System.out.println(result);"
   ]
  },
  {
   "cell_type": "code",
   "execution_count": null,
   "metadata": {
    "vscode": {
     "languageId": "java"
    }
   },
   "outputs": [],
   "source": []
  },
  {
   "cell_type": "code",
   "execution_count": null,
   "metadata": {
    "vscode": {
     "languageId": "java"
    }
   },
   "outputs": [],
   "source": []
  }
 ],
 "metadata": {
  "kernelspec": {
   "display_name": "Java",
   "language": "java",
   "name": "java"
  },
  "language_info": {
   "codemirror_mode": "java",
   "file_extension": ".jshell",
   "mimetype": "text/x-java-source",
   "name": "Java",
   "pygments_lexer": "java",
   "version": "22.0.2+9-70"
  }
 },
 "nbformat": 4,
 "nbformat_minor": 2
}
