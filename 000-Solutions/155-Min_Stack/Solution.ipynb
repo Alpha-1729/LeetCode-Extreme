{
 "cells": [
  {
   "cell_type": "code",
   "execution_count": null,
   "metadata": {
    "vscode": {
     "languageId": "java"
    }
   },
   "outputs": [],
   "source": [
    "// Min Stack\n",
    "\n",
    "/*\n",
    ">>>>\n",
    ">>>>\n",
    ">>>>\n",
    ">>>>\n",
    "*/\n"
   ]
  },
  {
   "cell_type": "markdown",
   "metadata": {},
   "source": [
    "# Approach 1 (Best Solution).\n",
    "- Time Complexity - O(1).\n",
    "- Space Complexity - O(1).\n",
    "\n",
    "1. **Node Class**:\n",
    "   - The `Node` class represents each element in the stack. Each node holds:\n",
    "     - `value`: The value of the element.\n",
    "     - `min`: The minimum value in the stack at the time this element was added.\n",
    "     - `next`: A reference to the next node in the stack.\n",
    "\n",
    "2. **MinStack Class**:\n",
    "   - The `MinStack` class contains the stack structure, represented by a linked list of `Node` objects.\n",
    "   - The `head` node represents the top of the stack.\n",
    "\n",
    "3. **Push Operation**:\n",
    "   - When `push(val)` is called, a new `Node` is added to the top of the stack.\n",
    "   - If the stack is empty (`head == null`), the new node becomes the `head` and its `min` value is set to `val`.\n",
    "   - If the stack is not empty, the new node becomes the new `head`, and its `min` value is the smaller of the current `val` and the previous minimum (`head.min`).\n",
    "\n",
    "4. **Pop Operation**:\n",
    "   - When `pop()` is called, the top element (i.e., the current `head`) is removed by updating the `head` to point to the next node.\n",
    "\n",
    "5. **Top Operation**:\n",
    "   - The `top()` method returns the value of the current top element (i.e., `head.value`).\n",
    "\n",
    "6. **Get Minimum Operation**:\n",
    "   - The `getMin()` method returns the minimum value stored in the stack (i.e., `head.min`), which is tracked in each node.\n"
   ]
  },
  {
   "cell_type": "code",
   "execution_count": 1,
   "metadata": {
    "vscode": {
     "languageId": "java"
    }
   },
   "outputs": [],
   "source": [
    "class MinStack {\n",
    "    private class Node {\n",
    "        int value;\n",
    "        int min;\n",
    "        Node next;\n",
    "\n",
    "        private Node(int value, int min, Node next) {\n",
    "            this.value = value;\n",
    "            this.min = min;\n",
    "            this.next = next;\n",
    "        }\n",
    "    }\n",
    "\n",
    "    private Node head;\n",
    "\n",
    "    public MinStack() {\n",
    "    }\n",
    "\n",
    "    public void push(int val) {\n",
    "        if (head == null) {\n",
    "            head = new Node(val, val, null);\n",
    "        } else {\n",
    "            head = new Node(val, Math.min(head.min, val), head);\n",
    "        }\n",
    "    }\n",
    "\n",
    "    public void pop() {\n",
    "        head = head.next;\n",
    "    }\n",
    "\n",
    "    public int top() {\n",
    "        return head.value;\n",
    "    }\n",
    "\n",
    "    public int getMin() {\n",
    "        return head.min;\n",
    "    }\n",
    "}\n",
    "\n",
    "/**\n",
    " * Your MinStack object will be instantiated and called as such:\n",
    " * MinStack obj = new MinStack();\n",
    " * obj.push(val);\n",
    " * obj.pop();\n",
    " * int param_3 = obj.top();\n",
    " * int param_4 = obj.getMin();\n",
    " */"
   ]
  },
  {
   "cell_type": "code",
   "execution_count": 6,
   "metadata": {
    "vscode": {
     "languageId": "java"
    }
   },
   "outputs": [
    {
     "name": "stdout",
     "output_type": "stream",
     "text": [
      "-3\n",
      "-2\n"
     ]
    }
   ],
   "source": [
    "MinStack minStack = new MinStack();\n",
    "minStack.push(-2);\n",
    "minStack.push(0);\n",
    "minStack.push(-3);\n",
    "System.out.println(minStack.getMin());\n",
    "minStack.pop();\n",
    "minStack.top(); \n",
    "System.out.println(minStack.getMin());"
   ]
  },
  {
   "cell_type": "code",
   "execution_count": null,
   "metadata": {
    "vscode": {
     "languageId": "java"
    }
   },
   "outputs": [],
   "source": []
  }
 ],
 "metadata": {
  "kernelspec": {
   "display_name": "Java",
   "language": "java",
   "name": "java"
  },
  "language_info": {
   "codemirror_mode": "java",
   "file_extension": ".jshell",
   "mimetype": "text/x-java-source",
   "name": "Java",
   "pygments_lexer": "java",
   "version": "22.0.2+9-70"
  }
 },
 "nbformat": 4,
 "nbformat_minor": 2
}
