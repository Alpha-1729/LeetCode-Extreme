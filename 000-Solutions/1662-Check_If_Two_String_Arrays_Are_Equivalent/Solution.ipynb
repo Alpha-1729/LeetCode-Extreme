{
 "cells": [
  {
   "cell_type": "code",
   "execution_count": null,
   "metadata": {
    "vscode": {
     "languageId": "java"
    }
   },
   "outputs": [],
   "source": [
    "// Check If Two String Arrays Are Equivalent\n",
    "\n",
    "/*\n",
    ">>>>\n",
    ">>>>\n",
    ">>>>\n",
    ">>>>\n",
    "*/\n"
   ]
  },
  {
   "cell_type": "markdown",
   "metadata": {},
   "source": [
    "# Approach 1 (Best Solution).\n",
    "- Time Complexity - O(n).\n",
    "- Space Complexity - O(1).\n",
    "\n",
    "- **Variables**:\n",
    "  - `int w1 = 0, w2 = 0;`: These variables are used to keep track of the current string being processed in `word1` and `word2`, respectively.\n",
    "  - `int i = 0, j = 0;`: These variables are used to keep track of the current character index within the strings `word1[w1]` and `word2[w2]`, respectively.\n",
    "\n",
    "- **While Loop**:\n",
    "  - `while (w1 < word1.length && w2 < word2.length)`: This loop runs as long as there are strings left to compare in both arrays.\n",
    "  - Inside the loop:\n",
    "    - The characters at the current positions (`word1[w1].charAt(i)` and `word2[w2].charAt(j)`) are compared. If they differ, the method returns `false`, indicating that the arrays do not represent the same string.\n",
    "    - Both character indices `i` and `j` are incremented to move to the next character.\n",
    "    - If the end of a string in either array is reached (`i == word1[w1].length()` or `j == word2[w2].length()`), the corresponding string index (`w1` or `w2`) is incremented, and the character index (`i` or `j`) is reset to `0`.\n",
    "\n",
    "- **Final Check**:\n",
    "  - After the loop, the method checks if both `w1` and `w2` have reached the end of their respective arrays. If not, the method returns `false`.\n",
    "  - If the loop completes and both arrays have been fully traversed with matching characters, the method returns `true`, indicating that the concatenated strings are equal.\n"
   ]
  },
  {
   "cell_type": "code",
   "execution_count": 1,
   "metadata": {
    "vscode": {
     "languageId": "java"
    }
   },
   "outputs": [],
   "source": [
    "class Solution {\n",
    "    public boolean arrayStringsAreEqual(String[] word1, String[] word2) {\n",
    "        int w1 = 0, w2 = 0;\n",
    "        int i = 0, j = 0;\n",
    "\n",
    "        while (w1 < word1.length && w2 < word2.length) {\n",
    "            if (word1[w1].charAt(i) != word2[w2].charAt(j)) {\n",
    "                return false;\n",
    "            }\n",
    "\n",
    "            i++;\n",
    "            j++;\n",
    "\n",
    "            if (i == word1[w1].length()) {\n",
    "                w1++;\n",
    "                i = 0;\n",
    "            }\n",
    "            if (j == word2[w2].length()) {\n",
    "                w2++;\n",
    "                j = 0;\n",
    "            }\n",
    "        }\n",
    "        if ((w1 != word1.length) || (w2 != word2.length)) {\n",
    "            return false;\n",
    "        }\n",
    "\n",
    "        return true;\n",
    "    }\n",
    "}"
   ]
  },
  {
   "cell_type": "code",
   "execution_count": 3,
   "metadata": {
    "vscode": {
     "languageId": "java"
    }
   },
   "outputs": [
    {
     "name": "stdout",
     "output_type": "stream",
     "text": [
      "true\n"
     ]
    }
   ],
   "source": [
    "Solution solution = new Solution();\n",
    "String[] word1 = {\"ab\", \"c\"};\n",
    "String[] word2 = {\"a\", \"bc\"};\n",
    "boolean result = solution.arrayStringsAreEqual(word1, word2);\n",
    "System.out.println(result);"
   ]
  },
  {
   "cell_type": "code",
   "execution_count": null,
   "metadata": {
    "vscode": {
     "languageId": "java"
    }
   },
   "outputs": [],
   "source": []
  }
 ],
 "metadata": {
  "kernelspec": {
   "display_name": "Java",
   "language": "java",
   "name": "java"
  },
  "language_info": {
   "codemirror_mode": "java",
   "file_extension": ".jshell",
   "mimetype": "text/x-java-source",
   "name": "Java",
   "pygments_lexer": "java",
   "version": "22.0.2+9-70"
  }
 },
 "nbformat": 4,
 "nbformat_minor": 2
}
