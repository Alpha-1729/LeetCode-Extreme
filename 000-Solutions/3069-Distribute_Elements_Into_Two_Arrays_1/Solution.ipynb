{
 "cells": [
  {
   "cell_type": "code",
   "execution_count": null,
   "metadata": {},
   "outputs": [],
   "source": [
    "// Distribute Elements Into Two Arrays 1\n",
    "\n",
    "/*\n",
    ">>>>\n",
    ">>>>\n",
    ">>>>\n",
    ">>>>\n",
    "*/\n"
   ]
  },
  {
   "cell_type": "markdown",
   "metadata": {},
   "source": [
    "# Approach 1 (Best Solution with time complexity).\n",
    "- Time Complexity - O(n).\n",
    "- Space Complexity - O(n).\n",
    "\n",
    "- We create a new array to store the numbers in the second array.\n",
    "- Then we iterate through the elements in the nums array.\n",
    "  - Add element of the first array to start of the nums and other elements to second array.\n",
    "- Finally we append the second array to the end of the first array in the nums array.\n",
    "- Return the nums array."
   ]
  },
  {
   "cell_type": "code",
   "execution_count": null,
   "metadata": {},
   "outputs": [],
   "source": [
    "class Solution {\n",
    "\n",
    "    public int[] resultArray(int[] nums) {\n",
    "        int[] arrTwo = new int[nums.length];\n",
    "        arrTwo[0] = nums[1];\n",
    "        int firstIndex = 0;\n",
    "        int secondIndex = 0;\n",
    "        for (int i = 2; i < nums.length; i++) {\n",
    "            if (nums[firstIndex] > arrTwo[secondIndex]) {\n",
    "                nums[++firstIndex] = nums[i];\n",
    "            } else {\n",
    "                arrTwo[++secondIndex] = nums[i];\n",
    "            }\n",
    "        }\n",
    "\n",
    "        for (int i = 0; i <= secondIndex; i++) {\n",
    "            nums[++firstIndex] = arrTwo[i];\n",
    "        }\n",
    "        return nums;\n",
    "    }\n",
    "}\n"
   ]
  },
  {
   "cell_type": "markdown",
   "metadata": {},
   "source": [
    "# Approach 2 (Best Solution with space complexity).\n",
    "- Time Complexity - O(n^2).\n",
    "- Space Complexity - O(1).\n",
    "\n",
    "- Loop through the array and shift the array to right if we had to add a number in the first part.\n",
    "- Return the nums array."
   ]
  },
  {
   "cell_type": "code",
   "execution_count": null,
   "metadata": {},
   "outputs": [],
   "source": [
    "class Solution {\n",
    "\n",
    "    public int[] resultArray(int[] nums) {\n",
    "      int firstIndex = 0;\n",
    "      int secondIndex = 1;\n",
    "      for (int i = 2; i < nums.length; i++) {\n",
    "        if (nums[firstIndex] > nums[secondIndex]) {\n",
    "          appendElementToFirstPart(nums, firstIndex + 1, i);\n",
    "          firstIndex++;\n",
    "        }\n",
    "        secondIndex++;\n",
    "      }\n",
    "      return nums;\n",
    "    }\n",
    "  \n",
    "    public void appendElementToFirstPart(\n",
    "      int[] nums,\n",
    "      int firstIndex,\n",
    "      int currentIndex\n",
    "    ) {\n",
    "      int currentValue = nums[currentIndex];\n",
    "      for (int i = currentIndex; i >= firstIndex + 1; i--) {\n",
    "        nums[i] = nums[i - 1];\n",
    "      }\n",
    "      nums[firstIndex] = currentValue;\n",
    "    }\n",
    "  }\n",
    "  "
   ]
  },
  {
   "cell_type": "code",
   "execution_count": null,
   "metadata": {},
   "outputs": [],
   "source": [
    "Solution solution = new Solution();\n",
    "int[] nums = {5, 4, 3, 8};\n",
    "int[] result = solution.resultArray(nums);\n",
    "System.out.println(Arrays.toString(result));"
   ]
  }
 ],
 "metadata": {
  "kernelspec": {
   "display_name": "Java",
   "language": "java",
   "name": "java"
  },
  "language_info": {
   "codemirror_mode": "java",
   "file_extension": ".jshell",
   "mimetype": "text/x-java-source",
   "name": "java",
   "pygments_lexer": "java",
   "version": "21.0.2+13-LTS-58"
  }
 },
 "nbformat": 4,
 "nbformat_minor": 2
}
