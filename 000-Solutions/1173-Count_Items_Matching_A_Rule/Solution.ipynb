{
 "cells": [
  {
   "cell_type": "code",
   "execution_count": null,
   "metadata": {
    "vscode": {
     "languageId": "java"
    }
   },
   "outputs": [],
   "source": [
    "// Count Items Matching A Rule\n",
    "\n",
    "/*\n",
    ">>>>\n",
    ">>>>\n",
    ">>>>\n",
    ">>>>\n",
    "*/\n"
   ]
  },
  {
   "cell_type": "markdown",
   "metadata": {},
   "source": [
    "# Approach 1 (Best Solution).\n",
    "- Time Complexity - O(n).\n",
    "- Space Complexity - O(1).\n",
    "\n",
    "- Find the position of the rule key.\n",
    "- Compare the value in the all the value in the list at that position.\n",
    "- Update the count on matching element.\n",
    "- Return the count."
   ]
  },
  {
   "cell_type": "code",
   "execution_count": 1,
   "metadata": {
    "vscode": {
     "languageId": "java"
    }
   },
   "outputs": [],
   "source": [
    "class Solution {\n",
    "    public int countMatches(List<List<String>> items, String ruleKey, String ruleValue) {\n",
    "        int count = 0;\n",
    "        int pos = ruleKey.equals(\"type\") ? 0 : ruleKey.equals(\"color\") ? 1 : 2;\n",
    "        for (int i = 0; i < items.size(); i++) {\n",
    "            if (items.get(i).get(pos).equals(ruleValue)) {\n",
    "                count++;\n",
    "            }\n",
    "        }\n",
    "        return count;\n",
    "    }\n",
    "}"
   ]
  },
  {
   "cell_type": "code",
   "execution_count": 2,
   "metadata": {
    "vscode": {
     "languageId": "java"
    }
   },
   "outputs": [
    {
     "name": "stdout",
     "output_type": "stream",
     "text": [
      "1\n"
     ]
    }
   ],
   "source": [
    "Solution solution = new Solution();\n",
    "List<List<String>> items = new ArrayList<>();\n",
    "items.add(Arrays.asList(\"phone\", \"blue\", \"pixel\"));\n",
    "items.add(Arrays.asList(\"computer\", \"silver\", \"lenovo\"));\n",
    "items.add(Arrays.asList(\"phone\", \"gold\", \"iphone\"));\n",
    "String ruleKey = \"color\";\n",
    "String ruleValue = \"silver\";\n",
    "int result = solution.countMatches(items, ruleKey, ruleValue);\n",
    "System.out.println(result);"
   ]
  },
  {
   "cell_type": "code",
   "execution_count": null,
   "metadata": {
    "vscode": {
     "languageId": "java"
    }
   },
   "outputs": [],
   "source": []
  }
 ],
 "metadata": {
  "kernelspec": {
   "display_name": "Java",
   "language": "java",
   "name": "java"
  },
  "language_info": {
   "codemirror_mode": "java",
   "file_extension": ".jshell",
   "mimetype": "text/x-java-source",
   "name": "Java",
   "pygments_lexer": "java",
   "version": "22.0.1+8-16"
  }
 },
 "nbformat": 4,
 "nbformat_minor": 2
}
