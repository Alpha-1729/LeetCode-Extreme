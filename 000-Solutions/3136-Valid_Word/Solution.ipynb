{
 "cells": [
  {
   "cell_type": "code",
   "execution_count": null,
   "metadata": {
    "vscode": {
     "languageId": "java"
    }
   },
   "outputs": [],
   "source": [
    "// Valid Word\n",
    "\n",
    "/*\n",
    ">>>>\n",
    ">>>>\n",
    ">>>>\n",
    ">>>>\n",
    "*/\n"
   ]
  },
  {
   "cell_type": "markdown",
   "metadata": {},
   "source": [
    "# Approach 1 (Best Solution).\n",
    "- Time Complexity - O(n).\n",
    "- Space Complexity - O(1).\n",
    "\n",
    "- Same as described in question."
   ]
  },
  {
   "cell_type": "code",
   "execution_count": null,
   "metadata": {
    "vscode": {
     "languageId": "java"
    }
   },
   "outputs": [],
   "source": [
    "class Solution {\n",
    "\n",
    "  public boolean isValid(String word) {\n",
    "    if (word.length() < 3) {\n",
    "      return false;\n",
    "    }\n",
    "\n",
    "    word = word.toLowerCase();\n",
    "\n",
    "    boolean hasVowel = false;\n",
    "    boolean hasConsonant = false;\n",
    "\n",
    "    for (int i = 0; i < word.length(); i++) {\n",
    "      char ch = word.charAt(i);\n",
    "\n",
    "      // Check for digits.\n",
    "      if (ch >= '0' && ch <= '9') {\n",
    "        continue;\n",
    "      }\n",
    "      // Check for the alphabets.\n",
    "      else if (ch >= 'a' && ch <= 'z') {\n",
    "        if (hasVowel && hasConsonant) {\n",
    "          continue;\n",
    "        } else if (\n",
    "          ch == 'a' || ch == 'e' || ch == 'i' || ch == 'o' || ch == 'u'\n",
    "        ) {\n",
    "          hasVowel = true;\n",
    "        } else {\n",
    "          hasConsonant = true;\n",
    "        }\n",
    "      } else {\n",
    "        return false;\n",
    "      }\n",
    "    }\n",
    "\n",
    "    return (hasVowel && hasConsonant);\n",
    "  }\n",
    "}\n"
   ]
  },
  {
   "cell_type": "code",
   "execution_count": null,
   "metadata": {
    "vscode": {
     "languageId": "java"
    }
   },
   "outputs": [],
   "source": [
    "Solution s = new Solution();\n",
    "String word = \"234Adas\";\n",
    "boolean result = s.isValid(word);\n",
    "System.out.println(result);"
   ]
  },
  {
   "cell_type": "code",
   "execution_count": null,
   "metadata": {
    "vscode": {
     "languageId": "java"
    }
   },
   "outputs": [],
   "source": []
  }
 ],
 "metadata": {
  "kernelspec": {
   "display_name": "Java",
   "language": "java",
   "name": "java"
  },
  "language_info": {
   "codemirror_mode": "java",
   "file_extension": ".jshell",
   "mimetype": "text/x-java-source",
   "name": "Java",
   "pygments_lexer": "java",
   "version": "22.0.1+8-16"
  }
 },
 "nbformat": 4,
 "nbformat_minor": 2
}
