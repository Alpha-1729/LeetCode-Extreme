{
 "cells": [
  {
   "cell_type": "code",
   "execution_count": null,
   "metadata": {
    "vscode": {
     "languageId": "java"
    }
   },
   "outputs": [],
   "source": [
    "// Transpose Matrix\n",
    "\n",
    "/*\n",
    ">>>>\n",
    ">>>>\n",
    ">>>>\n",
    ">>>>\n",
    "*/\n"
   ]
  },
  {
   "cell_type": "markdown",
   "metadata": {},
   "source": [
    "# Approach 1 (Best Solution).\n",
    "- Time Complexity - O(mxn).\n",
    "- Space Complexity - O(mxn).\n",
    "\n",
    "- Create a 2D array.\n",
    "- Store the inverse of the elements in the matrix.\n"
   ]
  },
  {
   "cell_type": "code",
   "execution_count": 1,
   "metadata": {
    "vscode": {
     "languageId": "java"
    }
   },
   "outputs": [],
   "source": [
    "class Solution {\n",
    "\n",
    "  public int[][] transpose(int[][] matrix) {\n",
    "    int m = matrix.length;\n",
    "    int n = matrix[0].length;\n",
    "\n",
    "    int[][] result = new int[n][m];\n",
    "\n",
    "    for (int i = 0; i < m; i++) {\n",
    "      for (int j = 0; j < n; j++) {\n",
    "        result[j][i] = matrix[i][j];\n",
    "      }\n",
    "    }\n",
    "\n",
    "    return result;\n",
    "  }\n",
    "}\n"
   ]
  },
  {
   "cell_type": "code",
   "execution_count": 5,
   "metadata": {
    "vscode": {
     "languageId": "java"
    }
   },
   "outputs": [
    {
     "name": "stdout",
     "output_type": "stream",
     "text": [
      "[1, 4, 7]\n",
      "[2, 5, 8]\n",
      "[3, 6, 9]\n"
     ]
    }
   ],
   "source": [
    "Solution s = new Solution();\n",
    "int[][] matrix = {{1, 2, 3}, {4, 5, 6}, {7, 8, 9}};\n",
    "int[][] result = s.transpose(matrix);\n",
    "for (int[] rows : result)\n",
    "{\n",
    "\tSystem.out.println(Arrays.toString(rows));\n",
    "}"
   ]
  },
  {
   "cell_type": "code",
   "execution_count": null,
   "metadata": {
    "vscode": {
     "languageId": "java"
    }
   },
   "outputs": [],
   "source": []
  }
 ],
 "metadata": {
  "kernelspec": {
   "display_name": "Java",
   "language": "java",
   "name": "java"
  },
  "language_info": {
   "codemirror_mode": "java",
   "file_extension": ".jshell",
   "mimetype": "text/x-java-source",
   "name": "Java",
   "pygments_lexer": "java",
   "version": "22.0.1+8-16"
  }
 },
 "nbformat": 4,
 "nbformat_minor": 2
}
