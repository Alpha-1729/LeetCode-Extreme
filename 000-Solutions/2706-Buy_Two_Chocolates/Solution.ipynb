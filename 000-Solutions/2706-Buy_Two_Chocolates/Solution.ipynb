{
 "cells": [
  {
   "cell_type": "code",
   "execution_count": null,
   "metadata": {
    "vscode": {
     "languageId": "java"
    }
   },
   "outputs": [],
   "source": [
    "// Buy Two Chocolates\n",
    "\n",
    "/*\n",
    ">>>>\n",
    ">>>>\n",
    ">>>>\n",
    ">>>>\n",
    "*/\n"
   ]
  },
  {
   "cell_type": "markdown",
   "metadata": {},
   "source": [
    "# Approach 1 (Best Solution).\n",
    "- Time Complexity - O(n).\n",
    "- Space Complexity - O(1).\n",
    "\n",
    "- Find the minimum values in the array.\n",
    "- If the sum of those values is greater than money, return money.\n",
    "- Else return the difference between the sum of two minimum values and the money."
   ]
  },
  {
   "cell_type": "code",
   "execution_count": 3,
   "metadata": {
    "vscode": {
     "languageId": "java"
    }
   },
   "outputs": [],
   "source": [
    "class Solution {\n",
    "\n",
    "  public int buyChoco(int[] prices, int money) {\n",
    "    int min = Math.min(prices[0], prices[1]);\n",
    "    int secondMin = Math.max(prices[0], prices[1]);\n",
    "\n",
    "    for (int i = 2; i < prices.length; i++) {\n",
    "      if (prices[i] < min) {\n",
    "        secondMin = min;\n",
    "        min = prices[i];\n",
    "      } else if (prices[i] < secondMin) {\n",
    "        secondMin = prices[i];\n",
    "      }\n",
    "    }\n",
    "\n",
    "    if (min + secondMin > money) {\n",
    "      return money;\n",
    "    }\n",
    "\n",
    "    return money - (min + secondMin);\n",
    "  }\n",
    "}\n"
   ]
  },
  {
   "cell_type": "code",
   "execution_count": 5,
   "metadata": {
    "vscode": {
     "languageId": "java"
    }
   },
   "outputs": [
    {
     "name": "stdout",
     "output_type": "stream",
     "text": [
      "0\n"
     ]
    }
   ],
   "source": [
    "Solution solution = new Solution();\n",
    "int[] prices = {1, 2, 2};\n",
    "int money = 3;\n",
    "int result = solution.buyChoco(prices, money);\n",
    "System.out.println(result);"
   ]
  },
  {
   "cell_type": "code",
   "execution_count": null,
   "metadata": {
    "vscode": {
     "languageId": "java"
    }
   },
   "outputs": [],
   "source": []
  }
 ],
 "metadata": {
  "kernelspec": {
   "display_name": "Java",
   "language": "java",
   "name": "java"
  },
  "language_info": {
   "codemirror_mode": "java",
   "file_extension": ".jshell",
   "mimetype": "text/x-java-source",
   "name": "Java",
   "pygments_lexer": "java",
   "version": "22.0.1+8-16"
  }
 },
 "nbformat": 4,
 "nbformat_minor": 2
}
