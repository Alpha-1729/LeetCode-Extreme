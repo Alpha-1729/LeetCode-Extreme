{
 "cells": [
  {
   "cell_type": "code",
   "execution_count": null,
   "metadata": {
    "vscode": {
     "languageId": "java"
    }
   },
   "outputs": [],
   "source": [
    "// First Missing Positive\n",
    "\n",
    "/*\n",
    ">>>>\n",
    ">>>>\n",
    ">>>>\n",
    ">>>>\n",
    "*/\n"
   ]
  },
  {
   "cell_type": "markdown",
   "metadata": {},
   "source": [
    "# Approach 1 (Best Solution).\n",
    "\n",
    "# Solution by modifying the current array values.\n",
    "\n",
    "- Time Complexity - O(n).\n",
    "- Space Complexity - O(1).\n",
    "\n",
    "- Move all positive number to the start of the array.\n",
    "  - Value should be less that the length of the array, only in that case it is moved to the front.\n",
    "- If the value in the positive area of the array is x, mark the x - 1 position values as negative.\n",
    "- If the values is negative in the positive area, pos + 1 value is present in the array.\n",
    "- If the value is not negative in the positive area, return pos + 1 (This value is missing in the array)\n",
    "- Else return the array.length + 1.\n"
   ]
  },
  {
   "cell_type": "code",
   "execution_count": 1,
   "metadata": {
    "vscode": {
     "languageId": "java"
    }
   },
   "outputs": [],
   "source": [
    "class Solution {\n",
    "\n",
    "  public int firstMissingPositive(int[] nums) {\n",
    "    int start = 0;\n",
    "    int n = nums.length;\n",
    "\n",
    "    // Moving all positive numbers to start.\n",
    "    for (int num : nums) {\n",
    "      if (num > 0 && num <= n) {\n",
    "        nums[start++] = num;\n",
    "      }\n",
    "    }\n",
    "\n",
    "    // Mark all visited values using negative index.\n",
    "    for (int i = 0; i < start; i++) {\n",
    "      int pos = Math.abs(nums[i]) - 1;\n",
    "      if (nums[pos] > 0) {\n",
    "        nums[pos] *= -1;\n",
    "      }\n",
    "    }\n",
    "\n",
    "    for (int i = 0; i < start; i++) {\n",
    "      if (nums[i] > 0) {\n",
    "        return i + 1;\n",
    "      }\n",
    "    }\n",
    "    return start + 1;\n",
    "  }\n",
    "}\n"
   ]
  },
  {
   "cell_type": "markdown",
   "metadata": {},
   "source": [
    "# Approach 2 (Best Solution).\n",
    "\n",
    "# Solution by without modifying the array elements.\n",
    "\n",
    "# Order of the elements is changed.\n",
    "\n",
    "- Time Complexity - O(n).\n",
    "- Space Complexity - O(1).\n",
    "\n",
    "- The code rearranges the array so that each positive integer x in the range [1, n] is placed at the index x-1.\n",
    "- It does this by swapping elements until each number is either out of range or in its correct position.\n",
    "- After rearrangement, it iterates through the array to find the first index i where nums[i] is not i + 1.\n",
    "- The value i + 1 is the first missing positive integer.\n",
    "- If all indices are correct, it returns n + 1.\n"
   ]
  },
  {
   "cell_type": "code",
   "execution_count": null,
   "metadata": {
    "vscode": {
     "languageId": "java"
    }
   },
   "outputs": [],
   "source": [
    "class Solution {\n",
    "\n",
    "  public int firstMissingPositive(int[] nums) {\n",
    "    int n = nums.length;\n",
    "\n",
    "    for (int i = 0; i < n; i++) {\n",
    "      while (nums[i] >= 1 && nums[i] <= n && nums[nums[i] - 1] != nums[i]) {\n",
    "        swap(nums, i, nums[i] - 1);\n",
    "      }\n",
    "    }\n",
    "\n",
    "    for (int i = 0; i < n; i++) {\n",
    "      if (nums[i] != i + 1) {\n",
    "        return i + 1;\n",
    "      }\n",
    "    }\n",
    "    return n + 1;\n",
    "  }\n",
    "\n",
    "  public void swap(int[] nums, int i, int j) {\n",
    "    int temp = nums[i];\n",
    "    nums[i] = nums[j];\n",
    "    nums[j] = temp;\n",
    "  }\n",
    "}\n"
   ]
  },
  {
   "cell_type": "code",
   "execution_count": 2,
   "metadata": {
    "vscode": {
     "languageId": "java"
    }
   },
   "outputs": [
    {
     "name": "stdout",
     "output_type": "stream",
     "text": [
      "3\n"
     ]
    }
   ],
   "source": [
    "Solution solution = new Solution();\n",
    "int[] nums = {1, 2, 0};\n",
    "int result = solution.firstMissingPositive(nums);\n",
    "System.out.println(result);"
   ]
  },
  {
   "cell_type": "code",
   "execution_count": null,
   "metadata": {
    "vscode": {
     "languageId": "java"
    }
   },
   "outputs": [],
   "source": []
  },
  {
   "cell_type": "code",
   "execution_count": null,
   "metadata": {
    "vscode": {
     "languageId": "java"
    }
   },
   "outputs": [],
   "source": []
  }
 ],
 "metadata": {
  "kernelspec": {
   "display_name": "Java",
   "language": "java",
   "name": "java"
  },
  "language_info": {
   "codemirror_mode": "java",
   "file_extension": ".jshell",
   "mimetype": "text/x-java-source",
   "name": "Java",
   "pygments_lexer": "java",
   "version": "22.0.1+8-16"
  }
 },
 "nbformat": 4,
 "nbformat_minor": 2
}
