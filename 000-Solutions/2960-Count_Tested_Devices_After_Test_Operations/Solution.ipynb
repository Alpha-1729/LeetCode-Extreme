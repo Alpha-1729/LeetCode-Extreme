{
 "cells": [
  {
   "cell_type": "code",
   "execution_count": null,
   "metadata": {
    "vscode": {
     "languageId": "java"
    }
   },
   "outputs": [],
   "source": [
    "// Count Tested Devices After Test Operations\n",
    "\n",
    "/*\n",
    ">>>>\n",
    ">>>>\n",
    ">>>>\n",
    ">>>>\n",
    "*/\n"
   ]
  },
  {
   "cell_type": "markdown",
   "metadata": {},
   "source": [
    "# Approach 1 (Best Solution).\n",
    "- Time Complexity - O(n).\n",
    "- Space Complexity - O(1).\n",
    "\n",
    "- Loop through all the devices in the array.\n",
    "- Keep a variable to count the tested device.\n",
    "- If the difference of the current battery percentage and the testedDeviceCount is greater than 0, Add this to the count.\n",
    "- Return the testedDeviceCount."
   ]
  },
  {
   "cell_type": "code",
   "execution_count": 1,
   "metadata": {
    "vscode": {
     "languageId": "java"
    }
   },
   "outputs": [],
   "source": [
    "class Solution {\n",
    "    public int countTestedDevices(int[] batteryPercentages) {\n",
    "        int testedDevicesCount = 0;\n",
    "        for (int i = 0; i < batteryPercentages.length; i++)\n",
    "        {\n",
    "            if ( (batteryPercentages[i] - testedDevicesCount) > 0)\n",
    "            {\n",
    "                testedDevicesCount++;\n",
    "            }\n",
    "        }\n",
    "        return testedDevicesCount;\n",
    "    }\n",
    "}"
   ]
  },
  {
   "cell_type": "code",
   "execution_count": 2,
   "metadata": {
    "vscode": {
     "languageId": "java"
    }
   },
   "outputs": [
    {
     "name": "stdout",
     "output_type": "stream",
     "text": [
      "3\n"
     ]
    }
   ],
   "source": [
    "Solution solution = new Solution();\n",
    "int[] batteryPercentages = {1, 1, 2, 1, 3};\n",
    "int result = solution.countTestedDevices(batteryPercentages);\n",
    "System.out.println(result);"
   ]
  },
  {
   "cell_type": "code",
   "execution_count": null,
   "metadata": {
    "vscode": {
     "languageId": "java"
    }
   },
   "outputs": [],
   "source": []
  }
 ],
 "metadata": {
  "kernelspec": {
   "display_name": "Java",
   "language": "java",
   "name": "java"
  },
  "language_info": {
   "codemirror_mode": "java",
   "file_extension": ".jshell",
   "mimetype": "text/x-java-source",
   "name": "Java",
   "pygments_lexer": "java",
   "version": "21.0.3+9-Debian-2"
  }
 },
 "nbformat": 4,
 "nbformat_minor": 2
}
