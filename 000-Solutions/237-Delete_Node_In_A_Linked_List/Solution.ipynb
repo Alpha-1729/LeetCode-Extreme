{
 "cells": [
  {
   "cell_type": "code",
   "execution_count": null,
   "metadata": {},
   "outputs": [],
   "source": [
    "// Delete Node In A Linked List\n",
    "\n",
    "/*\n",
    ">>>>\n",
    ">>>>\n",
    ">>>>\n",
    ">>>>\n",
    "*/\n"
   ]
  },
  {
   "cell_type": "markdown",
   "metadata": {},
   "source": [
    "# Approach 1 (Best Solution).\n",
    "- Time Complexity - O(n).\n",
    "- Space Complexity - O(1).\n",
    "\n",
    "1. **deleteNode Method**:\n",
    "   - The goal is to delete a given node from a linked list, where you are not given access to the head of the list, but you are given the node to be deleted. The assumption here is that the node will not be the tail.\n",
    "   \n",
    "2. **Algorithm Explanation**:\n",
    "   - A `prev` node is initialized to `null` and a temporary pointer (`temp`) is set to the node that needs to be deleted.\n",
    "   - The while loop traverses the list starting from `temp` (which is initially equal to `node`). At each step, the current `node` value is overwritten with the value of the next node (`temp.next.val`).\n",
    "   - `prev` keeps track of the previous node, and `node` is updated to the next node in each iteration.\n",
    "   - Once the loop reaches the second-to-last node (i.e., `temp.next` becomes `null`), `prev.next` is set to `null`, effectively removing the last reference to the node being deleted.\n",
    "\n",
    "3. **Key Points**:\n",
    "   - This approach works by shifting the values of the subsequent nodes into the current node, and then removing the last node.\n",
    "   - After the loop finishes, `prev.next = null` ensures that the last node in the list is disconnected.\n",
    "\n"
   ]
  },
  {
   "cell_type": "code",
   "execution_count": null,
   "metadata": {},
   "outputs": [],
   "source": [
    "class Solution {\n",
    "    public void deleteNode(ListNode node) {\n",
    "        ListNode prev = null;\n",
    "        ListNode temp = node;\n",
    "        while (temp.next != null) {\n",
    "            node.val = temp.next.val;\n",
    "            temp = temp.next;\n",
    "            prev = node;\n",
    "            node = node.next;\n",
    "        }\n",
    "        prev.next = null;\n",
    "    }\n",
    "}\n",
    "\n",
    "\n",
    "// Definition for singly-linked list.\n",
    "public class ListNode {\n",
    "    int val;\n",
    "    ListNode next;\n",
    "    ListNode(int x) { val = x; }\n",
    "}"
   ]
  },
  {
   "cell_type": "code",
   "execution_count": null,
   "metadata": {},
   "outputs": [],
   "source": [
    "Solution solution = new Solution();"
   ]
  }
 ],
 "metadata": {
  "kernelspec": {
   "display_name": "Java",
   "language": "java",
   "name": "java"
  },
  "language_info": {
   "codemirror_mode": "java",
   "file_extension": ".jshell",
   "mimetype": "text/x-java-source",
   "name": "java",
   "pygments_lexer": "java",
   "version": "21.0.2+13-LTS-58"
  }
 },
 "nbformat": 4,
 "nbformat_minor": 2
}
