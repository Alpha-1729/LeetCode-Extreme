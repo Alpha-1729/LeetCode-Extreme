{
 "cells": [
  {
   "cell_type": "code",
   "execution_count": null,
   "metadata": {
    "vscode": {
     "languageId": "java"
    }
   },
   "outputs": [],
   "source": [
    "// Spiral Matrix\n",
    "\n",
    "/*\n",
    ">>>>\n",
    ">>>>\n",
    ">>>>\n",
    ">>>>\n",
    "*/\n"
   ]
  },
  {
   "cell_type": "markdown",
   "metadata": {},
   "source": [
    "# Approach 1 (Best Solution).\n",
    "- Time Complexity - O(mxn).\n",
    "- Space Complexity - O(1).\n",
    "\n",
    "- Loop through the matrix in a spiral pattern.\n",
    "- Go right, down, left, up till all elements are covered."
   ]
  },
  {
   "cell_type": "code",
   "execution_count": null,
   "metadata": {
    "vscode": {
     "languageId": "java"
    }
   },
   "outputs": [],
   "source": [
    "class Solution {\n",
    "\n",
    "  public List<Integer> spiralOrder(int[][] matrix) {\n",
    "    List<Integer> result = new ArrayList();\n",
    "    int left = 0;\n",
    "    int top = 0;\n",
    "    int right = matrix[0].length;\n",
    "    int bottom = matrix.length;\n",
    "\n",
    "    while (left < right && top < bottom) {\n",
    "      // Go Right.\n",
    "      for (int i = left; i < right; i++) {\n",
    "        result.add(matrix[top][i]);\n",
    "      }\n",
    "      top++;\n",
    "\n",
    "      // Go Down.\n",
    "      for (int i = top; i < bottom; i++) {\n",
    "        result.add(matrix[i][right - 1]);\n",
    "      }\n",
    "      right--;\n",
    "\n",
    "      if (!(left < right && top < bottom)) {\n",
    "        break;\n",
    "      }\n",
    "\n",
    "      // Go Left\n",
    "      for (int i = right - 1; i >= left; i--) {\n",
    "        result.add(matrix[bottom - 1][i]);\n",
    "      }\n",
    "      bottom--;\n",
    "\n",
    "      // Go Up\n",
    "      for (int i = bottom - 1; i >= top; i--) {\n",
    "        result.add(matrix[i][left]);\n",
    "      }\n",
    "      left++;\n",
    "    }\n",
    "\n",
    "    return result;\n",
    "  }\n",
    "}\n"
   ]
  },
  {
   "cell_type": "code",
   "execution_count": null,
   "metadata": {
    "vscode": {
     "languageId": "java"
    }
   },
   "outputs": [],
   "source": [
    "Solution s = new Solution();\n",
    "int[][] matrix = {{1, 2, 3}, {4, 5, 6}, {7, 8, 9}};\n",
    "List<Integer> result = s.spiralOrder(matrix);\n",
    "System.out.println(result);"
   ]
  },
  {
   "cell_type": "code",
   "execution_count": null,
   "metadata": {
    "vscode": {
     "languageId": "java"
    }
   },
   "outputs": [],
   "source": []
  }
 ],
 "metadata": {
  "kernelspec": {
   "display_name": "Java",
   "language": "java",
   "name": "java"
  },
  "language_info": {
   "codemirror_mode": "java",
   "file_extension": ".jshell",
   "mimetype": "text/x-java-source",
   "name": "Java",
   "pygments_lexer": "java",
   "version": "22.0.1+8-16"
  }
 },
 "nbformat": 4,
 "nbformat_minor": 2
}
