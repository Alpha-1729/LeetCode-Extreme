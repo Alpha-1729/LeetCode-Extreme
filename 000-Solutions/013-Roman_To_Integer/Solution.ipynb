{
 "cells": [
  {
   "cell_type": "code",
   "execution_count": null,
   "metadata": {
    "vscode": {
     "languageId": "java"
    }
   },
   "outputs": [],
   "source": [
    "// Roman To Integer\n",
    "\n",
    "/*\n",
    ">>>>\n",
    ">>>>\n",
    ">>>>\n",
    ">>>>\n",
    "*/\n"
   ]
  },
  {
   "cell_type": "markdown",
   "metadata": {},
   "source": [
    "# Approach 1 (Best Solution).\n",
    "- Time Complexity - O(n).\n",
    "- Space Complexity - O(1).\n",
    "\n",
    "- Create a variable ans to store the integer value of the roman numeral.\n",
    "- Always add the last value to the variable ans.\n",
    "- When the current value of the roman numeral is less than the next numeral, subtract the value from the ans.\n",
    "- Finally return the ans."
   ]
  },
  {
   "cell_type": "code",
   "execution_count": 11,
   "metadata": {
    "vscode": {
     "languageId": "java"
    }
   },
   "outputs": [],
   "source": [
    "class Solution {\n",
    "\n",
    "  public int getValue(char ch) {\n",
    "    switch (ch) {\n",
    "      case 'I':\n",
    "        return 1;\n",
    "      case 'V':\n",
    "        return 5;\n",
    "      case 'X':\n",
    "        return 10;\n",
    "      case 'L':\n",
    "        return 50;\n",
    "      case 'C':\n",
    "        return 100;\n",
    "      case 'D':\n",
    "        return 500;\n",
    "      case 'M':\n",
    "        return 1000;\n",
    "      default:\n",
    "        return 0;\n",
    "    }\n",
    "  }\n",
    "\n",
    "  public int romanToInt(String s) {\n",
    "    int n = s.length();\n",
    "    int ans = 0;\n",
    "    int prev = 0;\n",
    "    int current = 0;\n",
    "    for (int i = 0; i < n; i++) {\n",
    "      current = getValue(s.charAt(i));\n",
    "      ans += (prev < current) ? -1 * prev : prev;\n",
    "      prev = current;\n",
    "    }\n",
    "    ans += current;\n",
    "    return ans;\n",
    "  }\n",
    "}\n"
   ]
  },
  {
   "cell_type": "code",
   "execution_count": 12,
   "metadata": {
    "vscode": {
     "languageId": "java"
    }
   },
   "outputs": [
    {
     "name": "stdout",
     "output_type": "stream",
     "text": [
      "58\n"
     ]
    }
   ],
   "source": [
    "Solution solution = new Solution();\n",
    "String s = \"LVIII\";\n",
    "int result = solution.romanToInt(s);\n",
    "System.out.println(result);"
   ]
  },
  {
   "cell_type": "code",
   "execution_count": null,
   "metadata": {
    "vscode": {
     "languageId": "java"
    }
   },
   "outputs": [],
   "source": []
  },
  {
   "cell_type": "code",
   "execution_count": null,
   "metadata": {
    "vscode": {
     "languageId": "java"
    }
   },
   "outputs": [],
   "source": []
  }
 ],
 "metadata": {
  "kernelspec": {
   "display_name": "Java",
   "language": "java",
   "name": "java"
  },
  "language_info": {
   "codemirror_mode": "java",
   "file_extension": ".jshell",
   "mimetype": "text/x-java-source",
   "name": "Java",
   "pygments_lexer": "java",
   "version": "22.0.1+8-16"
  }
 },
 "nbformat": 4,
 "nbformat_minor": 2
}
