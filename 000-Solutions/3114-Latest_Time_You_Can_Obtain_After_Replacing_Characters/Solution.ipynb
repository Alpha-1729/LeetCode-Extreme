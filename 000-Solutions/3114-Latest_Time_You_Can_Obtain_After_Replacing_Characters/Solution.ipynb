{
 "cells": [
  {
   "cell_type": "code",
   "execution_count": null,
   "metadata": {
    "vscode": {
     "languageId": "java"
    }
   },
   "outputs": [],
   "source": [
    "// Latest Time You Can Obtain After Replacing Characters\n",
    "\n",
    "/*\n",
    ">>>>\n",
    ">>>>\n",
    ">>>>\n",
    ">>>>\n",
    "*/\n"
   ]
  },
  {
   "cell_type": "markdown",
   "metadata": {},
   "source": [
    "# Approach 1 (Best Solution).\n",
    "- Time Complexity - O(n).\n",
    "- Space Complexity - O(1).\n",
    "\n",
    "- Convert string to char array.\n",
    "- Modify the value in the character array using brute force method.\n",
    "- Convert character array to string.\n",
    "- Return the string."
   ]
  },
  {
   "cell_type": "code",
   "execution_count": null,
   "metadata": {
    "vscode": {
     "languageId": "java"
    }
   },
   "outputs": [],
   "source": [
    "class Solution {\n",
    "    public String findLatestTime(String s) {\n",
    "        char[] chArr = s.toCharArray();\n",
    "        if (chArr[0] == '?')\n",
    "        {\n",
    "            if (chArr[1] == '?' || chArr[1] == '1' || chArr[1] == 0)\n",
    "            {\n",
    "                chArr[0] = '1';\n",
    "            }\n",
    "            else {\n",
    "                chArr[0] = '0';\n",
    "            }\n",
    "        }\n",
    "        if (chArr[1] == '?')\n",
    "        {\n",
    "            if (chArr[0] == '1')\n",
    "            {\n",
    "                chArr[1] = '1';\n",
    "            }\n",
    "            else{\n",
    "                chArr[1] = '9';\n",
    "            }\n",
    "        }\n",
    "        if (chArr[3] == '?')\n",
    "        {\n",
    "            chArr[3] = '5';\n",
    "        }\n",
    "        if (chArr[4] == '?')\n",
    "        {\n",
    "            chArr[4] = '9';\n",
    "        }\n",
    "        return new String(chArr);\n",
    "    }\n",
    "}"
   ]
  },
  {
   "cell_type": "code",
   "execution_count": null,
   "metadata": {
    "vscode": {
     "languageId": "java"
    }
   },
   "outputs": [],
   "source": [
    "Solution solution = new Solution();\n",
    "String s = \"1?:?4\";\n",
    "String result = solution.findLatestTime(s);\n",
    "System.out.println(result);"
   ]
  },
  {
   "cell_type": "code",
   "execution_count": null,
   "metadata": {
    "vscode": {
     "languageId": "java"
    }
   },
   "outputs": [],
   "source": []
  }
 ],
 "metadata": {
  "kernelspec": {
   "display_name": "Java",
   "language": "java",
   "name": "java"
  },
  "language_info": {
   "codemirror_mode": "java",
   "file_extension": ".jshell",
   "mimetype": "text/x-java-source",
   "name": "Java",
   "pygments_lexer": "java",
   "version": "22.0.1+8-16"
  }
 },
 "nbformat": 4,
 "nbformat_minor": 2
}
