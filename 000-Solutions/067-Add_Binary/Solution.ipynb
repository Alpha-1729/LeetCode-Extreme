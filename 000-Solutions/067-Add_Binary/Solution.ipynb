{
 "cells": [
  {
   "cell_type": "code",
   "execution_count": null,
   "metadata": {
    "vscode": {
     "languageId": "java"
    }
   },
   "outputs": [],
   "source": [
    "// Add Binary\n",
    "\n",
    "/*\n",
    ">>>>\n",
    ">>>>\n",
    ">>>>\n",
    ">>>>\n",
    "*/\n"
   ]
  },
  {
   "cell_type": "markdown",
   "metadata": {},
   "source": [
    "# Approach 1 (Best Solution).\n",
    "\n",
    "- Time Complexity - O(n + m).\n",
    "- Space Complexity - O(n + m).\n",
    "\n",
    "- Loop from end of both string.\n",
    "- Calculate sum of last digit of each string.\n",
    "- Truth table of the sum of binary number is given below.\n",
    "  - A, B, Sum, Carry\n",
    "  - A B S C\n",
    "  - 0 0 0 0\n",
    "  - 1 0 1 0\n",
    "  - 0 1 1 0\n",
    "  - 1 1 0 1\n",
    "- Calculated sum of last digit is added into a string.\n",
    "- Reverse the string to get the actual binary sum.\n"
   ]
  },
  {
   "cell_type": "code",
   "execution_count": 3,
   "metadata": {
    "vscode": {
     "languageId": "java"
    }
   },
   "outputs": [],
   "source": [
    "class Solution {\n",
    "\n",
    "  public String addBinary(String a, String b) {\n",
    "    int carry = 0;\n",
    "    int i = a.length() - 1;\n",
    "    int j = b.length() - 1;\n",
    "    StringBuilder sb = new StringBuilder();\n",
    "\n",
    "    while (i >= 0 || j >= 0) {\n",
    "      if (i >= 0) {\n",
    "        carry += a.charAt(i--) - '0';\n",
    "      }\n",
    "      if (j >= 0) {\n",
    "        carry += b.charAt(j--) - '0';\n",
    "      }\n",
    "\n",
    "      sb.append(carry % 2);\n",
    "      carry /= 2;\n",
    "    }\n",
    "\n",
    "    if (carry == 1) {\n",
    "      sb.append(carry);\n",
    "    }\n",
    "\n",
    "    return sb.reverse().toString();\n",
    "  }\n",
    "}\n"
   ]
  },
  {
   "cell_type": "code",
   "execution_count": 5,
   "metadata": {
    "vscode": {
     "languageId": "java"
    }
   },
   "outputs": [
    {
     "name": "stdout",
     "output_type": "stream",
     "text": [
      "100\n"
     ]
    }
   ],
   "source": [
    "Solution solution = new Solution();\n",
    "String a = \"11\";\n",
    "String b = \"1\";\n",
    "String result = solution.addBinary(a, b);\n",
    "System.out.println(result);"
   ]
  },
  {
   "cell_type": "code",
   "execution_count": null,
   "metadata": {
    "vscode": {
     "languageId": "java"
    }
   },
   "outputs": [],
   "source": []
  }
 ],
 "metadata": {
  "kernelspec": {
   "display_name": "Java",
   "language": "java",
   "name": "java"
  },
  "language_info": {
   "codemirror_mode": "java",
   "file_extension": ".jshell",
   "mimetype": "text/x-java-source",
   "name": "Java",
   "pygments_lexer": "java",
   "version": "22.0.1+8-16"
  }
 },
 "nbformat": 4,
 "nbformat_minor": 2
}
