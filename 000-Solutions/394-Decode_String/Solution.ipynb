{
 "cells": [
  {
   "cell_type": "code",
   "execution_count": null,
   "metadata": {
    "vscode": {
     "languageId": "java"
    }
   },
   "outputs": [],
   "source": [
    "// Decode String\n",
    "\n",
    "/*\n",
    ">>>>\n",
    ">>>>\n",
    ">>>>\n",
    ">>>>\n",
    "*/\n"
   ]
  },
  {
   "cell_type": "markdown",
   "metadata": {},
   "source": [
    "# Approach 1 (Best Solution).\n",
    "- Time Complexity - O(n).\n",
    "- Space Complexity - O(n).\n",
    "\n",
    "1. **Initialization**:\n",
    "   - `numStack`: A stack to store numbers representing how many times to repeat a substring.\n",
    "   - `strStack`: A stack to store string builders for constructing substrings.\n",
    "   - `sb`: A `StringBuilder` to store the current decoded string.\n",
    "   - `num`: An integer to accumulate digits into a number.\n",
    "\n",
    "2. **Iterating Through the String**:\n",
    "   - A `for` loop iterates through each character in the input string `s`.\n",
    "\n",
    "3. **Handling Characters**:\n",
    "   - **Digits**: If a character is a digit, it's converted to an integer and added to `num` (allowing multi-digit numbers).\n",
    "   - **Opening Bracket ('[')**: Pushes the current `num` onto `numStack` and the current `sb` onto `strStack`. Then, `sb` is reset for the new substring, and `num` is reset to `0`.\n",
    "   - **Closing Bracket (']')**: Pops the `num` from `numStack` and the substring from `strStack`, and appends the decoded substring (repeated `num` times) to the previous substring.\n",
    "   - **Letters**: Appends the character directly to the current `sb`.\n",
    "\n",
    "4. **Generating the Repeated Substring**:\n",
    "   - The `generateString` method creates a new string by repeating the given `StringBuilder` `num` times.\n",
    "\n",
    "5. **Return**:\n",
    "   - After processing the entire string, the fully decoded string is returned as a result.\n"
   ]
  },
  {
   "cell_type": "code",
   "execution_count": null,
   "metadata": {
    "vscode": {
     "languageId": "java"
    }
   },
   "outputs": [],
   "source": [
    "class Solution {\n",
    "    public String decodeString(String s) {\n",
    "        Stack<Integer> numStack = new Stack<>();\n",
    "        Stack<StringBuilder> strStack = new Stack<>();\n",
    "\n",
    "        StringBuilder sb = new StringBuilder();\n",
    "        int num = 0;\n",
    "\n",
    "        for (int i = 0; i < s.length(); i++) {\n",
    "            char ch = s.charAt(i);\n",
    "            if (Character.isDigit(ch)) {\n",
    "                num = num * 10 + (ch - '0');\n",
    "            } else if (ch == '[') {\n",
    "                numStack.push(num);\n",
    "                strStack.push(sb);\n",
    "                sb = new StringBuilder();\n",
    "                num = 0;\n",
    "            } else if (ch == ']') {\n",
    "                StringBuilder decoded = strStack.pop();\n",
    "                sb = decoded.append(generateString(numStack.pop(), sb));\n",
    "            } else {\n",
    "                sb.append(ch);\n",
    "            }\n",
    "        }\n",
    "\n",
    "        return sb.toString();\n",
    "\n",
    "    }\n",
    "\n",
    "    public StringBuilder generateString(int num, StringBuilder chars) {\n",
    "        StringBuilder sb = new StringBuilder();\n",
    "        for (int i = 0; i < num; i++) {\n",
    "            sb.append(chars);\n",
    "        }\n",
    "        return sb;\n",
    "    }\n",
    "}"
   ]
  },
  {
   "cell_type": "code",
   "execution_count": null,
   "metadata": {
    "vscode": {
     "languageId": "java"
    }
   },
   "outputs": [],
   "source": [
    "Solution solution = new Solution();\n",
    "String s = \"3[a]2[bc]\";\n",
    "String result = solution.decodeString(s);\n",
    "System.out.println(result);"
   ]
  },
  {
   "cell_type": "code",
   "execution_count": null,
   "metadata": {
    "vscode": {
     "languageId": "java"
    }
   },
   "outputs": [],
   "source": []
  }
 ],
 "metadata": {
  "kernelspec": {
   "display_name": "Java",
   "language": "java",
   "name": "java"
  },
  "language_info": {
   "codemirror_mode": "java",
   "file_extension": ".jshell",
   "mimetype": "text/x-java-source",
   "name": "Java",
   "pygments_lexer": "java",
   "version": "22.0.2+9-70"
  }
 },
 "nbformat": 4,
 "nbformat_minor": 2
}
