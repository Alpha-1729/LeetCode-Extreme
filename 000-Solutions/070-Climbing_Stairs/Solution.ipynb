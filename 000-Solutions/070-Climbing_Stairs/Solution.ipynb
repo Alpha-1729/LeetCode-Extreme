{
 "cells": [
  {
   "cell_type": "code",
   "execution_count": null,
   "metadata": {
    "vscode": {
     "languageId": "java"
    }
   },
   "outputs": [],
   "source": [
    "// Climbing Stairs\n",
    "\n",
    "/*\n",
    ">>>>\n",
    ">>>>\n",
    ">>>>\n",
    ">>>>\n",
    "*/\n"
   ]
  },
  {
   "cell_type": "markdown",
   "metadata": {},
   "source": [
    "# Approach 1 (Best Solution).\n",
    "- Time Complexity - O(n).\n",
    "- Space Complexity - O(1).\n",
    "\n",
    "- **Variables**:\n",
    "  - `int previous = 0;` and `int current = 1;`:\n",
    "    - These variables are used to keep track of the number of ways to reach the previous step (`previous`) and the current step (`current`).\n",
    "\n",
    "- **For Loop**:\n",
    "  - `for (int i = 1; i <= n; i++)`: \n",
    "    - This loop iterates from 1 through `n`, calculating the number of ways to reach each step.\n",
    "  - Inside the loop:\n",
    "    - `int temp = current;`: Stores the current number of ways temporarily.\n",
    "    - `current = current + previous;`: Updates `current` to the sum of the previous two values, representing the number of ways to reach the current step (since you can reach the current step either from the previous step or by skipping a step).\n",
    "    - `previous = temp;`: Updates `previous` to the old `current` value (before it was updated).\n",
    "\n",
    "- **Return Statement**:\n",
    "  - `return current;`: After the loop completes, `current` holds the number of distinct ways to climb `n` stairs, which is returned as the result.\n"
   ]
  },
  {
   "cell_type": "code",
   "execution_count": null,
   "metadata": {
    "vscode": {
     "languageId": "java"
    }
   },
   "outputs": [],
   "source": [
    "class Solution {\n",
    "    public int climbStairs(int n) {\n",
    "        int previous = 0;\n",
    "        int current = 1;\n",
    "        for (int i = 1; i <= n; i++) {\n",
    "            int temp = current;\n",
    "            current = current + previous;\n",
    "            previous = temp;\n",
    "        }\n",
    "        return current;\n",
    "    }\n",
    "}"
   ]
  },
  {
   "cell_type": "code",
   "execution_count": null,
   "metadata": {
    "vscode": {
     "languageId": "java"
    }
   },
   "outputs": [],
   "source": [
    "Solution solution = new Solution();\n",
    "int n = 6;\n",
    "int result = solution.climbStairs(n);\n",
    "System.out.println(result);"
   ]
  },
  {
   "cell_type": "code",
   "execution_count": null,
   "metadata": {
    "vscode": {
     "languageId": "java"
    }
   },
   "outputs": [],
   "source": []
  }
 ],
 "metadata": {
  "kernelspec": {
   "display_name": "Java",
   "language": "java",
   "name": "java"
  },
  "language_info": {
   "codemirror_mode": "java",
   "file_extension": ".jshell",
   "mimetype": "text/x-java-source",
   "name": "Java",
   "pygments_lexer": "java",
   "version": "22.0.2+9-70"
  }
 },
 "nbformat": 4,
 "nbformat_minor": 2
}
