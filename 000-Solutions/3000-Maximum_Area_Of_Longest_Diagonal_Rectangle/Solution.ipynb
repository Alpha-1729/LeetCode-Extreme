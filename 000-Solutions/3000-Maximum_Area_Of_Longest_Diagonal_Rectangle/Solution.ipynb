{
 "cells": [
  {
   "cell_type": "code",
   "execution_count": null,
   "metadata": {
    "vscode": {
     "languageId": "java"
    }
   },
   "outputs": [],
   "source": [
    "// Maximum Area Of Longest Diagonal Rectangle\n",
    "\n",
    "/*\n",
    ">>>>\n",
    ">>>>\n",
    ">>>>\n",
    ">>>>\n",
    "*/\n"
   ]
  },
  {
   "cell_type": "markdown",
   "metadata": {},
   "source": [
    "# Approach 1 (Best Solution).\n",
    "- Time Complexity - O(n).\n",
    "- Space Complexity - O(1).\n",
    "\n",
    "1. **Initialize Variables:**\n",
    "   - `n`: The number of rectangles (rows) in the `dimensions` array.\n",
    "   - `maxArea`: The maximum area found so far, initialized to 0.\n",
    "   - `maxDiag`: The maximum diagonal length (squared) found so far, initialized to 0.\n",
    "\n",
    "2. **Loop Through Each Rectangle:**\n",
    "   - For each rectangle, retrieve its length `l` and width `w`.\n",
    "   - Calculate the square of the diagonal length using the formula \\( \\text{curDiag} = l^2 + w^2 \\).\n",
    "\n",
    "3. **Check and Update Maximum Diagonal and Area:**\n",
    "   - If the current diagonal (`curDiag`) is greater than the previous maximum diagonal (`maxDiag`), update `maxDiag` and set `maxArea` to the area of the current rectangle (`l * w`).\n",
    "   - If the current diagonal is equal to the maximum diagonal, compare the area of the current rectangle with `maxArea`. If the current area is larger, update `maxArea`.\n",
    "\n",
    "4. **Return the Maximum Area:**\n",
    "   - After looping through all rectangles, return `maxArea`, which represents the area of the rectangle with the largest diagonal length.\n"
   ]
  },
  {
   "cell_type": "code",
   "execution_count": 1,
   "metadata": {
    "vscode": {
     "languageId": "java"
    }
   },
   "outputs": [],
   "source": [
    "class Solution {\n",
    "    public int areaOfMaxDiagonal(int[][] dimensions) {\n",
    "        int n = dimensions.length;\n",
    "        int maxArea = 0;\n",
    "        int maxDiag = 0;\n",
    "\n",
    "        for (int i = 0; i < n; i++) {\n",
    "            int l = dimensions[i][0];\n",
    "            int w = dimensions[i][1];\n",
    "\n",
    "            int curDiag = (l * l) + (w * w);\n",
    "\n",
    "            if (curDiag > maxDiag || (curDiag == maxDiag && l * w > maxArea)) {\n",
    "                maxDiag = curDiag;\n",
    "                maxArea = l * w;\n",
    "            }\n",
    "        }\n",
    "        return maxArea;\n",
    "        \n",
    "    }\n",
    "}"
   ]
  },
  {
   "cell_type": "code",
   "execution_count": 2,
   "metadata": {
    "vscode": {
     "languageId": "java"
    }
   },
   "outputs": [
    {
     "name": "stdout",
     "output_type": "stream",
     "text": [
      "48\n"
     ]
    }
   ],
   "source": [
    "Solution solution = new Solution();\n",
    "int[][] dimensions = {{9, 3}, {8, 6}};\n",
    "int result = solution.areaOfMaxDiagonal(dimensions);\n",
    "System.out.println(result);"
   ]
  },
  {
   "cell_type": "code",
   "execution_count": null,
   "metadata": {
    "vscode": {
     "languageId": "java"
    }
   },
   "outputs": [],
   "source": []
  }
 ],
 "metadata": {
  "kernelspec": {
   "display_name": "Java",
   "language": "java",
   "name": "java"
  },
  "language_info": {
   "codemirror_mode": "java",
   "file_extension": ".jshell",
   "mimetype": "text/x-java-source",
   "name": "Java",
   "pygments_lexer": "java",
   "version": "22.0.2+9-70"
  }
 },
 "nbformat": 4,
 "nbformat_minor": 2
}
