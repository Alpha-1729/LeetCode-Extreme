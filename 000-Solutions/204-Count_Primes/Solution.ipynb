{
 "cells": [
  {
   "cell_type": "code",
   "execution_count": null,
   "metadata": {},
   "outputs": [],
   "source": [
    "// Count Primes\n",
    "\n",
    "/*\n",
    ">>>>\n",
    ">>>>\n",
    ">>>>\n",
    ">>>>\n",
    "*/\n"
   ]
  },
  {
   "cell_type": "markdown",
   "metadata": {},
   "source": [
    "# Approach 1 (Best Solution).\n",
    "- Time Complexity - O(nloglogn).\n",
    "- Space Complexity - O(n).\n",
    "\n",
    "1. **Handle Base Case**:\n",
    "   - If `n` is less than 3, return `0` because there are no prime numbers less than 2.\n",
    "\n",
    "2. **Initialize Variables**:\n",
    "   - `set`: A boolean array of size `n` to mark non-prime numbers.\n",
    "   - `primeCount`: Initialized to `n / 2` since half of the numbers (even numbers) are already known to be non-prime, except for `2`.\n",
    "\n",
    "3. **Main Logic - Sieve of Eratosthenes**:\n",
    "   - Start iterating from `3` and only consider odd numbers (as even numbers > 2 are not prime).\n",
    "   - For each odd number `i`, if `i` is not marked as non-prime, proceed with marking its multiples.\n",
    "   - The inner loop starts from `i * i` (since smaller multiples of `i` would have already been marked) and increments by `i * 2` to skip even multiples.\n",
    "   - For each multiple `j` of `i`, if it has not been marked as non-prime, mark it as non-prime and decrement the `primeCount`.\n",
    "\n",
    "4. **Return Prime Count**:\n",
    "   - After the loops finish, return the total `primeCount`, which represents the number of primes less than `n`.\n",
    "\n"
   ]
  },
  {
   "cell_type": "code",
   "execution_count": null,
   "metadata": {},
   "outputs": [],
   "source": [
    "class Solution {\n",
    "    public int countPrimes(int n) {\n",
    "        if (n < 3) {\n",
    "            return 0;\n",
    "        }\n",
    "\n",
    "        boolean[] set = new boolean[n];\n",
    "        int primeCount = n / 2;\n",
    "\n",
    "        // Checking from 3 and skip even numbers.\n",
    "        for (int i = 3; i * i < n; i += 2) {\n",
    "            if (!set[i]) {\n",
    "                for (int j = i * i; j < n; j += i * 2) {\n",
    "                    if (!set[j]) {\n",
    "                        set[j] = true;\n",
    "                        primeCount--;\n",
    "                    }\n",
    "                }\n",
    "            }\n",
    "        }\n",
    "\n",
    "        return primeCount;\n",
    "    }\n",
    "}"
   ]
  },
  {
   "cell_type": "code",
   "execution_count": null,
   "metadata": {},
   "outputs": [],
   "source": [
    "Solution solution = new Solution();\n",
    "int n = 4;\n",
    "int result = solution.countPrimes(n);\n",
    "System.out.println(result);"
   ]
  }
 ],
 "metadata": {
  "kernelspec": {
   "display_name": "Java",
   "language": "java",
   "name": "java"
  },
  "language_info": {
   "codemirror_mode": "java",
   "file_extension": ".jshell",
   "mimetype": "text/x-java-source",
   "name": "java",
   "pygments_lexer": "java",
   "version": "21.0.2+13-LTS-58"
  }
 },
 "nbformat": 4,
 "nbformat_minor": 2
}
