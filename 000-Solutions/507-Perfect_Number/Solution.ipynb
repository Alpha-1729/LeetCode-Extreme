{
 "cells": [
  {
   "cell_type": "code",
   "execution_count": null,
   "metadata": {},
   "outputs": [],
   "source": [
    "// Perfect Number\n",
    "\n",
    "/*\n",
    ">>>>\n",
    ">>>>\n",
    ">>>>\n",
    ">>>>\n",
    "*/\n"
   ]
  },
  {
   "cell_type": "markdown",
   "metadata": {},
   "source": [
    "# Approach 1 (Best Solution).\n",
    "- Time Complexity - O(log.n).\n",
    "- Space Complexity - O(1).\n",
    "\n",
    "- Find all factors of the given number using log.n complexity.\n",
    "- Add all the factors."
   ]
  },
  {
   "cell_type": "code",
   "execution_count": null,
   "metadata": {},
   "outputs": [],
   "source": [
    "class Solution {\n",
    "\n",
    "  public boolean checkPerfectNumber(int num) {\n",
    "    if (num == 1) return false;\n",
    "\n",
    "    int limit = (int) Math.sqrt(num);\n",
    "\n",
    "    // Handle condition for 1 and the repeating square root.\n",
    "    int res = ((limit * limit) == num ? limit : 0) + 1;\n",
    "\n",
    "    while (limit > 1) {\n",
    "      if (num % limit == 0) {\n",
    "        res += limit + num / limit;\n",
    "      }\n",
    "      limit--;\n",
    "    }\n",
    "\n",
    "    return res == num;\n",
    "  }\n",
    "}\n"
   ]
  },
  {
   "cell_type": "code",
   "execution_count": null,
   "metadata": {},
   "outputs": [],
   "source": [
    "Solution solution = new Solution();\n",
    "int num = 28;\n",
    "boolean result = solution.checkPerfectNumber(num);\n",
    "System.out.println(result);"
   ]
  }
 ],
 "metadata": {
  "kernelspec": {
   "display_name": "Java",
   "language": "java",
   "name": "java"
  },
  "language_info": {
   "codemirror_mode": "java",
   "file_extension": ".jshell",
   "mimetype": "text/x-java-source",
   "name": "java",
   "pygments_lexer": "java",
   "version": "21.0.2+13-LTS-58"
  }
 },
 "nbformat": 4,
 "nbformat_minor": 2
}
