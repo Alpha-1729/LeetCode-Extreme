{
 "cells": [
  {
   "cell_type": "code",
   "execution_count": null,
   "metadata": {},
   "outputs": [],
   "source": [
    "// Ransom Note\n",
    "\n",
    "/*\n",
    ">>>>\n",
    ">>>>\n",
    ">>>>\n",
    ">>>>\n",
    "*/\n"
   ]
  },
  {
   "cell_type": "markdown",
   "metadata": {},
   "source": [
    "# Approach 1 (Best Solution).\n",
    "- Time Complexity - O(n).\n",
    "- Space Complexity - O(1).\n",
    "- Since we had to create ransomNote from the magazine, if the length of the ransomNote is greater, return false.\n",
    "- Create an int array to store the count of each character in the magazine string.\n",
    "- Update the count of the characters in the magazine string.\n",
    "- Loop through the characters in the ransomNote string.\n",
    "- Decrement the count of each character in the int array.\n",
    "- If the count become zero, return false. (These are the characters in the ransomNote string but not in the magazine string.)\n",
    "- Finally return true."
   ]
  },
  {
   "cell_type": "code",
   "execution_count": null,
   "metadata": {},
   "outputs": [],
   "source": [
    "class Solution {\n",
    "\n",
    "  public boolean canConstruct(String ransomNote, String magazine) {\n",
    "    if (ransomNote.length() > magazine.length()) return false;\n",
    "\n",
    "    int[] map = new int[26];\n",
    "\n",
    "    for (int i = 0; i < magazine.length(); i++) {\n",
    "      char c = magazine.charAt(i);\n",
    "      map[c - 'a']++;\n",
    "    }\n",
    "\n",
    "    for (int j = 0; j < ransomNote.length(); j++) {\n",
    "      char c = ransomNote.charAt(j);\n",
    "      int charIndex = c - 'a';\n",
    "      if (map[charIndex] == 0) return false;\n",
    "      map[charIndex]--;\n",
    "    }\n",
    "\n",
    "    return true;\n",
    "  }\n",
    "}\n"
   ]
  },
  {
   "cell_type": "code",
   "execution_count": null,
   "metadata": {},
   "outputs": [],
   "source": [
    "Solution s = new Solution();\n",
    "String ransomNote = \"aa\";\n",
    "String magazine = \"aab\";\n",
    "\n",
    "boolean result = s.canConstruct(ransomNote, magazine);\n",
    "System.out.println(result);"
   ]
  }
 ],
 "metadata": {
  "kernelspec": {
   "display_name": "Java",
   "language": "java",
   "name": "java"
  },
  "language_info": {
   "codemirror_mode": "java",
   "file_extension": ".jshell",
   "mimetype": "text/x-java-source",
   "name": "java",
   "pygments_lexer": "java",
   "version": "21.0.2+13-LTS-58"
  }
 },
 "nbformat": 4,
 "nbformat_minor": 2
}
