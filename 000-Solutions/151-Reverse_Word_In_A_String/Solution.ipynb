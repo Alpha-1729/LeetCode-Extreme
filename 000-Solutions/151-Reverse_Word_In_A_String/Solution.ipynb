{
 "cells": [
  {
   "cell_type": "code",
   "execution_count": null,
   "metadata": {
    "vscode": {
     "languageId": "java"
    }
   },
   "outputs": [],
   "source": [
    "// Reverse Word In A String\n",
    "\n",
    "/*\n",
    ">>>>\n",
    ">>>>\n",
    ">>>>\n",
    ">>>>\n",
    "*/\n"
   ]
  },
  {
   "cell_type": "markdown",
   "metadata": {},
   "source": [
    "# Approach 1 (Best Solution).\n",
    "- Time Complexity - O(n).\n",
    "- Space Complexity - O(n).\n",
    "\n",
    "1. **Initialize StringBuilder**:\n",
    "   - `sb`: A `StringBuilder` object is used to efficiently build the reversed string.\n",
    "   \n",
    "2. **Initialize `length`**:\n",
    "   - `length`: This variable is used to track the length of the current word as the loop goes through the string in reverse order.\n",
    "\n",
    "3. **Loop Through String in Reverse**:\n",
    "   - The loop iterates from the last character of the string `s` to the first.\n",
    "   \n",
    "   - **Word Boundary Check**:\n",
    "     - If the current character `ch` is a space and `length` is greater than 0 (indicating that a word has been encountered), the word is extracted using `substring(i + 1, i + length + 1)` and appended to `sb` with a leading space.\n",
    "     - Reset `length` to 0 after appending the word.\n",
    "   \n",
    "   - **Non-Space Characters**:\n",
    "     - If the current character `ch` is not a space, it means a part of a word is encountered, so `length` is incremented.\n",
    "\n",
    "4. **Handle First Word**:\n",
    "   - After the loop finishes, if there is any remaining word (i.e., `length > 0`), the first word is extracted using `substring(0, length)` and appended to `sb` with a leading space.\n",
    "\n",
    "5. **Remove Leading Space**:\n",
    "   - Since each word is appended with a leading space, the first character of `sb` is always a space. This is removed using `deleteCharAt(0)`.\n",
    "\n",
    "6. **Return**:\n",
    "   - The method returns the reversed string using `sb.toString()`."
   ]
  },
  {
   "cell_type": "code",
   "execution_count": 11,
   "metadata": {
    "vscode": {
     "languageId": "java"
    }
   },
   "outputs": [],
   "source": [
    "class Solution {\n",
    "    public String reverseWords(String s) {\n",
    "        StringBuilder sb = new StringBuilder();\n",
    "        \n",
    "        int length = 0;\n",
    "        for (int i = s.length() - 1; i >=  0; i--) {\n",
    "            char ch = s.charAt(i);\n",
    "\n",
    "            if (ch == ' ' && length > 0){\n",
    "                sb.append(' ').append(s.substring(i + 1, i + length + 1));\n",
    "                length = 0;\n",
    "            } else if (ch != ' '){\n",
    "                length++;\n",
    "            }\n",
    "        }\n",
    "        if (length > 0) {\n",
    "            sb.append(' ').append(s.substring(0, length));\n",
    "        }\n",
    "        sb.deleteCharAt(0);\n",
    "\n",
    "        return sb.toString();\n",
    "    }\n",
    "}"
   ]
  },
  {
   "cell_type": "code",
   "execution_count": 12,
   "metadata": {
    "vscode": {
     "languageId": "java"
    }
   },
   "outputs": [
    {
     "name": "stdout",
     "output_type": "stream",
     "text": [
      "world hello\n"
     ]
    }
   ],
   "source": [
    "Solution solution = new Solution();\n",
    "String s = \"hello world  \";\n",
    "String result = solution.reverseWords(s);\n",
    "System.out.println(result);"
   ]
  },
  {
   "cell_type": "code",
   "execution_count": null,
   "metadata": {
    "vscode": {
     "languageId": "java"
    }
   },
   "outputs": [],
   "source": []
  }
 ],
 "metadata": {
  "kernelspec": {
   "display_name": "Java",
   "language": "java",
   "name": "java"
  },
  "language_info": {
   "codemirror_mode": "java",
   "file_extension": ".jshell",
   "mimetype": "text/x-java-source",
   "name": "Java",
   "pygments_lexer": "java",
   "version": "22.0.2+9-70"
  }
 },
 "nbformat": 4,
 "nbformat_minor": 2
}
