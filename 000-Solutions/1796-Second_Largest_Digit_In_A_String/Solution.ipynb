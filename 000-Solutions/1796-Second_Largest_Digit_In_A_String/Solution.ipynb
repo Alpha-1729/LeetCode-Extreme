{
 "cells": [
  {
   "cell_type": "code",
   "execution_count": null,
   "metadata": {
    "vscode": {
     "languageId": "java"
    }
   },
   "outputs": [],
   "source": [
    "// Second Largest Digit In A String\n",
    "\n",
    "/*\n",
    ">>>>\n",
    ">>>>\n",
    ">>>>\n",
    ">>>>\n",
    "*/\n"
   ]
  },
  {
   "cell_type": "markdown",
   "metadata": {},
   "source": [
    "# Approach 1 (Best Solution).\n",
    "\n",
    "- Time Complexity - O(n).\n",
    "- Space Complexity - O(1).\n",
    "\n",
    "- Loop through the numbers in the string.\n",
    "- Note the largest and second largest number in the string.\n",
    "- Return the second largest number.\n"
   ]
  },
  {
   "cell_type": "code",
   "execution_count": null,
   "metadata": {
    "vscode": {
     "languageId": "java"
    }
   },
   "outputs": [],
   "source": [
    "class Solution {\n",
    "\n",
    "  public int secondHighest(String s) {\n",
    "    int largest = -1;\n",
    "    int secondLargest = -1;\n",
    "    for (int i = 0; i < s.length(); i++) {\n",
    "      int num = s.charAt(i) - '0';\n",
    "      if (num >= 0 && num <= 9) {\n",
    "        if (num > largest) {\n",
    "          secondLargest = largest;\n",
    "          largest = num;\n",
    "        } else if (num > secondLargest && num != largest) {\n",
    "          secondLargest = num;\n",
    "        }\n",
    "      }\n",
    "    }\n",
    "\n",
    "    return secondLargest;\n",
    "  }\n",
    "}\n"
   ]
  },
  {
   "cell_type": "code",
   "execution_count": null,
   "metadata": {
    "vscode": {
     "languageId": "java"
    }
   },
   "outputs": [],
   "source": [
    "Solution solution = new Solution();\n",
    "String s = \"dfa12321afd\";\n",
    "int result = solution.secondHighest(s);\n",
    "System.out.println(result);"
   ]
  },
  {
   "cell_type": "code",
   "execution_count": null,
   "metadata": {
    "vscode": {
     "languageId": "java"
    }
   },
   "outputs": [],
   "source": []
  }
 ],
 "metadata": {
  "kernelspec": {
   "display_name": "Java",
   "language": "java",
   "name": "java"
  },
  "language_info": {
   "codemirror_mode": "java",
   "file_extension": ".jshell",
   "mimetype": "text/x-java-source",
   "name": "Java",
   "pygments_lexer": "java",
   "version": "22.0.1+8-16"
  }
 },
 "nbformat": 4,
 "nbformat_minor": 2
}
