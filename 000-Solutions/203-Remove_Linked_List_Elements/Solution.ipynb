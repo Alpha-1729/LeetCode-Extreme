{
 "cells": [
  {
   "cell_type": "code",
   "execution_count": null,
   "metadata": {},
   "outputs": [],
   "source": [
    "// Remove Linked List Elements\n",
    "\n",
    "/*\n",
    ">>>>\n",
    ">>>>\n",
    ">>>>\n",
    ">>>>\n",
    "*/\n"
   ]
  },
  {
   "cell_type": "markdown",
   "metadata": {},
   "source": [
    "# Approach 1 (Best Solution).\n",
    "- Time Complexity - O(n).\n",
    "- Space Complexity - O(1).\n",
    "\n",
    "- Attach a dummy node at the start of linked list.\n",
    "- From there iterate through each node in the linked list.\n",
    "- If the current value equal to the val to be remove.\n",
    "- Remove this node from the linked list.\n",
    "- Finally return the next node after the dummy node.\n"
   ]
  },
  {
   "cell_type": "code",
   "execution_count": null,
   "metadata": {},
   "outputs": [],
   "source": [
    "public class ListNode {\n",
    "\n",
    "  int val;\n",
    "  ListNode next;\n",
    "\n",
    "  ListNode() {}\n",
    "\n",
    "  ListNode(int val) {\n",
    "    this.val = val;\n",
    "  }\n",
    "\n",
    "  ListNode(int val, ListNode next) {\n",
    "    this.val = val;\n",
    "    this.next = next;\n",
    "  }\n",
    "}\n"
   ]
  },
  {
   "cell_type": "code",
   "execution_count": null,
   "metadata": {},
   "outputs": [],
   "source": [
    "class Solution {\n",
    "\n",
    "  public ListNode removeElements(ListNode head, int val) {\n",
    "    if (head == null) {\n",
    "      return head;\n",
    "    }\n",
    "\n",
    "    // Create a dummy node at the start.\n",
    "    ListNode temp = new ListNode(0);\n",
    "\n",
    "    ListNode current = temp;\n",
    "    current.next = head;\n",
    "\n",
    "    while (current.next != null) {\n",
    "      if (current.next.val == val) {\n",
    "        current.next = current.next.next;\n",
    "        continue;\n",
    "      }\n",
    "      current = current.next;\n",
    "    }\n",
    "    return temp.next;\n",
    "  }\n",
    "}\n"
   ]
  },
  {
   "cell_type": "code",
   "execution_count": null,
   "metadata": {},
   "outputs": [],
   "source": [
    "Solution s = new Solution();"
   ]
  }
 ],
 "metadata": {
  "kernelspec": {
   "display_name": "Java",
   "language": "java",
   "name": "java"
  },
  "language_info": {
   "codemirror_mode": "java",
   "file_extension": ".jshell",
   "mimetype": "text/x-java-source",
   "name": "java",
   "pygments_lexer": "java",
   "version": "21.0.2+13-LTS-58"
  }
 },
 "nbformat": 4,
 "nbformat_minor": 2
}
