{
 "cells": [
  {
   "cell_type": "code",
   "execution_count": null,
   "metadata": {
    "vscode": {
     "languageId": "java"
    }
   },
   "outputs": [],
   "source": [
    "// Buddy Strings\n",
    "\n",
    "/*\n",
    ">>>>\n",
    ">>>>\n",
    ">>>>\n",
    ">>>>\n",
    "*/\n"
   ]
  },
  {
   "cell_type": "markdown",
   "metadata": {},
   "source": [
    "# Approach 1 (Best Solution).\n",
    "\n",
    "- Time Complexity - O(n).\n",
    "- Space Complexity - O(1).\n",
    "\n",
    "- If the strings are equal.\n",
    "  - Number of swap will be zero.\n",
    "  - If there is no duplicate character in the string, return false.\n",
    "  - If there is duplicate character in the string, return true.\n",
    "- If the strings are not equal.\n",
    "  - If number of swap is more than 2, return false.\n",
    "  - If the swap is 2 and corresponding characters are not equal, return false.\n",
    "  - Else return true."
   ]
  },
  {
   "cell_type": "code",
   "execution_count": 5,
   "metadata": {
    "vscode": {
     "languageId": "java"
    }
   },
   "outputs": [],
   "source": [
    "class Solution {\n",
    "\n",
    "  public boolean buddyStrings(String s, String goal) {\n",
    "    if (s.length() != goal.length()) {\n",
    "      return false;\n",
    "    }\n",
    "\n",
    "    int a = 0;\n",
    "    int b = 0;\n",
    "    int numSwap = 0;\n",
    "\n",
    "    // To check whether the string contain duplicate character or not.\n",
    "    boolean[] set = new boolean[26];\n",
    "    boolean hasDuplicateChar = false;\n",
    "\n",
    "    for (int i = 0; i < s.length(); i++) {\n",
    "      char first = s.charAt(i);\n",
    "      char second = goal.charAt(i);\n",
    "\n",
    "      // Block to check the if the string contain duplicate characters.\n",
    "      if (!hasDuplicateChar) {\n",
    "        if (set[first - 'a'] == true) {\n",
    "          hasDuplicateChar = true;\n",
    "        } else {\n",
    "          set[first - 'a'] = true;\n",
    "        }\n",
    "      }\n",
    "\n",
    "      if (first != second) {\n",
    "        numSwap++;\n",
    "        if (a == second && b == first) {\n",
    "          a = 0;\n",
    "          b = 0;\n",
    "        } else {\n",
    "          a = first;\n",
    "          b = second;\n",
    "        }\n",
    "        if (numSwap > 2) {\n",
    "          return false;\n",
    "        }\n",
    "      }\n",
    "    }\n",
    "\n",
    "    boolean result =\n",
    "      (a == 0 && numSwap == 2) || (numSwap == 0 && hasDuplicateChar == true);\n",
    "    return result;\n",
    "  }\n",
    "}\n"
   ]
  },
  {
   "cell_type": "code",
   "execution_count": 6,
   "metadata": {
    "vscode": {
     "languageId": "java"
    }
   },
   "outputs": [
    {
     "name": "stdout",
     "output_type": "stream",
     "text": [
      "false\n"
     ]
    }
   ],
   "source": [
    "Solution solution = new Solution();\n",
    "String s = \"ab\";\n",
    "String goal = \"ab\";\n",
    "boolean result = solution.buddyStrings(s, goal);\n",
    "System.out.println(result);"
   ]
  },
  {
   "cell_type": "code",
   "execution_count": null,
   "metadata": {
    "vscode": {
     "languageId": "java"
    }
   },
   "outputs": [],
   "source": []
  },
  {
   "cell_type": "code",
   "execution_count": null,
   "metadata": {
    "vscode": {
     "languageId": "java"
    }
   },
   "outputs": [],
   "source": []
  }
 ],
 "metadata": {
  "kernelspec": {
   "display_name": "Java",
   "language": "java",
   "name": "java"
  },
  "language_info": {
   "codemirror_mode": "java",
   "file_extension": ".jshell",
   "mimetype": "text/x-java-source",
   "name": "Java",
   "pygments_lexer": "java",
   "version": "22.0.1+8-16"
  }
 },
 "nbformat": 4,
 "nbformat_minor": 2
}
