{
 "cells": [
  {
   "cell_type": "code",
   "execution_count": null,
   "metadata": {},
   "outputs": [],
   "source": [
    "// Relative Sort Array\n",
    "\n",
    "/*\n",
    ">>>>\n",
    ">>>>\n",
    ">>>>\n",
    ">>>>\n",
    "*/\n"
   ]
  },
  {
   "cell_type": "markdown",
   "metadata": {},
   "source": [
    "# Approach 1 (Best Solution).\n",
    "- Time Complexity - O(n).\n",
    "- Space Complexity - O(1).\n",
    "\n",
    "- We create an array (set) to store the count of each character in the arr1.\n",
    "- We modify the arr1 itself to store the result.\n",
    "- We create a variable left to append values to the arr1.\n",
    "- Loop through all the number in the arr2.\n",
    "  - Get the count of that number in the arr1 using the arrays(set) and append that much number into the arr1.\n",
    "  - Decrement the count in the array (set).\n",
    "- Loop through the array (set) and append the remaining element to the arr1.\n"
   ]
  },
  {
   "cell_type": "code",
   "execution_count": null,
   "metadata": {},
   "outputs": [],
   "source": [
    "class Solution {\n",
    "\n",
    "  public int[] relativeSortArray(int[] arr1, int[] arr2) {\n",
    "    int left = 0;\n",
    "    int[] set = new int[1001];\n",
    "\n",
    "    for (int num : arr1) {\n",
    "      set[num]++;\n",
    "    }\n",
    "\n",
    "    for (int num : arr2) {\n",
    "      while (set[num] > 0) {\n",
    "        arr1[left++] = num;\n",
    "        set[num]--;\n",
    "      }\n",
    "    }\n",
    "\n",
    "    for (int i = 0; i < 1001; i++) {\n",
    "      while (set[i] > 0) {\n",
    "        arr1[left++] = i;\n",
    "        set[i]--;\n",
    "      }\n",
    "    }\n",
    "\n",
    "    return arr1;\n",
    "  }\n",
    "}\n"
   ]
  },
  {
   "cell_type": "code",
   "execution_count": null,
   "metadata": {},
   "outputs": [],
   "source": [
    "Solution s = new Solution();\n",
    "\n",
    "int[] arr1 = {2, 3, 1, 3, 2, 4, 6, 7, 9, 2, 19};\n",
    "int[] arr2 = {2, 1, 4, 3, 9, 6};\n",
    "int[] result = s.relativeSortArray(arr1, arr2);\n",
    "System.out.println(Arrays.toString(result));"
   ]
  },
  {
   "cell_type": "code",
   "execution_count": null,
   "metadata": {},
   "outputs": [],
   "source": []
  }
 ],
 "metadata": {
  "kernelspec": {
   "display_name": "Java",
   "language": "java",
   "name": "java"
  },
  "language_info": {
   "codemirror_mode": "java",
   "file_extension": ".jshell",
   "mimetype": "text/x-java-source",
   "name": "java",
   "pygments_lexer": "java",
   "version": "21.0.2+13-LTS-58"
  }
 },
 "nbformat": 4,
 "nbformat_minor": 2
}
