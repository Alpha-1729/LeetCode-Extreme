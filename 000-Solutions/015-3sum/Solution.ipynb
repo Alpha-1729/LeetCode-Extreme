{
 "cells": [
  {
   "cell_type": "code",
   "execution_count": null,
   "metadata": {
    "vscode": {
     "languageId": "java"
    }
   },
   "outputs": [],
   "source": [
    "// 3sum\n",
    "\n",
    "/*\n",
    ">>>>\n",
    ">>>>\n",
    ">>>>\n",
    ">>>>\n",
    "*/\n"
   ]
  },
  {
   "cell_type": "markdown",
   "metadata": {},
   "source": [
    "# Approach 1 (Best Solution).\n",
    "- Time Complexity - O(n^2).\n",
    "- Space Complexity - O(n).\n",
    "\n",
    "- Sort the array.\n",
    "- Loop through all the elements in the array.\n",
    "- If the array element is positive break the loop.\n",
    "- Else select the current element as the first number.\n",
    "  -  Find a pair using the other elements in the array with sum (equal to the negative of the current element.)\n",
    "  -  Add these 3 numbers to the output array.\n",
    "- Solution is implemented by selecting the first element and find the second and third element using the TwoSum method (With arrays sorted.)\n"
   ]
  },
  {
   "cell_type": "code",
   "execution_count": 6,
   "metadata": {
    "vscode": {
     "languageId": "java"
    }
   },
   "outputs": [],
   "source": [
    "class Solution {\n",
    "    public List<List<Integer>> threeSum(int[] nums) {\n",
    "        Arrays.sort(nums);\n",
    "        List<List<Integer>> output = new ArrayList<>();\n",
    "\n",
    "        for (int i = 0; i < nums.length - 2; i++) {\n",
    "            if (nums[i] > 0) {\n",
    "                break;\n",
    "            }\n",
    "            // If the previous element is same as the current, select next element.\n",
    "            if ((i == 0) || (i > 0 && nums[i - 1] != nums[i])) {\n",
    "\n",
    "                int left = i + 1;\n",
    "                int right = nums.length - 1;\n",
    "                int sum = 0 - nums[i];\n",
    "\n",
    "                while (left < right) {\n",
    "                    if (nums[left] + nums[right] == sum) {\n",
    "                        output.add(Arrays.asList(nums[i], nums[left], nums[right]));\n",
    "                        while (left < right && nums[left] == nums[left + 1]) {\n",
    "                            left++;\n",
    "                        }\n",
    "                        while (left < right && nums[right] == nums[right - 1]) {\n",
    "                            right--;\n",
    "                        } \n",
    "                        left++;\n",
    "                        right--;\n",
    "                    } else if (nums[left] + nums[right] < sum) {\n",
    "                        left++;\n",
    "                    } else {\n",
    "                        right--;\n",
    "                    }\n",
    "                }\n",
    "\n",
    "            }\n",
    "        }\n",
    "        return output;\n",
    "    }\n",
    "}"
   ]
  },
  {
   "cell_type": "code",
   "execution_count": 7,
   "metadata": {
    "vscode": {
     "languageId": "java"
    }
   },
   "outputs": [
    {
     "name": "stdout",
     "output_type": "stream",
     "text": [
      "[[-1, -1, 2], [-1, 0, 1]]\n"
     ]
    }
   ],
   "source": [
    "Solution solution = new Solution();\n",
    "int[] nums = {-1, 0, 1, 2, -1, -4};\n",
    "List<List<Integer>> result = solution.threeSum(nums);\n",
    "System.out.println(result);"
   ]
  },
  {
   "cell_type": "code",
   "execution_count": null,
   "metadata": {
    "vscode": {
     "languageId": "java"
    }
   },
   "outputs": [],
   "source": []
  }
 ],
 "metadata": {
  "kernelspec": {
   "display_name": "Java",
   "language": "java",
   "name": "java"
  },
  "language_info": {
   "codemirror_mode": "java",
   "file_extension": ".jshell",
   "mimetype": "text/x-java-source",
   "name": "Java",
   "pygments_lexer": "java",
   "version": "22.0.2+9-70"
  }
 },
 "nbformat": 4,
 "nbformat_minor": 2
}
