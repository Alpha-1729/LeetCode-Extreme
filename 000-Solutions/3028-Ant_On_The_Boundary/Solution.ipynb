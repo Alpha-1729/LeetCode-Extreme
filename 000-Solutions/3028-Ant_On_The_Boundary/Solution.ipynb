{
 "cells": [
  {
   "cell_type": "code",
   "execution_count": null,
   "metadata": {},
   "outputs": [],
   "source": [
    "// Ant On The Boundary\n",
    "\n",
    "/*\n",
    ">>>>\n",
    ">>>>\n",
    ">>>>\n",
    ">>>>\n",
    "*/\n"
   ]
  },
  {
   "cell_type": "markdown",
   "metadata": {},
   "source": [
    "# Approach 1 (Best Solution).\n",
    "- Time Complexity - O(n).\n",
    "- Space Complexity - O(1).\n",
    "\n",
    "- If the new position is 0, increment the count.\n",
    "- Return the count."
   ]
  },
  {
   "cell_type": "code",
   "execution_count": null,
   "metadata": {},
   "outputs": [],
   "source": [
    "class Solution {\n",
    "    public int returnToBoundaryCount(int[] nums) {\n",
    "        int oldPosition = 0;\n",
    "        int reachedBoundaryCount = 0;\n",
    "        for (int num : nums) {\n",
    "            int newPosition = oldPosition + num;\n",
    "            if (newPosition == 0) {\n",
    "                reachedBoundaryCount++;\n",
    "            }\n",
    "            oldPosition = newPosition;\n",
    "        }\n",
    "        return reachedBoundaryCount;\n",
    "    }\n",
    "}"
   ]
  },
  {
   "cell_type": "code",
   "execution_count": null,
   "metadata": {},
   "outputs": [],
   "source": [
    "Solution solution = new Solution();\n",
    "int[] nums = {2, 3, -5};\n",
    "int result = solution.returnToBoundaryCount(nums);\n",
    "System.out.println(result);"
   ]
  }
 ],
 "metadata": {
  "kernelspec": {
   "display_name": "Java",
   "language": "java",
   "name": "java"
  },
  "language_info": {
   "codemirror_mode": "java",
   "file_extension": ".jshell",
   "mimetype": "text/x-java-source",
   "name": "java",
   "pygments_lexer": "java",
   "version": "21.0.2+13-LTS-58"
  }
 },
 "nbformat": 4,
 "nbformat_minor": 2
}
