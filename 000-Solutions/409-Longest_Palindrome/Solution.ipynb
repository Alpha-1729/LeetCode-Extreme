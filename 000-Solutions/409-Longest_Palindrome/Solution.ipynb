{
 "cells": [
  {
   "cell_type": "code",
   "execution_count": null,
   "metadata": {},
   "outputs": [],
   "source": [
    "// Longest Palindrome\n",
    "\n",
    "/*\n",
    ">>>>\n",
    ">>>>\n",
    ">>>>\n",
    ">>>>\n",
    "*/\n"
   ]
  },
  {
   "cell_type": "markdown",
   "metadata": {},
   "source": [
    "# Approach 1 (Best Solution).\n",
    "- Time Complexity - O(n).\n",
    "- Space Complexity - O(1).\n",
    "\n",
    "- If the count of character is even, It can contribute to the palindrome.\n",
    "- If the count of character n is a odd, then n - 1 numbers can contribute to the palindrome.\n",
    "- Loop through all the character in the string.\n",
    "- Keep the count of each character in the array.\n",
    "- Loop through the array, if the value is even, add it to the count.\n",
    "- Else add value - 1 to count.\n",
    "- Return the count."
   ]
  },
  {
   "cell_type": "code",
   "execution_count": null,
   "metadata": {},
   "outputs": [],
   "source": [
    "class Solution {\n",
    "    public int longestPalindrome(String s) {\n",
    "\n",
    "        int count = 0;\n",
    "        boolean isOdd = false;\n",
    "        int[] set = new int[52];\n",
    "\n",
    "        for (int i = 0; i < s.length(); i++) {\n",
    "            char ch = s.charAt(i);\n",
    "            if (ch <= 'Z') {\n",
    "                set[ch - 'A']++;\n",
    "                continue;\n",
    "            }\n",
    "            set[ch - 'a' + 26]++;\n",
    "        }\n",
    "\n",
    "        for (int i = 0; i < 52; i++) {\n",
    "            int charCount = set[i];\n",
    "            if (charCount % 2 == 0) {\n",
    "                count += charCount;\n",
    "            } else {\n",
    "                count += charCount - 1;\n",
    "                isOdd = true;\n",
    "            }\n",
    "        }\n",
    "\n",
    "        return count + (isOdd ? 1 : 0);\n",
    "    }\n",
    "}"
   ]
  },
  {
   "cell_type": "markdown",
   "metadata": {
    "tags": [
     "parameters"
    ],
    "vscode": {
     "languageId": "java"
    }
   },
   "source": [
    "# Approach 2 using HashSet (Best Solution).\n",
    "- Time Complexity - O(n).\n",
    "- Space Complexity - O(1).\n",
    "\n",
    "- If the count of character is even, It can contribute to the palindrome.\n",
    "- If the count of character n is a odd, then n - 1 numbers can contribute to the palindrome.\n",
    "- Loop through all the character in the string.\n",
    "- Add each character to the hashset.\n",
    "- If already an item is present in the hashset, remove the item from the hashset and increment the count by 2.\n",
    "- Finally if there is any item in the hashset, increment the count by 1.\n",
    "- Return the count."
   ]
  },
  {
   "cell_type": "code",
   "execution_count": null,
   "metadata": {},
   "outputs": [],
   "source": [
    "class Solution {\n",
    "    public int longestPalindrome(String s) {\n",
    "        int largestPalindromeLength = 0;\n",
    "        Set<Character> set = new HashSet<>();\n",
    "\n",
    "        for (int i = 0; i < s.length(); i++)\n",
    "        {\n",
    "            char ch = s.charAt(i);\n",
    "\n",
    "            if (set.contains(ch))\n",
    "            {\n",
    "                largestPalindromeLength += 2;\n",
    "                set.remove(ch);\n",
    "                continue;\n",
    "            }\n",
    "            set.add(ch);\n",
    "        }\n",
    "\n",
    "        if (!set.isEmpty())\n",
    "        {\n",
    "            largestPalindromeLength++;\n",
    "        }\n",
    "\n",
    "        return largestPalindromeLength;\n",
    "    }\n",
    "}"
   ]
  },
  {
   "cell_type": "code",
   "execution_count": null,
   "metadata": {},
   "outputs": [],
   "source": [
    "Solution solution = new Solution();\n",
    "String s = \"aaaAaaaa\";\n",
    "solution.longestPalindrome(s);"
   ]
  },
  {
   "cell_type": "code",
   "execution_count": null,
   "metadata": {},
   "outputs": [],
   "source": []
  },
  {
   "cell_type": "code",
   "execution_count": null,
   "metadata": {},
   "outputs": [],
   "source": []
  }
 ],
 "metadata": {
  "kernelspec": {
   "display_name": "Java",
   "language": "java",
   "name": "java"
  },
  "language_info": {
   "codemirror_mode": "java",
   "file_extension": ".jshell",
   "mimetype": "text/x-java-source",
   "name": "java",
   "pygments_lexer": "java",
   "version": "21.0.3+9-Debian-2"
  }
 },
 "nbformat": 4,
 "nbformat_minor": 2
}
