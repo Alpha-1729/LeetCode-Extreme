{
 "cells": [
  {
   "cell_type": "code",
   "execution_count": null,
   "metadata": {},
   "outputs": [],
   "source": [
    "// Count Integers With Even Digit Sum\n",
    "\n",
    "/*\n",
    ">>>>\n",
    ">>>>\n",
    ">>>>\n",
    ">>>>\n",
    "*/\n"
   ]
  },
  {
   "cell_type": "markdown",
   "metadata": {},
   "source": [
    "# Approach 1 (Best Solution).\n",
    "- Time Complexity - O(1).\n",
    "- Space Complexity - O(1).\n",
    "\n",
    "1. **Initialization**:\n",
    "   - `digitSum` is initialized to 0. This variable will store the sum of the digits of the number `num`.\n",
    "   - `temp` is initialized to the value of `num`. This variable is used to extract and sum the digits of `num`.\n",
    "\n",
    "2. **Calculating the Sum of Digits**:\n",
    "   - The method uses a `while` loop to sum the digits of `num`.\n",
    "   - Inside the loop:\n",
    "     - The last digit of `temp` is added to `digitSum` using `temp % 10`.\n",
    "     - `temp` is then updated by removing the last digit using integer division (`temp /= 10`).\n",
    "   - This process continues until `temp` becomes 0, ensuring all digits are summed.\n",
    "\n",
    "3. **Determine the Result**:\n",
    "   - After calculating the sum of the digits (`digitSum`), the method checks if this sum is even or odd using `digitSum % 2 == 0`.\n",
    "   - If the sum is even, the method returns `num / 2`. This represents the count of even numbers from `1` to `num` where the digit sum is also even.\n",
    "   - If the sum is odd, the method returns `(num - 1) / 2`, accounting for the fact that the number of even-digit-sum even numbers is one less in this case.\n",
    "\n",
    "4. **Return Value**:\n",
    "   - The method returns the calculated result based on the digit sum's parity."
   ]
  },
  {
   "cell_type": "code",
   "execution_count": null,
   "metadata": {},
   "outputs": [],
   "source": [
    "class Solution {\n",
    "    public int countEven(int num) {\n",
    "        int digitSum = 0;\n",
    "        int temp = num;\n",
    "        while (temp > 0) {\n",
    "            digitSum += temp % 10;\n",
    "            temp /= 10;\n",
    "        }\n",
    "        return digitSum % 2 == 0 ? num / 2 : (num - 1) / 2;\n",
    "    }\n",
    "}"
   ]
  },
  {
   "cell_type": "code",
   "execution_count": null,
   "metadata": {},
   "outputs": [],
   "source": [
    "Solution solution = new Solution();\n",
    "int num = 4;\n",
    "int result = solution.countEven(num);\n",
    "System.out.println(result);"
   ]
  }
 ],
 "metadata": {
  "kernelspec": {
   "display_name": "Java",
   "language": "java",
   "name": "java"
  },
  "language_info": {
   "codemirror_mode": "java",
   "file_extension": ".jshell",
   "mimetype": "text/x-java-source",
   "name": "java",
   "pygments_lexer": "java",
   "version": "21.0.2+13-LTS-58"
  }
 },
 "nbformat": 4,
 "nbformat_minor": 2
}
