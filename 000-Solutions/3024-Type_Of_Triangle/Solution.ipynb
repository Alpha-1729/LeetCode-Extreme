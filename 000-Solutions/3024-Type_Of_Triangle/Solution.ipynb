{
 "cells": [
  {
   "cell_type": "code",
   "execution_count": null,
   "metadata": {
    "vscode": {
     "languageId": "java"
    }
   },
   "outputs": [],
   "source": [
    "// Type Of Triangle\n",
    "\n",
    "/*\n",
    ">>>>\n",
    ">>>>\n",
    ">>>>\n",
    ">>>>\n",
    "*/\n"
   ]
  },
  {
   "cell_type": "markdown",
   "metadata": {},
   "source": [
    "# Approach 1 (Best Solution).\n",
    "- Time Complexity - O(1).\n",
    "- Space Complexity - O(1).\n",
    "\n",
    "- Create a function to check whether we can form a triangle with the sides.\n",
    "- If not triangle return none.\n",
    "- If all sides are equal, return equilateral.\n",
    "- If all sides are not equal, return scalene.\n",
    "- Else return isosceles."
   ]
  },
  {
   "cell_type": "code",
   "execution_count": 1,
   "metadata": {
    "vscode": {
     "languageId": "java"
    }
   },
   "outputs": [],
   "source": [
    "class Solution {\n",
    "\n",
    "  public String triangleType(int[] nums) {\n",
    "    int s1 = nums[0];\n",
    "    int s2 = nums[1];\n",
    "    int s3 = nums[2];\n",
    "\n",
    "    if (!isTriangle(s1, s2, s3)) {\n",
    "      return \"none\";\n",
    "    } else if ((s1 == s2) && (s2 == s3)) {\n",
    "      return \"equilateral\";\n",
    "    } else if ((s1 != s2) && (s2 != s3) && (s1 != s3)) {\n",
    "      return \"scalene\";\n",
    "    } else {\n",
    "      return \"isosceles\";\n",
    "    }\n",
    "  }\n",
    "\n",
    "  public boolean isTriangle(int s1, int s2, int s3) {\n",
    "    if (((s1 + s2) <= s3) || ((s1 + s3) <= s2) || ((s2 + s3) <= s1)) {\n",
    "      return false;\n",
    "    }\n",
    "    return true;\n",
    "  }\n",
    "}\n"
   ]
  },
  {
   "cell_type": "code",
   "execution_count": 3,
   "metadata": {
    "vscode": {
     "languageId": "java"
    }
   },
   "outputs": [
    {
     "name": "stdout",
     "output_type": "stream",
     "text": [
      "equilateral\n"
     ]
    }
   ],
   "source": [
    "Solution s = new Solution();\n",
    "int[] nums = {3, 3, 3};\n",
    "String result = s.triangleType(nums);\n",
    "System.out.println(result);"
   ]
  },
  {
   "cell_type": "code",
   "execution_count": null,
   "metadata": {
    "vscode": {
     "languageId": "java"
    }
   },
   "outputs": [],
   "source": []
  }
 ],
 "metadata": {
  "kernelspec": {
   "display_name": "Java",
   "language": "java",
   "name": "java"
  },
  "language_info": {
   "codemirror_mode": "java",
   "file_extension": ".jshell",
   "mimetype": "text/x-java-source",
   "name": "Java",
   "pygments_lexer": "java",
   "version": "22.0.1+8-16"
  }
 },
 "nbformat": 4,
 "nbformat_minor": 2
}
