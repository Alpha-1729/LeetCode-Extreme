{
 "cells": [
  {
   "cell_type": "code",
   "execution_count": null,
   "metadata": {},
   "outputs": [],
   "source": [
    "// Available Captures For Rook\n",
    "\n",
    "/*\n",
    ">>>>\n",
    ">>>>\n",
    ">>>>\n",
    ">>>>\n",
    "*/\n"
   ]
  },
  {
   "cell_type": "markdown",
   "metadata": {},
   "source": [
    "# Approach 1 (Best Solution).\n",
    "- Time Complexity - O(n^2).\n",
    "- Space Complexity - O(1).\n",
    "\n",
    "- Find identify the row and column of the Rook.\n",
    "- Check the left, right, top and bottom of the Rook.\n",
    "- If there is a pawn on that position, increment the count of the pawn.\n",
    "- Return the pawn count."
   ]
  },
  {
   "cell_type": "code",
   "execution_count": 1,
   "metadata": {},
   "outputs": [],
   "source": [
    "class Solution {\n",
    "\n",
    "  public int numRookCaptures(char[][] board) {\n",
    "    int pawnCount = 0;\n",
    "    int rookRow = 0, rookCol = 0;\n",
    "\n",
    "    // Find the position of the Rook.\n",
    "    for (int i = 0; i < board.length; i++) {\n",
    "      for (int j = 0; j < board.length; j++) {\n",
    "        if (board[i][j] == 'R') {\n",
    "          rookRow = i;\n",
    "          rookCol = j;\n",
    "          break;\n",
    "        }\n",
    "      }\n",
    "    }\n",
    "\n",
    "    // Move left of Rook.\n",
    "    for (int i = rookCol - 1; i >= 0; i--) {\n",
    "      if (board[rookRow][i] == 'B') {\n",
    "        break;\n",
    "      }\n",
    "      if (board[rookRow][i] == 'p') {\n",
    "        pawnCount++;\n",
    "        break;\n",
    "      }\n",
    "    }\n",
    "    // Move right of Rook.\n",
    "    for (int i = rookCol + 1; i < board.length; i++) {\n",
    "      if (board[rookRow][i] == 'B') {\n",
    "        break;\n",
    "      }\n",
    "      if (board[rookRow][i] == 'p') {\n",
    "        pawnCount++;\n",
    "        break;\n",
    "      }\n",
    "    }\n",
    "    // Move top of the Rook.\n",
    "    for (int i = rookRow - 1; i >= 0; i--) {\n",
    "      if (board[i][rookCol] == 'B') {\n",
    "        break;\n",
    "      }\n",
    "      if (board[i][rookCol] == 'p') {\n",
    "        pawnCount++;\n",
    "        break;\n",
    "      }\n",
    "    }\n",
    "    // Move bottom of the Rook.\n",
    "    for (int i = rookRow + 1; i < board.length; i++) {\n",
    "      if (board[i][rookCol] == 'B') {\n",
    "        break;\n",
    "      }\n",
    "      if (board[i][rookCol] == 'p') {\n",
    "        pawnCount++;\n",
    "        break;\n",
    "      }\n",
    "    }\n",
    "\n",
    "    return pawnCount;\n",
    "  }\n",
    "}\n"
   ]
  },
  {
   "cell_type": "code",
   "execution_count": 2,
   "metadata": {},
   "outputs": [
    {
     "name": "stdout",
     "output_type": "stream",
     "text": [
      "3\n"
     ]
    }
   ],
   "source": [
    "Solution s = new Solution();\n",
    "char[][] board = {\n",
    "\t{'.', '.', '.', '.', '.', '.', '.', '.'},\n",
    "\t{'.', '.', '.', 'p', '.', '.', '.', '.'},\n",
    "\t{'.', '.', '.', 'R', '.', '.', '.', 'p'},\n",
    "\t{'.', '.', '.', '.', '.', '.', '.', '.'},\n",
    "\t{'.', '.', '.', '.', '.', '.', '.', '.'},\n",
    "\t{'.', '.', '.', 'p', '.', '.', '.', '.'},\n",
    "\t{'.', '.', '.', '.', '.', '.', '.', '.'},\n",
    "\t{'.', '.', '.', '.', '.', '.', '.', '.'}};\n",
    "int result = s.numRookCaptures(board);\n",
    "System.out.println(result);"
   ]
  },
  {
   "cell_type": "code",
   "execution_count": null,
   "metadata": {},
   "outputs": [],
   "source": []
  }
 ],
 "metadata": {
  "kernelspec": {
   "display_name": "Java",
   "language": "java",
   "name": "java"
  },
  "language_info": {
   "codemirror_mode": "java",
   "file_extension": ".jshell",
   "mimetype": "text/x-java-source",
   "name": "java",
   "pygments_lexer": "java",
   "version": "22.0.1+8-16"
  }
 },
 "nbformat": 4,
 "nbformat_minor": 2
}
