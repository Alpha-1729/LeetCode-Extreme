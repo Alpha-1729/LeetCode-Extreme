{
 "cells": [
  {
   "cell_type": "code",
   "execution_count": null,
   "metadata": {
    "vscode": {
     "languageId": "java"
    }
   },
   "outputs": [],
   "source": [
    "// Find The Distance Value Between Two Arrays\n",
    "\n",
    "/*\n",
    ">>>>\n",
    ">>>>\n",
    ">>>>\n",
    ">>>>\n",
    "*/\n"
   ]
  },
  {
   "cell_type": "markdown",
   "metadata": {},
   "source": [
    "# Approach 1 (Best Solution).\n",
    "- Time Complexity - O(nlogm + mlogm).\n",
    "- Space Complexity - O(1).\n",
    "\n",
    "1. **Sort `arr2`**:\n",
    "   - The method starts by sorting `arr2` using `Arrays.sort(arr2)`. Sorting helps in efficiently finding if there exists an element within the distance `d` using binary search.\n",
    "\n",
    "2. **Initialize Count**:\n",
    "   - The method initializes `count` to the length of `arr1`. This variable keeps track of the number of elements in `arr1` that do not have any corresponding element in `arr2` within distance `d`.\n",
    "\n",
    "3. **Iterate Over `arr1`**:\n",
    "   - For each element `num` in `arr1`, the method performs a binary search on the sorted `arr2` to determine if there is an element within the distance `d` from `num`.\n",
    "\n",
    "4. **Binary Search**:\n",
    "   - The binary search is performed with `left` and `right` pointers:\n",
    "     - `left` starts at index `0`, and `right` starts at the last index of `arr2`.\n",
    "     - In each iteration, the middle index `mid` is calculated.\n",
    "     - If the absolute difference between `num` and `arr2[mid]` is less than or equal to `d`, it means there is an element in `arr2` within the distance `d` from `num`. Therefore, the count is decremented, and the loop breaks to check the next element in `arr1`.\n",
    "     - If `arr2[mid]` is less than `num`, it means `num` might be closer to an element to the right of `mid`, so `left` is updated to `mid + 1`.\n",
    "     - If `arr2[mid]` is greater than `num`, it means `num` might be closer to an element to the left of `mid`, so `right` is updated to `mid - 1`.\n",
    "\n",
    "5. **Return Result**:\n",
    "   - After processing all elements in `arr1`, the method returns `count`, which represents the number of elements in `arr1` that do not have any corresponding element in `arr2` within distance `d`."
   ]
  },
  {
   "cell_type": "code",
   "execution_count": null,
   "metadata": {
    "vscode": {
     "languageId": "java"
    }
   },
   "outputs": [],
   "source": [
    "class Solution {\n",
    "    public int findTheDistanceValue(int[] arr1, int[] arr2, int d) {\n",
    "        Arrays.sort(arr2);\n",
    "        int count = arr1.length;\n",
    "        for (int i = 0; i < arr1.length; i++) {\n",
    "            int num = arr1[i];\n",
    "            int left = 0, right = arr2.length - 1;\n",
    "            while (left <= right) {\n",
    "                int mid = left + (right - left) / 2;\n",
    "                if (Math.abs(num - arr2[mid]) <= d) {\n",
    "                    count--;\n",
    "                    break;\n",
    "                } else if (arr2[mid] < num) {\n",
    "                    left = mid + 1;\n",
    "                } else {\n",
    "                    right = mid - 1;\n",
    "                }\n",
    "            }\n",
    "        }\n",
    "        return count;\n",
    "    }\n",
    "}\n"
   ]
  },
  {
   "cell_type": "code",
   "execution_count": null,
   "metadata": {
    "vscode": {
     "languageId": "java"
    }
   },
   "outputs": [],
   "source": [
    "Solution solution = new Solution();\n",
    "int[] arr1 = {4, 5, 8}; \n",
    "int[] arr2 = {10, 9, 1, 8};\n",
    "int d = 2;\n",
    "int result = solution.findTheDistanceValue(arr1, arr2, d);\n",
    "System.out.println(result);"
   ]
  },
  {
   "cell_type": "code",
   "execution_count": null,
   "metadata": {
    "vscode": {
     "languageId": "java"
    }
   },
   "outputs": [],
   "source": []
  },
  {
   "cell_type": "code",
   "execution_count": null,
   "metadata": {
    "vscode": {
     "languageId": "java"
    }
   },
   "outputs": [],
   "source": []
  }
 ],
 "metadata": {
  "kernelspec": {
   "display_name": "Java",
   "language": "java",
   "name": "java"
  },
  "language_info": {
   "codemirror_mode": "java",
   "file_extension": ".jshell",
   "mimetype": "text/x-java-source",
   "name": "Java",
   "pygments_lexer": "java",
   "version": "22.0.2+9-70"
  }
 },
 "nbformat": 4,
 "nbformat_minor": 4
}
