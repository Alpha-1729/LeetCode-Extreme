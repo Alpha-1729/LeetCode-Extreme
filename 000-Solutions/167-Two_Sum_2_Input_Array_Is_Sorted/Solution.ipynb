{
 "cells": [
  {
   "cell_type": "code",
   "execution_count": null,
   "metadata": {
    "vscode": {
     "languageId": "java"
    }
   },
   "outputs": [],
   "source": [
    "// Two Sum 2 Input Array Is Sorted\n",
    "\n",
    "/*\n",
    ">>>>\n",
    ">>>>\n",
    ">>>>\n",
    ">>>>\n",
    "*/\n"
   ]
  },
  {
   "cell_type": "markdown",
   "metadata": {},
   "source": [
    "# Approach 1 (Best Solution).\n",
    "\n",
    "- Time Complexity - O(logn).\n",
    "- Space Complexity - O(1).\n",
    "\n",
    "- Since the array is sorted, use binary search and two pointer approach.\n"
   ]
  },
  {
   "cell_type": "code",
   "execution_count": 1,
   "metadata": {
    "vscode": {
     "languageId": "java"
    }
   },
   "outputs": [],
   "source": [
    "class Solution {\n",
    "\n",
    "  public int[] twoSum(int[] numbers, int target) {\n",
    "    int left = 0;\n",
    "    int right = numbers.length - 1;\n",
    "\n",
    "    while (left < right) {\n",
    "      int sum = numbers[left] + numbers[right];\n",
    "      int mid = (left + right) / 2;\n",
    "\n",
    "      if (sum == target) {\n",
    "        return new int[] { left + 1, right + 1 };\n",
    "      } else if (sum > target) {\n",
    "        if (numbers[left] + numbers[mid] > target) {\n",
    "          right = mid - 1;\n",
    "        } else {\n",
    "          right--;\n",
    "        }\n",
    "      } else {\n",
    "        if (numbers[mid] + numbers[right] < target) {\n",
    "          left = mid + 1;\n",
    "        } else {\n",
    "          left++;\n",
    "        }\n",
    "      }\n",
    "    }\n",
    "    return new int[] {};\n",
    "  }\n",
    "}\n"
   ]
  },
  {
   "cell_type": "code",
   "execution_count": 2,
   "metadata": {
    "vscode": {
     "languageId": "java"
    }
   },
   "outputs": [],
   "source": [
    "Solution solution = new Solution();\n",
    "int[] numbers ={2, 7, 11, 15};\n",
    "int target = 9;\n",
    "int res"
   ]
  },
  {
   "cell_type": "code",
   "execution_count": null,
   "metadata": {
    "vscode": {
     "languageId": "java"
    }
   },
   "outputs": [],
   "source": []
  }
 ],
 "metadata": {
  "kernelspec": {
   "display_name": "Java",
   "language": "java",
   "name": "java"
  },
  "language_info": {
   "codemirror_mode": "java",
   "file_extension": ".jshell",
   "mimetype": "text/x-java-source",
   "name": "Java",
   "pygments_lexer": "java",
   "version": "22.0.1+8-16"
  }
 },
 "nbformat": 4,
 "nbformat_minor": 2
}
