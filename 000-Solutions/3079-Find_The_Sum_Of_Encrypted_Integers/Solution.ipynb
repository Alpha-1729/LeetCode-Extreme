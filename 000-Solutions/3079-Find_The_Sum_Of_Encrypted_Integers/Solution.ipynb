{
 "cells": [
  {
   "cell_type": "code",
   "execution_count": null,
   "metadata": {},
   "outputs": [],
   "source": [
    "// Find The Sum Of Encrypted Integers\n",
    "\n",
    "/*\n",
    ">>>>\n",
    ">>>>\n",
    ">>>>\n",
    ">>>>\n",
    "*/\n"
   ]
  },
  {
   "cell_type": "markdown",
   "metadata": {},
   "source": [
    "# Approach 1 (Best Solution).\n",
    "- Time Complexity - O(n).\n",
    "- Space Complexity - O(1).\n",
    "\n",
    "- Create a function to get the encrypted number.\n",
    "  - Find the max digit in the number.\n",
    "  - Suppose if the max digit is 8 and length of the number is 3, encrypted number is 888 (8 * 111);\n",
    "  - Return the product of the largest digit and multiplier (It will be number like 1, 11, 111, 1111);\n",
    "- Add the encrypted number and return the sum."
   ]
  },
  {
   "cell_type": "code",
   "execution_count": 2,
   "metadata": {},
   "outputs": [],
   "source": [
    "class Solution {\n",
    "\n",
    "  public int sumOfEncryptedInt(int[] nums) {\n",
    "    int sum = 0;\n",
    "    for (int i = 0; i < nums.length; i++) {\n",
    "      sum += getEncryptedNumber(nums[i]);\n",
    "    }\n",
    "    return sum;\n",
    "  }\n",
    "\n",
    "  public int getEncryptedNumber(int x) {\n",
    "    int maxNum = 0;\n",
    "    int multiplier = 0;\n",
    "    while (x > 0) {\n",
    "      maxNum = Math.max(maxNum, x % 10);\n",
    "      multiplier = (multiplier * 10) + 1;\n",
    "      x /= 10;\n",
    "    }\n",
    "    return maxNum * multiplier;\n",
    "  }\n",
    "}\n"
   ]
  },
  {
   "cell_type": "code",
   "execution_count": 3,
   "metadata": {},
   "outputs": [
    {
     "name": "stdout",
     "output_type": "stream",
     "text": [
      "6\n"
     ]
    },
    {
     "ename": "",
     "evalue": "",
     "output_type": "error",
     "traceback": [
      "\u001b[1;31mThe Kernel crashed while executing code in the current cell or a previous cell. \n",
      "\u001b[1;31mPlease review the code in the cell(s) to identify a possible cause of the failure. \n",
      "\u001b[1;31mClick <a href='https://aka.ms/vscodeJupyterKernelCrash'>here</a> for more info. \n",
      "\u001b[1;31mView Jupyter <a href='command:jupyter.viewOutput'>log</a> for further details."
     ]
    }
   ],
   "source": [
    "Solution solution = new Solution();\n",
    "int[] nums = {1, 2, 3};\n",
    "int result = solution.sumOfEncryptedInt(nums);\n",
    "System.out.println(result);"
   ]
  },
  {
   "cell_type": "code",
   "execution_count": null,
   "metadata": {},
   "outputs": [],
   "source": []
  }
 ],
 "metadata": {
  "kernelspec": {
   "display_name": "Java",
   "language": "java",
   "name": "java"
  },
  "language_info": {
   "codemirror_mode": "java",
   "file_extension": ".jshell",
   "mimetype": "text/x-java-source",
   "name": "java",
   "pygments_lexer": "java",
   "version": "22.0.1+8-16"
  }
 },
 "nbformat": 4,
 "nbformat_minor": 2
}
