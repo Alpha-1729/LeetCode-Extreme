{
 "cells": [
  {
   "cell_type": "code",
   "execution_count": null,
   "metadata": {
    "vscode": {
     "languageId": "java"
    }
   },
   "outputs": [],
   "source": [
    "// Count Negative Numbers In A Sorted Matrix\n",
    "\n",
    "/*\n",
    ">>>>\n",
    ">>>>\n",
    ">>>>\n",
    ">>>>\n",
    "*/\n"
   ]
  },
  {
   "cell_type": "markdown",
   "metadata": {},
   "source": [
    "# Approach 1 (Best Solution).\n",
    "- Time Complexity - O(m + n).\n",
    "- Space Complexity - O(1).\n",
    "\n",
    "1. **Initialize Variables:**\n",
    "   - `width`: The number of columns in the grid.\n",
    "   - `r`: The index of the last row (starting from the bottom row).\n",
    "   - `c`: The index of the first column.\n",
    "   - `count`: A counter to track the number of negative numbers found.\n",
    "\n",
    "2. **Traverse the Grid:**\n",
    "   - Use a `while` loop to traverse the grid starting from the bottom-left corner (`r = grid.length - 1, c = 0`) and move towards the top-right corner.\n",
    "   - **Check for Negative Values:**\n",
    "     - If the current element `grid[r][c]` is negative, this means all elements to the right in the same row are also negative due to the grid's sorting order.\n",
    "     - Decrease `r` by 1 to move to the row above, and add `width - c` (the number of negative elements in the current row) to `count`.\n",
    "     - If the current element is non-negative, move to the next column by incrementing `c` by 1.\n",
    "\n",
    "3. **Return the Count:**\n",
    "   - After traversing the grid, return `count`, which represents the total number of negative numbers in the grid."
   ]
  },
  {
   "cell_type": "code",
   "execution_count": null,
   "metadata": {
    "vscode": {
     "languageId": "java"
    }
   },
   "outputs": [],
   "source": [
    "class Solution {\n",
    "    public int countNegatives(int[][] grid) {\n",
    "        int width = grid[0].length;\n",
    "        int r = grid.length - 1;\n",
    "        int c = 0;\n",
    "        int count = 0;\n",
    "\n",
    "        while (r >= 0 && c < width) {\n",
    "            if (grid[r][c] < 0) {\n",
    "                r--;\n",
    "                count += width - c;\n",
    "            }\n",
    "            else {\n",
    "                c++;\n",
    "            }\n",
    "        }\n",
    "\n",
    "        return count;\n",
    "        \n",
    "    }\n",
    "}"
   ]
  },
  {
   "cell_type": "code",
   "execution_count": null,
   "metadata": {
    "vscode": {
     "languageId": "java"
    }
   },
   "outputs": [],
   "source": [
    "Solution solution = new Solution();\n",
    "int[][] grid = {{4, 3, 2, -1}, {3, 2, 1, -1}, {1, 1, -1, -2}, {-1, -1, -2, -3}};\n",
    "int result = solution.countNegatives(grid);\n",
    "System.out.println(result);"
   ]
  },
  {
   "cell_type": "code",
   "execution_count": null,
   "metadata": {
    "vscode": {
     "languageId": "java"
    }
   },
   "outputs": [],
   "source": []
  }
 ],
 "metadata": {
  "kernelspec": {
   "display_name": "Java",
   "language": "java",
   "name": "java"
  },
  "language_info": {
   "codemirror_mode": "java",
   "file_extension": ".jshell",
   "mimetype": "text/x-java-source",
   "name": "Java",
   "pygments_lexer": "java",
   "version": "22.0.2+9-70"
  }
 },
 "nbformat": 4,
 "nbformat_minor": 2
}
