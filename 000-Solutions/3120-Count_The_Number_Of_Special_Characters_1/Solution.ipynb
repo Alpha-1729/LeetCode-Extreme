{
 "cells": [
  {
   "cell_type": "code",
   "execution_count": null,
   "metadata": {
    "vscode": {
     "languageId": "java"
    }
   },
   "outputs": [],
   "source": [
    "// Count The Number Of Special Characters 1\n",
    "\n",
    "/*\n",
    ">>>>\n",
    ">>>>\n",
    ">>>>\n",
    ">>>>\n",
    "*/\n"
   ]
  },
  {
   "cell_type": "markdown",
   "metadata": {},
   "source": [
    "# Approach 1 (Best Solution).\n",
    "- Time Complexity - O(n).\n",
    "- Space Complexity - O(1).\n",
    "\n",
    "- Create a boolean array to track the presence of each character (lower and upper) in the string.\n",
    "- Get the count of character where both lower and upper case are present in the array.\n",
    "- Return the count."
   ]
  },
  {
   "cell_type": "code",
   "execution_count": null,
   "metadata": {
    "vscode": {
     "languageId": "java"
    }
   },
   "outputs": [],
   "source": [
    "class Solution {\n",
    "\n",
    "  public int numberOfSpecialChars(String word) {\n",
    "    int specialCount = 0;\n",
    "    boolean[] set = new boolean[52];\n",
    "\n",
    "    for (int i = 0; i < word.length(); i++) {\n",
    "      char ch = word.charAt(i);\n",
    "      if (ch > 'Z') {\n",
    "        set[ch - 'a'] = true;\n",
    "      } else {\n",
    "        set[(ch - 'A') + 26] = true;\n",
    "      }\n",
    "    }\n",
    "\n",
    "    for (int i = 0; i < 26; i++) {\n",
    "      if (set[i] && set[i + 26]) {\n",
    "        specialCount++;\n",
    "      }\n",
    "    }\n",
    "    return specialCount;\n",
    "  }\n",
    "}\n"
   ]
  },
  {
   "cell_type": "code",
   "execution_count": null,
   "metadata": {
    "vscode": {
     "languageId": "java"
    }
   },
   "outputs": [],
   "source": [
    "Solution s = new Solution();\n",
    "String word = \"aaAbcBC\";\n",
    "int result = s.numberOfSpecialChars(word);\n",
    "System.out.println(result);"
   ]
  },
  {
   "cell_type": "code",
   "execution_count": null,
   "metadata": {
    "vscode": {
     "languageId": "java"
    }
   },
   "outputs": [],
   "source": []
  }
 ],
 "metadata": {
  "kernelspec": {
   "display_name": "Java",
   "language": "java",
   "name": "java"
  },
  "language_info": {
   "codemirror_mode": "java",
   "file_extension": ".jshell",
   "mimetype": "text/x-java-source",
   "name": "Java",
   "pygments_lexer": "java",
   "version": "22.0.1+8-16"
  }
 },
 "nbformat": 4,
 "nbformat_minor": 2
}
