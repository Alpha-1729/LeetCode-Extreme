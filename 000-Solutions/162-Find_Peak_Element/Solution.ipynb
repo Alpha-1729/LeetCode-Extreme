{
 "cells": [
  {
   "cell_type": "code",
   "execution_count": null,
   "metadata": {
    "vscode": {
     "languageId": "java"
    }
   },
   "outputs": [],
   "source": [
    "// Find Peak Element\n",
    "\n",
    "/*\n",
    ">>>>\n",
    ">>>>\n",
    ">>>>\n",
    ">>>>\n",
    "*/\n"
   ]
  },
  {
   "cell_type": "markdown",
   "metadata": {},
   "source": [
    "# Approach 1 (Best Solution).\n",
    "- Time Complexity - O(logn).\n",
    "- Space Complexity - O(1).\n",
    "\n",
    "1. **Initialize Array Length**:\n",
    "   - The variable `n` stores the length of the `nums` array.\n",
    "\n",
    "2. **Base Case Handling**:\n",
    "   - **Single Element**: If `n` is `1`, return index `0` since the single element is the peak.\n",
    "   - **First Element Peak**: If the first element is greater than the second element, return index `0` because the first element is a peak.\n",
    "   - **Last Element Peak**: If the last element is greater than the second last element, return the index `n - 1` because the last element is a peak.\n",
    "\n",
    "3. **Binary Search for Peak Element**:\n",
    "   - **Setup**: Define `left` as `1` and `right` as `n - 1` to search for a peak between the second element and the second last element.\n",
    "   - **Binary Search Loop**:\n",
    "     - **Calculate Midpoint**: Compute `mid` as the average of `left` and `right`.\n",
    "     - **Check Peak**: If the element at `mid` is greater than both its previous and next elements, return `mid`.\n",
    "     - **Move Right**: If the element at `mid` is greater than its previous element but less than its next, adjust `left` to `mid + 1` to search in the right half.\n",
    "     - **Move Left**: If the element at `mid` is not greater than its previous element, adjust `right` to `mid - 1` to search in the left half.\n",
    "\n",
    "4. **Return Peak Index**:\n",
    "   - After the loop completes, return the index `left` as the position of the peak element.\n"
   ]
  },
  {
   "cell_type": "code",
   "execution_count": 1,
   "metadata": {
    "vscode": {
     "languageId": "java"
    }
   },
   "outputs": [],
   "source": [
    "class Solution {\n",
    "    public int findPeakElement(int[] nums) {\n",
    "        int n = nums.length;\n",
    "\n",
    "        if (n == 1) {\n",
    "            return 0;\n",
    "        } else if (nums[0] > nums[1]) {\n",
    "            return 0;\n",
    "        } else if (nums[n - 1] > nums[n - 2]) {\n",
    "            return n - 1;\n",
    "        }\n",
    "\n",
    "        int left = 1;\n",
    "        int right = n - 1;\n",
    "        while (left < right) {\n",
    "            int mid = left + (right - left) / 2;\n",
    "            int current = nums[mid];\n",
    "            int prev = nums[mid - 1];\n",
    "            int next = nums[mid + 1];\n",
    "\n",
    "            if ((current > prev) && (current > next)) {\n",
    "                return mid;\n",
    "            } else if (current > prev) {\n",
    "                left = mid + 1;\n",
    "            } else {\n",
    "                right = mid - 1;\n",
    "            }\n",
    "        }\n",
    "        return left;\n",
    "    }\n",
    "}"
   ]
  },
  {
   "cell_type": "code",
   "execution_count": 2,
   "metadata": {
    "vscode": {
     "languageId": "java"
    }
   },
   "outputs": [
    {
     "name": "stdout",
     "output_type": "stream",
     "text": [
      "2\n"
     ]
    }
   ],
   "source": [
    "Solution solution = new Solution();\n",
    "int[] nums = {1, 2, 3, 1};\n",
    "int result = solution.findPeakElement(nums);\n",
    "System.out.println(result);"
   ]
  },
  {
   "cell_type": "code",
   "execution_count": null,
   "metadata": {
    "vscode": {
     "languageId": "java"
    }
   },
   "outputs": [],
   "source": []
  }
 ],
 "metadata": {
  "kernelspec": {
   "display_name": "Java",
   "language": "java",
   "name": "java"
  },
  "language_info": {
   "codemirror_mode": "java",
   "file_extension": ".jshell",
   "mimetype": "text/x-java-source",
   "name": "Java",
   "pygments_lexer": "java",
   "version": "22.0.2+9-70"
  }
 },
 "nbformat": 4,
 "nbformat_minor": 2
}
