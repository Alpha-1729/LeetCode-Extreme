{
 "cells": [
  {
   "cell_type": "code",
   "execution_count": null,
   "metadata": {
    "vscode": {
     "languageId": "java"
    }
   },
   "outputs": [],
   "source": [
    "// Sliding Window Maximum\n",
    "\n",
    "/*\n",
    ">>>>\n",
    ">>>>\n",
    ">>>>\n",
    ">>>>\n",
    "*/\n"
   ]
  },
  {
   "cell_type": "markdown",
   "metadata": {},
   "source": [
    "# Approach 1 (Best Solution).\n",
    "- Time Complexity - O(n).\n",
    "- Space Complexity - O(k).\n",
    "\n",
    "1. **Queue Class**:\n",
    "   - Implements a doubly linked list queue for efficient front and rear operations with the following methods:\n",
    "     - **enqueue(int val)**: Adds a value to the back of the queue and increments the size.\n",
    "     - **popFront()**: Removes the front element from the queue, updates pointers, and decreases the size.\n",
    "     - **popRear()**: Removes the last element from the queue, updates pointers, and decreases the size.\n",
    "     - **peekRear()**: Returns the value of the last element without removing it.\n",
    "     - **peekFront()**: Returns the value of the front element without removing it.\n",
    "     - **isEmpty()**: Checks if the queue is empty by verifying the size.\n",
    "     - **getSize()**: Returns the current size of the queue.\n",
    "\n",
    "2. **maxSlidingWindow Method**:\n",
    "   - Takes an array of integers (`nums`) and an integer (`k`) to find the maximum values in every sliding window of size `k`.\n",
    "   - Initializes a result array to store maximum values.\n",
    "   - Iterates through the `nums` array:\n",
    "     - While the queue is not empty and the current number is greater than the number at the index at the rear of the queue, it removes the rear element from the queue.\n",
    "     - Enqueues the current index.\n",
    "     - If the index at the front of the queue is outside the current window, it removes that index from the front of the queue.\n",
    "     - Once the first window is fully traversed (i.e., `i >= k - 1`), it stores the maximum value for that window in the result array using the front of the queue.\n"
   ]
  },
  {
   "cell_type": "code",
   "execution_count": null,
   "metadata": {
    "vscode": {
     "languageId": "java"
    }
   },
   "outputs": [],
   "source": [
    "class Solution {\n",
    "    private class Queue {\n",
    "        private class ListNode {\n",
    "            int val;\n",
    "            ListNode prev;\n",
    "            ListNode next;\n",
    "\n",
    "            public ListNode(int val, ListNode prev, ListNode next) {\n",
    "                this.val = val;\n",
    "                this.prev = prev;\n",
    "                this.next = next;\n",
    "            }\n",
    "        }\n",
    "\n",
    "        private int size;\n",
    "        private ListNode left;\n",
    "        private ListNode right;\n",
    "\n",
    "        public Queue() {\n",
    "            this.size = 0;\n",
    "            this.left = new ListNode(0, null, null);\n",
    "            this.right = new ListNode(0, left, null);\n",
    "            this.left.next = right;\n",
    "        }\n",
    "\n",
    "        public void enqueue(int val) {\n",
    "            ListNode temp = new ListNode(val, right.prev, right);\n",
    "            right.prev.next = temp;\n",
    "            right.prev = temp;\n",
    "            size++;\n",
    "        }\n",
    "\n",
    "        public void popFront() {\n",
    "            left = left.next;\n",
    "            left.prev.next = null;\n",
    "            left.prev = null;\n",
    "            size--;\n",
    "        }\n",
    "\n",
    "        public void popRear() {\n",
    "            ListNode temp = right.prev.prev;\n",
    "            right.prev.prev = null;\n",
    "            right.prev.next = null;\n",
    "            right.prev = temp;\n",
    "            size--;\n",
    "        }\n",
    "\n",
    "        public int peekRear() {\n",
    "            return right.prev.val;\n",
    "        }\n",
    "\n",
    "        public int peekFront() {\n",
    "            return left.next.val;\n",
    "        }\n",
    "\n",
    "        public boolean isEmpty() {\n",
    "            return this.size == 0;\n",
    "        }\n",
    "\n",
    "        public int getSize() {\n",
    "            return size;\n",
    "        }\n",
    "    }\n",
    "\n",
    "    public int[] maxSlidingWindow(int[] nums, int k) {\n",
    "        int n = nums.length;\n",
    "        int[] res = new int[n - k + 1];\n",
    "        Queue q = new Queue();\n",
    "\n",
    "        for (int i = 0; i < n; i++) {\n",
    "            while (!q.isEmpty() && nums[q.peekRear()] < nums[i]) {\n",
    "                q.popRear();\n",
    "            }\n",
    "\n",
    "            q.enqueue(i);\n",
    "\n",
    "            if (q.peekFront() <= (i - k)) {\n",
    "                q.popFront();\n",
    "            }\n",
    "\n",
    "            if (i >= (k - 1)) {\n",
    "                res[i - k + 1] = nums[q.peekFront()];\n",
    "            }\n",
    "        }\n",
    "        return res;\n",
    "    }\n",
    "}"
   ]
  },
  {
   "cell_type": "code",
   "execution_count": null,
   "metadata": {
    "vscode": {
     "languageId": "java"
    }
   },
   "outputs": [],
   "source": [
    "Solution solution = new Solution();\n",
    "int[] nums = {1, 3, -1, -3, 5, 3, 6, 7};\n",
    "int k = 3;\n",
    "int[] result = solution.maxSlidingWindow(nums, k);\n",
    "System.out.println(Arrays.toString(result));"
   ]
  },
  {
   "cell_type": "code",
   "execution_count": null,
   "metadata": {
    "vscode": {
     "languageId": "java"
    }
   },
   "outputs": [],
   "source": []
  }
 ],
 "metadata": {
  "kernelspec": {
   "display_name": "Java",
   "language": "java",
   "name": "java"
  },
  "language_info": {
   "codemirror_mode": "java",
   "file_extension": ".jshell",
   "mimetype": "text/x-java-source",
   "name": "Java",
   "pygments_lexer": "java",
   "version": "22.0.2+9-70"
  }
 },
 "nbformat": 4,
 "nbformat_minor": 2
}
