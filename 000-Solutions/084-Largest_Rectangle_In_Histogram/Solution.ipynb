{
 "cells": [
  {
   "cell_type": "code",
   "execution_count": null,
   "metadata": {
    "vscode": {
     "languageId": "java"
    }
   },
   "outputs": [],
   "source": [
    "// Largest Rectangle In Histogram\n",
    "\n",
    "/*\n",
    ">>>>\n",
    ">>>>\n",
    ">>>>\n",
    ">>>>\n",
    "*/\n"
   ]
  },
  {
   "cell_type": "markdown",
   "metadata": {},
   "source": [
    "# Approach 1 (Best Solution).\n",
    "- Time Complexity - O(n).\n",
    "- Space Complexity - O(n).\n",
    "\n",
    "1. **Stack Usage**:\n",
    "   - The `stack` stores the indices of the bars in the histogram, helping to calculate the area of rectangles by tracking the width and height of the bars in decreasing order of height.\n",
    "\n",
    "2. **Variables**:\n",
    "   - `top`: Keeps track of the current top of the stack.\n",
    "   - `maxArea`: Stores the maximum rectangle area found so far.\n",
    "   - `stack`: An array used as a stack to hold the indices of the heights array. An extra space is added (`heights.length + 1`) to handle the end of the heights array.\n",
    "\n",
    "3. **Main Logic**:\n",
    "   - The method loops through the heights array from `i = 0` to `i = heights.length`. For the last iteration (`i == heights.length`), the height is set to `0` to ensure the stack is fully processed.\n",
    "   - **Pop the Stack**: The loop checks if the current height is smaller than the height at the top of the stack:\n",
    "     - If true, it pops the stack, computes the height of the rectangle (`h`), and calculates the width (`w`) using the current index `i`. The maximum area (`maxArea`) is updated if the new area is larger.\n",
    "   - **Push to Stack**: Once the current height is greater than or equal to the height of the bar at the top of the stack, the index `i` is pushed to the stack.\n",
    "\n",
    "4. **Return Value**:\n",
    "   - The method returns the maximum rectangle area found (`maxArea`).\n"
   ]
  },
  {
   "cell_type": "code",
   "execution_count": 23,
   "metadata": {
    "vscode": {
     "languageId": "java"
    }
   },
   "outputs": [],
   "source": [
    "class Solution {\n",
    "    public int largestRectangleArea(int[] heights) {\n",
    "        int top = -1;\n",
    "        int maxArea = 0;\n",
    "        int[] stack = new int[heights.length + 1];\n",
    "\n",
    "        for (int i = 0; i <= heights.length; i++) {\n",
    "            int height = (i == heights.length) ? 0 : heights[i];\n",
    "            while (top != -1 && height < heights[stack[top]]) {\n",
    "                int h = heights[stack[top--]];\n",
    "                int w = (top == -1) ? i : i - stack[top] - 1;\n",
    "                maxArea = Math.max(maxArea, w * h);\n",
    "            }\n",
    "            stack[++top] = i;\n",
    "        }\n",
    "\n",
    "        return maxArea;\n",
    "    }\n",
    "}"
   ]
  },
  {
   "cell_type": "code",
   "execution_count": 24,
   "metadata": {
    "vscode": {
     "languageId": "java"
    }
   },
   "outputs": [
    {
     "name": "stdout",
     "output_type": "stream",
     "text": [
      "10\n"
     ]
    }
   ],
   "source": [
    "Solution solution = new Solution();\n",
    "int[] heights = {2, 1, 5, 6, 2, 3};\n",
    "int result = solution.largestRectangleArea(heights);\n",
    "System.out.println(result);"
   ]
  },
  {
   "cell_type": "code",
   "execution_count": null,
   "metadata": {
    "vscode": {
     "languageId": "java"
    }
   },
   "outputs": [],
   "source": []
  },
  {
   "cell_type": "code",
   "execution_count": null,
   "metadata": {
    "vscode": {
     "languageId": "java"
    }
   },
   "outputs": [],
   "source": []
  }
 ],
 "metadata": {
  "kernelspec": {
   "display_name": "Java",
   "language": "java",
   "name": "java"
  },
  "language_info": {
   "codemirror_mode": "java",
   "file_extension": ".jshell",
   "mimetype": "text/x-java-source",
   "name": "Java",
   "pygments_lexer": "java",
   "version": "22.0.2+9-70"
  }
 },
 "nbformat": 4,
 "nbformat_minor": 2
}
