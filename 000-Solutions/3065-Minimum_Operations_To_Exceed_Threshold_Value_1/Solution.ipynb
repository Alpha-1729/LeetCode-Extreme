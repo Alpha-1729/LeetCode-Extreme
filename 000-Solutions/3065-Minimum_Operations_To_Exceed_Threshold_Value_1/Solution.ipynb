{
 "cells": [
  {
   "cell_type": "code",
   "execution_count": null,
   "metadata": {},
   "outputs": [],
   "source": [
    "// Minimum Operations To Exceed Threshold Value 1\n",
    "\n",
    "/*\n",
    ">>>>\n",
    ">>>>\n",
    ">>>>\n",
    ">>>>\n",
    "*/\n"
   ]
  },
  {
   "cell_type": "markdown",
   "metadata": {},
   "source": [
    "# Approach 1 (Best Solution).\n",
    "- Time Complexity - O(n).\n",
    "- Space Complexity - O(1).\n",
    "\n",
    "\n",
    "- Just increment the counter, when the number is less than k."
   ]
  },
  {
   "cell_type": "code",
   "execution_count": null,
   "metadata": {},
   "outputs": [],
   "source": [
    "class Solution {\n",
    "\n",
    "  public int minOperations(int[] nums, int k) {\n",
    "    int operationCount = 0;\n",
    "    for (int i = 0; i < nums.length; i++) {\n",
    "        if (nums[i] < k) {\n",
    "            operationCount++;\n",
    "        }\n",
    "    }\n",
    "    return operationCount;\n",
    "  }\n",
    "}\n"
   ]
  },
  {
   "cell_type": "code",
   "execution_count": null,
   "metadata": {},
   "outputs": [],
   "source": [
    "Solution solution = new Solution();\n",
    "int[] nums = {2, 11, 10, 1, 3};\n",
    "int k = 10;\n",
    "int result = solution.minOperations(nums, k);\n",
    "System.out.println(result);"
   ]
  }
 ],
 "metadata": {
  "kernelspec": {
   "display_name": "Java",
   "language": "java",
   "name": "java"
  },
  "language_info": {
   "codemirror_mode": "java",
   "file_extension": ".jshell",
   "mimetype": "text/x-java-source",
   "name": "java",
   "pygments_lexer": "java",
   "version": "21.0.2+13-LTS-58"
  }
 },
 "nbformat": 4,
 "nbformat_minor": 2
}
