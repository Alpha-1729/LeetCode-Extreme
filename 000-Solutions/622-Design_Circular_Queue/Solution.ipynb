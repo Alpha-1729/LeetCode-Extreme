{
 "cells": [
  {
   "cell_type": "code",
   "execution_count": null,
   "metadata": {
    "vscode": {
     "languageId": "java"
    }
   },
   "outputs": [],
   "source": [
    "// Design Circular Queue\n",
    "\n",
    "/*\n",
    ">>>>\n",
    ">>>>\n",
    ">>>>\n",
    ">>>>\n",
    "*/\n"
   ]
  },
  {
   "cell_type": "markdown",
   "metadata": {},
   "source": [
    "# Approach 1 (Best Solution).\n",
    "- Time Complexity - O(n).\n",
    "- Space Complexity - O(1).\n",
    "\n",
    "1. **ListNode Class**:\n",
    "   - A private inner class that represents a node in a doubly linked list, containing:\n",
    "     - `val`: The value stored in the node.\n",
    "     - `prev`: A reference to the previous node.\n",
    "     - `next`: A reference to the next node.\n",
    "\n",
    "2. **Variables**:\n",
    "   - `space`: Tracks the number of empty spaces in the circular queue.\n",
    "   - `left`: A dummy node representing the front of the queue.\n",
    "   - `right`: A dummy node representing the rear of the queue.\n",
    "\n",
    "3. **Constructor**:\n",
    "   - Initializes the queue with a maximum capacity (`k`).\n",
    "   - Sets up the initial state of the `left` and `right` dummy nodes to form an empty circular linked list.\n",
    "\n",
    "4. **enQueue**:\n",
    "   - Adds a new value to the rear of the queue.\n",
    "   - Returns `false` if the queue is full; otherwise, it creates a new node, links it appropriately, and decrements the space counter.\n",
    "\n",
    "5. **deQueue**:\n",
    "   - Removes the front element from the queue.\n",
    "   - Returns `false` if the queue is empty; otherwise, it moves the `left` pointer to the next node and increments the space counter.\n",
    "\n",
    "6. **Front**:\n",
    "   - Returns the value at the front of the queue, or `-1` if the queue is empty.\n",
    "\n",
    "7. **Rear**:\n",
    "   - Returns the value at the rear of the queue, or `-1` if the queue is empty.\n",
    "\n",
    "8. **isEmpty**:\n",
    "   - Checks if the queue is empty by comparing the `left.next` with the `right` node.\n",
    "\n",
    "9. **isFull**:\n",
    "   - Checks if the queue is full by verifying if `space` is zero.\n",
    "\n"
   ]
  },
  {
   "cell_type": "code",
   "execution_count": 1,
   "metadata": {
    "vscode": {
     "languageId": "java"
    }
   },
   "outputs": [],
   "source": [
    "class MyCircularQueue {\n",
    "    private class ListNode {\n",
    "        int val;\n",
    "        ListNode prev;\n",
    "        ListNode next;\n",
    "\n",
    "        private ListNode(int val, ListNode prev, ListNode next) {\n",
    "            this.val = val;\n",
    "            this.prev = prev;\n",
    "            this.next = next;\n",
    "        }\n",
    "    }\n",
    "\n",
    "    private int space;\n",
    "    private ListNode left;\n",
    "    private ListNode right;\n",
    "\n",
    "    public MyCircularQueue(int k) {\n",
    "        this.space = k;\n",
    "        this.left = new ListNode(0, null, null);\n",
    "        this.right = new ListNode(0, this.left, null);\n",
    "        this.left.next = this.right;\n",
    "    }\n",
    "\n",
    "    public boolean enQueue(int value) {\n",
    "        if (this.isFull()) {\n",
    "            return false;\n",
    "        }\n",
    "        ListNode temp = new ListNode(value, this.right.prev, this.right);\n",
    "        this.right.prev.next = temp;\n",
    "        this.right.prev = temp;\n",
    "        this.space--;\n",
    "        return true;\n",
    "    }\n",
    "\n",
    "    public boolean deQueue() {\n",
    "        if (this.isEmpty()) {\n",
    "            return false;\n",
    "        }\n",
    "\n",
    "        this.left = this.left.next;\n",
    "        this.left.prev = this.left;\n",
    "        space++;\n",
    "        return true;\n",
    "    }\n",
    "\n",
    "    public int Front() {\n",
    "        if (this.isEmpty()) {\n",
    "            return -1;\n",
    "        }\n",
    "\n",
    "        return this.left.next.val;\n",
    "    }\n",
    "\n",
    "    public int Rear() {\n",
    "        if (this.isEmpty()) {\n",
    "            return -1;\n",
    "        }\n",
    "\n",
    "        return this.right.prev.val;\n",
    "    }\n",
    "\n",
    "    public boolean isEmpty() {\n",
    "        return this.left.next == this.right;\n",
    "    }\n",
    "\n",
    "    public boolean isFull() {\n",
    "        return this.space == 0;\n",
    "    }\n",
    "}"
   ]
  },
  {
   "cell_type": "code",
   "execution_count": 7,
   "metadata": {
    "vscode": {
     "languageId": "java"
    }
   },
   "outputs": [
    {
     "name": "stdout",
     "output_type": "stream",
     "text": [
      "true\n",
      "true\n",
      "-1\n",
      "-1\n",
      "true\n",
      "false\n"
     ]
    }
   ],
   "source": [
    "MyCircularQueue obj = new MyCircularQueue(10);\n",
    "System.out.println(obj.enQueue(2));\n",
    "System.out.println(obj.deQueue());\n",
    "System.out.println(obj.Front());\n",
    "System.out.println(obj.Rear());\n",
    "System.out.println(obj.isEmpty());\n",
    "System.out.println(obj.isFull());"
   ]
  },
  {
   "cell_type": "code",
   "execution_count": null,
   "metadata": {
    "vscode": {
     "languageId": "java"
    }
   },
   "outputs": [],
   "source": []
  }
 ],
 "metadata": {
  "kernelspec": {
   "display_name": "Java",
   "language": "java",
   "name": "java"
  },
  "language_info": {
   "codemirror_mode": "java",
   "file_extension": ".jshell",
   "mimetype": "text/x-java-source",
   "name": "Java",
   "pygments_lexer": "java",
   "version": "22.0.2+9-70"
  }
 },
 "nbformat": 4,
 "nbformat_minor": 2
}
