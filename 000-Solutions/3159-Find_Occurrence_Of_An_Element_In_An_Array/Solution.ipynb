{
 "cells": [
  {
   "cell_type": "code",
   "execution_count": null,
   "metadata": {
    "vscode": {
     "languageId": "java"
    }
   },
   "outputs": [],
   "source": [
    "// Find Occurrence Of An Element In An Array\n",
    "\n",
    "/*\n",
    ">>>>\n",
    ">>>>\n",
    ">>>>\n",
    ">>>>\n",
    "*/\n"
   ]
  },
  {
   "cell_type": "markdown",
   "metadata": {},
   "source": [
    "# Approach 1 (Best Solution).\n",
    "- Time Complexity - O(n).\n",
    "- Space Complexity - O(1).\n",
    "\n",
    "- Loop through the nums array.\n",
    "- Store each index of x in the start of the nums array.\n",
    "- Keep a variable count to track the number of x in the nums.\n",
    "- Loop through the queries array.\n",
    "- If the current element is less than count, set current value to -1.\n",
    "- Else store the index from the start of the nums array.\n",
    "- Return the queries array."
   ]
  },
  {
   "cell_type": "code",
   "execution_count": 1,
   "metadata": {
    "vscode": {
     "languageId": "java"
    }
   },
   "outputs": [],
   "source": [
    "class Solution {\n",
    "    public int[] occurrencesOfElement(int[] nums, int[] queries, int x) {\n",
    "        int count = 0;\n",
    "        for (int i = 0; i < nums.length; i++) {\n",
    "            if (nums[i] == x) {\n",
    "                nums[count++] = i;\n",
    "            }\n",
    "        }\n",
    "\n",
    "        for (int i = 0; i < queries.length; i++) {\n",
    "            int query = queries[i];\n",
    "            if (query <= count) {\n",
    "                queries[i] = nums[query - 1];\n",
    "            } else {\n",
    "                queries[i] = -1;\n",
    "            }\n",
    "        }\n",
    "        return queries;\n",
    "\n",
    "    }\n",
    "}"
   ]
  },
  {
   "cell_type": "code",
   "execution_count": 2,
   "metadata": {
    "vscode": {
     "languageId": "java"
    }
   },
   "outputs": [
    {
     "name": "stdout",
     "output_type": "stream",
     "text": [
      "[0, -1, 2, -1]\n"
     ]
    }
   ],
   "source": [
    "Solution solution = new Solution();\n",
    "int[] nums = {1, 3, 1, 7};\n",
    "int [] queries = {1, 3, 2, 4};\n",
    "int x = 1;\n",
    "int[] result = solution.occurrencesOfElement(nums, queries, x);\n",
    "System.out.println(Arrays.toString(result));"
   ]
  },
  {
   "cell_type": "code",
   "execution_count": null,
   "metadata": {
    "vscode": {
     "languageId": "java"
    }
   },
   "outputs": [],
   "source": []
  }
 ],
 "metadata": {
  "kernelspec": {
   "display_name": "Java",
   "language": "java",
   "name": "java"
  },
  "language_info": {
   "codemirror_mode": "java",
   "file_extension": ".jshell",
   "mimetype": "text/x-java-source",
   "name": "Java",
   "pygments_lexer": "java",
   "version": "22.0.1+8-16"
  }
 },
 "nbformat": 4,
 "nbformat_minor": 2
}
