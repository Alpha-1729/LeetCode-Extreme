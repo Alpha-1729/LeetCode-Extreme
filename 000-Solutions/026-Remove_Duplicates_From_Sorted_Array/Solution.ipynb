{
 "cells": [
  {
   "cell_type": "code",
   "execution_count": null,
   "metadata": {
    "vscode": {
     "languageId": "java"
    }
   },
   "outputs": [],
   "source": [
    "// Remove Duplicates From Sorted Array\n",
    "\n",
    "/*\n",
    ">>>>\n",
    ">>>>\n",
    ">>>>\n",
    ">>>>\n",
    "*/\n"
   ]
  },
  {
   "cell_type": "markdown",
   "metadata": {},
   "source": [
    "# Approach 1 (Best Solution).\n",
    "- Time Complexity - O(n).\n",
    "- Space Complexity - O(1).\n",
    "\n",
    "- We create a variable left to index of the next unique value.\n",
    "- We loop from the first index to the last index.\n",
    "- If the current element is not equal to the previous element, we added that value at the start of the array.\n",
    "- Return the value at the left variable."
   ]
  },
  {
   "cell_type": "code",
   "execution_count": 2,
   "metadata": {
    "vscode": {
     "languageId": "java"
    }
   },
   "outputs": [],
   "source": [
    "class Solution {\n",
    "\n",
    "  public int removeDuplicates(int[] nums) {\n",
    "    int left = 1;\n",
    "    for (int i = 1; i < nums.length; i++) {\n",
    "      if (nums[i] != nums[i - 1]) {\n",
    "        nums[left] = nums[i];\n",
    "        left++;\n",
    "      }\n",
    "    }\n",
    "    return left;\n",
    "  }\n",
    "}\n"
   ]
  },
  {
   "cell_type": "code",
   "execution_count": 3,
   "metadata": {
    "vscode": {
     "languageId": "java"
    }
   },
   "outputs": [
    {
     "name": "stdout",
     "output_type": "stream",
     "text": [
      "5\n"
     ]
    }
   ],
   "source": [
    "Solution s = new Solution();\n",
    "\n",
    "int[] nums  = {0, 0, 1, 1, 1, 2, 2, 3, 3, 4};\n",
    "int result = s.removeDuplicates(nums);\n",
    "System.out.println(result);"
   ]
  },
  {
   "cell_type": "code",
   "execution_count": null,
   "metadata": {
    "vscode": {
     "languageId": "java"
    }
   },
   "outputs": [],
   "source": []
  }
 ],
 "metadata": {
  "kernelspec": {
   "display_name": "Java",
   "language": "java",
   "name": "java"
  },
  "language_info": {
   "codemirror_mode": "java",
   "file_extension": ".jshell",
   "mimetype": "text/x-java-source",
   "name": "Java",
   "pygments_lexer": "java",
   "version": "21.0.2+13-LTS-58"
  }
 },
 "nbformat": 4,
 "nbformat_minor": 2
}
