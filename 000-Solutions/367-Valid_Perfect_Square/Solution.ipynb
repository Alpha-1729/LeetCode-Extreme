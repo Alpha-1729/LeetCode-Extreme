{
 "cells": [
  {
   "cell_type": "code",
   "execution_count": null,
   "metadata": {},
   "outputs": [],
   "source": [
    "// Valid Perfect Square\n",
    "\n",
    "/*\n",
    ">>>>\n",
    ">>>>\n",
    ">>>>\n",
    ">>>>\n",
    "*/\n"
   ]
  },
  {
   "cell_type": "markdown",
   "metadata": {},
   "source": [
    "# Approach 1 (Best Solution).\n",
    "\n",
    "- Time Complexity - O(log.n).\n",
    "- Space Complexity - O(1).\n",
    "\n",
    "- Use Binary Search.\n",
    "  - Reduce the range of possible numbers for the square root of the number.\n",
    "  - Initially the range of number is from 1 - x.\n",
    "  - Take a middle number **mid** between 1 and x.\n",
    "  - Determine whether the square root exist in [0, mid] or [mid, x]\n",
    "  - Reduce this range of numbers in each iteration.\n"
   ]
  },
  {
   "cell_type": "code",
   "execution_count": null,
   "metadata": {},
   "outputs": [],
   "source": [
    "class Solution {\n",
    "\n",
    "    public boolean isPerfectSquare(int num) {\n",
    "        if (num < 2) {\n",
    "            return true;\n",
    "        }\n",
    "\n",
    "        int start = 2;\n",
    "        int end = num;\n",
    "\n",
    "        while (start <= end) {\n",
    "            int mid = start + (end - start) / 2;\n",
    "            int quotient = num / mid;\n",
    "\n",
    "            if ((quotient == mid) && (num % mid == 0)) {\n",
    "                return true;\n",
    "            } else if (quotient < mid) {\n",
    "                end = mid - 1;\n",
    "            } else {\n",
    "                start = mid + 1;\n",
    "            }\n",
    "        }\n",
    "        return false;\n",
    "    }\n",
    "}"
   ]
  },
  {
   "cell_type": "code",
   "execution_count": null,
   "metadata": {},
   "outputs": [],
   "source": [
    "Solution solution = new Solution();\n",
    "int num = 16;\n",
    "boolean result = solution.isPerfectSquare(num);\n",
    "System.out.println(result);"
   ]
  }
 ],
 "metadata": {
  "kernelspec": {
   "display_name": "Java",
   "language": "java",
   "name": "java"
  },
  "language_info": {
   "codemirror_mode": "java",
   "file_extension": ".jshell",
   "mimetype": "text/x-java-source",
   "name": "java",
   "pygments_lexer": "java",
   "version": "21.0.2+13-LTS-58"
  }
 },
 "nbformat": 4,
 "nbformat_minor": 2
}
