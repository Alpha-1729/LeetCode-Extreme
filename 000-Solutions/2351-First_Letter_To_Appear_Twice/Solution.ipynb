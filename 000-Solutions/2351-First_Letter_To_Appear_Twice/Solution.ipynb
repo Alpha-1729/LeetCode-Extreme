{
 "cells": [
  {
   "cell_type": "code",
   "execution_count": null,
   "metadata": {
    "vscode": {
     "languageId": "java"
    }
   },
   "outputs": [],
   "source": [
    "// First Letter To Appear Twice\n",
    "\n",
    "/*\n",
    ">>>>\n",
    ">>>>\n",
    ">>>>\n",
    ">>>>\n",
    "*/\n"
   ]
  },
  {
   "cell_type": "markdown",
   "metadata": {},
   "source": [
    "# Approach 1 (Best Solution).\n",
    "- Time Complexity - O(n).\n",
    "- Space Complexity - O(1).\n",
    "\n",
    "1. **Create a Boolean Array**:\n",
    "   - Initialize a boolean array `set` of size `26` to keep track of whether each character (from 'a' to 'z') has been seen before. The index of the array corresponds to the position of the character in the alphabet (e.g., 'a' corresponds to index `0`, 'b' to index `1`, and so on).\n",
    "\n",
    "2. **Iterate Through the String**:\n",
    "   - Use a `for` loop to iterate over each character `ch` in the string `s`.\n",
    "   - For each character, calculate its corresponding index using `ch - 'a'` (this gives the position of `ch` in the alphabet).\n",
    "\n",
    "3. **Check for Repeated Character**:\n",
    "   - If the character at `index` in the `set` array is `true`, it means this character has been seen before, so return `ch` as the first repeated character.\n",
    "   - If the character has not been seen before, mark it as seen by setting `set[index]` to `true`.\n",
    "\n",
    "4. **Return**:\n",
    "   - If no repeated character is found, return a space character `' '`. However, based on the problem setup, this line might not be reached since the assumption is that there is always a repeated character.\n",
    "\n",
    "\n"
   ]
  },
  {
   "cell_type": "code",
   "execution_count": null,
   "metadata": {
    "vscode": {
     "languageId": "java"
    }
   },
   "outputs": [],
   "source": [
    "class Solution {\n",
    "    public char repeatedCharacter(String s) {\n",
    "        boolean[] set = new boolean[26];\n",
    "\n",
    "        for (int i = 0; i < s.length(); i++) {\n",
    "            char ch = s.charAt(i);\n",
    "            int index = ch - 'a';\n",
    "\n",
    "            if (set[index]) {\n",
    "                return ch;\n",
    "            }\n",
    "            set[index] = true;\n",
    "        }\n",
    "\n",
    "        return ' ';\n",
    "    }\n",
    "}"
   ]
  },
  {
   "cell_type": "code",
   "execution_count": null,
   "metadata": {
    "vscode": {
     "languageId": "java"
    }
   },
   "outputs": [],
   "source": [
    "Solution solution = new Solution();\n",
    "String s = \"abccbaacz\";\n",
    "char result = solution.repeatedCharacter(s);\n",
    "System.out.println(result);"
   ]
  },
  {
   "cell_type": "code",
   "execution_count": null,
   "metadata": {
    "vscode": {
     "languageId": "java"
    }
   },
   "outputs": [],
   "source": []
  }
 ],
 "metadata": {
  "kernelspec": {
   "display_name": "Java",
   "language": "java",
   "name": "java"
  },
  "language_info": {
   "codemirror_mode": "java",
   "file_extension": ".jshell",
   "mimetype": "text/x-java-source",
   "name": "Java",
   "pygments_lexer": "java",
   "version": "22.0.2+9-70"
  }
 },
 "nbformat": 4,
 "nbformat_minor": 2
}
