{
 "cells": [
  {
   "cell_type": "code",
   "execution_count": null,
   "metadata": {},
   "outputs": [],
   "source": [
    "// Middle Of The Linked List\n",
    "\n",
    "/*\n",
    ">>>>\n",
    ">>>>\n",
    ">>>>\n",
    ">>>>\n",
    "*/\n"
   ]
  },
  {
   "cell_type": "code",
   "execution_count": 1,
   "metadata": {},
   "outputs": [],
   "source": [
    "public class ListNode {\n",
    "\n",
    "  int val;\n",
    "  ListNode next;\n",
    "\n",
    "  ListNode() {}\n",
    "\n",
    "  ListNode(int val) {\n",
    "    this.val = val;\n",
    "  }\n",
    "\n",
    "  ListNode(int val, ListNode next) {\n",
    "    this.val = val;\n",
    "    this.next = next;\n",
    "  }\n",
    "}\n"
   ]
  },
  {
   "cell_type": "markdown",
   "metadata": {},
   "source": [
    "# Approach 1 (Best Solution).\n",
    "- Time Complexity - O(n).\n",
    "- Space Complexity - O(1).\n",
    "- Best solution.\n",
    "- We create a ListNode slow.\n",
    "- head ListNode travel twice as speed as the slow ListNode.\n",
    "- When head ListNode reaches the end, slow ListNode will be in the middle of the Linked List.\n",
    "- Return the slow ListNode."
   ]
  },
  {
   "cell_type": "code",
   "execution_count": 6,
   "metadata": {},
   "outputs": [],
   "source": [
    "class Solution {\n",
    "\n",
    "  public ListNode middleNode(ListNode head) {\n",
    "    ListNode slow = head;\n",
    "\n",
    "    while (head != null && head.next != null) {\n",
    "      slow = slow.next;\n",
    "      head = head.next.next;\n",
    "    }\n",
    "    return slow;\n",
    "  }\n",
    "}\n"
   ]
  },
  {
   "cell_type": "markdown",
   "metadata": {},
   "source": [
    "# Approach 2.\n",
    "- Time Complexity - O(n).\n",
    "- Space Complexity - O(1).\n",
    "- We create one ListNode slow, to reach the middle of the Linked List.\n",
    "- We create a variable to track the even position of the Linked List.\n",
    "- Move the head pointer through the Linked List.\n",
    "- Increment the count variable.\n",
    "- When the count variable become even, We move forward the slow ListNode.\n",
    "- Return the temp ListNode."
   ]
  },
  {
   "cell_type": "code",
   "execution_count": 8,
   "metadata": {},
   "outputs": [],
   "source": [
    "class Solution {\n",
    "\n",
    "  public ListNode middleNode(ListNode head) {\n",
    "    int count = 1;\n",
    "    ListNode slow = head;\n",
    "\n",
    "    while (head.next != null) {\n",
    "      if (count++ % 2 == 0) {\n",
    "        slow = slow.next;\n",
    "      }\n",
    "      head = head.next;\n",
    "    }\n",
    "    return slow;\n",
    "  }\n",
    "}\n"
   ]
  },
  {
   "cell_type": "markdown",
   "metadata": {},
   "source": [
    "# Approach 3 (Worst Solution).\n",
    "- Time Complexity - O(n).\n",
    "- Space Complexity - O(n).\n",
    "- We create an array to store the ListNode in the Linked List.\n",
    "- We move through the Linked List and keep track of the length of the Linked List.\n",
    "- We also store each ListNode in the Linked List to the array.\n",
    "- We return the ListNode in the middle of the array."
   ]
  },
  {
   "cell_type": "code",
   "execution_count": null,
   "metadata": {},
   "outputs": [],
   "source": [
    "class Solution {\n",
    "\n",
    "  public ListNode middleNode(ListNode head) {\n",
    "    ArrayList<ListNode> array = new ArrayList<>();\n",
    "    int length = 0;\n",
    "\n",
    "    while (head != null) {\n",
    "      array.add(head);\n",
    "      head = head.next;\n",
    "      length++;\n",
    "    }\n",
    "\n",
    "    return array.get(length / 2); // Getting the ListNode in the middle of the array.\n",
    "  }\n",
    "}\n"
   ]
  },
  {
   "cell_type": "code",
   "execution_count": 9,
   "metadata": {},
   "outputs": [
    {
     "name": "stdout",
     "output_type": "stream",
     "text": [
      "3\n"
     ]
    }
   ],
   "source": [
    "Solution s = new Solution();\n",
    "\n",
    "ListNode head = new ListNode(1);\n",
    "head.next = new ListNode(2);\n",
    "head.next.next = new ListNode(3);\n",
    "head.next.next.next = new ListNode(4);\n",
    "head.next.next.next.next = new ListNode(5);\n",
    "\n",
    "ListNode result = s.middleNode(head);\n",
    "System.out.println(result.val);"
   ]
  }
 ],
 "metadata": {
  "kernelspec": {
   "display_name": "Java",
   "language": "java",
   "name": "java"
  },
  "language_info": {
   "codemirror_mode": "java",
   "file_extension": ".jshell",
   "mimetype": "text/x-java-source",
   "name": "java",
   "pygments_lexer": "java",
   "version": "21.0.2+13-LTS-58"
  }
 },
 "nbformat": 4,
 "nbformat_minor": 2
}
