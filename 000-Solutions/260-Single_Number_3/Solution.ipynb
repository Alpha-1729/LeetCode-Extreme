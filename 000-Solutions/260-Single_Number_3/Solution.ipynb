{
 "cells": [
  {
   "cell_type": "code",
   "execution_count": null,
   "metadata": {
    "vscode": {
     "languageId": "java"
    }
   },
   "outputs": [],
   "source": [
    "// Single Number 3\n",
    "\n",
    "/*\n",
    ">>>>\n",
    ">>>>\n",
    ">>>>\n",
    ">>>>\n",
    "*/\n"
   ]
  },
  {
   "cell_type": "markdown",
   "metadata": {},
   "source": [
    "# Approach 1 (Best Solution).\n",
    "- Time Complexity - O(n).\n",
    "- Space Complexity - O(1).\n",
    "\n",
    "1. **XOR All Numbers**:\n",
    "   - The method initializes a variable to zero. It then iterates through the array, applying the XOR operation to each element. XORing a number with itself cancels it out, leaving only the XOR result of the two unique numbers.\n",
    "\n",
    "2. **Find a Differentiating Bit**:\n",
    "   - To distinguish between the two unique numbers, the method identifies a bit that is set (i.e., has a value of 1) in the result from the previous step. This bit helps in partitioning the numbers into two groups. The bitmask used isolates the rightmost set bit of the result.\n",
    "\n",
    "3. **Partition Numbers**:\n",
    "   - Using the bitmask, the method separates the numbers into two groups based on whether they have the rightmost set bit or not. It then calculates one of the unique numbers by XORing all numbers in one of these groups.\n",
    "\n",
    "4. **Find the Second Unique Number**:\n",
    "   - The second unique number is found by XORing the previously found number with the overall XOR result. Since the overall XOR result is the XOR of both unique numbers, this operation yields the other unique number.\n",
    "\n",
    "5. **Return the Result**:\n",
    "   - The method returns an array containing the two unique numbers."
   ]
  },
  {
   "cell_type": "code",
   "execution_count": 1,
   "metadata": {
    "vscode": {
     "languageId": "java"
    }
   },
   "outputs": [],
   "source": [
    "class Solution {\n",
    "    public int[] singleNumber(int[] nums) {\n",
    "        int res = 0;\n",
    "        for (int num : nums) {\n",
    "            res ^= num;\n",
    "        }\n",
    "\n",
    "        int mask = res & (-1 * res);\n",
    "        int first = 0;\n",
    "        for (int num : nums) {\n",
    "            if ((mask & num) != 0) {\n",
    "                first ^= num;\n",
    "            }\n",
    "        }\n",
    "\n",
    "        int second = first ^ res;\n",
    "        return new int[] { first, second };\n",
    "    }\n",
    "}\n"
   ]
  },
  {
   "cell_type": "code",
   "execution_count": 3,
   "metadata": {
    "vscode": {
     "languageId": "java"
    }
   },
   "outputs": [
    {
     "name": "stdout",
     "output_type": "stream",
     "text": [
      "[3, 5]\n"
     ]
    }
   ],
   "source": [
    "Solution solution = new Solution();\n",
    "int[] nums = {1, 2, 1, 3, 2, 5};\n",
    "int[] result = solution.singleNumber(nums);\n",
    "System.out.println(Arrays.toString(result));"
   ]
  },
  {
   "cell_type": "code",
   "execution_count": null,
   "metadata": {
    "vscode": {
     "languageId": "java"
    }
   },
   "outputs": [],
   "source": []
  }
 ],
 "metadata": {
  "kernelspec": {
   "display_name": "Java",
   "language": "java",
   "name": "java"
  },
  "language_info": {
   "codemirror_mode": "java",
   "file_extension": ".jshell",
   "mimetype": "text/x-java-source",
   "name": "Java",
   "pygments_lexer": "java",
   "version": "22.0.2+9-70"
  }
 },
 "nbformat": 4,
 "nbformat_minor": 2
}
