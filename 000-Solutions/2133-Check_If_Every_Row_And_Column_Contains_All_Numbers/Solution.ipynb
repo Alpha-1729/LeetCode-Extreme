{
 "cells": [
  {
   "cell_type": "code",
   "execution_count": null,
   "metadata": {},
   "outputs": [],
   "source": [
    "// Check If Every Row And Column Contains All Numbers\n",
    "\n",
    "/*\n",
    ">>>>\n",
    ">>>>\n",
    ">>>>\n",
    ">>>>\n",
    "*/\n"
   ]
  },
  {
   "cell_type": "markdown",
   "metadata": {},
   "source": [
    "# Approach 1 (Best Solution).\n",
    "- Time Complexity - O(n * n).\n",
    "- Space Complexity - O(1).\n",
    "  \n",
    "- Loop i from 0 - matrix length.\n",
    "- Each time validate ith row, ith column.\n",
    "- Do it for other rows, column and grid."
   ]
  },
  {
   "cell_type": "code",
   "execution_count": 2,
   "metadata": {},
   "outputs": [],
   "source": [
    "class Solution {\n",
    "\n",
    "  public boolean checkValid(int[][] matrix) {\n",
    "    for (int i = 0; i < matrix.length; i++) {\n",
    "      if (!validateRowColumn(i, matrix)) {\n",
    "        return false;\n",
    "      }\n",
    "    }\n",
    "\n",
    "    return true;\n",
    "  }\n",
    "\n",
    "  public boolean validateRowColumn(int row, int[][] matrix) {\n",
    "    boolean[] rowArr = new boolean[matrix.length];\n",
    "    boolean[] columnArr = new boolean[matrix.length];\n",
    "\n",
    "    for (int i = 0; i < matrix.length; i++) {\n",
    "      int rowValue = matrix[row][i] - 1;\n",
    "      int colValue = matrix[i][row] - 1;\n",
    "\n",
    "      if (rowArr[rowValue] == true) {\n",
    "        return false;\n",
    "      }\n",
    "      if (columnArr[colValue] == true) {\n",
    "        return false;\n",
    "      }\n",
    "\n",
    "      rowArr[rowValue] = true;\n",
    "      columnArr[colValue] = true;\n",
    "    }\n",
    "    return true;\n",
    "  }\n",
    "}\n"
   ]
  },
  {
   "cell_type": "code",
   "execution_count": 3,
   "metadata": {},
   "outputs": [
    {
     "name": "stdout",
     "output_type": "stream",
     "text": [
      "false\n"
     ]
    }
   ],
   "source": [
    "Solution s = new Solution();\n",
    "\n",
    "int[][] matrix = {\n",
    "    {1, 1, 1},\n",
    "    {1, 2, 3},\n",
    "    {1, 2, 3}\n",
    "};\n",
    "\n",
    "boolean result = s.checkValid(matrix);\n",
    "System.out.println(result)"
   ]
  },
  {
   "cell_type": "code",
   "execution_count": null,
   "metadata": {},
   "outputs": [],
   "source": []
  }
 ],
 "metadata": {
  "kernelspec": {
   "display_name": "Java",
   "language": "java",
   "name": "java"
  },
  "language_info": {
   "codemirror_mode": "java",
   "file_extension": ".jshell",
   "mimetype": "text/x-java-source",
   "name": "java",
   "pygments_lexer": "java",
   "version": "22.0.1+8-16"
  }
 },
 "nbformat": 4,
 "nbformat_minor": 2
}
