{
 "cells": [
  {
   "cell_type": "code",
   "execution_count": null,
   "metadata": {
    "vscode": {
     "languageId": "java"
    }
   },
   "outputs": [],
   "source": [
    "// Find Greatest Common Divisor Of Array\n",
    "\n",
    "/*\n",
    ">>>>\n",
    ">>>>\n",
    ">>>>\n",
    ">>>>\n",
    "*/\n"
   ]
  },
  {
   "cell_type": "markdown",
   "metadata": {},
   "source": [
    "# Approach 1 (Best Solution).\n",
    "- Time Complexity - O(n).\n",
    "- Space Complexity - O(1).\n",
    "\n",
    "1. **`findGCD(int[] nums)`**\n",
    "   - **Purpose**: Finds the GCD of the minimum and maximum values in the array `nums`.\n",
    "   - **Process**:\n",
    "     - Initializes `min` and `max` with the first element of the array.\n",
    "     - Iterates through the array to find the minimum and maximum values.\n",
    "     - Calls the `gcd` method with these minimum and maximum values.\n",
    "   - **Returns**: The GCD of the minimum and maximum values in the array.\n",
    "\n",
    "2. **`gcd(int a, int b)`**\n",
    "   - **Purpose**: Computes the GCD of two integers `a` and `b` using the Euclidean algorithm.\n",
    "   - **Process**:\n",
    "     - If `b` is 0, returns `a` as the GCD.\n",
    "     - Otherwise, recursively calls itself with `b` and `a % b`.\n",
    "   - **Returns**: The GCD of `a` and `b`."
   ]
  },
  {
   "cell_type": "code",
   "execution_count": null,
   "metadata": {
    "vscode": {
     "languageId": "java"
    }
   },
   "outputs": [],
   "source": [
    "class Solution {\n",
    "    public int findGCD(int[] nums) {\n",
    "        int min = nums[0];\n",
    "        int max = nums[0];\n",
    "\n",
    "        for (int i = 1; i < nums.length; i++) {\n",
    "            if (nums[i] < min) {\n",
    "                min = nums[i];\n",
    "            }\n",
    "            if (nums[i] > max) {\n",
    "                max = nums[i];\n",
    "            }\n",
    "        }\n",
    "        return gcd(max, min);\n",
    "       \n",
    "    }\n",
    "    public int gcd(int a, int b) {\n",
    "        // Ensure that a > b.\n",
    "        if (b == 0) {\n",
    "            return a;\n",
    "        }\n",
    "        return gcd(b, a % b);\n",
    "    }\n",
    "}"
   ]
  },
  {
   "cell_type": "code",
   "execution_count": null,
   "metadata": {
    "vscode": {
     "languageId": "java"
    }
   },
   "outputs": [],
   "source": [
    "Solution solution = new Solution();\n",
    "int[] nums = {25, 5, 6, 9, 10};\n",
    "int result = solution.findGCD(nums);\n",
    "System.out.println(result);"
   ]
  },
  {
   "cell_type": "code",
   "execution_count": null,
   "metadata": {
    "vscode": {
     "languageId": "java"
    }
   },
   "outputs": [],
   "source": []
  }
 ],
 "metadata": {
  "kernelspec": {
   "display_name": "Java",
   "language": "java",
   "name": "java"
  },
  "language_info": {
   "codemirror_mode": "java",
   "file_extension": ".jshell",
   "mimetype": "text/x-java-source",
   "name": "Java",
   "pygments_lexer": "java",
   "version": "22.0.2+9-70"
  }
 },
 "nbformat": 4,
 "nbformat_minor": 2
}
