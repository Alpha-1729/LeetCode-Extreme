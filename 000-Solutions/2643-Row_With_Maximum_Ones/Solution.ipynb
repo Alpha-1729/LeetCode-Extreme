{
 "cells": [
  {
   "cell_type": "code",
   "execution_count": null,
   "metadata": {
    "vscode": {
     "languageId": "java"
    }
   },
   "outputs": [],
   "source": [
    "// Row With Maximum Ones\n",
    "\n",
    "/*\n",
    ">>>>\n",
    ">>>>\n",
    ">>>>\n",
    ">>>>\n",
    "*/\n"
   ]
  },
  {
   "cell_type": "markdown",
   "metadata": {},
   "source": [
    "# Approach 1 (Best Solution).\n",
    "- Time Complexity - O(mxn).\n",
    "- Space Complexity - O(1).\n",
    "\n",
    "- Loop through each row of the matrix.\n",
    "- Get the count of the number of ones in each row.\n",
    "- Also track the min index of the row with max ones.\n",
    "- Return the minIndex and maxOneCount."
   ]
  },
  {
   "cell_type": "code",
   "execution_count": 1,
   "metadata": {
    "vscode": {
     "languageId": "java"
    }
   },
   "outputs": [],
   "source": [
    "class Solution {\n",
    "\n",
    "  public int[] rowAndMaximumOnes(int[][] mat) {\n",
    "    int minRowIndex = 0;\n",
    "    int maxOneCount = 0;\n",
    "\n",
    "    for (int i = 0; i < mat.length; i++) {\n",
    "      int oneCount = 0;\n",
    "      for (int j = 0; j < mat[0].length; j++) {\n",
    "        if (mat[i][j] == 1) {\n",
    "          oneCount++;\n",
    "        }\n",
    "      }\n",
    "\n",
    "      if (oneCount > maxOneCount) {\n",
    "        maxOneCount = oneCount;\n",
    "        minRowIndex = i;\n",
    "      }\n",
    "    }\n",
    "\n",
    "    return new int[] { minRowIndex, maxOneCount };\n",
    "  }\n",
    "}\n"
   ]
  },
  {
   "cell_type": "code",
   "execution_count": 2,
   "metadata": {
    "vscode": {
     "languageId": "java"
    }
   },
   "outputs": [
    {
     "name": "stdout",
     "output_type": "stream",
     "text": [
      "[0, 1]\n"
     ]
    }
   ],
   "source": [
    "Solution s = new Solution();\n",
    "int[][] mat = {{0, 1}, {1, 0}};\n",
    "int[] result = s.rowAndMaximumOnes(mat);\n",
    "System.out.println(Arrays.toString(result));"
   ]
  },
  {
   "cell_type": "code",
   "execution_count": null,
   "metadata": {
    "vscode": {
     "languageId": "java"
    }
   },
   "outputs": [],
   "source": []
  }
 ],
 "metadata": {
  "kernelspec": {
   "display_name": "Java",
   "language": "java",
   "name": "java"
  },
  "language_info": {
   "codemirror_mode": "java",
   "file_extension": ".jshell",
   "mimetype": "text/x-java-source",
   "name": "Java",
   "pygments_lexer": "java",
   "version": "22.0.1+8-16"
  }
 },
 "nbformat": 4,
 "nbformat_minor": 2
}
