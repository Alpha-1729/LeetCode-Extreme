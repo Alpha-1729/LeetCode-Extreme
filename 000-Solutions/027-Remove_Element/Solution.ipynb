{
 "cells": [
  {
   "cell_type": "code",
   "execution_count": null,
   "metadata": {},
   "outputs": [],
   "source": [
    "// Remove Element\n",
    "\n",
    "/*\n",
    ">>>>\n",
    ">>>>\n",
    ">>>>\n",
    ">>>>\n",
    "*/\n"
   ]
  },
  {
   "cell_type": "markdown",
   "metadata": {},
   "source": [
    "# Approach 1 (Best Solution).\n",
    "- Time Complexity - O(n).\n",
    "- Space Complexity - O(1).\n",
    "\n",
    "- Create a variable left to track the number of elements that are not equal to val.\n",
    "- Loop through the array.\n",
    "- If the current element is not equal to the val, move that element to left of the array.\n",
    "- Return variable left."
   ]
  },
  {
   "cell_type": "code",
   "execution_count": null,
   "metadata": {},
   "outputs": [],
   "source": [
    "class Solution {\n",
    "\n",
    "  public int removeElement(int[] nums, int val) {\n",
    "    int left = 0;\n",
    "    for (int i = 0; i < nums.length; i++) {\n",
    "      if (nums[i] != val) {\n",
    "        nums[left] = nums[i];\n",
    "        left++;\n",
    "      }\n",
    "    }\n",
    "    return left;\n",
    "  }\n",
    "}\n"
   ]
  },
  {
   "cell_type": "code",
   "execution_count": null,
   "metadata": {},
   "outputs": [],
   "source": [
    "Solution s = new Solution();\n",
    "\n",
    "int[] nums = {0, 1, 2, 2, 3, 0, 4, 2};\n",
    "int val = 2;\n",
    "int result = s.removeElement(nums, val);\n",
    "System.out.println(result);"
   ]
  }
 ],
 "metadata": {
  "kernelspec": {
   "display_name": "Java",
   "language": "java",
   "name": "java"
  },
  "language_info": {
   "codemirror_mode": "java",
   "file_extension": ".jshell",
   "mimetype": "text/x-java-source",
   "name": "java",
   "pygments_lexer": "java",
   "version": "21.0.2+13-LTS-58"
  }
 },
 "nbformat": 4,
 "nbformat_minor": 2
}
