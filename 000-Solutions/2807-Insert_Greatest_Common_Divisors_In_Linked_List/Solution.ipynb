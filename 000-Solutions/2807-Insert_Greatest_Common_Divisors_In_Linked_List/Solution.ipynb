{
 "cells": [
  {
   "cell_type": "code",
   "execution_count": null,
   "metadata": {},
   "outputs": [],
   "source": [
    "// Insert Greatest Common Divisors In Linked List\n",
    "\n",
    "/*\n",
    ">>>>\n",
    ">>>>\n",
    ">>>>\n",
    ">>>>\n",
    "*/\n"
   ]
  },
  {
   "cell_type": "markdown",
   "metadata": {},
   "source": [
    "# Approach 1 (Best Solution).\n",
    "- Time Complexity - O(n).\n",
    "- Space Complexity - O(1).\n",
    "\n",
    "- Create function to calculate the gcd of two numbers.\n",
    "- Create a function to add a GCD node between two nodes, and return the last node.\n",
    "- Loop through all the node in the linked list and insert gcd node.\n",
    "- Finally return the head of the linked list."
   ]
  },
  {
   "cell_type": "code",
   "execution_count": 11,
   "metadata": {},
   "outputs": [],
   "source": [
    "class Solution {\n",
    "\n",
    "  public ListNode insertGreatestCommonDivisors(ListNode head) {\n",
    "    if (head == null || head.next == null) {\n",
    "      return head;\n",
    "    }\n",
    "\n",
    "    ListNode current = head;\n",
    "\n",
    "    while (current.next != null) {\n",
    "      current = insertGcdNode(current, current.next);\n",
    "    }\n",
    "\n",
    "    return head;\n",
    "  }\n",
    "\n",
    "  public ListNode insertGcdNode(ListNode first, ListNode second) {\n",
    "    int gcd = gcd(first.val, second.val);\n",
    "    ListNode gcdNode = new ListNode(gcd);\n",
    "    first.next = gcdNode;\n",
    "    gcdNode.next = second;\n",
    "    return second;\n",
    "  }\n",
    "\n",
    "  public int gcd(int a, int b) {\n",
    "    if (b == 0) {\n",
    "      return a;\n",
    "    } else {\n",
    "      return gcd(b, a % b);\n",
    "    }\n",
    "  }\n",
    "}\n"
   ]
  },
  {
   "cell_type": "code",
   "execution_count": 14,
   "metadata": {},
   "outputs": [
    {
     "data": {
      "text/plain": [
       "12"
      ]
     },
     "execution_count": 14,
     "metadata": {},
     "output_type": "execute_result"
    }
   ],
   "source": [
    "Solution solution = new Solution();"
   ]
  },
  {
   "cell_type": "code",
   "execution_count": null,
   "metadata": {},
   "outputs": [],
   "source": []
  }
 ],
 "metadata": {
  "kernelspec": {
   "display_name": "Java",
   "language": "java",
   "name": "java"
  },
  "language_info": {
   "codemirror_mode": "java",
   "file_extension": ".jshell",
   "mimetype": "text/x-java-source",
   "name": "java",
   "pygments_lexer": "java",
   "version": "22.0.1+8-16"
  }
 },
 "nbformat": 4,
 "nbformat_minor": 2
}
