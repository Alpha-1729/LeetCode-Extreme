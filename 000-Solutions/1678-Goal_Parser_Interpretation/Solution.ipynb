{
 "cells": [
  {
   "cell_type": "code",
   "execution_count": null,
   "metadata": {
    "vscode": {
     "languageId": "java"
    }
   },
   "outputs": [],
   "source": [
    "// Goal Parser Interpretation\n",
    "\n",
    "/*\n",
    ">>>>\n",
    ">>>>\n",
    ">>>>\n",
    ">>>>\n",
    "*/\n"
   ]
  },
  {
   "cell_type": "markdown",
   "metadata": {},
   "source": [
    "# Approach 1 (Best Solution).\n",
    "- Time Complexity - O(n).\n",
    "- Space Complexity - O(1).\n",
    "\n",
    "- **Variables**:\n",
    "  - `int n = command.length();`: Stores the length of the `command` string.\n",
    "  - `StringBuilder sb = new StringBuilder();`: Creates a `StringBuilder` object to efficiently build the resulting string.\n",
    "\n",
    "- **For Loop**:\n",
    "  - `for (int i = 0; i < n; i++)`: \n",
    "    - This loop iterates through each character in the `command` string.\n",
    "  - Inside the loop:\n",
    "    - `char ch = command.charAt(i);`: Retrieves the current character from the `command` string.\n",
    "    - **Conditionals**:\n",
    "      - `if (ch == 'G')`: \n",
    "        - If the current character is `'G'`, the character `'G'` is appended to the `StringBuilder`.\n",
    "      - `else if (ch == '(')`: \n",
    "        - If the current character is `'('`, the next steps depend on what follows:\n",
    "          - `if (command.charAt(i + 1) == ')')`: \n",
    "            - If the next character is `')'`, append `'o'` to the `StringBuilder`, as this corresponds to the command `()` being interpreted as \"o\". The loop index `i` is then incremented by 1 to skip over the `')'`.\n",
    "          - `else`: \n",
    "            - If the characters following `'('` are `'a'`, `'l'`, and `')'`, append `\"al\"` to the `StringBuilder`, as this corresponds to the command `(al)` being interpreted as \"al\". The loop index `i` is incremented by 3 to skip over `\"al)\"`.\n",
    "\n",
    "- **Return Statement**:\n",
    "  - `return sb.toString();`: After the loop completes, the `StringBuilder` contains the fully interpreted string, which is then returned as the result."
   ]
  },
  {
   "cell_type": "code",
   "execution_count": null,
   "metadata": {
    "vscode": {
     "languageId": "java"
    }
   },
   "outputs": [],
   "source": [
    "class Solution {\n",
    "    public String interpret(String command) {\n",
    "        int n = command.length();\n",
    "        StringBuilder sb = new StringBuilder();\n",
    "\n",
    "        for (int i = 0; i < n; i++) {\n",
    "            char ch = command.charAt(i);\n",
    "            if (ch == 'G') {\n",
    "                sb.append('G');\n",
    "            } else if (ch == '(') {\n",
    "                if (command.charAt(i + 1) == ')') {\n",
    "                    sb.append('o');\n",
    "                    i++;\n",
    "                } else {\n",
    "                    sb.append(\"al\");\n",
    "                    i += 3;\n",
    "                }\n",
    "            }\n",
    "        }\n",
    "        return sb.toString();\n",
    "    }\n",
    "}"
   ]
  },
  {
   "cell_type": "code",
   "execution_count": null,
   "metadata": {
    "vscode": {
     "languageId": "java"
    }
   },
   "outputs": [],
   "source": [
    "Solution solution = new Solution();\n",
    "String command = \"(al)G(al)()()G\";\n",
    "String result = solution.interpret(command);\n",
    "System.out.println(result);"
   ]
  },
  {
   "cell_type": "code",
   "execution_count": null,
   "metadata": {
    "vscode": {
     "languageId": "java"
    }
   },
   "outputs": [],
   "source": []
  }
 ],
 "metadata": {
  "kernelspec": {
   "display_name": "Java",
   "language": "java",
   "name": "java"
  },
  "language_info": {
   "codemirror_mode": "java",
   "file_extension": ".jshell",
   "mimetype": "text/x-java-source",
   "name": "Java",
   "pygments_lexer": "java",
   "version": "22.0.2+9-70"
  }
 },
 "nbformat": 4,
 "nbformat_minor": 2
}
