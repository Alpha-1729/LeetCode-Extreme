{
 "cells": [
  {
   "cell_type": "code",
   "execution_count": null,
   "metadata": {},
   "outputs": [],
   "source": [
    "// Find Lucky Integer In An Array\n",
    "\n",
    "/*\n",
    ">>>>\n",
    ">>>>\n",
    ">>>>\n",
    ">>>>\n",
    "*/\n"
   ]
  },
  {
   "cell_type": "markdown",
   "metadata": {},
   "source": [
    "# Approach 1 (Best Solution).\n",
    "- Time Complexity - O(n).\n",
    "- Space Complexity - O(n).\n",
    "\n",
    "1. **Initialize Variables**:\n",
    "   - `lucky`: A variable initialized to `-1` to store the lucky number (if found).\n",
    "   - `max`: A variable to store the maximum number in the array `arr`.\n",
    "\n",
    "2. **Find Maximum Number**:\n",
    "   - The first `for` loop iterates over `arr` to find the largest number (`max`) in the array. This helps in creating the frequency array of appropriate size.\n",
    "\n",
    "3. **Create Frequency Array**:\n",
    "   - `freqSet`: An array initialized with size `max + 1` to store the frequency of each number in `arr`. \n",
    "   - The second `for` loop increments the frequency of each number `num` in `arr`.\n",
    "\n",
    "4. **Check for Lucky Number**:\n",
    "   - The third `for` loop iterates backward from `max` to `1` to find the largest lucky number. A lucky number is defined as a number whose value is equal to its frequency.\n",
    "   - If such a number is found (i.e., `freqSet[i] == i`), the function immediately returns that number.\n",
    "\n",
    "5. **Return -1 if No Lucky Number**:\n",
    "   - If no lucky number is found by the end of the loop, the function returns `lucky` (which remains `-1`).\n"
   ]
  },
  {
   "cell_type": "code",
   "execution_count": null,
   "metadata": {},
   "outputs": [],
   "source": [
    "class Solution {\n",
    "    public int findLucky(int[] arr) {\n",
    "        int lucky = -1;\n",
    "\n",
    "        int max = 0;\n",
    "        for (int num : arr) {\n",
    "            if (num > max) {\n",
    "                max = num;\n",
    "            }\n",
    "        }\n",
    "\n",
    "        int[] freqSet = new int[max + 1];\n",
    "        for (int num : arr) {\n",
    "            freqSet[num]++;\n",
    "        }\n",
    "\n",
    "        for (int i = max; i > 0; i--) {\n",
    "            if (freqSet[i] == i) {\n",
    "                return i;\n",
    "            }\n",
    "        }\n",
    "\n",
    "        return lucky;\n",
    "    }\n",
    "}"
   ]
  },
  {
   "cell_type": "code",
   "execution_count": null,
   "metadata": {},
   "outputs": [],
   "source": [
    "Solution solution = new Solution();\n",
    "int[] arr = {2, 2, 3, 4};\n",
    "int result = solution.findLucky(nums);\n",
    "System.out.println(result);"
   ]
  }
 ],
 "metadata": {
  "kernelspec": {
   "display_name": "Java",
   "language": "java",
   "name": "java"
  },
  "language_info": {
   "codemirror_mode": "java",
   "file_extension": ".jshell",
   "mimetype": "text/x-java-source",
   "name": "java",
   "pygments_lexer": "java",
   "version": "21.0.2+13-LTS-58"
  }
 },
 "nbformat": 4,
 "nbformat_minor": 2
}
