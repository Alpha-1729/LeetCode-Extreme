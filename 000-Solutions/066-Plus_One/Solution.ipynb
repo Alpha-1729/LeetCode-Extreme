{
 "cells": [
  {
   "cell_type": "code",
   "execution_count": null,
   "metadata": {
    "vscode": {
     "languageId": "java"
    }
   },
   "outputs": [],
   "source": [
    "// Plus One\n",
    "\n",
    "/*\n",
    ">>>>\n",
    ">>>>\n",
    ">>>>\n",
    ">>>>\n",
    "*/\n"
   ]
  },
  {
   "cell_type": "markdown",
   "metadata": {},
   "source": [
    "# Approach 1 (Best Solution).\n",
    "- Time Complexity - O(n).\n",
    "- Space Complexity - O(1) (Input array is modified).\n",
    " \n",
    "- The question already said that the larger number does not contain any leading zeroes.\n",
    "- Loop through the array from end to start.\n",
    "  - If the digit is less than 9, increment the digit by 1.\n",
    "    - Return the current array.\n",
    "  - If the digit is 9, Update the digit to 0\n",
    "- Create a new array with length greater than the actual array and all elements to zero.\n",
    "- Update the first element to 1.\n",
    "- Return the new array.\n"
   ]
  },
  {
   "cell_type": "code",
   "execution_count": null,
   "metadata": {
    "vscode": {
     "languageId": "java"
    }
   },
   "outputs": [],
   "source": [
    "class Solution {\n",
    "\n",
    "  public int[] plusOne(int[] digits) {\n",
    "    for (int i = digits.length - 1; i >= 0; i--) {\n",
    "      if (digits[i] < 9) {\n",
    "        digits[i]++;\n",
    "        return digits;\n",
    "      }\n",
    "      digits[i] = 0;\n",
    "    }\n",
    "    digits = new int[digits.length + 1];\n",
    "    digits[0] = 1;\n",
    "    return digits;\n",
    "  }\n",
    "}\n"
   ]
  },
  {
   "cell_type": "code",
   "execution_count": null,
   "metadata": {
    "vscode": {
     "languageId": "java"
    }
   },
   "outputs": [],
   "source": [
    "Solution s = new Solution();\n",
    "\n",
    "int[] digits = {1, 3, 9};\n",
    "int[] result = s.plusOne(digits);\n",
    "System.out.println(Arrays.toString(result));"
   ]
  }
 ],
 "metadata": {
  "kernelspec": {
   "display_name": "Java",
   "language": "java",
   "name": "java"
  },
  "language_info": {
   "codemirror_mode": "java",
   "file_extension": ".jshell",
   "mimetype": "text/x-java-source",
   "name": "Java",
   "pygments_lexer": "java",
   "version": "21.0.2+13-LTS-58"
  }
 },
 "nbformat": 4,
 "nbformat_minor": 2
}
