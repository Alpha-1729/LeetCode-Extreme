{
 "cells": [
  {
   "cell_type": "code",
   "execution_count": null,
   "metadata": {
    "vscode": {
     "languageId": "java"
    }
   },
   "outputs": [],
   "source": [
    "// Online Stock Span\n",
    "\n",
    "/*\n",
    ">>>>\n",
    ">>>>\n",
    ">>>>\n",
    ">>>>\n",
    "*/\n"
   ]
  },
  {
   "cell_type": "markdown",
   "metadata": {},
   "source": [
    "# Approach 1 (Best Solution).\n",
    "- Time Complexity - O(n).\n",
    "- Space Complexity - O(n).\n",
    "\n",
    "1. **Node Class**:\n",
    "   - The `Node` class is used to store:\n",
    "     - `price`: The stock price.\n",
    "     - `span`: The number of consecutive days the stock price has been less than or equal to the current day's price.\n",
    "     - `next`: A pointer to the next node in the stack.\n",
    "\n",
    "2. **StockSpanner Constructor**:\n",
    "   - Initializes an empty `StockSpanner` object. No specific setup is required in this constructor.\n",
    "\n",
    "3. **next Method**:\n",
    "   - This method calculates the stock span for the given `price`.\n",
    "   - **Initial Span**: The initial span for a new stock price is 1 (itself).\n",
    "   - **Check the Stack**: The method iterates through the stack (linked list) to find how many consecutive days the stock price has been less than or equal to the current day's price:\n",
    "     - If the `head` node's price is less than or equal to the current `price`, the span is increased by the `head`'s span, and the `head` moves to the next node.\n",
    "   - **Update the Stack**: After calculating the span, a new `Node` is created for the current price and span, and added to the top of the stack (`head`).\n",
    "   - Returns the span for the current day's stock price.\n",
    "\n",
    "4. **Usage**:\n",
    "   - A `StockSpanner` object can be instantiated using `StockSpanner obj = new StockSpanner();`.\n",
    "   - The `next(int price)` method can be called to compute the span for a new stock price and return the span.\n"
   ]
  },
  {
   "cell_type": "code",
   "execution_count": null,
   "metadata": {
    "vscode": {
     "languageId": "java"
    }
   },
   "outputs": [],
   "source": [
    "class StockSpanner {\n",
    "    Node head;\n",
    "\n",
    "    private class Node {\n",
    "        int price;\n",
    "        int span;\n",
    "        Node next;\n",
    "\n",
    "        private Node(int price, int span, Node next) {\n",
    "            this.price = price;\n",
    "            this.span = span;\n",
    "            this.next = next;\n",
    "        }\n",
    "\n",
    "    }\n",
    "\n",
    "    public StockSpanner() {\n",
    "\n",
    "    }\n",
    "\n",
    "    public int next(int price) {\n",
    "        int span = 1;\n",
    "        if (head == null) {\n",
    "            head = new Node(price, span, null);\n",
    "            return span;\n",
    "        }\n",
    "\n",
    "        while (head != null && head.price <= price) {\n",
    "            span += head.span;\n",
    "            head = head.next;\n",
    "        }\n",
    "\n",
    "        head = new Node(price, span, head);\n",
    "        return span;\n",
    "    }\n",
    "}\n",
    "\n",
    "/**\n",
    " * Your StockSpanner object will be instantiated and called as such:\n",
    " * StockSpanner obj = new StockSpanner();\n",
    " * int param_1 = obj.next(price);\n",
    " */"
   ]
  },
  {
   "cell_type": "code",
   "execution_count": null,
   "metadata": {
    "vscode": {
     "languageId": "java"
    }
   },
   "outputs": [],
   "source": [
    "StockSpanner stockSpanner = new StockSpanner();\n",
    "System.out.println(stockSpanner.next(100)); // return 1\n",
    "System.out.println(stockSpanner.next(80));  // return 1\n",
    "System.out.println(stockSpanner.next(60));  // return 1\n",
    "System.out.println(stockSpanner.next(70));  // return 2\n",
    "System.out.println(stockSpanner.next(60));  // return 1\n",
    "System.out.println(stockSpanner.next(75));  // return 4, because the last 4 prices (including today's price of 75) were less than or equal to today's price.\n",
    "System.out.println(stockSpanner.next(85));"
   ]
  },
  {
   "cell_type": "code",
   "execution_count": null,
   "metadata": {
    "vscode": {
     "languageId": "java"
    }
   },
   "outputs": [],
   "source": []
  }
 ],
 "metadata": {
  "kernelspec": {
   "display_name": "Java",
   "language": "java",
   "name": "java"
  },
  "language_info": {
   "codemirror_mode": "java",
   "file_extension": ".jshell",
   "mimetype": "text/x-java-source",
   "name": "Java",
   "pygments_lexer": "java",
   "version": "22.0.2+9-70"
  }
 },
 "nbformat": 4,
 "nbformat_minor": 2
}
