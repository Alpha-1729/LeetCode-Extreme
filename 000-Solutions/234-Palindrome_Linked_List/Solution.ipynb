{
 "cells": [
  {
   "cell_type": "code",
   "execution_count": null,
   "metadata": {
    "vscode": {
     "languageId": "java"
    }
   },
   "outputs": [],
   "source": [
    "// Palindrome Linked List\n",
    "\n",
    "/*\n",
    ">>>>\n",
    ">>>>\n",
    ">>>>\n",
    ">>>>\n",
    "*/\n"
   ]
  },
  {
   "cell_type": "markdown",
   "metadata": {},
   "source": [
    "# Approach 1 (Best Solution).\n",
    "- Time Complexity - O(n).\n",
    "- Space Complexity - O(1).\n",
    "\n",
    "- Find the middle node of the linked list.\n",
    "- Convert the Linked list into two linked list.\n",
    "- Reverse the second linked list.\n",
    "- Using two pointer, traverse the first and second linked list.\n",
    "- Compare each elements.\n",
    "- Return false if there is any mismatch.\n",
    "- Finally return true."
   ]
  },
  {
   "cell_type": "code",
   "execution_count": null,
   "metadata": {
    "vscode": {
     "languageId": "java"
    }
   },
   "outputs": [],
   "source": [
    "public class ListNode {\n",
    "\n",
    "  int val;\n",
    "  ListNode next;\n",
    "\n",
    "  ListNode() {}\n",
    "\n",
    "  ListNode(int val) {\n",
    "    this.val = val;\n",
    "  }\n",
    "\n",
    "  ListNode(int val, ListNode next) {\n",
    "    this.val = val;\n",
    "    this.next = next;\n",
    "  }\n",
    "}\n"
   ]
  },
  {
   "cell_type": "code",
   "execution_count": 3,
   "metadata": {
    "vscode": {
     "languageId": "java"
    }
   },
   "outputs": [
    {
     "ename": "CompilationException",
     "evalue": "",
     "output_type": "error",
     "traceback": [
      "\u001b[1m\u001b[30m|   \u001b[1m\u001b[30m  public boolean isPalindrome(\u001b[0m\u001b[1m\u001b[30m\u001b[41mListNode\u001b[0m\u001b[1m\u001b[30m head) {\u001b[0m",
      "\u001b[1m\u001b[31mcannot find symbol\u001b[0m",
      "\u001b[1m\u001b[31m  symbol:   class ListNode\u001b[0m",
      "",
      "\u001b[1m\u001b[30m|   \u001b[1m\u001b[30m    \u001b[0m\u001b[1m\u001b[30m\u001b[41mListNode\u001b[0m\u001b[1m\u001b[30m slow = head;\u001b[0m",
      "\u001b[1m\u001b[31mcannot find symbol\u001b[0m",
      "\u001b[1m\u001b[31m  symbol:   class ListNode\u001b[0m",
      "",
      "\u001b[1m\u001b[30m|   \u001b[1m\u001b[30m    \u001b[0m\u001b[1m\u001b[30m\u001b[41mListNode\u001b[0m\u001b[1m\u001b[30m fast = head;\u001b[0m",
      "\u001b[1m\u001b[31mcannot find symbol\u001b[0m",
      "\u001b[1m\u001b[31m  symbol:   class ListNode\u001b[0m",
      "",
      "\u001b[1m\u001b[30m|   \u001b[1m\u001b[30m  public boolean isPalindrome(ListNode head) \u001b[0m\u001b[1m\u001b[30m\u001b[41m{\u001b[0m",
      "\u001b[1m\u001b[30m|   \u001b[1m\u001b[30m\u001b[41m    ListNode slow = head;\u001b[0m",
      "\u001b[1m\u001b[30m|   \u001b[1m\u001b[30m\u001b[41m    ListNode fast = head;\u001b[0m",
      "\u001b[1m\u001b[30m|   \u001b[1m\u001b[30m\u001b[41m\u001b[0m",
      "\u001b[1m\u001b[30m|   \u001b[1m\u001b[30m\u001b[41m    while(fast != null && fast.next != null){\u001b[0m",
      "\u001b[1m\u001b[30m|   \u001b[1m\u001b[30m\u001b[41m        slow = slow.next;\u001b[0m",
      "\u001b[1m\u001b[30m|   \u001b[1m\u001b[30m\u001b[41m        fast = fast.next.next;\u001b[0m",
      "\u001b[1m\u001b[30m|   \u001b[1m\u001b[30m\u001b[41m    }\u001b[0m",
      "\u001b[1m\u001b[30m|   \u001b[1m\u001b[30m\u001b[41m  }\u001b[0m",
      "\u001b[1m\u001b[31mmissing return statement\u001b[0m",
      ""
     ]
    }
   ],
   "source": [
    "class Solution {\n",
    "\n",
    "  public boolean isPalindrome(ListNode head) {\n",
    "    // Find middle node of the linked list.\n",
    "    ListNode slow = head;\n",
    "    ListNode fast = head;\n",
    "\n",
    "    while (fast != null && fast.next != null) {\n",
    "      slow = slow.next;\n",
    "      fast = fast.next.next;\n",
    "    }\n",
    "\n",
    "    // Reversing the right half of the linked list.\n",
    "    ListNode half = reverse(slow);\n",
    "\n",
    "    // Set the end of first Linked List to null.\n",
    "    slow = null;\n",
    "\n",
    "    while (half != null) {\n",
    "      if (head.val != half.val) {\n",
    "        return false;\n",
    "      }\n",
    "      head = head.next;\n",
    "      half = half.next;\n",
    "    }\n",
    "    return true;\n",
    "  }\n",
    "\n",
    "  public ListNode reverse(ListNode head) {\n",
    "    ListNode current = head;\n",
    "    ListNode previous = null;\n",
    "    ListNode next = null;\n",
    "\n",
    "    while (current != null) {\n",
    "      next = current.next;\n",
    "      current.next = previous;\n",
    "      previous = current;\n",
    "      current = next;\n",
    "    }\n",
    "\n",
    "    return previous;\n",
    "  }\n",
    "}\n"
   ]
  },
  {
   "cell_type": "code",
   "execution_count": null,
   "metadata": {
    "vscode": {
     "languageId": "java"
    }
   },
   "outputs": [],
   "source": [
    "Solution s = new Solution();"
   ]
  }
 ],
 "metadata": {
  "kernelspec": {
   "display_name": "Java",
   "language": "java",
   "name": "java"
  },
  "language_info": {
   "codemirror_mode": "java",
   "file_extension": ".jshell",
   "mimetype": "text/x-java-source",
   "name": "Java",
   "pygments_lexer": "java",
   "version": "21.0.2+13-LTS-58"
  }
 },
 "nbformat": 4,
 "nbformat_minor": 2
}
