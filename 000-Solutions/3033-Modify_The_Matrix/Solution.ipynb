{
 "cells": [
  {
   "cell_type": "code",
   "execution_count": null,
   "metadata": {
    "vscode": {
     "languageId": "java"
    }
   },
   "outputs": [],
   "source": [
    "// Modify The Matrix\n",
    "\n",
    "/*\n",
    ">>>>\n",
    ">>>>\n",
    ">>>>\n",
    ">>>>\n",
    "*/\n"
   ]
  },
  {
   "cell_type": "markdown",
   "metadata": {},
   "source": [
    "# Approach 1 (Best Solution).\n",
    "- Time Complexity - O(mxn).\n",
    "- Space Complexity - O(1).\n",
    "\n",
    "- Loop through each column in the matrix and find the max number.\n",
    "- Loop through the column again and replace the -1 with the max number.\n",
    "- Return the matrix."
   ]
  },
  {
   "cell_type": "code",
   "execution_count": 1,
   "metadata": {
    "vscode": {
     "languageId": "java"
    }
   },
   "outputs": [],
   "source": [
    "class Solution {\n",
    "    public int[][] modifiedMatrix(int[][] matrix) {\n",
    "        int row = matrix.length;\n",
    "        int column = matrix[0].length;\n",
    "        for (int i = 0; i < column; i++)\n",
    "        {\n",
    "            int columnMax = -1;\n",
    "            for (int j = 0; j < row; j++)\n",
    "            {\n",
    "                if (matrix[j][i] > columnMax)\n",
    "                {\n",
    "                    columnMax = matrix[j][i];\n",
    "                }\n",
    "            }\n",
    "            for (int j = 0; j < row; j++)\n",
    "            {\n",
    "                if (matrix[j][i] == -1)\n",
    "                {\n",
    "                    matrix[j][i] = columnMax;\n",
    "                }\n",
    "            }\n",
    "        }\n",
    "        return matrix;\n",
    "    }\n",
    "}"
   ]
  },
  {
   "cell_type": "code",
   "execution_count": 2,
   "metadata": {
    "vscode": {
     "languageId": "java"
    }
   },
   "outputs": [
    {
     "name": "stdout",
     "output_type": "stream",
     "text": [
      "[1, 2, 9]\n",
      "[4, 8, 6]\n",
      "[7, 8, 9]\n"
     ]
    }
   ],
   "source": [
    "Solution solution = new Solution();\n",
    "int[][] matrix = {{1, 2, -1}, {4, -1, 6}, {7, 8, 9}};\n",
    "int[][] result = solution.modifiedMatrix(matrix);\n",
    "for (int[] rows : result)\n",
    "{\n",
    "    System.out.println(Arrays.toString(rows));\n",
    "}"
   ]
  },
  {
   "cell_type": "code",
   "execution_count": null,
   "metadata": {
    "vscode": {
     "languageId": "java"
    }
   },
   "outputs": [],
   "source": []
  }
 ],
 "metadata": {
  "kernelspec": {
   "display_name": "Java",
   "language": "java",
   "name": "java"
  },
  "language_info": {
   "codemirror_mode": "java",
   "file_extension": ".jshell",
   "mimetype": "text/x-java-source",
   "name": "Java",
   "pygments_lexer": "java",
   "version": "21.0.3+9-Debian-2"
  }
 },
 "nbformat": 4,
 "nbformat_minor": 2
}
