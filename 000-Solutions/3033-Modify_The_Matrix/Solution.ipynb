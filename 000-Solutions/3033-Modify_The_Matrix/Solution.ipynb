{
 "cells": [
  {
   "cell_type": "code",
   "execution_count": null,
   "metadata": {},
   "outputs": [],
   "source": [
    "// Modify The Matrix\n",
    "\n",
    "/*\n",
    ">>>>\n",
    ">>>>\n",
    ">>>>\n",
    ">>>>\n",
    "*/\n"
   ]
  },
  {
   "cell_type": "markdown",
   "metadata": {},
   "source": [
    "# Approach 1 (Best Solution).\n",
    "- Time Complexity - O(mxn).\n",
    "- Space Complexity - O(1).\n",
    "\n",
    "- Loop through each column in the matrix and find the max number.\n",
    "- Loop through the column again and replace the -1 with the max number.\n",
    "- Return the matrix."
   ]
  },
  {
   "cell_type": "code",
   "execution_count": null,
   "metadata": {},
   "outputs": [],
   "source": [
    "class Solution {\n",
    "    public int[][] modifiedMatrix(int[][] matrix) {\n",
    "        int row = matrix.length;\n",
    "        int column = matrix[0].length;\n",
    "        for (int i = 0; i < column; i++)\n",
    "        {\n",
    "            int columnMax = -1;\n",
    "            for (int j = 0; j < row; j++)\n",
    "            {\n",
    "                if (matrix[j][i] > columnMax)\n",
    "                {\n",
    "                    columnMax = matrix[j][i];\n",
    "                }\n",
    "            }\n",
    "            for (int j = 0; j < row; j++)\n",
    "            {\n",
    "                if (matrix[j][i] == -1)\n",
    "                {\n",
    "                    matrix[j][i] = columnMax;\n",
    "                }\n",
    "            }\n",
    "        }\n",
    "        return matrix;\n",
    "    }\n",
    "}"
   ]
  },
  {
   "cell_type": "code",
   "execution_count": null,
   "metadata": {},
   "outputs": [],
   "source": [
    "Solution solution = new Solution();"
   ]
  }
 ],
 "metadata": {
  "kernelspec": {
   "display_name": "Java",
   "language": "java",
   "name": "java"
  },
  "language_info": {
   "codemirror_mode": "java",
   "file_extension": ".jshell",
   "mimetype": "text/x-java-source",
   "name": "java",
   "pygments_lexer": "java",
   "version": "21.0.2+13-LTS-58"
  }
 },
 "nbformat": 4,
 "nbformat_minor": 2
}
