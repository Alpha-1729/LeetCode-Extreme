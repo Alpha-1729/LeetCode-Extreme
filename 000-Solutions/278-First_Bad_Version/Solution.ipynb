{
 "cells": [
  {
   "cell_type": "code",
   "execution_count": null,
   "metadata": {
    "vscode": {
     "languageId": "java"
    }
   },
   "outputs": [],
   "source": [
    "// First Bad Version\n",
    "\n",
    "/*\n",
    ">>>>\n",
    ">>>>\n",
    ">>>>\n",
    ">>>>\n",
    "*/\n"
   ]
  },
  {
   "cell_type": "markdown",
   "metadata": {},
   "source": [
    "# Approach 1 (Best Solution).\n",
    "- Time Complexity - O(nlogn).\n",
    "- Space Complexity - O(1).\n",
    "\n",
    "- Use the binary search method."
   ]
  },
  {
   "cell_type": "code",
   "execution_count": null,
   "metadata": {
    "vscode": {
     "languageId": "java"
    }
   },
   "outputs": [],
   "source": [
    "/* The isBadVersion API is defined in the parent class VersionControl.\n",
    "      boolean isBadVersion(int version); */\n",
    "\n",
    "public class Solution extends VersionControl {\n",
    "\n",
    "  public int firstBadVersion(int n) {\n",
    "    int left = 1;\n",
    "    int right = n;\n",
    "    while (left < right) {\n",
    "      int mid = left + ((right - left) / 2);\n",
    "      if (isBadVersion(mid)) {\n",
    "        right = mid;\n",
    "      } else {\n",
    "        left = mid + 1;\n",
    "      }\n",
    "    }\n",
    "    return left;\n",
    "  }\n",
    "}\n"
   ]
  },
  {
   "cell_type": "code",
   "execution_count": null,
   "metadata": {
    "vscode": {
     "languageId": "java"
    }
   },
   "outputs": [],
   "source": [
    "Solution solution = new Solution();"
   ]
  }
 ],
 "metadata": {
  "kernelspec": {
   "display_name": "Java",
   "language": "java",
   "name": "java"
  },
  "language_info": {
   "codemirror_mode": "java",
   "file_extension": ".jshell",
   "mimetype": "text/x-java-source",
   "name": "Java",
   "pygments_lexer": "java",
   "version": "22.0.1+8-16"
  }
 },
 "nbformat": 4,
 "nbformat_minor": 2
}
