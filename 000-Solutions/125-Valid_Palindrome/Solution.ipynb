{
 "cells": [
  {
   "cell_type": "code",
   "execution_count": null,
   "metadata": {
    "vscode": {
     "languageId": "java"
    }
   },
   "outputs": [],
   "source": [
    "// Valid Palindrome\n",
    "\n",
    "/*\n",
    ">>>>\n",
    ">>>>\n",
    ">>>>\n",
    ">>>>\n",
    "*/\n"
   ]
  },
  {
   "cell_type": "markdown",
   "metadata": {},
   "source": [
    "# Approach 1 (Best Solution).\n",
    "- Time Complexity - O(n).\n",
    "- Space Complexity - O(1).\n",
    "\n",
    "- Use the two pointer approach.\n",
    "- Check the alphanumeric character at left and right part of the string.\n",
    "- If there is a mismatch, return false.\n",
    "- Else return true."
   ]
  },
  {
   "cell_type": "code",
   "execution_count": null,
   "metadata": {
    "vscode": {
     "languageId": "java"
    }
   },
   "outputs": [],
   "source": [
    "class Solution {\n",
    "\n",
    "    public boolean isPalindrome(String s) {\n",
    "        s = s.toLowerCase();\n",
    "        int left = 0;\n",
    "        int right = s.length() - 1;\n",
    "\n",
    "        while (left <= right) {\n",
    "            char first = s.charAt(left);\n",
    "            char last = s.charAt(right);\n",
    "\n",
    "            if (!Character.isLetterOrDigit(first)) {\n",
    "                left++;\n",
    "                continue;\n",
    "            }\n",
    "            if (!Character.isLetterOrDigit(last)) {\n",
    "                right--;\n",
    "                continue;\n",
    "            }\n",
    "            if (first != last) {\n",
    "                return false;\n",
    "            }\n",
    "\n",
    "            left++;\n",
    "            right--;\n",
    "        }\n",
    "\n",
    "        return true;\n",
    "    }\n",
    "}\n"
   ]
  },
  {
   "cell_type": "code",
   "execution_count": null,
   "metadata": {
    "vscode": {
     "languageId": "java"
    }
   },
   "outputs": [],
   "source": [
    "Solution solution = new Solution();\n",
    "String s = \"race a car\";\n",
    "boolean result = solution.isPalindrome(s);\n",
    "System.out.println(result);"
   ]
  },
  {
   "cell_type": "code",
   "execution_count": null,
   "metadata": {
    "vscode": {
     "languageId": "java"
    }
   },
   "outputs": [],
   "source": []
  }
 ],
 "metadata": {
  "kernelspec": {
   "display_name": "Java",
   "language": "java",
   "name": "java"
  },
  "language_info": {
   "codemirror_mode": "java",
   "file_extension": ".jshell",
   "mimetype": "text/x-java-source",
   "name": "Java",
   "pygments_lexer": "java",
   "version": "22.0.1+8-16"
  }
 },
 "nbformat": 4,
 "nbformat_minor": 2
}
