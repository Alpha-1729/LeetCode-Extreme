{
 "cells": [
  {
   "cell_type": "code",
   "execution_count": null,
   "metadata": {
    "vscode": {
     "languageId": "java"
    }
   },
   "outputs": [],
   "source": [
    "// Decode The Message\n",
    "\n",
    "/*\n",
    ">>>>\n",
    ">>>>\n",
    ">>>>\n",
    ">>>>\n",
    "*/\n"
   ]
  },
  {
   "cell_type": "markdown",
   "metadata": {},
   "source": [
    "# Approach 1 (Best Solution).\n",
    "- Time Complexity - O(n+m).\n",
    "- Space Complexity - O(n).\n",
    "\n",
    "- Store the character mappings in an array.\n",
    "- Create a character array to store the result.\n",
    "- Iterate through the character in the message string.\n",
    "  - Get the mapping of the current char from the array.\n",
    "  - Add the map character to the result char array.\n",
    "- Return the result char array."
   ]
  },
  {
   "cell_type": "code",
   "execution_count": null,
   "metadata": {
    "vscode": {
     "languageId": "java"
    }
   },
   "outputs": [],
   "source": [
    "class Solution {\n",
    "\n",
    "  public String decodeMessage(String key, String message) {\n",
    "    // Array to store the character and it's mappings.\n",
    "    char[] mappingSet = new char[26];\n",
    "    char mapValue = 'a';\n",
    "\n",
    "    for (int i = 0; i < key.length(); i++) {\n",
    "      char ch = key.charAt(i);\n",
    "      if (ch != ' ') {\n",
    "        if (mappingSet[ch - 'a'] == 0) {\n",
    "          mappingSet[ch - 'a'] = mapValue++;\n",
    "        }\n",
    "      }\n",
    "\n",
    "      if (mapValue - 'a' >= 26) {\n",
    "        break;\n",
    "      }\n",
    "    }\n",
    "\n",
    "    char[] result = new char[message.length()];\n",
    "    for (int i = 0; i < message.length(); i++) {\n",
    "      char ch = message.charAt(i);\n",
    "\n",
    "      if (ch == ' ') {\n",
    "        result[i] = ' ';\n",
    "        continue;\n",
    "      }\n",
    "      result[i] = mappingSet[ch - 'a'];\n",
    "    }\n",
    "\n",
    "    return new String(result);\n",
    "  }\n",
    "}\n"
   ]
  },
  {
   "cell_type": "code",
   "execution_count": null,
   "metadata": {
    "vscode": {
     "languageId": "java"
    }
   },
   "outputs": [],
   "source": [
    "Solution solution = new Solution();\n",
    "String key = \"eljuxhpwnyrdgtqkviszcfmabo\";\n",
    "String message = \"zwx hnfx lqantp mnoeius ycgk vcnjrdb\";\n",
    "String result = solution.decodeMessage(key, message);\n",
    "System.out.println(result);"
   ]
  },
  {
   "cell_type": "code",
   "execution_count": null,
   "metadata": {
    "vscode": {
     "languageId": "java"
    }
   },
   "outputs": [],
   "source": []
  }
 ],
 "metadata": {
  "kernelspec": {
   "display_name": "Java",
   "language": "java",
   "name": "java"
  },
  "language_info": {
   "codemirror_mode": "java",
   "file_extension": ".jshell",
   "mimetype": "text/x-java-source",
   "name": "Java",
   "pygments_lexer": "java",
   "version": "22.0.1+8-16"
  }
 },
 "nbformat": 4,
 "nbformat_minor": 2
}
