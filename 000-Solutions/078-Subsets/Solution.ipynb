{
 "cells": [
  {
   "cell_type": "code",
   "execution_count": null,
   "metadata": {
    "vscode": {
     "languageId": "java"
    }
   },
   "outputs": [],
   "source": [
    "// Subsets\n",
    "\n",
    "/*\n",
    ">>>>\n",
    ">>>>\n",
    ">>>>\n",
    ">>>>\n",
    "*/\n"
   ]
  },
  {
   "cell_type": "markdown",
   "metadata": {},
   "source": [
    "# Approach 1 (Best Solution).\n",
    "- Time Complexity - O(n.2^n).\n",
    "- Space Complexity - O(n.2^n).\n",
    "\n",
    "1. **Initialize Variables**:\n",
    "   - `n`: The length of the input array `nums`.\n",
    "   - `res`: A `List<List<Integer>>` to store all the subsets.\n",
    "\n",
    "2. **Iterate Over All Possible Subsets**:\n",
    "   - The `for` loop iterates through all numbers from `0` to `2^n - 1` (i.e., `(1 << n)`), where each number represents a binary mask. The mask indicates which elements of `nums` should be included in the current subset.\n",
    "     - There are `2^n` possible subsets for an array of size `n`.\n",
    "\n",
    "3. **Generate Each Subset**:\n",
    "   - For each number `i`, initialize a temporary list `temp` to store the current subset.\n",
    "   - The inner loop goes through each bit of the binary representation of `i` (from `0` to `n - 1`).\n",
    "     - If the `j`-th bit of `i` is set (i.e., `((1 << j) & i) != 0`), it means that the `j`-th element of `nums` should be included in the current subset.\n",
    "     - Add `nums[j]` to `temp` if the corresponding bit is set.\n",
    "\n",
    "4. **Store Subset**:\n",
    "   - After generating a subset, add the `temp` list to the result list `res`.\n",
    "\n",
    "5. **Return**:\n",
    "   - The method returns the result list `res`, containing all possible subsets of `nums`."
   ]
  },
  {
   "cell_type": "code",
   "execution_count": null,
   "metadata": {
    "vscode": {
     "languageId": "java"
    }
   },
   "outputs": [],
   "source": [
    "class Solution {\n",
    "    public List<List<Integer>> subsets(int[] nums) {\n",
    "        int n = nums.length;\n",
    "        List<List<Integer>> res = new ArrayList<>();\n",
    "\n",
    "        for (int i = 0; i < (1 << n); i++) {\n",
    "            List<Integer> temp = new ArrayList<>();\n",
    "            for (int j = 0; j < n; j++) {\n",
    "                if (((1 << j) & i) != 0) {\n",
    "                    temp.add(nums[j]);\n",
    "                }\n",
    "            }\n",
    "            res.add(temp);\n",
    "        }\n",
    "\n",
    "        return res;\n",
    "    }\n",
    "}"
   ]
  },
  {
   "cell_type": "code",
   "execution_count": null,
   "metadata": {
    "vscode": {
     "languageId": "java"
    }
   },
   "outputs": [],
   "source": [
    "Solution solution = new Solution();\n",
    "int[] nums = {1, 2, 3};\n",
    "List<List<Integer>> result = solution.subsets(nums);\n",
    "System.out.println(result);"
   ]
  },
  {
   "cell_type": "code",
   "execution_count": null,
   "metadata": {
    "vscode": {
     "languageId": "java"
    }
   },
   "outputs": [],
   "source": []
  }
 ],
 "metadata": {
  "kernelspec": {
   "display_name": "Java",
   "language": "java",
   "name": "java"
  },
  "language_info": {
   "codemirror_mode": "java",
   "file_extension": ".jshell",
   "mimetype": "text/x-java-source",
   "name": "Java",
   "pygments_lexer": "java",
   "version": "22.0.2+9-70"
  }
 },
 "nbformat": 4,
 "nbformat_minor": 2
}
