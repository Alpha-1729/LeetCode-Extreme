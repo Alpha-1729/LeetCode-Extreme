{
 "cells": [
  {
   "cell_type": "code",
   "execution_count": null,
   "metadata": {},
   "outputs": [],
   "source": [
    "// Concatenation Of Array\n",
    "\n",
    "/*\n",
    ">>>>\n",
    ">>>>\n",
    ">>>>\n",
    ">>>>\n",
    "*/\n"
   ]
  },
  {
   "cell_type": "markdown",
   "metadata": {},
   "source": [
    "# Approach 1 (Best Solution).\n",
    "- Time Complexity - O(n).\n",
    "- Space Complexity - O(n).\n",
    "\n",
    "1. **Input Array Length (`n`)**: The length of the input array `nums` is stored in the variable `n`.\n",
    "2. **Result Array Creation**: A new array `result` is created with a size of `n * 2`.\n",
    "3. **Copying Elements**:\n",
    "   - A loop runs from `0` to `n-1`.\n",
    "   - For each index `i`, `nums[i]` is assigned to both `result[i]` and `result[i + n]`.\n",
    "4. **Return Result**: The method returns the `result` array, which is the concatenation of the `nums` array with itself.\n"
   ]
  },
  {
   "cell_type": "code",
   "execution_count": null,
   "metadata": {},
   "outputs": [],
   "source": [
    "class Solution {\n",
    "    public int[] getConcatenation(int[] nums) {\n",
    "        int n = nums.length;\n",
    "        int[] result = new int[n * 2];\n",
    "        for (int i = 0; i < n; i++) {\n",
    "            result[i] = nums[i];\n",
    "            result[i + n] = nums[i];\n",
    "        }\n",
    "\n",
    "        return result;\n",
    "    }\n",
    "}"
   ]
  },
  {
   "cell_type": "code",
   "execution_count": null,
   "metadata": {},
   "outputs": [],
   "source": [
    "Solution solution = new Solution();\n",
    "int[] nums = {1, 2, 1};\n",
    "int[] result = solution.getConcatenation(nums);\n",
    "System.out.println(Arrays.toString(result));"
   ]
  }
 ],
 "metadata": {
  "kernelspec": {
   "display_name": "Java",
   "language": "java",
   "name": "java"
  },
  "language_info": {
   "codemirror_mode": "java",
   "file_extension": ".jshell",
   "mimetype": "text/x-java-source",
   "name": "java",
   "pygments_lexer": "java",
   "version": "21.0.2+13-LTS-58"
  }
 },
 "nbformat": 4,
 "nbformat_minor": 2
}
