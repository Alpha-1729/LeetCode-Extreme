{
 "cells": [
  {
   "cell_type": "code",
   "execution_count": null,
   "metadata": {},
   "outputs": [],
   "source": [
    "// Divide Two Integers\n",
    "\n",
    "/*\n",
    ">>>>\n",
    ">>>>\n",
    ">>>>\n",
    ">>>>\n",
    "*/\n"
   ]
  },
  {
   "cell_type": "markdown",
   "metadata": {},
   "source": [
    "# Approach 1 (Best Solution).\n",
    "- Time Complexity - O(logn).\n",
    "- Space Complexity - O(1).\n",
    "\n",
    "1. **Edge Case Handling**:\n",
    "   - If `dividend` is `Integer.MIN_VALUE` and `divisor` is `-1`, the result exceeds the maximum range of an integer. In this case, it returns `Integer.MAX_VALUE` to avoid overflow.\n",
    "\n",
    "2. **Initialize Variables**:\n",
    "   - `a`: The absolute value of `dividend`.\n",
    "   - `b`: The absolute value of `divisor`.\n",
    "   - `res`: A result variable initialized to `0`.\n",
    "\n",
    "3. **Division Logic**:\n",
    "   - The goal is to repeatedly subtract `b` (divisor) from `a` (dividend) until `a` becomes smaller than `b`. Each time this happens, the result is incremented by powers of 2.\n",
    "   - **Inner Loop**: \n",
    "     - A temporary variable `x` is initialized to 0. The inner loop tries to find the largest power of 2 (`b << x`) that can be subtracted from `a`. The loop keeps incrementing `x` as long as `a - (b << (x + 1))` is greater than 0.\n",
    "     - After finding the maximum `x`, `res` is incremented by `1 << x` (which is `2^x`), and `a` is reduced by `b << x` (which is `b * 2^x`).\n",
    "\n",
    "4. **Sign Calculation**:\n",
    "   - The result's sign is determined by checking if `dividend` and `divisor` have opposite signs using the expression `divisor > 0 ^ dividend > 0`.\n",
    "   - If they have opposite signs, the result is negative; otherwise, it is positive.\n",
    "\n",
    "5. **Return**:\n",
    "   - The method returns the calculated result with the appropriate sign.\n"
   ]
  },
  {
   "cell_type": "code",
   "execution_count": null,
   "metadata": {},
   "outputs": [],
   "source": [
    "class Solution {\n",
    "    public int divide(int dividend, int divisor) {\n",
    "        if (dividend == Integer.MIN_VALUE && divisor == -1) {\n",
    "            return Integer.MAX_VALUE;\n",
    "        }\n",
    "\n",
    "        int a = Math.abs(dividend);\n",
    "        int b = Math.abs(divisor);\n",
    "        int res = 0;\n",
    "\n",
    "        while (a - b >= 0) {\n",
    "            int x = 0;\n",
    "            while (a - (b << (x + 1)) > 0) {\n",
    "                x++;\n",
    "            }\n",
    "\n",
    "            res += 1 << x;\n",
    "            a -= b << x;\n",
    "        }\n",
    "        int sign = divisor > 0 ^ dividend > 0 ? -1 : 1;\n",
    "        return sign * res;\n",
    "    }\n",
    "}"
   ]
  },
  {
   "cell_type": "code",
   "execution_count": null,
   "metadata": {},
   "outputs": [],
   "source": [
    "Solution solution = new Solution();\n",
    "int dividend = 10;\n",
    "int divisor = 3;\n",
    "int result = solution.divide(dividend, divisor);\n",
    "System.out.println(result);"
   ]
  }
 ],
 "metadata": {
  "kernelspec": {
   "display_name": "Java",
   "language": "java",
   "name": "java"
  },
  "language_info": {
   "codemirror_mode": "java",
   "file_extension": ".jshell",
   "mimetype": "text/x-java-source",
   "name": "java",
   "pygments_lexer": "java",
   "version": "21.0.2+13-LTS-58"
  }
 },
 "nbformat": 4,
 "nbformat_minor": 2
}
