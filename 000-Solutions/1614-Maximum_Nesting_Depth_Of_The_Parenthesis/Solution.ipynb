{
 "cells": [
  {
   "cell_type": "code",
   "execution_count": null,
   "metadata": {
    "vscode": {
     "languageId": "java"
    }
   },
   "outputs": [],
   "source": [
    "// Maximum Nesting Depth Of The Parenthesis\n",
    "\n",
    "/*\n",
    ">>>>\n",
    ">>>>\n",
    ">>>>\n",
    ">>>>\n",
    "*/\n"
   ]
  },
  {
   "cell_type": "markdown",
   "metadata": {},
   "source": [
    "# Approach 1 (Best Solution).\n",
    "- Time Complexity - O(n).\n",
    "- Space Complexity - O(1).\n",
    "\n",
    "1. **Initialize Variables**:\n",
    "   - `maxCount`: Tracks the maximum depth of nested parentheses encountered so far.\n",
    "   - `currentOpen`: Keeps count of the currently open (nested) parentheses.\n",
    "\n",
    "2. **Iterate Through the String**:\n",
    "   - The method loops through each character in the string `s`.\n",
    "   - For each character:\n",
    "     - If the character is an opening parenthesis `'('`:\n",
    "       - Increment `currentOpen`.\n",
    "       - If `currentOpen` exceeds `maxCount`, increment `maxCount`.\n",
    "     - If the character is a closing parenthesis `')'`:\n",
    "       - Decrement `currentOpen`.\n",
    "\n",
    "3. **Return Maximum Depth**:\n",
    "   - After the loop, the method returns `maxCount`, which represents the maximum depth of nested parentheses in the string.\n"
   ]
  },
  {
   "cell_type": "code",
   "execution_count": 3,
   "metadata": {
    "vscode": {
     "languageId": "java"
    }
   },
   "outputs": [],
   "source": [
    "class Solution {\n",
    "    public int maxDepth(String s) {\n",
    "        int maxCount = 0;\n",
    "        int currentOpen = 0;\n",
    "\n",
    "        for (int i = 0; i < s.length(); i++) {\n",
    "            char ch = s.charAt(i);\n",
    "            if (ch == '(') {\n",
    "                currentOpen++;\n",
    "                if (currentOpen > maxCount) {\n",
    "                    maxCount++;\n",
    "                }\n",
    "            } else if (ch == ')') {\n",
    "                currentOpen--;\n",
    "            }\n",
    "        }\n",
    "\n",
    "        return maxCount;\n",
    "    }\n",
    "}"
   ]
  },
  {
   "cell_type": "code",
   "execution_count": 4,
   "metadata": {
    "vscode": {
     "languageId": "java"
    }
   },
   "outputs": [
    {
     "name": "stdout",
     "output_type": "stream",
     "text": [
      "3\n"
     ]
    }
   ],
   "source": [
    "Solution solution = new Solution();\n",
    "String s = \"(1+(2*3)+((8)/4))+1\";\n",
    "int result = solution.maxDepth(s);\n",
    "System.out.println(result);"
   ]
  },
  {
   "cell_type": "code",
   "execution_count": null,
   "metadata": {
    "vscode": {
     "languageId": "java"
    }
   },
   "outputs": [],
   "source": []
  }
 ],
 "metadata": {
  "kernelspec": {
   "display_name": "Java",
   "language": "java",
   "name": "java"
  },
  "language_info": {
   "codemirror_mode": "java",
   "file_extension": ".jshell",
   "mimetype": "text/x-java-source",
   "name": "Java",
   "pygments_lexer": "java",
   "version": "22.0.2+9-70"
  }
 },
 "nbformat": 4,
 "nbformat_minor": 2
}
