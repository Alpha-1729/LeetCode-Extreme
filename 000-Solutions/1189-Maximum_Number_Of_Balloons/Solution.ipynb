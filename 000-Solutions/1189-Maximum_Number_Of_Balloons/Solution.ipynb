{
 "cells": [
  {
   "cell_type": "code",
   "execution_count": null,
   "metadata": {
    "vscode": {
     "languageId": "java"
    }
   },
   "outputs": [],
   "source": [
    "// Maximum Number Of Balloons\n",
    "\n",
    "/*\n",
    ">>>>\n",
    ">>>>\n",
    ">>>>\n",
    ">>>>\n",
    "*/\n"
   ]
  },
  {
   "cell_type": "markdown",
   "metadata": {},
   "source": [
    "# Approach 1 (Best Solution).\n",
    "- Time Complexity - O(n).\n",
    "- Space Complexity - O(1).\n",
    "\n",
    "- Create an array to store the count of characters in the word \"balloon\".\n",
    "- Loop through the characters in the string and update the count.\n",
    "- Half the count of the characters \"l\" and \"o\" in the array.\n",
    "- Return the minimum count from the array."
   ]
  },
  {
   "cell_type": "code",
   "execution_count": null,
   "metadata": {
    "vscode": {
     "languageId": "java"
    }
   },
   "outputs": [],
   "source": [
    "class Solution {\n",
    "\n",
    "  public int maxNumberOfBalloons(String text) {\n",
    "    // Array to store the count of the characters.\n",
    "    int[] set = new int[5];\n",
    "\n",
    "    for (int i = 0; i < text.length(); i++) {\n",
    "      switch (text.charAt(i)) {\n",
    "        case 'b':\n",
    "          set[0]++;\n",
    "          break;\n",
    "        case 'a':\n",
    "          set[1]++;\n",
    "          break;\n",
    "        case 'l':\n",
    "          set[2]++;\n",
    "          break;\n",
    "        case 'o':\n",
    "          set[3]++;\n",
    "          break;\n",
    "        case 'n':\n",
    "          set[4]++;\n",
    "          break;\n",
    "      }\n",
    "    }\n",
    "\n",
    "    // Half the count of l and o.\n",
    "    set[2] /= 2;\n",
    "    set[3] /= 2;\n",
    "\n",
    "    for (int i = 1; i < 5; i++) {\n",
    "      if (set[i] < set[0]) {\n",
    "        set[0] = set[i];\n",
    "      }\n",
    "    }\n",
    "    return set[0];\n",
    "  }\n",
    "}\n"
   ]
  },
  {
   "cell_type": "code",
   "execution_count": null,
   "metadata": {
    "vscode": {
     "languageId": "java"
    }
   },
   "outputs": [],
   "source": [
    "Solution solution = new Solution();\n",
    "String text = \"nlaebolko\";\n",
    "int result = solution.maxNumberOfBalloons(text);\n",
    "System.out.println(result);"
   ]
  },
  {
   "cell_type": "code",
   "execution_count": null,
   "metadata": {
    "vscode": {
     "languageId": "java"
    }
   },
   "outputs": [],
   "source": []
  },
  {
   "cell_type": "code",
   "execution_count": null,
   "metadata": {
    "vscode": {
     "languageId": "java"
    }
   },
   "outputs": [],
   "source": []
  }
 ],
 "metadata": {
  "kernelspec": {
   "display_name": "Java",
   "language": "java",
   "name": "java"
  },
  "language_info": {
   "codemirror_mode": "java",
   "file_extension": ".jshell",
   "mimetype": "text/x-java-source",
   "name": "Java",
   "pygments_lexer": "java",
   "version": "22.0.1+8-16"
  }
 },
 "nbformat": 4,
 "nbformat_minor": 2
}
