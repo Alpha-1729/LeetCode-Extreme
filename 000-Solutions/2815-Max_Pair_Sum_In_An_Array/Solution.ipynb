{
 "cells": [
  {
   "cell_type": "code",
   "execution_count": null,
   "metadata": {},
   "outputs": [],
   "source": [
    "// Max Pair Sum In An Array\n",
    "\n",
    "/*\n",
    ">>>>\n",
    ">>>>\n",
    ">>>>\n",
    ">>>>\n",
    "*/\n"
   ]
  },
  {
   "cell_type": "markdown",
   "metadata": {},
   "source": [
    "# Approach 1 (Best Solution).\n",
    "- Time Complexity - O(nlogn).\n",
    "- Space Complexity - O(1).\n",
    "\n",
    "- Create a array of length 10 to store the max number corresponding to each digit.\n",
    "- Loop through the numbers in the array.\n",
    "    - Find the max digit in the number.\n",
    "    - Check whether a previous number exist in the array this maxDigit.\n",
    "        - If number exist, calculate the sum of the current number and previous number.\n",
    "        - Update maxSum variable with largest value.\n",
    "        - Update the max number out of previous number and current number in the array.\n",
    "        - If number not exist, then update the value in the array with the current number.\n",
    "- Return the maxSum."
   ]
  },
  {
   "cell_type": "code",
   "execution_count": 1,
   "metadata": {},
   "outputs": [],
   "source": [
    "class Solution {\n",
    "\n",
    "    public int maxSum(int[] nums) {\n",
    "        int largeSum = -1;\n",
    "\n",
    "        // To store the max numbers.\n",
    "        int[] set = new int[10];\n",
    "\n",
    "        for (int num : nums) {\n",
    "            int largeDigit = getLargestDigit(num);\n",
    "\n",
    "            if (set[largeDigit] != 0) {\n",
    "                largeSum = Math.max(largeSum, num + set[largeDigit]);\n",
    "            }\n",
    "\n",
    "            set[largeDigit] = Math.max(num, set[largeDigit]);\n",
    "        }\n",
    "\n",
    "        return largeSum;\n",
    "    }\n",
    "\n",
    "    public int getLargestDigit(int num) {\n",
    "        int largest = 0;\n",
    "        while (num > 0) {\n",
    "            largest = Math.max(largest, num % 10);\n",
    "            num /= 10;\n",
    "        }\n",
    "        return largest;\n",
    "    }\n",
    "}\n"
   ]
  },
  {
   "cell_type": "code",
   "execution_count": 2,
   "metadata": {},
   "outputs": [
    {
     "name": "stdout",
     "output_type": "stream",
     "text": [
      "-1\n"
     ]
    }
   ],
   "source": [
    "Solution solution = new Solution();\n",
    "int[] nums = {112, 131, 411};\n",
    "int result = solution.maxSum(nums);\n",
    "System.out.println(result);"
   ]
  },
  {
   "cell_type": "code",
   "execution_count": null,
   "metadata": {},
   "outputs": [],
   "source": []
  }
 ],
 "metadata": {
  "kernelspec": {
   "display_name": "Java",
   "language": "java",
   "name": "java"
  },
  "language_info": {
   "codemirror_mode": "java",
   "file_extension": ".jshell",
   "mimetype": "text/x-java-source",
   "name": "Java",
   "pygments_lexer": "java",
   "version": "22.0.1+8-16"
  }
 },
 "nbformat": 4,
 "nbformat_minor": 4
}
