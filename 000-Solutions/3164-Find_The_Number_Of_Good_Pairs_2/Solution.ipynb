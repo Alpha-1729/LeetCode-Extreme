{
 "cells": [
  {
   "cell_type": "code",
   "execution_count": null,
   "metadata": {
    "vscode": {
     "languageId": "java"
    }
   },
   "outputs": [],
   "source": [
    "// Find The Number Of Good Pairs 2\n",
    "\n",
    "/*\n",
    ">>>>\n",
    ">>>>\n",
    ">>>>\n",
    ">>>>\n",
    "*/\n"
   ]
  },
  {
   "cell_type": "markdown",
   "metadata": {},
   "source": [
    "# Approach 1 (Best Solution).\n",
    "- Time Complexity - O(nlogn).\n",
    "- Space Complexity - O(n).\n",
    "\n",
    "- Create a HashMap which contain the product of k and element in the nums2.\n",
    "- Also find the minimum value in the nums2 in a variable secondMin.\n",
    "- Iterate through the numbers in the nums1.\n",
    "  - If value is less than k, then continue.\n",
    "  - If the value is not divisible by k, then continue.\n",
    "  - If the value is less than the secondMin, then continue.\n",
    "  - Find all the distinct factors of the current num.\n",
    "  - If the factor is present in the map. Then add the value in the map to the final result.\n",
    "- Return the result."
   ]
  },
  {
   "cell_type": "code",
   "execution_count": null,
   "metadata": {
    "vscode": {
     "languageId": "java"
    }
   },
   "outputs": [],
   "source": [
    "class Solution {\n",
    "\n",
    "  public long numberOfPairs(int[] nums1, int[] nums2, int k) {\n",
    "    long goodNumberCount = 0;\n",
    "    Map<Integer, Integer> map = new HashMap<>();\n",
    "\n",
    "    int secondMin = nums2[0];\n",
    "    for (int num : nums2) {\n",
    "      int count = map.getOrDefault(num * k, 0);\n",
    "      map.put(num * k, count + 1);\n",
    "      if (num < secondMin) {\n",
    "        secondMin = num;\n",
    "      }\n",
    "    }\n",
    "    for (int num : nums1) {\n",
    "      if (num < k || (num % k != 0) || num < secondMin) {\n",
    "        continue;\n",
    "      }\n",
    "\n",
    "      for (int i = 1; i <= Math.sqrt(num); i++) {\n",
    "        if (num % i != 0) {\n",
    "          continue;\n",
    "        }\n",
    "        int factorOne = i;\n",
    "        int factorTwo = num / i;\n",
    "        goodNumberCount += map.getOrDefault(factorOne, 0);\n",
    "        if (factorOne != factorTwo) {\n",
    "          goodNumberCount += map.getOrDefault(factorTwo, 0);\n",
    "        }\n",
    "      }\n",
    "    }\n",
    "    return goodNumberCount;\n",
    "  }\n",
    "}\n"
   ]
  },
  {
   "cell_type": "code",
   "execution_count": null,
   "metadata": {
    "vscode": {
     "languageId": "java"
    }
   },
   "outputs": [],
   "source": [
    "Solution solution = new Solution();\n",
    "int k = 1;\n",
    "int[] nums1 = {1, 3, 4};\n",
    "int[] nums2 = {1, 3, 4};\n",
    "long result = solution.numberOfPairs(nums1, nums2, k);\n",
    "System.out.println(result) ;"
   ]
  },
  {
   "cell_type": "code",
   "execution_count": null,
   "metadata": {
    "vscode": {
     "languageId": "java"
    }
   },
   "outputs": [],
   "source": []
  }
 ],
 "metadata": {
  "kernelspec": {
   "display_name": "Java",
   "language": "java",
   "name": "java"
  },
  "language_info": {
   "codemirror_mode": "java",
   "file_extension": ".jshell",
   "mimetype": "text/x-java-source",
   "name": "Java",
   "pygments_lexer": "java",
   "version": "22.0.1+8-16"
  }
 },
 "nbformat": 4,
 "nbformat_minor": 2
}
