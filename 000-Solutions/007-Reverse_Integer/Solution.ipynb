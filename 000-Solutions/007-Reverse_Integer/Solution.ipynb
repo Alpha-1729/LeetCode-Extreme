{
 "cells": [
  {
   "cell_type": "code",
   "execution_count": null,
   "metadata": {
    "vscode": {
     "languageId": "java"
    }
   },
   "outputs": [],
   "source": [
    "// Reverse Integer\n",
    "\n",
    "/*\n",
    ">>>>\n",
    ">>>>\n",
    ">>>>\n",
    ">>>>\n",
    "*/\n"
   ]
  },
  {
   "cell_type": "markdown",
   "metadata": {},
   "source": [
    "# Approach 1 (Best Solution).\n",
    "- Time Complexity - O(1).\n",
    "- Space Complexity - O(1).\n",
    "\n",
    "1. **Integer Limits:** The method accounts for potential overflow by using `Integer.MIN_VALUE` and `Integer.MAX_VALUE`.\n",
    "2. **Main Logic:**\n",
    "   - It initializes `result` to `0`.\n",
    "   - Iteratively extracts the last digit of `x` using `x % 10` and appends it to `result`.\n",
    "   - Before appending, it checks for possible overflow. If an overflow is detected, the method returns `0`.\n",
    "   - It updates `x` by removing the last digit (`x = x / 10`).\n",
    "3. **Return Value:** If the reversal completes without overflow, it returns the reversed integer `result`.\n"
   ]
  },
  {
   "cell_type": "code",
   "execution_count": null,
   "metadata": {
    "vscode": {
     "languageId": "java"
    }
   },
   "outputs": [],
   "source": [
    "class Solution {\n",
    "    public int reverse(int x) {\n",
    "        int MIN = Integer.MIN_VALUE;\n",
    "        int MAX = Integer.MAX_VALUE;\n",
    "\n",
    "        int result = 0;\n",
    "\n",
    "        while (x != 0) {\n",
    "            int digit = x % 10;\n",
    "            x = x / 10;\n",
    "\n",
    "            if ((result > MAX / 10) || (result == MAX / 10) && (digit >= MAX % 10)) {\n",
    "                return 0;\n",
    "            }\n",
    "            if ((result < MIN / 10) || (result == MIN / 10) && (digit <= MIN % 10)) {\n",
    "                return 0;\n",
    "            }\n",
    "            result = (result * 10) + digit;\n",
    "        }\n",
    "\n",
    "        return result;\n",
    "    }\n",
    "}"
   ]
  },
  {
   "cell_type": "code",
   "execution_count": null,
   "metadata": {
    "vscode": {
     "languageId": "java"
    }
   },
   "outputs": [],
   "source": [
    "Solution solution = new Solution();\n",
    "int x = 123;\n",
    "int result = solution.reverse(x);\n",
    "System.out.println(result);"
   ]
  },
  {
   "cell_type": "code",
   "execution_count": null,
   "metadata": {
    "vscode": {
     "languageId": "java"
    }
   },
   "outputs": [],
   "source": []
  }
 ],
 "metadata": {
  "kernelspec": {
   "display_name": "Java",
   "language": "java",
   "name": "java"
  },
  "language_info": {
   "codemirror_mode": "java",
   "file_extension": ".jshell",
   "mimetype": "text/x-java-source",
   "name": "Java",
   "pygments_lexer": "java",
   "version": "22.0.2+9-70"
  }
 },
 "nbformat": 4,
 "nbformat_minor": 2
}
