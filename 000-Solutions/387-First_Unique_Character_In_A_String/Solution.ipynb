{
 "cells": [
  {
   "cell_type": "code",
   "execution_count": null,
   "metadata": {},
   "outputs": [],
   "source": [
    "// First Unique Character In A String\n",
    "\n",
    "/*\n",
    ">>>>\n",
    ">>>>\n",
    ">>>>\n",
    ">>>>\n",
    "*/\n"
   ]
  },
  {
   "cell_type": "markdown",
   "metadata": {},
   "source": [
    "# Approach 1 (Best Solution).\n",
    "- Time Complexity - O(n).\n",
    "- Space Complexity - O(1).\n",
    "\n",
    "- Use an array to store the count of the each character in the string.\n",
    "- Loop through the string again and get the count of the character from the array.\n",
    "- If the count is one, return the index of that character in the string."
   ]
  },
  {
   "cell_type": "code",
   "execution_count": 5,
   "metadata": {},
   "outputs": [],
   "source": [
    "class Solution {\n",
    "\n",
    "  public int firstUniqChar(String s) {\n",
    "    int[] set = new int[26];\n",
    "\n",
    "    for (int i = 0; i < s.length(); i++) {\n",
    "      set[s.charAt(i) - 'a']++;\n",
    "    }\n",
    "\n",
    "    for (int i = 0; i < s.length(); i++) {\n",
    "      if (set[s.charAt(i) - 'a'] == 1) {\n",
    "        return i;\n",
    "      }\n",
    "    }\n",
    "    return -1;\n",
    "  }\n",
    "}\n"
   ]
  },
  {
   "cell_type": "markdown",
   "metadata": {},
   "source": [
    "# Approach 2\n",
    "- Time Complexity - O(n).\n",
    "- Space Complexity - O(1).\n",
    "\n",
    "- Use an dictionary to store the count of the each character in the string.\n",
    "- Loop through the string again and get the count of the character from the dictionary.\n",
    "- If the count is one, return the index of that character in the string."
   ]
  },
  {
   "cell_type": "code",
   "execution_count": null,
   "metadata": {},
   "outputs": [],
   "source": [
    "class Solution {\n",
    "\n",
    "  public int firstUniqChar(String s) {\n",
    "    Map<Character, Integer> charMap = new HashMap<>();\n",
    "\n",
    "    for (int i = 0; i < s.length(); i++) {\n",
    "      char letter = s.charAt(i);\n",
    "      int freq = charMap.getOrDefault(letter, 0) + 1;\n",
    "      charMap.put(letter, freq);\n",
    "    }\n",
    "\n",
    "    for (int i = 0; i < s.length(); i++) {\n",
    "      char letter = s.charAt(i);\n",
    "      int freq = charMap.get(letter);\n",
    "      if (freq == 1) {\n",
    "        return i;\n",
    "      }\n",
    "    }\n",
    "    return -1;\n",
    "  }\n",
    "}\n"
   ]
  },
  {
   "cell_type": "code",
   "execution_count": 7,
   "metadata": {},
   "outputs": [
    {
     "name": "stdout",
     "output_type": "stream",
     "text": [
      "0\n"
     ]
    }
   ],
   "source": [
    "Solution s = new Solution();\n",
    "\n",
    "String str = \"english\";\n",
    "int result = s.firstUniqChar(str);\n",
    "System.out.println(result);"
   ]
  },
  {
   "cell_type": "code",
   "execution_count": null,
   "metadata": {},
   "outputs": [],
   "source": []
  }
 ],
 "metadata": {
  "kernelspec": {
   "display_name": "Java",
   "language": "java",
   "name": "java"
  },
  "language_info": {
   "codemirror_mode": "java",
   "file_extension": ".jshell",
   "mimetype": "text/x-java-source",
   "name": "java",
   "pygments_lexer": "java",
   "version": "22.0.1+8-16"
  }
 },
 "nbformat": 4,
 "nbformat_minor": 2
}
