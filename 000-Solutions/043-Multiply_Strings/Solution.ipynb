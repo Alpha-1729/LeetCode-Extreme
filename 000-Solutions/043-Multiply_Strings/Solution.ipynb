{
 "cells": [
  {
   "cell_type": "code",
   "execution_count": null,
   "metadata": {
    "vscode": {
     "languageId": "java"
    }
   },
   "outputs": [],
   "source": [
    "// Multiply Strings\n",
    "\n",
    "/*\n",
    ">>>>\n",
    ">>>>\n",
    ">>>>\n",
    ">>>>\n",
    "*/\n"
   ]
  },
  {
   "cell_type": "markdown",
   "metadata": {},
   "source": [
    "# Approach 1 (Best Solution).\n",
    "- Time Complexity - O(m * n).\n",
    "- Space Complexity - O(m + n).\n",
    "\n",
    "- Take first string and take each digit from last and multiply with each digit in second string from last.\n",
    "- Store the corresponding result in the result array at corresponding position.\n",
    "- Finally convert the result array to string."
   ]
  },
  {
   "cell_type": "code",
   "execution_count": 5,
   "metadata": {
    "vscode": {
     "languageId": "java"
    }
   },
   "outputs": [],
   "source": [
    "class Solution {\n",
    "    public String multiply(String num1, String num2) {\n",
    "        if (num1.equals(\"0\") || num2.equals(\"0\")) {\n",
    "            return \"0\";\n",
    "        }\n",
    "\n",
    "        int m = num1.length();\n",
    "        int n = num2.length();\n",
    "\n",
    "        int[] arrOne = new int[m];\n",
    "        int[] result = new int[m + n];\n",
    "\n",
    "        for (int i = 0; i < m; i++) {\n",
    "            arrOne[i] = num1.charAt(i) - '0';\n",
    "        }\n",
    "\n",
    "        for (int i = n - 1; i >= 0; i--) {\n",
    "            int digit2 = num2.charAt(i) - '0';\n",
    "            for (int j = m - 1; j >= 0; j--) {\n",
    "                result[i + j + 1] += digit2 * arrOne[j]; \n",
    "            }\n",
    "        }\n",
    "\n",
    "        for (int i = result.length - 1; i > 0; i--) {\n",
    "            result[i - 1] += result[i] / 10;\n",
    "            result[i] %= 10;\n",
    "        }\n",
    "\n",
    "        StringBuilder sb = new StringBuilder();\n",
    "        int start = result[0] == 0 ? 1 : 0;\n",
    "\n",
    "        for (int i = start; i < result.length; i++) {\n",
    "            sb.append(result[i]);\n",
    "        }\n",
    "\n",
    "        return sb.toString();\n",
    "    }\n",
    "}"
   ]
  },
  {
   "cell_type": "code",
   "execution_count": 6,
   "metadata": {
    "vscode": {
     "languageId": "java"
    }
   },
   "outputs": [
    {
     "name": "stdout",
     "output_type": "stream",
     "text": [
      "56088\n"
     ]
    }
   ],
   "source": [
    "Solution solution = new Solution();\n",
    "String num1 = \"123\";\n",
    "String num2 = \"456\";\n",
    "String result = solution.multiply(num1, num2);\n",
    "System.out.println(result);"
   ]
  },
  {
   "cell_type": "code",
   "execution_count": null,
   "metadata": {
    "vscode": {
     "languageId": "java"
    }
   },
   "outputs": [],
   "source": []
  }
 ],
 "metadata": {
  "kernelspec": {
   "display_name": "Java",
   "language": "java",
   "name": "java"
  },
  "language_info": {
   "codemirror_mode": "java",
   "file_extension": ".jshell",
   "mimetype": "text/x-java-source",
   "name": "Java",
   "pygments_lexer": "java",
   "version": "22.0.2+9-70"
  }
 },
 "nbformat": 4,
 "nbformat_minor": 2
}
