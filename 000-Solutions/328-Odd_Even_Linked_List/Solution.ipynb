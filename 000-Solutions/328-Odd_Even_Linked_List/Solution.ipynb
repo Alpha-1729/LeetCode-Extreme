{
 "cells": [
  {
   "cell_type": "code",
   "execution_count": null,
   "metadata": {},
   "outputs": [],
   "source": [
    "// Odd Even Linked List\n",
    "\n",
    "/*\n",
    ">>>>\n",
    ">>>>\n",
    ">>>>\n",
    ">>>>\n",
    "*/\n"
   ]
  },
  {
   "cell_type": "markdown",
   "metadata": {},
   "source": [
    "# Approach 1 (Best Solution).\n",
    "- Time Complexity - O(n).\n",
    "- Space Complexity - O(1).\n",
    "\n",
    "- Create 3 pointer odd, even, evenHead.\n",
    "- EvenHead will store all the even number index in the linked list.\n",
    "- odd will store all the odd number index in the linked list.\n",
    "- Loop through the linked list and fill all node in the odd and evenHead linked list.\n",
    "- Append the evenHead at the end of the odd ListNode.\n",
    "- Return the head.\n"
   ]
  },
  {
   "cell_type": "code",
   "execution_count": null,
   "metadata": {},
   "outputs": [],
   "source": [
    "public class ListNode {\n",
    "\n",
    "  int val;\n",
    "  ListNode next;\n",
    "\n",
    "  ListNode() {}\n",
    "\n",
    "  ListNode(int val) {\n",
    "    this.val = val;\n",
    "  }\n",
    "\n",
    "  ListNode(int val, ListNode next) {\n",
    "    this.val = val;\n",
    "    this.next = next;\n",
    "  }\n",
    "}\n"
   ]
  },
  {
   "cell_type": "code",
   "execution_count": null,
   "metadata": {},
   "outputs": [],
   "source": [
    "class Solution {\n",
    "\n",
    "  public ListNode oddEvenList(ListNode head) {\n",
    "    if (head == null || head.next == null) {\n",
    "      return head;\n",
    "    }\n",
    "\n",
    "    ListNode odd = head;\n",
    "    ListNode even = head.next;\n",
    "    ListNode evenHead = even;\n",
    "\n",
    "    while (even != null && even.next != null) {\n",
    "      odd.next = even.next;\n",
    "      odd = odd.next;\n",
    "      even.next = odd.next;\n",
    "      even = even.next;\n",
    "    }\n",
    "    odd.next = evenHead;\n",
    "\n",
    "    return head;\n",
    "  }\n",
    "}\n"
   ]
  },
  {
   "cell_type": "code",
   "execution_count": null,
   "metadata": {},
   "outputs": [],
   "source": [
    "Solution s = new Solution();"
   ]
  }
 ],
 "metadata": {
  "kernelspec": {
   "display_name": "Java",
   "language": "java",
   "name": "java"
  },
  "language_info": {
   "codemirror_mode": "java",
   "file_extension": ".jshell",
   "mimetype": "text/x-java-source",
   "name": "java",
   "pygments_lexer": "java",
   "version": "21.0.2+13-LTS-58"
  }
 },
 "nbformat": 4,
 "nbformat_minor": 2
}
