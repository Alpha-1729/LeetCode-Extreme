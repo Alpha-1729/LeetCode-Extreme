{
 "cells": [
  {
   "cell_type": "code",
   "execution_count": null,
   "metadata": {
    "vscode": {
     "languageId": "java"
    }
   },
   "outputs": [],
   "source": [
    "// Valid Parenthesis\n",
    "\n",
    "/*\n",
    ">>>>\n",
    ">>>>\n",
    ">>>>\n",
    ">>>>\n",
    "*/\n"
   ]
  },
  {
   "cell_type": "markdown",
   "metadata": {},
   "source": [
    "# Approach 1 (Best Solution).\n",
    "- Time Complexity - O(n).\n",
    "- Space Complexity - O(n).\n",
    "\n",
    "- Implement a stack using the character array.\n",
    "- Push the closing brace into the stack whenever you encounter a opening brace.\n",
    "- When you encounter a closing brace check whether the last item in the stack is same or not.\n",
    "- Finally check whether the stack is empty or not."
   ]
  },
  {
   "cell_type": "code",
   "execution_count": null,
   "metadata": {
    "vscode": {
     "languageId": "java"
    }
   },
   "outputs": [],
   "source": [
    "class Solution {\n",
    "    public boolean isValid(String s) {\n",
    "        int top = 0;\n",
    "        char[] stack = new char[s.length()];\n",
    "\n",
    "        for (int i = 0; i < s.length(); i++) {\n",
    "            char ch = s.charAt(i);\n",
    "            if (ch == '(') {\n",
    "                stack[top++] = ')';\n",
    "            } else if (ch == '[') {\n",
    "                stack[top++] = ']';\n",
    "            } else if (ch == '{') {\n",
    "                stack[top++] = '}';\n",
    "            } else {\n",
    "                if (top == 0 || stack[top - 1] != ch) {\n",
    "                    return false;\n",
    "                } else {\n",
    "                    top--;\n",
    "                }\n",
    "            }\n",
    "        }\n",
    "\n",
    "        return top == 0;\n",
    "    }\n",
    "}"
   ]
  },
  {
   "cell_type": "code",
   "execution_count": null,
   "metadata": {
    "vscode": {
     "languageId": "java"
    }
   },
   "outputs": [],
   "source": [
    "Solution solution = new Solution();\n",
    "String s = \"()[]{}\";\n",
    "boolean result = solution.isValid(s);\n",
    "System.out.println(result)"
   ]
  },
  {
   "cell_type": "code",
   "execution_count": null,
   "metadata": {
    "vscode": {
     "languageId": "java"
    }
   },
   "outputs": [],
   "source": []
  }
 ],
 "metadata": {
  "kernelspec": {
   "display_name": "Java",
   "language": "java",
   "name": "java"
  },
  "language_info": {
   "codemirror_mode": "java",
   "file_extension": ".jshell",
   "mimetype": "text/x-java-source",
   "name": "Java",
   "pygments_lexer": "java",
   "version": "22.0.1+8-16"
  }
 },
 "nbformat": 4,
 "nbformat_minor": 2
}
