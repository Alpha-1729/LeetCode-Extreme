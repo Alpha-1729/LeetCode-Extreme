{
 "cells": [
  {
   "cell_type": "code",
   "execution_count": null,
   "metadata": {},
   "outputs": [],
   "source": [
    "// Rotate List\n",
    "\n",
    "/*\n",
    ">>>>\n",
    ">>>>\n",
    ">>>>\n",
    ">>>>\n",
    "*/\n"
   ]
  },
  {
   "cell_type": "markdown",
   "metadata": {},
   "source": [
    "# Approach 1 (Best Solution).\n",
    "- Time Complexity - O(n).\n",
    "- Space Complexity - O(1).\n",
    "\n",
    "1. **Edge Cases**:\n",
    "   - If the list is empty, has only one node, or `k` is 0, return the original list.\n",
    "\n",
    "2. **Count Nodes**:\n",
    "   - Traverse the list once to find the total number of nodes and set the `tail` to the last node.\n",
    "\n",
    "3. **Adjust `k`**:\n",
    "   - Calculate `k % nodeCount` to handle cases where `k` is larger than the length of the list.\n",
    "   - If the adjusted `k` is 0, return the original list, as no rotation is needed.\n",
    "\n",
    "4. **Find the New Head**:\n",
    "   - Calculate `nodeCount - k` to determine the position of the new tail.\n",
    "   - Traverse the list to the node just before this new tail.\n",
    "\n",
    "5. **Rotate the List**:\n",
    "   - Break the list by setting `current.next = null` at the new tail.\n",
    "   - Set the `tail.next` to the original head to complete the rotation.\n",
    "\n",
    "6. **Return the New Head**:\n",
    "   - The new head is the node right after the new tail, which is returned as the head of the rotated list.\n",
    "\n"
   ]
  },
  {
   "cell_type": "code",
   "execution_count": null,
   "metadata": {},
   "outputs": [],
   "source": [
    "class Solution {\n",
    "    public ListNode rotateRight(ListNode head, int k) {\n",
    "        if (head == null || k == 0 || head.next == null) {\n",
    "            return head;\n",
    "        }\n",
    "\n",
    "        int nodeCount = 0;\n",
    "        ListNode current = head;\n",
    "        ListNode tail = null;\n",
    "\n",
    "        while (current != null) {\n",
    "            tail = current;\n",
    "            current = current.next;\n",
    "            nodeCount++;\n",
    "        }\n",
    "\n",
    "        k = k % nodeCount;\n",
    "        if (k == 0) {\n",
    "            return head;\n",
    "        }\n",
    "\n",
    "        k = nodeCount - k;\n",
    "        current = head;\n",
    "\n",
    "        while (k > 1) {\n",
    "            current = current.next;\n",
    "            k--;\n",
    "        }\n",
    "\n",
    "        ListNode newHead = current.next;\n",
    "        current.next = null;\n",
    "        tail.next = head;\n",
    "\n",
    "        return newHead;\n",
    "    }\n",
    "}\n"
   ]
  },
  {
   "cell_type": "code",
   "execution_count": null,
   "metadata": {},
   "outputs": [],
   "source": [
    "Solution solution = new Solution();"
   ]
  }
 ],
 "metadata": {
  "kernelspec": {
   "display_name": "Java",
   "language": "java",
   "name": "java"
  },
  "language_info": {
   "codemirror_mode": "java",
   "file_extension": ".jshell",
   "mimetype": "text/x-java-source",
   "name": "java",
   "pygments_lexer": "java",
   "version": "21.0.2+13-LTS-58"
  }
 },
 "nbformat": 4,
 "nbformat_minor": 2
}
