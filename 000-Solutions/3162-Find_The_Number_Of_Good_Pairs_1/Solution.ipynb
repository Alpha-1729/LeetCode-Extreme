{
 "cells": [
  {
   "cell_type": "code",
   "execution_count": null,
   "metadata": {
    "vscode": {
     "languageId": "java"
    }
   },
   "outputs": [],
   "source": [
    "// Find The Number Of Good Pairs 1\n",
    "\n",
    "/*\n",
    ">>>>\n",
    ">>>>\n",
    ">>>>\n",
    ">>>>\n",
    "*/\n"
   ]
  },
  {
   "cell_type": "markdown",
   "metadata": {},
   "source": [
    "# Approach 1 (Best Solution).\n",
    "- Time Complexity - O(nxm).\n",
    "- Space Complexity - O(1).\n",
    "\n",
    "- Multiply all the elements in the nums2 with k.\n",
    "- Find the minimum elements in the current nums2.\n",
    "- Check all the pairs from nums1 and nums2 where num1 > numTwoMin, Whether nums1 is divisible by nums2.\n",
    "- Get the count of good pair.\n",
    "- Return the good pair count."
   ]
  },
  {
   "cell_type": "code",
   "execution_count": null,
   "metadata": {
    "vscode": {
     "languageId": "java"
    }
   },
   "outputs": [],
   "source": [
    "class Solution {\n",
    "\n",
    "  public int numberOfPairs(int[] nums1, int[] nums2, int k) {\n",
    "    int numTwoMin = 2500;\n",
    "    int goodPairCount = 0;\n",
    "\n",
    "    // Multiply all element in the num2 with the k.\n",
    "    for (int i = 0; i < nums2.length; i++) {\n",
    "      int product = nums2[i] * k;\n",
    "      if (product < numTwoMin) {\n",
    "        numTwoMin = product;\n",
    "      }\n",
    "      nums2[i] = product;\n",
    "    }\n",
    "\n",
    "    for (int i = 0; i < nums1.length; i++) {\n",
    "      if (nums1[i] < numTwoMin) {\n",
    "        continue;\n",
    "      }\n",
    "      for (int j = 0; j < nums2.length; j++) {\n",
    "        if (nums1[i] % nums2[j] == 0) {\n",
    "          goodPairCount++;\n",
    "        }\n",
    "      }\n",
    "    }\n",
    "\n",
    "    return goodPairCount;\n",
    "  }\n",
    "}\n"
   ]
  },
  {
   "cell_type": "code",
   "execution_count": null,
   "metadata": {
    "vscode": {
     "languageId": "java"
    }
   },
   "outputs": [],
   "source": [
    "Solution solution = new Solution();\n",
    "int[] nums1 = {1, 3, 4};\n",
    "int[] nums2 = {1, 3, 4};\n",
    "int k = 1;\n",
    "int result = solution.numberOfPairs(nums1, nums2, k);\n",
    "System.out.println(result);"
   ]
  },
  {
   "cell_type": "code",
   "execution_count": null,
   "metadata": {
    "vscode": {
     "languageId": "java"
    }
   },
   "outputs": [],
   "source": []
  }
 ],
 "metadata": {
  "kernelspec": {
   "display_name": "Java",
   "language": "java",
   "name": "java"
  },
  "language_info": {
   "codemirror_mode": "java",
   "file_extension": ".jshell",
   "mimetype": "text/x-java-source",
   "name": "Java",
   "pygments_lexer": "java",
   "version": "22.0.1+8-16"
  }
 },
 "nbformat": 4,
 "nbformat_minor": 2
}
