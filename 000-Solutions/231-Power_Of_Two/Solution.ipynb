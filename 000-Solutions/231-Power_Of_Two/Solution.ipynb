{
 "cells": [
  {
   "cell_type": "code",
   "execution_count": null,
   "metadata": {
    "vscode": {
     "languageId": "java"
    }
   },
   "outputs": [],
   "source": [
    "// Power Of Two\n",
    "\n",
    "/*\n",
    ">>>>\n",
    ">>>>\n",
    ">>>>\n",
    ">>>>\n",
    "*/\n"
   ]
  },
  {
   "cell_type": "markdown",
   "metadata": {},
   "source": [
    "# Approach 1 (Best Solution).\n",
    "- Time Complexity - O(1).\n",
    "- Space Complexity - O(1).\n",
    "\n",
    "- Number which is a power of 2 will exactly have 1 set bit in the binary representation.\n",
    "- Eg: 1000 -> 8."
   ]
  },
  {
   "cell_type": "code",
   "execution_count": 5,
   "metadata": {
    "vscode": {
     "languageId": "java"
    }
   },
   "outputs": [],
   "source": [
    "class Solution {\n",
    "\n",
    "  public boolean isPowerOfTwo(int n) {\n",
    "    if (n < 1) return false;\n",
    "    return Integer.bitCount(n) == 1;\n",
    "  }\n",
    "}\n"
   ]
  },
  {
   "cell_type": "markdown",
   "metadata": {},
   "source": [
    "# Approach 2 (Best Solution).\n",
    "- Time Complexity - O(1).\n",
    "- Space Complexity - O(1).\n",
    "\n",
    "- And operation between multiple of 2 and next lower number will always give 0 and otherwise it will never be 0.\n",
    "- Eg: 8 & 7\n",
    "  - 1000(8) & 0111(7) => 0000(0)"
   ]
  },
  {
   "cell_type": "code",
   "execution_count": null,
   "metadata": {
    "vscode": {
     "languageId": "java"
    }
   },
   "outputs": [],
   "source": [
    "class Solution {\n",
    "\n",
    "  public boolean isPowerOfTwo(int n) {\n",
    "    if (n < 1) return false;\n",
    "    return (n & (n - 1)) == 0;\n",
    "  }\n",
    "}\n"
   ]
  },
  {
   "cell_type": "markdown",
   "metadata": {},
   "source": [
    "# Approach 3 (Best Solution).\n",
    "- Time Complexity - O(1).\n",
    "- Space Complexity - O(1).\n",
    "\n",
    "- Multiple of 2 will always divide 2^30.\n",
    "- Eg:\n",
    "  - 16 % 8 == 0\n",
    "  - 32 % 8 == 0"
   ]
  },
  {
   "cell_type": "code",
   "execution_count": null,
   "metadata": {
    "vscode": {
     "languageId": "java"
    }
   },
   "outputs": [],
   "source": [
    "class Solution {\n",
    "\n",
    "  public boolean isPowerOfTwo(int n) {\n",
    "    if (n < 1) return false;\n",
    "    // Left shift the 1 by 30 means 2^30.\n",
    "    return (1 << 30) % n == 0;\n",
    "  }\n",
    "}\n"
   ]
  },
  {
   "cell_type": "markdown",
   "metadata": {},
   "source": [
    "# Approach 4.\n",
    "- Time Complexity - O(log n).\n",
    "- Space Complexity - O(1).\n",
    "\n",
    "- If the number is below 0 -> return false.\n",
    "- Else divide the number by 2, until it is divisible by 2.\n",
    "- At the end, if the number is 1, then it is a power of two.\n",
    "- Eg: 32 = 2*2*2*2*2;"
   ]
  },
  {
   "cell_type": "code",
   "execution_count": 3,
   "metadata": {
    "vscode": {
     "languageId": "java"
    }
   },
   "outputs": [],
   "source": [
    "class Solution {\n",
    "\n",
    "  public boolean isPowerOfTwo(int n) {\n",
    "    if (n < 1) return false;\n",
    "    while (n % 2 == 0) {\n",
    "      n /= 2;\n",
    "    }\n",
    "    return n == 1;\n",
    "  }\n",
    "}\n"
   ]
  },
  {
   "cell_type": "code",
   "execution_count": 6,
   "metadata": {
    "vscode": {
     "languageId": "java"
    }
   },
   "outputs": [
    {
     "name": "stdout",
     "output_type": "stream",
     "text": [
      "true\n"
     ]
    }
   ],
   "source": [
    "Solution s = new Solution();\n",
    "\n",
    "int n = 16;\n",
    "boolean result = s.isPowerOfTwo(n);\n",
    "System.out.println(result);"
   ]
  },
  {
   "cell_type": "code",
   "execution_count": null,
   "metadata": {
    "vscode": {
     "languageId": "java"
    }
   },
   "outputs": [],
   "source": []
  }
 ],
 "metadata": {
  "kernelspec": {
   "display_name": "Java",
   "language": "java",
   "name": "java"
  },
  "language_info": {
   "codemirror_mode": "java",
   "file_extension": ".jshell",
   "mimetype": "text/x-java-source",
   "name": "Java",
   "pygments_lexer": "java",
   "version": "21.0.2+13-LTS-58"
  }
 },
 "nbformat": 4,
 "nbformat_minor": 2
}
