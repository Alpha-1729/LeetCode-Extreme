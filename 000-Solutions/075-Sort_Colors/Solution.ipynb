{
 "cells": [
  {
   "cell_type": "code",
   "execution_count": null,
   "metadata": {
    "vscode": {
     "languageId": "java"
    }
   },
   "outputs": [],
   "source": [
    "// Sort Colors\n",
    "\n",
    "/*\n",
    ">>>>\n",
    ">>>>\n",
    ">>>>\n",
    ">>>>\n",
    "*/\n"
   ]
  },
  {
   "cell_type": "markdown",
   "metadata": {},
   "source": [
    "# Approach 1 (Best Solution).\n",
    "- Time Complexity - O(n).\n",
    "- Space Complexity - O(1).\n",
    "\n",
    "- Move all 2 to end of the array.\n",
    "- Move all 0 to start.\n",
    "- Else Do nothing."
   ]
  },
  {
   "cell_type": "code",
   "execution_count": 1,
   "metadata": {
    "vscode": {
     "languageId": "java"
    }
   },
   "outputs": [],
   "source": [
    "class Solution {\n",
    "\n",
    "  public void sortColors(int[] nums) {\n",
    "    int i = 0;\n",
    "    int j = 0;\n",
    "    int k = nums.length - 1;\n",
    "    while (i <= k) {\n",
    "      if (nums[i] == 0) {\n",
    "        swap(nums, i, j);\n",
    "        i++;\n",
    "        j++;\n",
    "      } else if (nums[i] == 1) {\n",
    "        i++;\n",
    "      } else if (nums[i] == 2) {\n",
    "        swap(nums, i, k);\n",
    "        k--;\n",
    "      }\n",
    "    }\n",
    "  }\n",
    "\n",
    "  public void swap(int[] arr, int i, int j) {\n",
    "    int temp = arr[i];\n",
    "    arr[i] = arr[j];\n",
    "    arr[j] = temp;\n",
    "  }\n",
    "}\n"
   ]
  },
  {
   "cell_type": "code",
   "execution_count": 3,
   "metadata": {
    "vscode": {
     "languageId": "java"
    }
   },
   "outputs": [
    {
     "name": "stdout",
     "output_type": "stream",
     "text": [
      "[0, 0, 1, 1, 2, 2]\n"
     ]
    }
   ],
   "source": [
    "Solution s = new Solution();\n",
    "int[] nums = {2, 0, 2, 1, 1, 0};\n",
    "s.sortColors(nums);\n",
    "System.out.println(Arrays.toString(nums));"
   ]
  },
  {
   "cell_type": "code",
   "execution_count": null,
   "metadata": {
    "vscode": {
     "languageId": "java"
    }
   },
   "outputs": [],
   "source": []
  }
 ],
 "metadata": {
  "kernelspec": {
   "display_name": "Java",
   "language": "java",
   "name": "java"
  },
  "language_info": {
   "codemirror_mode": "java",
   "file_extension": ".jshell",
   "mimetype": "text/x-java-source",
   "name": "Java",
   "pygments_lexer": "java",
   "version": "22.0.1+8-16"
  }
 },
 "nbformat": 4,
 "nbformat_minor": 2
}
