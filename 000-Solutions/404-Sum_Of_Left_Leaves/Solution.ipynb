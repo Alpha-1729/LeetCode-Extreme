{
 "cells": [
  {
   "cell_type": "code",
   "execution_count": null,
   "metadata": {},
   "outputs": [],
   "source": [
    "// Sum Of Left Leaves\n",
    "\n",
    "/*\n",
    ">>>>\n",
    ">>>>\n",
    ">>>>\n",
    ">>>>\n",
    "*/\n"
   ]
  },
  {
   "cell_type": "markdown",
   "metadata": {},
   "source": [
    "# Approach 1 (Best Solution).\n",
    "- Time Complexity - O(n).\n",
    "- Space Complexity - O(1).\n",
    "\n",
    "- Use DFS to traverse the entire binary tree.\n",
    "- If the node is a left node and leaf node, Add the node value to the sum variable.\n",
    "- Return the sum variable."
   ]
  },
  {
   "cell_type": "code",
   "execution_count": null,
   "metadata": {},
   "outputs": [],
   "source": [
    "class Solution {\n",
    "\n",
    "  int sum = 0;\n",
    "\n",
    "  public int sumOfLeftLeaves(TreeNode root) {\n",
    "    dfs(root);\n",
    "    return sum;\n",
    "  }\n",
    "\n",
    "  public void dfs(TreeNode root) {\n",
    "    if (root.left != null) {\n",
    "      if (root.left.left == null && root.left.right == null) {\n",
    "        sum += root.left.val;\n",
    "      }\n",
    "      dfs(root.left);\n",
    "    }\n",
    "    if (root.right != null) {\n",
    "      dfs(root.right);\n",
    "    }\n",
    "  }\n",
    "}\n"
   ]
  },
  {
   "cell_type": "code",
   "execution_count": null,
   "metadata": {},
   "outputs": [],
   "source": [
    "Solution solution = new Solution();"
   ]
  }
 ],
 "metadata": {
  "kernelspec": {
   "display_name": "Java",
   "language": "java",
   "name": "java"
  },
  "language_info": {
   "codemirror_mode": "java",
   "file_extension": ".jshell",
   "mimetype": "text/x-java-source",
   "name": "java",
   "pygments_lexer": "java",
   "version": "21.0.2+13-LTS-58"
  }
 },
 "nbformat": 4,
 "nbformat_minor": 2
}
