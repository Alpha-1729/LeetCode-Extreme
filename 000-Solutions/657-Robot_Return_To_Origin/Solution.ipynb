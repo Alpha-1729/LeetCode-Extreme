{
 "cells": [
  {
   "cell_type": "code",
   "execution_count": null,
   "metadata": {},
   "outputs": [],
   "source": [
    "// Robot Return To Origin\n",
    "\n",
    "/*\n",
    ">>>>\n",
    ">>>>\n",
    ">>>>\n",
    ">>>>\n",
    "*/\n"
   ]
  },
  {
   "cell_type": "markdown",
   "metadata": {},
   "source": [
    "# Approach 1 (Best Solution).\n",
    "- Time Complexity - O(n).\n",
    "- Space Complexity - O(1).\n",
    "\n",
    "- The method takes a string `moves` as input. Each character in the string represents a move:\n",
    "  - `'L'` = Left (decreases x-coordinate)\n",
    "  - `'R'` = Right (increases x-coordinate)\n",
    "  - `'U'` = Up (increases y-coordinate)\n",
    "  - `'D'` = Down (decreases y-coordinate)\n",
    "\n",
    "- Two variables, `x` and `y`, are initialized to `0` to represent the starting coordinates.\n",
    "\n",
    "- The code iterates through each character in the `moves` string using a `for` loop:\n",
    "  - For each move:\n",
    "    - If the move is `'L'`, `x` is decremented by `1`.\n",
    "    - If the move is `'R'`, `x` is incremented by `1`.\n",
    "    - If the move is `'U'`, `y` is incremented by `1`.\n",
    "    - If the move is `'D'`, `y` is decremented by `1`.\n",
    "\n",
    "- After processing all moves, the method checks if both `x` and `y` are back to `0`:\n",
    "  - `return (x == 0) && (y == 0);`\n",
    "\n",
    "- If the coordinates are `(0, 0)`, the method returns `true`, indicating that the moves returned to the starting position. Otherwise, it returns `false`.\n",
    "\n"
   ]
  },
  {
   "cell_type": "code",
   "execution_count": null,
   "metadata": {},
   "outputs": [],
   "source": [
    "class Solution {\n",
    "    public boolean judgeCircle(String moves) {\n",
    "        int x = 0;\n",
    "        int y = 0;\n",
    "\n",
    "        for (int i = 0; i < moves.length(); i++) {\n",
    "            char ch = moves.charAt(i);\n",
    "            switch (ch) {\n",
    "                case 'L':\n",
    "                    x--;\n",
    "                    break;\n",
    "                case 'R':\n",
    "                    x++;\n",
    "                    break;\n",
    "                case 'U':\n",
    "                    y++;\n",
    "                    break;\n",
    "                case 'D':\n",
    "                    y--;\n",
    "                    break;\n",
    "            }\n",
    "        }\n",
    "        return (x == 0) && (y == 0);\n",
    "    }\n",
    "}"
   ]
  },
  {
   "cell_type": "markdown",
   "metadata": {},
   "source": [
    "# Approach 2 (Best Solution).\n",
    "- Time Complexity - O(n).\n",
    "- Space Complexity - O(1).\n",
    "\n",
    "\n",
    "- An integer array `set` of size `86` is initialized:\n",
    "  - The size `86` is chosen because the highest ASCII value among the characters `'L'`, `'R'`, `'U'`, and `'D'` is `85` (for `'U'`), so this array can store counts for these characters by their ASCII values.\n",
    "\n",
    "- The code iterates through each character in the `moves` string using a `for` loop:\n",
    "  - For each move, the corresponding index in the `set` array is incremented based on the ASCII value of the character.\n",
    "  - Example: If the move is `'L'`, `set['L']` (which is `set[76]` because ASCII value of `'L'` is `76`) is incremented by `1`.\n",
    "\n",
    "- After processing all moves, the method checks if the number of `'L'` moves equals the number of `'R'` moves, and the number of `'U'` moves equals the number of `'D'` moves:\n",
    "  - `return (set['L'] == set['R']) && (set['U'] == set['D']);`\n",
    "\n",
    "- If both conditions are true, the method returns `true`, indicating that the robot returned to its starting position. Otherwise, it returns `false`.\n"
   ]
  },
  {
   "cell_type": "code",
   "execution_count": null,
   "metadata": {},
   "outputs": [],
   "source": [
    "class Solution {\n",
    "    public boolean judgeCircle(String moves) {\n",
    "        int[] set = new int[86];\n",
    "\n",
    "        for (int i = 0; i < moves.length(); i++) {\n",
    "            set[moves.charAt(i)]++;\n",
    "        }\n",
    "        return (set['L'] == set['R']) && (set['U'] == set['D']);\n",
    "    }\n",
    "}"
   ]
  },
  {
   "cell_type": "code",
   "execution_count": null,
   "metadata": {},
   "outputs": [],
   "source": [
    "Solution solution = new Solution();"
   ]
  }
 ],
 "metadata": {
  "kernelspec": {
   "display_name": "Java",
   "language": "java",
   "name": "java"
  },
  "language_info": {
   "codemirror_mode": "java",
   "file_extension": ".jshell",
   "mimetype": "text/x-java-source",
   "name": "java",
   "pygments_lexer": "java",
   "version": "21.0.2+13-LTS-58"
  }
 },
 "nbformat": 4,
 "nbformat_minor": 2
}
