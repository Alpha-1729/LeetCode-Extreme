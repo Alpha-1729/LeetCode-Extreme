{
 "cells": [
  {
   "cell_type": "code",
   "execution_count": null,
   "metadata": {},
   "outputs": [],
   "source": [
    "// Find The Number Of Distinct Colors Among The Balls\n",
    "\n",
    "/*\n",
    ">>>>\n",
    ">>>>\n",
    ">>>>\n",
    ">>>>\n",
    "*/\n"
   ]
  },
  {
   "cell_type": "markdown",
   "metadata": {},
   "source": [
    "# Approach 1 (Best Solution).\n",
    "- Time Complexity - O(n).\n",
    "- Space Complexity - O(n).\n",
    "\n",
    "- Keep two hashmap (ballMap and colorMap) to track the color of the ball and color count of each color.\n",
    "- If we get a new color, add it to the colorMap.\n",
    "- If we get a existing color, increment the count in the colorMap.\n",
    "- If we get a new ball color, add this ball into the ballMap, and add color to the colorMap.\n",
    "- If the color of the existing ball is changed, decrement the color count from the colorMap and also change the color of the ball.\n",
    "- Every time update the result array with the size of the colorMap hashset.\n",
    "- Return the result array."
   ]
  },
  {
   "cell_type": "code",
   "execution_count": null,
   "metadata": {},
   "outputs": [],
   "source": [
    "class Solution {\n",
    "    public int[] queryResults(int limit, int[][] queries) {\n",
    "        Map<Integer, Integer> ballMap = new HashMap<>();\n",
    "        Map<Integer, Integer> colorMap = new HashMap<>();\n",
    "\n",
    "        int[] result = new int[queries.length];\n",
    "\n",
    "        for (int i = 0; i < queries.length; i++)\n",
    "        {\n",
    "            int ballNum = queries[i][0];\n",
    "            int colorNum = queries[i][1];\n",
    "\n",
    "            int gotColorNum = ballMap.getOrDefault(ballNum, -1);\n",
    "            if (gotColorNum != -1)\n",
    "            {\n",
    "                int gotColorCount = colorMap.get(gotColorNum);\n",
    "                if (gotColorCount == 1)\n",
    "                {\n",
    "                    colorMap.remove(gotColorNum);\n",
    "                }\n",
    "                else\n",
    "                {\n",
    "                    colorMap.put(gotColorNum, gotColorCount - 1);\n",
    "                }\n",
    "            }\n",
    "            int currentColorCount = colorMap.getOrDefault(colorNum, 0);\n",
    "            colorMap.put(colorNum, currentColorCount + 1);\n",
    "            ballMap.put(ballNum, colorNum);\n",
    "            result[i] = colorMap.size();\n",
    "        }\n",
    "\n",
    "        return result;\n",
    "    }\n",
    "}"
   ]
  },
  {
   "cell_type": "code",
   "execution_count": null,
   "metadata": {},
   "outputs": [
    {
     "ename": "",
     "evalue": "",
     "output_type": "error",
     "traceback": [
      "\u001b[1;31mThe Kernel crashed while executing code in the current cell or a previous cell. \n",
      "\u001b[1;31mPlease review the code in the cell(s) to identify a possible cause of the failure. \n",
      "\u001b[1;31mClick <a href='https://aka.ms/vscodeJupyterKernelCrash'>here</a> for more info. \n",
      "\u001b[1;31mView Jupyter <a href='command:jupyter.viewOutput'>log</a> for further details."
     ]
    }
   ],
   "source": [
    "Solution solution = new Solution();\n",
    "int limit = 4;\n",
    "int[][] queries = {{1, 4}, {2, 5}, {1, 3}, {3, 4}};\n",
    "int[] result = solution.queryResults(limit, queries);\n",
    "System.out.println(Arrays.toString(result));"
   ]
  },
  {
   "cell_type": "code",
   "execution_count": null,
   "metadata": {},
   "outputs": [],
   "source": []
  }
 ],
 "metadata": {
  "kernelspec": {
   "display_name": "Java",
   "language": "java",
   "name": "java"
  },
  "language_info": {
   "codemirror_mode": "java",
   "file_extension": ".jshell",
   "mimetype": "text/x-java-source",
   "name": "java",
   "pygments_lexer": "java",
   "version": "22.0.1+8-16"
  }
 },
 "nbformat": 4,
 "nbformat_minor": 2
}
