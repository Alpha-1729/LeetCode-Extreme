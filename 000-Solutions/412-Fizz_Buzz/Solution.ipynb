{
 "cells": [
  {
   "cell_type": "code",
   "execution_count": null,
   "metadata": {},
   "outputs": [],
   "source": [
    "// Fizz Buzz\n",
    "\n",
    "/*\n",
    ">>>>\n",
    ">>>>\n",
    ">>>>\n",
    ">>>>\n",
    "*/\n"
   ]
  },
  {
   "cell_type": "markdown",
   "metadata": {},
   "source": [
    "# Approach 1 (Best Solution).\n",
    "- Time Complexity - O(n).\n",
    "- Space Complexity - O(1).\n",
    "- Loop from index 1 to n.\n",
    "- Create two boolean variables - divisibleByThree and divisibleByFive.\n",
    "- If the current index is divisibleByThree and divisibleByFive, store \"FizzBuzz\" in list.\n",
    "- If the current index is divisibleByThree, store \"Fizz\" in list.\n",
    "- If the current index is divisibleByFive, store \"Buzz\" in list.\n",
    "- Else store the string value of current index in the list.\n",
    "- Return the list."
   ]
  },
  {
   "cell_type": "code",
   "execution_count": null,
   "metadata": {},
   "outputs": [],
   "source": [
    "class Solution {\n",
    "\n",
    "  public List<String> fizzBuzz(int n) {\n",
    "    List<String> answer = new ArrayList<>(n);\n",
    "\n",
    "    for (int i = 1; i <= n; i++) {\n",
    "      boolean divisibleByThree = i % 3 == 0;\n",
    "      boolean divisibleByFive = i % 5 == 0;\n",
    "\n",
    "      if (divisibleByThree && divisibleByFive) {\n",
    "        answer.add(\"FizzBuzz\");\n",
    "      } else if (divisibleByThree) {\n",
    "        answer.add(\"Fizz\");\n",
    "      } else if (divisibleByFive) {\n",
    "        answer.add(\"Buzz\");\n",
    "      } else {\n",
    "        answer.add(String.valueOf(i));\n",
    "      }\n",
    "    }\n",
    "    return answer;\n",
    "  }\n",
    "}\n"
   ]
  },
  {
   "cell_type": "markdown",
   "metadata": {},
   "source": [
    "# Approach 2 (Best Solution).\n",
    "- Time Complexity - O(n).\n",
    "- Space Complexity - O(1).\n",
    "- Loop from index 1 to n.\n",
    "- Create two boolean variables - divisibleByThree and divisibleByFive.\n",
    "- Create an empty string variable currentStr.\n",
    "- If the current index is divisibleByThree, concat \"Fizz\" to currentStr.\n",
    "- If the current index is divisibleByFive, concat \"Buzz\" to currentStr.\n",
    "- Finally if the currentStr is still empty, store the string value of current index to variable currentStr.\n",
    "- Add the currentStr into list.\n",
    "- Return the list.\n",
    "\n",
    "# Advantage of this method.\n",
    "- We can add more conditions to the FizzBuzz game.\n",
    "- Like if divisibleBySeven, then \"Boo\"."
   ]
  },
  {
   "cell_type": "code",
   "execution_count": null,
   "metadata": {},
   "outputs": [],
   "source": [
    "class Solution {\n",
    "\n",
    "  public List<String> fizzBuzz(int n) {\n",
    "    List<String> answer = new ArrayList<>(n);\n",
    "\n",
    "    for (int i = 1; i <= n; i++) {\n",
    "      boolean divisibleByThree = i % 3 == 0;\n",
    "      boolean divisibleByFive = i % 5 == 0;\n",
    "\n",
    "      String currentStr = \"\";\n",
    "\n",
    "      if (divisibleByThree) {\n",
    "        currentStr += \"Fizz\";\n",
    "      }\n",
    "      if (divisibleByFive) {\n",
    "        currentStr += \"Buzz\";\n",
    "      }\n",
    "      if (currentStr.isEmpty()) {\n",
    "        currentStr = String.valueOf(i);\n",
    "      }\n",
    "\n",
    "      answer.add(currentStr);\n",
    "    }\n",
    "    return answer;\n",
    "  }\n",
    "}\n"
   ]
  },
  {
   "cell_type": "code",
   "execution_count": null,
   "metadata": {},
   "outputs": [],
   "source": [
    "Solution s = new Solution();\n",
    "\n",
    "List<String> result = s.fizzBuzz(20);\n",
    "System.out.println(result);"
   ]
  }
 ],
 "metadata": {
  "kernelspec": {
   "display_name": "Java",
   "language": "java",
   "name": "java"
  },
  "language_info": {
   "codemirror_mode": "java",
   "file_extension": ".jshell",
   "mimetype": "text/x-java-source",
   "name": "java",
   "pygments_lexer": "java",
   "version": "21.0.2+13-LTS-58"
  }
 },
 "nbformat": 4,
 "nbformat_minor": 2
}
