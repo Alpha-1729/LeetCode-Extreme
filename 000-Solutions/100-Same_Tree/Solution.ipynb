{
 "cells": [
  {
   "cell_type": "code",
   "execution_count": null,
   "metadata": {},
   "outputs": [],
   "source": [
    "// Same Tree\n",
    "\n",
    "/*\n",
    ">>>>\n",
    ">>>>\n",
    ">>>>\n",
    ">>>>\n",
    "*/\n"
   ]
  },
  {
   "cell_type": "markdown",
   "metadata": {},
   "source": [
    "# Approach 1 (Best Solution).\n",
    "\n",
    "- Time Complexity - O(n).\n",
    "- Space Complexity - O(1).\n",
    "\n",
    "- If both node are null, it means both node reaches the leaf node. In that case return true.\n",
    "- If one of the node is null, return false.\n",
    "- Then compare the node value.\n",
    "  - If node value are same, compare the value in the left and the right node.\n",
    "  - Else return false.\n"
   ]
  },
  {
   "cell_type": "code",
   "execution_count": null,
   "metadata": {},
   "outputs": [],
   "source": [
    "class Solution {\n",
    "\n",
    "  public boolean isSameTree(TreeNode p, TreeNode q) {\n",
    "    if (p == null && q == null) {\n",
    "      return true;\n",
    "    } else if (p == null || q == null) {\n",
    "      return false;\n",
    "    }\n",
    "\n",
    "    if (p.val == q.val) {\n",
    "      return isSameTree(p.left, q.left) && isSameTree(p.right, q.right);\n",
    "    }\n",
    "    return false;\n",
    "  }\n",
    "}\n"
   ]
  },
  {
   "cell_type": "code",
   "execution_count": null,
   "metadata": {},
   "outputs": [],
   "source": [
    "Solution solution = new Solution();"
   ]
  }
 ],
 "metadata": {
  "kernelspec": {
   "display_name": "Java",
   "language": "java",
   "name": "java"
  },
  "language_info": {
   "codemirror_mode": "java",
   "file_extension": ".jshell",
   "mimetype": "text/x-java-source",
   "name": "java",
   "pygments_lexer": "java",
   "version": "21.0.2+13-LTS-58"
  }
 },
 "nbformat": 4,
 "nbformat_minor": 2
}
