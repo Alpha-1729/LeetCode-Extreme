{
 "cells": [
  {
   "cell_type": "code",
   "execution_count": null,
   "metadata": {},
   "outputs": [],
   "source": [
    "// Double A Number Represented As A Linked List\n",
    "\n",
    "/*\n",
    ">>>>\n",
    ">>>>\n",
    ">>>>\n",
    ">>>>\n",
    "*/\n"
   ]
  },
  {
   "cell_type": "markdown",
   "metadata": {},
   "source": [
    "# Approach 1 (Best Solution).\n",
    "- Time Complexity - O(n).\n",
    "- Space Complexity - O(1).\n",
    "\n",
    "- Check the value at the first node.\n",
    "  - If the first node value is greater than 4, add a new node with value 1 to the first node.\n",
    "- Loop through each node and calculate the value in the current node using the remainder from the next node.\n",
    "- Finally return the head."
   ]
  },
  {
   "cell_type": "code",
   "execution_count": null,
   "metadata": {},
   "outputs": [],
   "source": [
    "class Solution {\n",
    "\n",
    "  public ListNode doubleIt(ListNode head) {\n",
    "    if (head == null) {\n",
    "      return null;\n",
    "    }\n",
    "\n",
    "    ListNode current = head;\n",
    "\n",
    "    if (head.val >= 5) {\n",
    "      head = new ListNode(1, head);\n",
    "    }\n",
    "\n",
    "    while (current != null) {\n",
    "      byte remainder = getRemainder(current.next);\n",
    "      current.val = (current.val * 2 + remainder) % 10;\n",
    "      current = current.next;\n",
    "    }\n",
    "\n",
    "    return head;\n",
    "  }\n",
    "\n",
    "  public byte getRemainder(ListNode node) {\n",
    "    if (node != null) {\n",
    "      return node.val < 5 ? 0 : (byte) 1;\n",
    "    }\n",
    "    return 0;\n",
    "  }\n",
    "}\n"
   ]
  },
  {
   "cell_type": "code",
   "execution_count": null,
   "metadata": {},
   "outputs": [],
   "source": [
    "Solution solution = new Solution();"
   ]
  }
 ],
 "metadata": {
  "kernelspec": {
   "display_name": "Java",
   "language": "java",
   "name": "java"
  },
  "language_info": {
   "codemirror_mode": "java",
   "file_extension": ".jshell",
   "mimetype": "text/x-java-source",
   "name": "java",
   "pygments_lexer": "java",
   "version": "21.0.2+13-LTS-58"
  }
 },
 "nbformat": 4,
 "nbformat_minor": 2
}
