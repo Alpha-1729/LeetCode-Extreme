{
 "cells": [
  {
   "cell_type": "code",
   "execution_count": null,
   "metadata": {
    "vscode": {
     "languageId": "java"
    }
   },
   "outputs": [],
   "source": [
    "// Reshape The Matrix\n",
    "\n",
    "/*\n",
    ">>>>\n",
    ">>>>\n",
    ">>>>\n",
    ">>>>\n",
    "*/\n"
   ]
  },
  {
   "cell_type": "markdown",
   "metadata": {},
   "source": [
    "# Approach 1 (Best Solution).\n",
    "- Time Complexity - O(mxn).\n",
    "- Space Complexity - O(mxn).\n",
    "\n",
    "- Check the validity of reshaping a matrix.\n",
    "- If reshaping is not possible, return the original matrix.\n",
    "- Create a new matrix with size that of reshape matrix.\n",
    "- Loop through the first matrix and add all element to the reshape matrix.\n",
    "- Return the reshape matrix."
   ]
  },
  {
   "cell_type": "code",
   "execution_count": 1,
   "metadata": {
    "vscode": {
     "languageId": "java"
    }
   },
   "outputs": [],
   "source": [
    "class Solution {\n",
    "\n",
    "  public int[][] matrixReshape(int[][] mat, int r, int c) {\n",
    "    int rows = mat.length;\n",
    "    int columns = mat[0].length;\n",
    "\n",
    "    if ((rows * columns) != (r * c)) {\n",
    "      return mat;\n",
    "    }\n",
    "\n",
    "    int[][] outputArr = new int[r][c];\n",
    "    int rowNum = 0;\n",
    "    int columnNum = 0;\n",
    "    for (int i = 0; i < rows; i++) {\n",
    "      for (int j = 0; j < columns; j++) {\n",
    "        outputArr[rowNum][columnNum] = mat[i][j];\n",
    "        columnNum++;\n",
    "        if (columnNum == c) {\n",
    "          columnNum = 0;\n",
    "          rowNum++;\n",
    "        }\n",
    "      }\n",
    "    }\n",
    "    return outputArr;\n",
    "  }\n",
    "}\n"
   ]
  },
  {
   "cell_type": "code",
   "execution_count": 2,
   "metadata": {
    "vscode": {
     "languageId": "java"
    }
   },
   "outputs": [
    {
     "name": "stdout",
     "output_type": "stream",
     "text": [
      "[1, 2, 3, 4]\n"
     ]
    }
   ],
   "source": [
    "Solution s = new Solution();\n",
    "int[][] matrix = {{1, 2}, {3, 4}};\n",
    "int r = 1;\n",
    "int c = 4;\n",
    "int[][] result = s.matrixReshape(matrix, r, c);\n",
    "for (int[] row : result)\n",
    "{\n",
    "\tSystem.out.println(Arrays.toString(row));\n",
    "}"
   ]
  },
  {
   "cell_type": "code",
   "execution_count": null,
   "metadata": {
    "vscode": {
     "languageId": "java"
    }
   },
   "outputs": [],
   "source": []
  }
 ],
 "metadata": {
  "kernelspec": {
   "display_name": "Java",
   "language": "java",
   "name": "java"
  },
  "language_info": {
   "codemirror_mode": "java",
   "file_extension": ".jshell",
   "mimetype": "text/x-java-source",
   "name": "Java",
   "pygments_lexer": "java",
   "version": "22.0.1+8-16"
  }
 },
 "nbformat": 4,
 "nbformat_minor": 2
}
