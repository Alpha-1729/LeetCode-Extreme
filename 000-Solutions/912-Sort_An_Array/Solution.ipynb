{
 "cells": [
  {
   "cell_type": "code",
   "execution_count": null,
   "metadata": {
    "vscode": {
     "languageId": "java"
    }
   },
   "outputs": [],
   "source": [
    "// Sort An Array\n",
    "\n",
    "/*\n",
    ">>>>\n",
    ">>>>\n",
    ">>>>\n",
    ">>>>\n",
    "*/\n"
   ]
  },
  {
   "cell_type": "markdown",
   "metadata": {},
   "source": [
    "# Approach 1 (Best Solution).\n",
    "- Time Complexity - O(nlogn).\n",
    "- Space Complexity - O(n).\n",
    "\n",
    "1. **Function Overview**:\n",
    "   - `sortArray`: Main function that sorts the input array using merge sort.\n",
    "   - `mergeSort`: Recursively divides the array into smaller parts.\n",
    "   - `mergeInplace`: Merges the divided arrays back in sorted order.\n",
    "\n",
    "2. **Base Case**:\n",
    "   - If the array has only one element (`right - left == 1`), return immediately as it’s already sorted.\n",
    "\n",
    "3. **Divide**:\n",
    "   - Calculate the middle point `mid` between `left` and `right`.\n",
    "   - Recursively call `mergeSort` on the left half (`left` to `mid`) and the right half (`mid` to `right`).\n",
    "\n",
    "4. **Merge Step**:\n",
    "   - After the two halves are sorted, use `mergeInplace` to merge them back together in sorted order.\n",
    "\n",
    "5. **Merge Logic (`mergeInplace`)**:\n",
    "   - Create a temporary array `mix` to hold the merged result.\n",
    "   - Use two pointers, `i` for the left half and `j` for the right half. Compare elements at these pointers and place the smaller element into `mix`.\n",
    "   - After one of the halves is exhausted, copy any remaining elements from the other half into `mix`.\n",
    "\n",
    "6. **Copy Back**:\n",
    "   - After merging, copy the elements from `mix` back to the original array `nums` at the correct positions.\n",
    "\n"
   ]
  },
  {
   "cell_type": "code",
   "execution_count": 1,
   "metadata": {
    "vscode": {
     "languageId": "java"
    }
   },
   "outputs": [],
   "source": [
    "class Solution {\n",
    "    public int[] sortArray(int[] nums) {\n",
    "        mergeSort(nums, 0, nums.length);\n",
    "        return nums;\n",
    "    }\n",
    "\n",
    "    public void mergeSort(int[] nums, int left, int right) {\n",
    "        if (right - left == 1) {\n",
    "            return;\n",
    "        }\n",
    "        int mid = left + (right - left) / 2;\n",
    "        mergeSort(nums, left, mid);\n",
    "        mergeSort(nums, mid, right);\n",
    "        mergeInPlace(nums, left, mid, right);\n",
    "    }\n",
    "\n",
    "    public void mergeInPlace(int[] nums, int s, int m, int e) {\n",
    "        int[] mix = new int[e - s];\n",
    "        int i = s;\n",
    "        int j = m;\n",
    "        int k = 0;\n",
    "\n",
    "        while (i < m && j < e) {\n",
    "            if (nums[i] < nums[j]) {\n",
    "                mix[k] = nums[i];\n",
    "                i++;\n",
    "            } else {\n",
    "                mix[k] = nums[j];\n",
    "                j++;\n",
    "            }\n",
    "            k++;\n",
    "        }\n",
    "\n",
    "        while (i < m) {\n",
    "            mix[k] = nums[i];\n",
    "            i++;\n",
    "            k++;\n",
    "        }\n",
    "\n",
    "        while (j < e) {\n",
    "            mix[k] = nums[j];\n",
    "            j++;\n",
    "            k++;\n",
    "        }\n",
    "\n",
    "        for (int l = 0; l < mix.length; l++) {\n",
    "            nums[s + l] = mix[l];\n",
    "        }\n",
    "    }\n",
    "}"
   ]
  },
  {
   "cell_type": "code",
   "execution_count": 2,
   "metadata": {
    "vscode": {
     "languageId": "java"
    }
   },
   "outputs": [
    {
     "name": "stdout",
     "output_type": "stream",
     "text": [
      "[1, 2, 3, 5]\n"
     ]
    }
   ],
   "source": [
    "Solution solution = new Solution();\n",
    "int[] nums = {5, 2, 3, 1};\n",
    "int[] result = solution.sortArray(nums);\n",
    "System.out.println(Arrays.toString(result));"
   ]
  },
  {
   "cell_type": "code",
   "execution_count": null,
   "metadata": {
    "vscode": {
     "languageId": "java"
    }
   },
   "outputs": [],
   "source": []
  }
 ],
 "metadata": {
  "kernelspec": {
   "display_name": "Java",
   "language": "java",
   "name": "java"
  },
  "language_info": {
   "codemirror_mode": "java",
   "file_extension": ".jshell",
   "mimetype": "text/x-java-source",
   "name": "Java",
   "pygments_lexer": "java",
   "version": "22.0.2+9-70"
  }
 },
 "nbformat": 4,
 "nbformat_minor": 2
}
