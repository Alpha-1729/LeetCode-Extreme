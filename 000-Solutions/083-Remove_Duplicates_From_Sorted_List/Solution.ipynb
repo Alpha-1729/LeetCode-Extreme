{
 "cells": [
  {
   "cell_type": "code",
   "execution_count": null,
   "metadata": {
    "vscode": {
     "languageId": "java"
    }
   },
   "outputs": [],
   "source": [
    "// Remove Duplicates From Sorted List\n",
    "\n",
    "/*\n",
    ">>>>\n",
    ">>>>\n",
    ">>>>\n",
    ">>>>\n",
    "*/\n"
   ]
  },
  {
   "cell_type": "markdown",
   "metadata": {},
   "source": [
    "# Approach 1 (Best Solution).\n",
    "- Time Complexity - O(n).\n",
    "- Space Complexity - O(1).\n",
    "\n",
    "- Iterated through each node in the linked list.\n",
    "- If the value in the current node and next node after the current node, remove the current.next node.\n",
    "- Else move the current to next node.\n",
    "- Return the head of the linked list.\n"
   ]
  },
  {
   "cell_type": "code",
   "execution_count": 1,
   "metadata": {
    "vscode": {
     "languageId": "java"
    }
   },
   "outputs": [],
   "source": [
    "public class ListNode {\n",
    "\n",
    "  int val;\n",
    "  ListNode next;\n",
    "\n",
    "  ListNode() {}\n",
    "\n",
    "  ListNode(int val) {\n",
    "    this.val = val;\n",
    "  }\n",
    "\n",
    "  ListNode(int val, ListNode next) {\n",
    "    this.val = val;\n",
    "    this.next = next;\n",
    "  }\n",
    "}\n"
   ]
  },
  {
   "cell_type": "code",
   "execution_count": 2,
   "metadata": {
    "vscode": {
     "languageId": "java"
    }
   },
   "outputs": [],
   "source": [
    "class Solution {\n",
    "\n",
    "  public ListNode deleteDuplicates(ListNode head) {\n",
    "    if (head == null) return null;\n",
    "\n",
    "    ListNode current = head;\n",
    "    while (current.next != null) {\n",
    "      if (current.val == current.next.val) {\n",
    "        current.next = current.next.next;\n",
    "        continue;\n",
    "      }\n",
    "      current = current.next;\n",
    "    }\n",
    "    return head;\n",
    "  }\n",
    "}\n"
   ]
  },
  {
   "cell_type": "code",
   "execution_count": null,
   "metadata": {
    "vscode": {
     "languageId": "java"
    }
   },
   "outputs": [],
   "source": [
    "Solution s = new Solution();"
   ]
  }
 ],
 "metadata": {
  "kernelspec": {
   "display_name": "Java",
   "language": "java",
   "name": "java"
  },
  "language_info": {
   "codemirror_mode": "java",
   "file_extension": ".jshell",
   "mimetype": "text/x-java-source",
   "name": "Java",
   "pygments_lexer": "java",
   "version": "21.0.2+13-LTS-58"
  }
 },
 "nbformat": 4,
 "nbformat_minor": 2
}
