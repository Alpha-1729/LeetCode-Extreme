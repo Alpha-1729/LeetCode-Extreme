{
 "cells": [
  {
   "cell_type": "code",
   "execution_count": null,
   "metadata": {
    "vscode": {
     "languageId": "java"
    }
   },
   "outputs": [],
   "source": [
    "// Count Items Matching A Rule\n",
    "\n",
    "/*\n",
    ">>>>\n",
    ">>>>\n",
    ">>>>\n",
    ">>>>\n",
    "*/\n"
   ]
  },
  {
   "cell_type": "markdown",
   "metadata": {},
   "source": [
    "# Approach 1 (Best Solution).\n",
    "- Time Complexity - O(n).\n",
    "- Space Complexity - O(1).\n",
    "\n",
    "- **Helper Method `getPos`**:\n",
    "  - `public int getPos(String ruleKey)`:\n",
    "    - This method takes `ruleKey` as input and returns an integer corresponding to the position of the attribute in the item list:\n",
    "      - `\"type\"` maps to position `0`.\n",
    "      - `\"color\"` maps to position `1`.\n",
    "      - `\"name\"` maps to position `2`.\n",
    "      - If the `ruleKey` does not match any of these, the method returns `-1` as a default case.\n",
    "\n",
    "- **Variables**:\n",
    "  - `int pos = getPos(ruleKey);`: Calls `getPos` to determine the position of the attribute in the list based on the provided `ruleKey`.\n",
    "  - `int count = 0;`: Initializes a counter to keep track of how many items match the `ruleValue`.\n",
    "\n",
    "- **For Loop**:\n",
    "  - `for (int i = 0; i < items.size(); i++)`:\n",
    "    - Loops through each item in the `items` list.\n",
    "    - `if (items.get(i).get(pos) == ruleValue)`:\n",
    "      - Checks if the attribute at position `pos` in the current item matches the `ruleValue`.\n",
    "      - If it matches, the counter `count` is incremented.\n",
    "\n",
    "- **Return Statement**:\n",
    "  - `return count;`: After iterating through all items, the method returns the total count of matching items."
   ]
  },
  {
   "cell_type": "code",
   "execution_count": 4,
   "metadata": {
    "vscode": {
     "languageId": "java"
    }
   },
   "outputs": [],
   "source": [
    "class Solution {\n",
    "    public int countMatches(List<List<String>> items, String ruleKey, String ruleValue) {\n",
    "        int pos = getPos(ruleKey);\n",
    "        int count = 0;\n",
    "        for (int i = 0; i < items.size(); i++) {\n",
    "            if (items.get(i).get(pos) == ruleValue) {\n",
    "                count++;\n",
    "            }\n",
    "        }\n",
    "        return count; \n",
    "    }\n",
    "    public int getPos(String ruleKey) {\n",
    "        switch (ruleKey) {\n",
    "            case \"type\":\n",
    "                return 0;\n",
    "            case \"color\":\n",
    "                return 1;\n",
    "            case \"name\":\n",
    "                return 2;\n",
    "            default:\n",
    "                return -1;\n",
    "        }\n",
    "    }\n",
    "}"
   ]
  },
  {
   "cell_type": "code",
   "execution_count": 5,
   "metadata": {
    "vscode": {
     "languageId": "java"
    }
   },
   "outputs": [],
   "source": [
    "Solution solution = new Solution();\n",
    "List<List<String>> items = new ArrayList<>();\n",
    "items.add(Arrays.asList(\"phone\", \"blue\", \"pixel\"));\n",
    "items.add(Arrays.asList(\"computer\", \"silver\", \"lenovo\"));\n",
    "items.add(Arrays.asList(\"phone\", \"gold\", \"iphone\"));\n",
    "\n",
    "\n",
    "String ruleKey = \"color\";\n",
    "String ruleValue = \"silver\";\n",
    "\n",
    "int result = solution.countMatches(items, ruleKey, ruleValue);\n",
    "System.out.println(result);"
   ]
  },
  {
   "cell_type": "code",
   "execution_count": null,
   "metadata": {
    "vscode": {
     "languageId": "java"
    }
   },
   "outputs": [],
   "source": []
  },
  {
   "cell_type": "code",
   "execution_count": null,
   "metadata": {
    "vscode": {
     "languageId": "java"
    }
   },
   "outputs": [],
   "source": []
  }
 ],
 "metadata": {
  "kernelspec": {
   "display_name": "Java",
   "language": "java",
   "name": "java"
  },
  "language_info": {
   "codemirror_mode": "java",
   "file_extension": ".jshell",
   "mimetype": "text/x-java-source",
   "name": "Java",
   "pygments_lexer": "java",
   "version": "22.0.2+9-70"
  }
 },
 "nbformat": 4,
 "nbformat_minor": 2
}
