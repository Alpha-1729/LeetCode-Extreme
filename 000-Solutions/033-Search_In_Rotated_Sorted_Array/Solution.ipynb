{
 "cells": [
  {
   "cell_type": "code",
   "execution_count": null,
   "metadata": {},
   "outputs": [],
   "source": [
    "// Search In Rotated Sorted Array\n",
    "\n",
    "/*\n",
    ">>>>\n",
    ">>>>\n",
    ">>>>\n",
    ">>>>\n",
    "*/\n"
   ]
  },
  {
   "cell_type": "markdown",
   "metadata": {},
   "source": [
    "# Approach 1 (Best Solution).\n",
    "- Time Complexity - O(logn).\n",
    "- Space Complexity - O(1).\n",
    "\n",
    "1. **Initialize Variables**:\n",
    "   - `n`: Length of the `nums` array.\n",
    "   - `left`: Start of the search range, initialized to `0`.\n",
    "   - `right`: End of the search range, initialized to `n - 1`.\n",
    "\n",
    "2. **Binary Search Loop**:\n",
    "   - The loop runs while `left` is less than or equal to `right`.\n",
    "   - **Calculate Midpoint**: `mid` is calculated as the average of `left` and `right`.\n",
    "\n",
    "3. **Target Found**:\n",
    "   - If `nums[mid] == target`, return `mid`, as the target is found.\n",
    "\n",
    "4. **Check Which Portion is Sorted**:\n",
    "   - **Left Portion Sorted**: If `nums[left] <= nums[mid]`, the left portion of the array is sorted.\n",
    "     - **Target in Left Portion**: If `target` is within the range `[nums[left], nums[mid]]`, adjust `right` to `mid - 1` to search the left half.\n",
    "     - **Target in Right Portion**: If `target` is outside this range, adjust `left` to `mid + 1` to search the right half.\n",
    "\n",
    "   - **Right Portion Sorted**: If the left portion isn't sorted, the right portion is sorted.\n",
    "     - **Target in Right Portion**: If `target` is within the range `[nums[mid], nums[right]]`, adjust `left` to `mid + 1` to search the right half.\n",
    "     - **Target in Left Portion**: If `target` is outside this range, adjust `right` to `mid - 1` to search the left half.\n",
    "\n",
    "5. **Return -1 if Not Found**:\n",
    "   - If the target is not found after the loop completes, return `-1`.\n",
    "\n"
   ]
  },
  {
   "cell_type": "code",
   "execution_count": null,
   "metadata": {},
   "outputs": [],
   "source": [
    "class Solution {\n",
    "    public int search(int[] nums, int target) {\n",
    "        int n = nums.length;\n",
    "        int left = 0;\n",
    "        int right = n - 1;\n",
    "\n",
    "        while (left <= right) {\n",
    "            int mid = left + (right - left) / 2;\n",
    "            if (nums[mid] == target) {\n",
    "                return mid;\n",
    "            }\n",
    "            // Left Portion.\n",
    "            if (nums[left] <= nums[mid]) {\n",
    "                if (target > nums[mid] || target < nums[left]) {\n",
    "                    left = mid + 1;\n",
    "                } else {\n",
    "                    right = mid - 1;\n",
    "                }\n",
    "            } else { // Right Portion.\n",
    "                if (target > nums[right] || target < nums[mid]) {\n",
    "                    right = mid - 1;\n",
    "                } else {\n",
    "                    left = mid + 1;\n",
    "                }\n",
    "            }\n",
    "        }\n",
    "        return -1;\n",
    "    }\n",
    "}"
   ]
  },
  {
   "cell_type": "code",
   "execution_count": null,
   "metadata": {},
   "outputs": [],
   "source": [
    "Solution solution = new Solution();\n",
    "int[] nums = {4, 5, 6, 7, 0, 1, 2};\n",
    "int target = 0;\n",
    "int result = solution.search(nums, target);\n",
    "System.out.println(result);"
   ]
  }
 ],
 "metadata": {
  "kernelspec": {
   "display_name": "Java",
   "language": "java",
   "name": "java"
  },
  "language_info": {
   "codemirror_mode": "java",
   "file_extension": ".jshell",
   "mimetype": "text/x-java-source",
   "name": "java",
   "pygments_lexer": "java",
   "version": "21.0.2+13-LTS-58"
  }
 },
 "nbformat": 4,
 "nbformat_minor": 2
}
