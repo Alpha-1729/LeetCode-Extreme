{
 "cells": [
  {
   "cell_type": "code",
   "execution_count": null,
   "metadata": {
    "vscode": {
     "languageId": "java"
    }
   },
   "outputs": [],
   "source": [
    "// Keep Multiplying Found Values By Two\n",
    "\n",
    "/*\n",
    ">>>>\n",
    ">>>>\n",
    ">>>>\n",
    ">>>>\n",
    "*/\n"
   ]
  },
  {
   "cell_type": "markdown",
   "metadata": {},
   "source": [
    "# Approach 1 (Best Solution).\n",
    "- Time Complexity - O(n).\n",
    "- Space Complexity - O(n).\n",
    "\n",
    "1. **Initialize a Boolean Array:**\n",
    "   - `arr`: A boolean array of size 1001 (to cover numbers from 0 to 1000). Each index represents whether a particular number exists in the `nums` array.\n",
    "\n",
    "2. **Populate the Boolean Array:**\n",
    "   - Loop through the `nums` array and set `arr[num]` to `true` for each number `num` in `nums`.\n",
    "\n",
    "3. **Double the `original` Value:**\n",
    "   - Use a `while` loop to continuously double the `original` value as long as:\n",
    "     - `original` is less than or equal to 1000.\n",
    "     - The `arr[original]` is `true`, meaning the current `original` value is found in the `nums` array.\n",
    "\n",
    "4. **Return the Final Value:**\n",
    "   - Once the loop exits (either because `original` is not found in `nums` or it exceeds 1000), the method returns the `original` value.\n"
   ]
  },
  {
   "cell_type": "code",
   "execution_count": null,
   "metadata": {
    "vscode": {
     "languageId": "java"
    }
   },
   "outputs": [],
   "source": [
    "class Solution {\n",
    "\n",
    "    public int findFinalValue(int[] nums, int original) {\n",
    "        boolean[] arr = new boolean[1001];\n",
    "        for (int num : nums) {\n",
    "            arr[num] = true;\n",
    "        }\n",
    "\n",
    "        while (original <= 1000 && arr[original]) {\n",
    "            original *= 2;\n",
    "        }\n",
    "\n",
    "        return original;\n",
    "    }\n",
    "}"
   ]
  },
  {
   "cell_type": "markdown",
   "metadata": {},
   "source": [
    "# Approach 2 (Solution using hashset).\n",
    "- Time Complexity - O(n).\n",
    "- Space Complexity - O(n).\n",
    "\n",
    "- Create a HashSet to store the numbers which are multiples of original and which can form consecutive double of original.\n",
    "- Loop through the HashSet and check whether the set contain original\n",
    "  - If original is found in HashSet.\n",
    "  - Double the original check again.\n",
    "- Return the final value of the original variable.\n"
   ]
  },
  {
   "cell_type": "code",
   "execution_count": null,
   "metadata": {
    "vscode": {
     "languageId": "java"
    }
   },
   "outputs": [],
   "source": [
    "class Solution {\n",
    "\n",
    "  public int findFinalValue(int[] nums, int original) {\n",
    "    HashSet<Integer> set = new HashSet<>();\n",
    "\n",
    "    for (int num : nums) {\n",
    "      if (num % original == 0) {\n",
    "        if (isPowerOfTwo(num / original)) {\n",
    "          set.add(num);\n",
    "        }\n",
    "      }\n",
    "    }\n",
    "\n",
    "    while (set.contains(original)) {\n",
    "      original *= 2;\n",
    "    }\n",
    "    return original;\n",
    "  }\n",
    "\n",
    "  public boolean isPowerOfTwo(int num) {\n",
    "    return (num > 0) && (num & (num - 1)) == 0;\n",
    "  }\n",
    "}\n"
   ]
  },
  {
   "cell_type": "code",
   "execution_count": null,
   "metadata": {
    "vscode": {
     "languageId": "java"
    }
   },
   "outputs": [],
   "source": [
    "Solution solution = new Solution();\n",
    "int[] nums = {5, 3, 6, 1, 13, 14};\n",
    "int original = 3;\n",
    "int result = solution.findFinalValue(nums, original);\n",
    "System.out.println(result);"
   ]
  },
  {
   "cell_type": "code",
   "execution_count": null,
   "metadata": {
    "vscode": {
     "languageId": "java"
    }
   },
   "outputs": [],
   "source": []
  }
 ],
 "metadata": {
  "kernelspec": {
   "display_name": "Java",
   "language": "java",
   "name": "java"
  },
  "language_info": {
   "codemirror_mode": "java",
   "file_extension": ".jshell",
   "mimetype": "text/x-java-source",
   "name": "Java",
   "pygments_lexer": "java",
   "version": "22.0.1+8-16"
  }
 },
 "nbformat": 4,
 "nbformat_minor": 2
}
