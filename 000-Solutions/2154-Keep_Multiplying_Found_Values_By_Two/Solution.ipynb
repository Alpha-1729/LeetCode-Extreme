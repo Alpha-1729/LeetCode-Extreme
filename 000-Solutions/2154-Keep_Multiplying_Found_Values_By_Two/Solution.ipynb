{
 "cells": [
  {
   "cell_type": "code",
   "execution_count": null,
   "metadata": {
    "vscode": {
     "languageId": "java"
    }
   },
   "outputs": [],
   "source": [
    "// Keep Multiplying Found Values By Two\n",
    "\n",
    "/*\n",
    ">>>>\n",
    ">>>>\n",
    ">>>>\n",
    ">>>>\n",
    "*/\n"
   ]
  },
  {
   "cell_type": "markdown",
   "metadata": {},
   "source": [
    "# Approach 1 (Best Solution).\n",
    "- Time Complexity - O(n).\n",
    "- Space Complexity - O(n).\n",
    "\n",
    "- Create a HashSet to store the numbers which are multiples of original and which can form consecutive double of original.\n",
    "- Loop through the HashSet and check whether the set contain original\n",
    "  - If original is found in HashSet.\n",
    "  - Double the original check again.\n",
    "- Return the final value of the original variable.\n"
   ]
  },
  {
   "cell_type": "code",
   "execution_count": 6,
   "metadata": {
    "vscode": {
     "languageId": "java"
    }
   },
   "outputs": [],
   "source": [
    "class Solution {\n",
    "\n",
    "  public int findFinalValue(int[] nums, int original) {\n",
    "    HashSet<Integer> set = new HashSet<>();\n",
    "\n",
    "    for (int num : nums) {\n",
    "      if (num % original == 0) {\n",
    "        if (isPowerOfTwo(num / original)) {\n",
    "          set.add(num);\n",
    "        }\n",
    "      }\n",
    "    }\n",
    "\n",
    "    while (set.contains(original)) {\n",
    "      original *= 2;\n",
    "    }\n",
    "    return original;\n",
    "  }\n",
    "\n",
    "  public boolean isPowerOfTwo(int num) {\n",
    "    return (num > 0) && (num & (num - 1)) == 0;\n",
    "  }\n",
    "}\n"
   ]
  },
  {
   "cell_type": "code",
   "execution_count": 7,
   "metadata": {
    "vscode": {
     "languageId": "java"
    }
   },
   "outputs": [
    {
     "name": "stdout",
     "output_type": "stream",
     "text": [
      "[3, 6]\n",
      "12\n"
     ]
    }
   ],
   "source": [
    "Solution solution = new Solution();\n",
    "int[] nums = {5, 3, 6, 1, 13, 14};\n",
    "int original = 3;\n",
    "int result = solution.findFinalValue(nums, original);\n",
    "System.out.println(result);"
   ]
  },
  {
   "cell_type": "code",
   "execution_count": null,
   "metadata": {
    "vscode": {
     "languageId": "java"
    }
   },
   "outputs": [],
   "source": []
  }
 ],
 "metadata": {
  "kernelspec": {
   "display_name": "Java",
   "language": "java",
   "name": "java"
  },
  "language_info": {
   "codemirror_mode": "java",
   "file_extension": ".jshell",
   "mimetype": "text/x-java-source",
   "name": "Java",
   "pygments_lexer": "java",
   "version": "22.0.1+8-16"
  }
 },
 "nbformat": 4,
 "nbformat_minor": 2
}
