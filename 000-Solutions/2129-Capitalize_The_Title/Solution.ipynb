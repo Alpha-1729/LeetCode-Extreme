{
 "cells": [
  {
   "cell_type": "code",
   "execution_count": null,
   "metadata": {},
   "outputs": [],
   "source": [
    "// Capitalize The Title\n",
    "\n",
    "/*\n",
    ">>>>\n",
    ">>>>\n",
    ">>>>\n",
    ">>>>\n",
    "*/\n"
   ]
  },
  {
   "cell_type": "markdown",
   "metadata": {},
   "source": [
    "# Approach 1 (Best Solution).\n",
    "- Time Complexity - O(n).\n",
    "- Space Complexity - O(n).\n",
    "\n",
    "1. **Convert the Title to Lowercase**:\n",
    "   - The method begins by converting all characters in the input string `title` to lowercase.\n",
    "   - This is done by iterating over each character in the string and using `Character.toLowerCase()` to ensure all characters are in lowercase.\n",
    "   - The lowercase characters are stored in a `char` array `arr`.\n",
    "\n",
    "2. **Identify and Capitalize Words**:\n",
    "   - The method then iterates through the `arr` array to identify the start of each word.\n",
    "   - A word is defined as a sequence of characters separated by spaces.\n",
    "   - For each word, the method checks its length:\n",
    "     - If the word is longer than two characters, the first letter of the word (i.e., `arr[start]`) is capitalized using `Character.toUpperCase()`.\n",
    "   - The `start` index is updated to the beginning of the next word after each space.\n",
    "\n",
    "3. **Return the Result**:\n",
    "   - After processing all words in the title, the method returns the modified `char` array as a new string using `new String(arr)`."
   ]
  },
  {
   "cell_type": "code",
   "execution_count": null,
   "metadata": {},
   "outputs": [],
   "source": [
    "class Solution {\n",
    "    public String capitalizeTitle(String title) {\n",
    "        int n = title.length();\n",
    "        char[] arr = new char[n];\n",
    "\n",
    "        for (int i = 0; i < n; i++) {\n",
    "            arr[i] = Character.toLowerCase(title.charAt(i));\n",
    "        }\n",
    "\n",
    "        int start = 0;\n",
    "        for (int i = 0; i <= n; i++) {\n",
    "            if (i == n || arr[i] == ' ') {\n",
    "                if ((i - start) > 2) {\n",
    "                    arr[start] = Character.toUpperCase(arr[start]);\n",
    "                }\n",
    "                start = i + 1;\n",
    "            }\n",
    "        }\n",
    "\n",
    "        return new String(arr);\n",
    "    }\n",
    "}"
   ]
  },
  {
   "cell_type": "code",
   "execution_count": null,
   "metadata": {},
   "outputs": [],
   "source": [
    "Solution solution = new Solution();\n",
    "String title = \"ZW Cl pyR uoC\";\n",
    "String result = solution.capitalizeTitle(title);\n",
    "System.out.println(result);"
   ]
  },
  {
   "cell_type": "code",
   "execution_count": null,
   "metadata": {},
   "outputs": [],
   "source": []
  },
  {
   "cell_type": "code",
   "execution_count": null,
   "metadata": {},
   "outputs": [],
   "source": []
  }
 ],
 "metadata": {
  "kernelspec": {
   "display_name": "Java",
   "language": "java",
   "name": "java"
  },
  "language_info": {
   "codemirror_mode": "java",
   "file_extension": ".jshell",
   "mimetype": "text/x-java-source",
   "name": "Java",
   "pygments_lexer": "java",
   "version": "22.0.2+9-70"
  }
 },
 "nbformat": 4,
 "nbformat_minor": 4
}
