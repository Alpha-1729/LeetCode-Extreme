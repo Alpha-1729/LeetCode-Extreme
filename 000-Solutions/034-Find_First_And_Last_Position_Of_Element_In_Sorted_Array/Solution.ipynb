{
 "cells": [
  {
   "cell_type": "code",
   "execution_count": null,
   "metadata": {
    "vscode": {
     "languageId": "java"
    }
   },
   "outputs": [],
   "source": [
    "// Find First And Last Position Of Element In Sorted Array\n",
    "\n",
    "/*\n",
    ">>>>\n",
    ">>>>\n",
    ">>>>\n",
    ">>>>\n",
    "*/\n"
   ]
  },
  {
   "cell_type": "markdown",
   "metadata": {},
   "source": [
    "# Approach 1 (Best Solution).\n",
    "- Time Complexity - O(logn).\n",
    "- Space Complexity - O(1).\n",
    "\n",
    "1. **`firstPosition` Method**:\n",
    "   - **Purpose**: This method finds the first position in the sorted array `arr` where a number `x` could be placed.\n",
    "   - **Binary Search**: A binary search is used to narrow down the possible positions where `x` is located or could be inserted.\n",
    "   - **Adjusting `pos`**: If the current middle element `arr[mid]` is greater than or equal to `x`, it updates `pos` to `mid` and continues the search on the left half.\n",
    "   - **Return Value**: It returns `pos`, the first index where `x` or a larger element could be placed.\n",
    "\n",
    "2. **`searchRange` Method**:\n",
    "   - **Purpose**: This method finds the range of indices where the `target` element appears in the sorted array `nums`.\n",
    "   - **Finding First Occurrence**: It calls `firstPosition` to find the first occurrence of `target`.\n",
    "   - **Finding Last Occurrence**: It calls `firstPosition` again with `target + 1` to find the index just beyond the last occurrence of `target` and subtracts 1.\n",
    "   - **Return Range**: If the `first` index is less than or equal to `second`, it returns the range `[first, second]`. Otherwise, it returns `[-1, -1]` if `target` is not found.\n",
    "\n"
   ]
  },
  {
   "cell_type": "code",
   "execution_count": null,
   "metadata": {
    "vscode": {
     "languageId": "java"
    }
   },
   "outputs": [],
   "source": [
    "class Solution {\n",
    "\n",
    "    public int firstPosition(int[] arr, int x) {\n",
    "        int n = arr.length;\n",
    "        int pos = n;\n",
    "        int left = 0;\n",
    "        int right = n - 1;\n",
    "\n",
    "        while (left <= right) {\n",
    "            int mid = left + (right - left) / 2;\n",
    "            if (arr[mid] >= x) {\n",
    "                pos = mid;\n",
    "                right = mid - 1;\n",
    "            } else {\n",
    "                left = mid + 1;\n",
    "            }\n",
    "        }\n",
    "\n",
    "        return pos;\n",
    "    }\n",
    "\n",
    "    public int[] searchRange(int[] nums, int target) {\n",
    "        int first = firstPosition(nums, target);\n",
    "        int second = firstPosition(nums, target + 1) - 1;\n",
    "\n",
    "        if (first <= second) {\n",
    "            return new int[] { first, second };\n",
    "        }\n",
    "\n",
    "        return new int[] { -1, -1 };\n",
    "    }\n",
    "}\n"
   ]
  },
  {
   "cell_type": "code",
   "execution_count": null,
   "metadata": {
    "vscode": {
     "languageId": "java"
    }
   },
   "outputs": [],
   "source": [
    "Solution solution = new Solution();\n",
    "int[] nums = {5, 7, 7, 8, 8, 10};\n",
    "int target = 8;\n",
    "int[] result = solution.searchRange(nums, target);\n",
    "System.out.println(Arrays.toString(result));"
   ]
  },
  {
   "cell_type": "code",
   "execution_count": null,
   "metadata": {
    "vscode": {
     "languageId": "java"
    }
   },
   "outputs": [],
   "source": []
  },
  {
   "cell_type": "code",
   "execution_count": null,
   "metadata": {
    "vscode": {
     "languageId": "java"
    }
   },
   "outputs": [],
   "source": []
  }
 ],
 "metadata": {
  "kernelspec": {
   "display_name": "Java",
   "language": "java",
   "name": "java"
  },
  "language_info": {
   "codemirror_mode": "java",
   "file_extension": ".jshell",
   "mimetype": "text/x-java-source",
   "name": "Java",
   "pygments_lexer": "java",
   "version": "22.0.2+9-70"
  }
 },
 "nbformat": 4,
 "nbformat_minor": 2
}
