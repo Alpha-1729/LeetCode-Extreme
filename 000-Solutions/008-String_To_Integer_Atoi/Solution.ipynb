{
 "cells": [
  {
   "cell_type": "code",
   "execution_count": null,
   "metadata": {
    "vscode": {
     "languageId": "java"
    }
   },
   "outputs": [],
   "source": [
    "// String To Integer Atoi\n",
    "\n",
    "/*\n",
    ">>>>\n",
    ">>>>\n",
    ">>>>\n",
    ">>>>\n",
    "*/\n"
   ]
  },
  {
   "cell_type": "markdown",
   "metadata": {},
   "source": [
    "# Approach 1 (Best Solution).\n",
    "- Time Complexity - O(n).\n",
    "- Space Complexity - O(1).\n",
    "\n",
    "- **Initialization:** Variables `res`, `left`, `MAX`, and `isNeg` are initialized. `res` stores the final integer result, `left` is the index pointer, `MAX` is for overflow checking, and `isNeg` flags whether the number is negative.\n",
    "\n",
    "- **Leading White Spaces:** A loop skips any leading white spaces in the input string.\n",
    "\n",
    "- **Sign Handling:** The sign (`+` or `-`) is checked and the `isNeg` flag is set accordingly.\n",
    "\n",
    "- **Digit Processing:** The loop processes each digit in the string, updating `res` while checking for potential overflow.\n",
    "\n",
    "- **Overflow Check:** Before updating `res`, the code checks whether adding the next digit would cause an overflow.\n",
    "\n",
    "- **Final Result:** The result is returned, with the sign applied as needed.\n"
   ]
  },
  {
   "cell_type": "code",
   "execution_count": 109,
   "metadata": {
    "vscode": {
     "languageId": "java"
    }
   },
   "outputs": [],
   "source": [
    "class Solution {\n",
    "    public int myAtoi(String s) {\n",
    "        int res = 0;\n",
    "        int left = 0;\n",
    "        int MAX = Integer.MAX_VALUE;\n",
    "        boolean isNeg = false;\n",
    "\n",
    "\n",
    "        // Iterating over the leading white space.\n",
    "        while (left < s.length() && s.charAt(left) == ' ') {\n",
    "            left++;\n",
    "        }\n",
    "\n",
    "        if (left < s.length() && (s.charAt(left) == '-' || s.charAt(left) == '+')) {\n",
    "            isNeg = s.charAt(left) == '-' ? true : false;\n",
    "            left++;\n",
    "        }\n",
    "\n",
    "        while (left < s.length() && Character.isDigit(s.charAt(left))) {\n",
    "            int digit = s.charAt(left) - '0';\n",
    "            if (res != 0 && res > ((MAX - digit) / 10))\n",
    "            {\n",
    "                return isNeg ? Integer.MIN_VALUE : Integer.MAX_VALUE;\n",
    "            }\n",
    "\n",
    "            res = (res * 10) + digit;\n",
    "            left++;\n",
    "        }\n",
    "        return isNeg ? -res : res;\n",
    "    }\n",
    "}"
   ]
  },
  {
   "cell_type": "code",
   "execution_count": 110,
   "metadata": {
    "vscode": {
     "languageId": "java"
    }
   },
   "outputs": [
    {
     "name": "stdout",
     "output_type": "stream",
     "text": [
      "-2147483648\n"
     ]
    }
   ],
   "source": [
    "Solution solution = new Solution();\n",
    "String s = \"-91283472332\";\n",
    "int result = solution.myAtoi(s);\n",
    "System.out.println(result);"
   ]
  }
 ],
 "metadata": {
  "kernelspec": {
   "display_name": "Java",
   "language": "java",
   "name": "java"
  },
  "language_info": {
   "codemirror_mode": "java",
   "file_extension": ".jshell",
   "mimetype": "text/x-java-source",
   "name": "Java",
   "pygments_lexer": "java",
   "version": "22.0.2+9-70"
  }
 },
 "nbformat": 4,
 "nbformat_minor": 2
}
