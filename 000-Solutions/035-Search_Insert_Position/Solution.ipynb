{
 "cells": [
  {
   "cell_type": "code",
   "execution_count": null,
   "metadata": {
    "vscode": {
     "languageId": "java"
    }
   },
   "outputs": [],
   "source": [
    "// Search Insert Position\n",
    "\n",
    "/*\n",
    ">>>>\n",
    ">>>>\n",
    ">>>>\n",
    ">>>>\n",
    "*/\n"
   ]
  },
  {
   "cell_type": "markdown",
   "metadata": {},
   "source": [
    "# Approach 1 (Best Solution).\n",
    "- Time Complexity - O(log.n).\n",
    "- Space Complexity - O(1).\n",
    "\n",
    "- Implement solution using binary search.\n"
   ]
  },
  {
   "cell_type": "code",
   "execution_count": 1,
   "metadata": {
    "vscode": {
     "languageId": "java"
    }
   },
   "outputs": [],
   "source": [
    "class Solution {\n",
    "\n",
    "    public int searchInsert(int[] nums, int target) {\n",
    "        int start = 0, end = nums.length - 1, mid = 0;\n",
    "        if (target < nums[start])\n",
    "            return 0;\n",
    "        if (target > nums[end])\n",
    "            return end + 1;\n",
    "\n",
    "        while (start <= end) {\n",
    "            mid = (end + start) / 2;\n",
    "            if (nums[mid] == target) {\n",
    "                return mid;\n",
    "            } else if (nums[mid] < target) {\n",
    "                start = mid + 1;\n",
    "            } else {\n",
    "                end = mid - 1;\n",
    "            }\n",
    "        }\n",
    "        return start;\n",
    "    }\n",
    "}\n"
   ]
  },
  {
   "cell_type": "code",
   "execution_count": 2,
   "metadata": {
    "vscode": {
     "languageId": "java"
    }
   },
   "outputs": [
    {
     "name": "stdout",
     "output_type": "stream",
     "text": [
      "2\n"
     ]
    }
   ],
   "source": [
    "Solution solution = new Solution();\n",
    "int[] nums = {1, 3, 5, 6};\n",
    "int target = 5;\n",
    "int result = solution.searchInsert(nums, target);\n",
    "System.out.println(result);"
   ]
  },
  {
   "cell_type": "code",
   "execution_count": null,
   "metadata": {
    "vscode": {
     "languageId": "java"
    }
   },
   "outputs": [],
   "source": []
  }
 ],
 "metadata": {
  "kernelspec": {
   "display_name": "Java",
   "language": "java",
   "name": "java"
  },
  "language_info": {
   "codemirror_mode": "java",
   "file_extension": ".jshell",
   "mimetype": "text/x-java-source",
   "name": "Java",
   "pygments_lexer": "java",
   "version": "22.0.2+9-70"
  }
 },
 "nbformat": 4,
 "nbformat_minor": 2
}
