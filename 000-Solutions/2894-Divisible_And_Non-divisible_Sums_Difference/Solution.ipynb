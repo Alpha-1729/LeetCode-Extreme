{
 "cells": [
  {
   "cell_type": "code",
   "execution_count": null,
   "metadata": {},
   "outputs": [],
   "source": [
    "// Divisible And Non-divisible Sums Difference\n",
    "\n",
    "/*\n",
    ">>>>\n",
    ">>>>\n",
    ">>>>\n",
    ">>>>\n",
    "*/\n"
   ]
  },
  {
   "cell_type": "markdown",
   "metadata": {},
   "source": [
    "# Approach 1 (Best Solution).\n",
    "- Time Complexity - O(n).\n",
    "- Space Complexity - O(1).\n",
    "\n",
    "1. **Initial Sum Calculation**: \n",
    "   - The method starts by calculating the sum of the first `n` natural numbers using the formula `sum = (n * (n + 1)) / 2`.\n",
    "\n",
    "2. **Loop Through Numbers**:\n",
    "   - It then loops through all numbers from 1 to `n`.\n",
    "\n",
    "3. **Subtract Multiples of `m`**:\n",
    "   - If a number `i` is a multiple of `m` (i.e., `i % m == 0`), the method subtracts twice the value of `i` from the sum.\n",
    "\n",
    "4. **Return Final Sum**:\n",
    "   - Finally, the method returns the adjusted sum, which reflects the difference after removing the contribution of multiples of `m`.\n",
    "\n"
   ]
  },
  {
   "cell_type": "code",
   "execution_count": null,
   "metadata": {},
   "outputs": [],
   "source": [
    "class Solution {\n",
    "    public int differenceOfSums(int n, int m) {\n",
    "        int sum = (n * (n + 1)) / 2;\n",
    "        for (int i = 1; i <= n; i++) {\n",
    "            if (i % m == 0) {\n",
    "                sum -= (2 * i);\n",
    "            }\n",
    "        }\n",
    "        return sum;\n",
    "    }\n",
    "}"
   ]
  },
  {
   "cell_type": "code",
   "execution_count": null,
   "metadata": {},
   "outputs": [],
   "source": [
    "Solution solution = new Solution();\n",
    "int n = 10;\n",
    "int m = 3;\n",
    "int result = solution.differenceOfSums(n, m);\n",
    "System.out.println(result);"
   ]
  }
 ],
 "metadata": {
  "kernelspec": {
   "display_name": "Java",
   "language": "java",
   "name": "java"
  },
  "language_info": {
   "codemirror_mode": "java",
   "file_extension": ".jshell",
   "mimetype": "text/x-java-source",
   "name": "java",
   "pygments_lexer": "java",
   "version": "21.0.2+13-LTS-58"
  }
 },
 "nbformat": 4,
 "nbformat_minor": 2
}
