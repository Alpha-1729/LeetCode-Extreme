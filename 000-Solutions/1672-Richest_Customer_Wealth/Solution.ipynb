{
 "cells": [
  {
   "cell_type": "code",
   "execution_count": null,
   "metadata": {},
   "outputs": [],
   "source": [
    "// Richest Customer Wealth\n",
    "\n",
    "/*\n",
    ">>>>\n",
    ">>>>\n",
    ">>>>\n",
    ">>>>\n",
    "*/\n"
   ]
  },
  {
   "cell_type": "markdown",
   "metadata": {},
   "source": [
    "# Approach 1 (Best Solution).\n",
    "- Time Complexity - O(mxn).\n",
    "- Space Complexity - O(1).\n",
    "- Find the sum of all the values in each row and store it in variable currentCustomerWealth.\n",
    "- Compare it with the variable maxWealthSoFor.\n",
    "- Update the variable maxWealthSoFor, if required.\n",
    "- Return maxWealthSoFor."
   ]
  },
  {
   "cell_type": "code",
   "execution_count": null,
   "metadata": {},
   "outputs": [],
   "source": [
    "class Solution {\n",
    "\n",
    "  public int maximumWealth(int[][] accounts) {\n",
    "    int maxWealthSoFar = 0;\n",
    "\n",
    "    for (int i = 0; i < accounts.length; i++) {\n",
    "      int currentCustomerWealth = 0;\n",
    "\n",
    "      for (int j = 0; j < accounts[0].length; j++) {\n",
    "        currentCustomerWealth += accounts[i][j];\n",
    "      }\n",
    "      maxWealthSoFar = Math.max(maxWealthSoFar, currentCustomerWealth);\n",
    "    }\n",
    "    return maxWealthSoFar;\n",
    "  }\n",
    "}\n"
   ]
  },
  {
   "cell_type": "code",
   "execution_count": null,
   "metadata": {},
   "outputs": [],
   "source": [
    "Solution s = new Solution();\n",
    "\n",
    "int[][] accounts = {{1, 2, 3}, {3, 2, 1}};\n",
    "int result = s.maximumWealth(accounts);\n",
    "System.out.println(result);"
   ]
  }
 ],
 "metadata": {
  "kernelspec": {
   "display_name": "Java",
   "language": "java",
   "name": "java"
  },
  "language_info": {
   "codemirror_mode": "java",
   "file_extension": ".jshell",
   "mimetype": "text/x-java-source",
   "name": "java",
   "pygments_lexer": "java",
   "version": "21.0.2+13-LTS-58"
  }
 },
 "nbformat": 4,
 "nbformat_minor": 2
}
