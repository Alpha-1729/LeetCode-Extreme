{
 "cells": [
  {
   "cell_type": "code",
   "execution_count": null,
   "metadata": {
    "vscode": {
     "languageId": "java"
    }
   },
   "outputs": [],
   "source": [
    "// Find The Middle Index In Array\n",
    "\n",
    "/*\n",
    ">>>>\n",
    ">>>>\n",
    ">>>>\n",
    ">>>>\n",
    "*/\n"
   ]
  },
  {
   "cell_type": "markdown",
   "metadata": {},
   "source": [
    "# Approach 1 (Best Solution).\n",
    "\n",
    "- Time Complexity - O(n).\n",
    "- Space Complexity - O(1).\n",
    "\n",
    "- Calculate the sum of all elements in the array.\n",
    "- Set left sum as zero.\n",
    "- Loop through all elements in the array.\n",
    "- Calculate the left sum and right sum.\n",
    "- If left sum and right sum are equal, return the current index.\n"
   ]
  },
  {
   "cell_type": "code",
   "execution_count": 1,
   "metadata": {
    "vscode": {
     "languageId": "java"
    }
   },
   "outputs": [],
   "source": [
    "class Solution {\n",
    "\n",
    "  public int findMiddleIndex(int[] nums) {\n",
    "    int total = 0;\n",
    "    for (int i = 0; i < nums.length; i++) {\n",
    "      total += nums[i];\n",
    "    }\n",
    "\n",
    "    int i;\n",
    "    int lSum = 0;\n",
    "    int rSum = total;\n",
    "    for (i = 0; i < nums.length; i++) {\n",
    "      rSum -= nums[i];\n",
    "      if (lSum == rSum) {\n",
    "        return i;\n",
    "      }\n",
    "      lSum += nums[i];\n",
    "    }\n",
    "    return -1;\n",
    "  }\n",
    "}\n"
   ]
  },
  {
   "cell_type": "code",
   "execution_count": 2,
   "metadata": {
    "vscode": {
     "languageId": "java"
    }
   },
   "outputs": [
    {
     "name": "stdout",
     "output_type": "stream",
     "text": [
      "3\n"
     ]
    }
   ],
   "source": [
    "Solution solution = new Solution();\n",
    "int[] nums = {1, 7, 3, 6, 5, 6};\n",
    "int result = solution.findMiddleIndex(nums);\n",
    "System.out.println(result);"
   ]
  },
  {
   "cell_type": "code",
   "execution_count": null,
   "metadata": {
    "vscode": {
     "languageId": "java"
    }
   },
   "outputs": [],
   "source": []
  }
 ],
 "metadata": {
  "kernelspec": {
   "display_name": "Java",
   "language": "java",
   "name": "java"
  },
  "language_info": {
   "codemirror_mode": "java",
   "file_extension": ".jshell",
   "mimetype": "text/x-java-source",
   "name": "Java",
   "pygments_lexer": "java",
   "version": "22.0.1+8-16"
  }
 },
 "nbformat": 4,
 "nbformat_minor": 2
}
