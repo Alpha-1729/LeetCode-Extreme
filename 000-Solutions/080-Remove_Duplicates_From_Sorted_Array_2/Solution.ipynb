{
 "cells": [
  {
   "cell_type": "code",
   "execution_count": null,
   "metadata": {},
   "outputs": [],
   "source": [
    "// Remove Duplicates From Sorted Array 2\n",
    "\n",
    "/*\n",
    ">>>>\n",
    ">>>>\n",
    ">>>>\n",
    ">>>>\n",
    "*/\n"
   ]
  },
  {
   "cell_type": "markdown",
   "metadata": {},
   "source": [
    "# Approach 1 (Best Solution).\n",
    "\n",
    "- Time Complexity - O(n).\n",
    "- Space Complexity - O(1).\n",
    "\n",
    "- Loop through all the elements in the array.\n",
    "- If two same elements exists, keep the two elements.\n",
    "- Update the final array and return the count.\n"
   ]
  },
  {
   "cell_type": "code",
   "execution_count": null,
   "metadata": {},
   "outputs": [],
   "source": [
    "class Solution {\n",
    "\n",
    "  public int removeDuplicates(int[] nums) {\n",
    "    int left = 0;\n",
    "    int count = 1;\n",
    "    for (int i = 1; i < nums.length; i++) {\n",
    "      if (nums[i] != nums[left]) {\n",
    "        nums[++left] = nums[i];\n",
    "        count = 1;\n",
    "      } else if (nums[i] == nums[left] && count == 1) {\n",
    "        nums[++left] = nums[i];\n",
    "        count++;\n",
    "      }\n",
    "    }\n",
    "    return left + 1;\n",
    "  }\n",
    "}\n"
   ]
  },
  {
   "cell_type": "code",
   "execution_count": null,
   "metadata": {},
   "outputs": [],
   "source": [
    "Solution solution = new Solution();\n",
    "int[] nums = {1, 1, 1, 2, 2, 3};\n",
    "int result = solution.removeDuplicates(nums);\n",
    "System.out.println(result);\n",
    "System.out.println(Arrays.toString(nums))"
   ]
  },
  {
   "cell_type": "code",
   "execution_count": null,
   "metadata": {},
   "outputs": [],
   "source": []
  }
 ],
 "metadata": {
  "kernelspec": {
   "display_name": "Java",
   "language": "java",
   "name": "java"
  },
  "language_info": {
   "codemirror_mode": "java",
   "file_extension": ".jshell",
   "mimetype": "text/x-java-source",
   "name": "java",
   "pygments_lexer": "java",
   "version": "22.0.1+8-16"
  }
 },
 "nbformat": 4,
 "nbformat_minor": 2
}
