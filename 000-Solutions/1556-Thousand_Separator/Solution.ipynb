{
 "cells": [
  {
   "cell_type": "code",
   "execution_count": null,
   "metadata": {
    "vscode": {
     "languageId": "java"
    }
   },
   "outputs": [],
   "source": [
    "// Thousand Separator\n",
    "\n",
    "/*\n",
    ">>>>\n",
    ">>>>\n",
    ">>>>\n",
    ">>>>\n",
    "*/\n"
   ]
  },
  {
   "cell_type": "markdown",
   "metadata": {},
   "source": [
    "# Approach 1 (Best Solution).\n",
    "- Time Complexity - O(n).\n",
    "- Space Complexity - O(1).\n",
    "\n",
    "- Use a string builder.\n",
    "- Get the last character from the number and append into the start of the string builder.\n",
    "- Add \".\" at the start of the string builder at every third step.\n",
    "- Convert the string builder to string and return."
   ]
  },
  {
   "cell_type": "code",
   "execution_count": null,
   "metadata": {
    "vscode": {
     "languageId": "java"
    }
   },
   "outputs": [],
   "source": [
    "class Solution {\n",
    "\n",
    "    public String thousandSeparator(int n) {\n",
    "      if (n == 0) {\n",
    "        return \"0\";\n",
    "      }\n",
    "      int i = 1;\n",
    "      StringBuilder sb = new StringBuilder();\n",
    "      while (n > 0) {\n",
    "        sb.insert(0, n % 10);\n",
    "        n /= 10;\n",
    "        if ((i % 3 == 0) && n > 0) {\n",
    "          sb.insert(0, \".\");\n",
    "        }\n",
    "        i++;\n",
    "      }\n",
    "      return sb.toString();\n",
    "    }\n",
    "  }\n",
    "  "
   ]
  },
  {
   "cell_type": "code",
   "execution_count": null,
   "metadata": {
    "vscode": {
     "languageId": "java"
    }
   },
   "outputs": [],
   "source": [
    "Solution solution = new Solution();\n",
    "int n = 98754444;\n",
    "String result = solution.thousandSeparator(n);\n",
    "System.out.println(result);"
   ]
  },
  {
   "cell_type": "code",
   "execution_count": null,
   "metadata": {
    "vscode": {
     "languageId": "java"
    }
   },
   "outputs": [],
   "source": []
  }
 ],
 "metadata": {
  "kernelspec": {
   "display_name": "Java",
   "language": "java",
   "name": "java"
  },
  "language_info": {
   "codemirror_mode": "java",
   "file_extension": ".jshell",
   "mimetype": "text/x-java-source",
   "name": "Java",
   "pygments_lexer": "java",
   "version": "22.0.1+8-16"
  }
 },
 "nbformat": 4,
 "nbformat_minor": 2
}
