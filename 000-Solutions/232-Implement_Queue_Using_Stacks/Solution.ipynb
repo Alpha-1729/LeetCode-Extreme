{
 "cells": [
  {
   "cell_type": "code",
   "execution_count": null,
   "metadata": {
    "vscode": {
     "languageId": "java"
    }
   },
   "outputs": [],
   "source": [
    "// Implement Queue Using Stacks\n",
    "\n",
    "/*\n",
    ">>>>\n",
    ">>>>\n",
    ">>>>\n",
    ">>>>\n",
    "*/\n"
   ]
  },
  {
   "cell_type": "markdown",
   "metadata": {},
   "source": [
    "# Approach 1 (Best Solution).\n",
    "- Time Complexity - O(1).\n",
    "- Space Complexity - O(n).\n",
    "\n",
    "1. **Stack Class**:\n",
    "   - Implements a basic stack using a singly linked list, with the following methods:\n",
    "     - `push(int val)`: Pushes a value onto the stack.\n",
    "     - `pop()`: Removes and returns the top value of the stack.\n",
    "     - `peek()`: Returns the top value without removing it.\n",
    "     - `isEmpty()`: Checks if the stack is empty.\n",
    "\n",
    "2. **MyQueue Class**:\n",
    "   - Uses two stacks, `s1` and `s2`, to simulate a queue's behavior (FIFO).\n",
    "   \n",
    "3. **Methods**:\n",
    "   - **push(int x)**:\n",
    "     - Pushes an element onto the `s1` stack, representing adding to the queue.\n",
    "\n",
    "   - **pop()**:\n",
    "     - Removes and returns the front element of the queue.\n",
    "     - If `s2` is empty, it moves all elements from `s1` to `s2` before performing the `pop()` on `s2`.\n",
    "\n",
    "   - **peek()**:\n",
    "     - Returns the front element of the queue without removing it.\n",
    "     - Similar to `pop()`, it moves elements from `s1` to `s2` if `s2` is empty and then performs `peek()` on `s2`.\n",
    "\n",
    "   - **empty()**:\n",
    "     - Returns `true` if both stacks are empty, indicating the queue is empty.\n",
    "\n"
   ]
  },
  {
   "cell_type": "code",
   "execution_count": 5,
   "metadata": {
    "vscode": {
     "languageId": "java"
    }
   },
   "outputs": [],
   "source": [
    "class MyQueue {\n",
    "    class Stack {\n",
    "        private Node head;\n",
    "\n",
    "        private class Node {\n",
    "            int val;\n",
    "            Node next;\n",
    "\n",
    "            private Node(int val, Node next) {\n",
    "                this.val = val;\n",
    "                this.next = next;\n",
    "            }\n",
    "        }\n",
    "\n",
    "        public void push(int val) {\n",
    "            head = new Node(val, head);\n",
    "        }\n",
    "\n",
    "        public int pop() {\n",
    "            int val = head.val;\n",
    "            head = head.next;\n",
    "            return val;\n",
    "        }\n",
    "\n",
    "        public int peek() {\n",
    "            return head.val;\n",
    "        }\n",
    "\n",
    "        public boolean isEmpty() {\n",
    "            return head == null;\n",
    "        }\n",
    "    }\n",
    "\n",
    "    Stack s1;\n",
    "    Stack s2;\n",
    "\n",
    "    public MyQueue() {\n",
    "        s1 = new Stack();\n",
    "        s2 = new Stack();\n",
    "    }\n",
    "\n",
    "    public void push(int x) {\n",
    "        s1.push(x);\n",
    "    }\n",
    "\n",
    "    public int pop() {\n",
    "        if (s2.isEmpty()) {\n",
    "            while (!s1.isEmpty()) {\n",
    "                s2.push(s1.pop());\n",
    "            }\n",
    "        }\n",
    "\n",
    "        return s2.pop();\n",
    "    }\n",
    "\n",
    "    public int peek() {\n",
    "        if (s2.isEmpty()) {\n",
    "            while (!s1.isEmpty()) {\n",
    "                s2.push(s1.pop());\n",
    "            }\n",
    "        }\n",
    "        return s2.peek();\n",
    "    }\n",
    "\n",
    "    public boolean empty() {\n",
    "        return s1.isEmpty() && s2.isEmpty();\n",
    "    }\n",
    "}"
   ]
  },
  {
   "cell_type": "code",
   "execution_count": 9,
   "metadata": {
    "vscode": {
     "languageId": "java"
    }
   },
   "outputs": [
    {
     "data": {
      "text/plain": [
       "true"
      ]
     },
     "execution_count": 9,
     "metadata": {},
     "output_type": "execute_result"
    }
   ],
   "source": [
    "MyQueue obj = new MyQueue();\n",
    "obj.push(100);\n",
    "obj.pop();\n",
    "obj.empty();"
   ]
  },
  {
   "cell_type": "code",
   "execution_count": null,
   "metadata": {
    "vscode": {
     "languageId": "java"
    }
   },
   "outputs": [],
   "source": []
  }
 ],
 "metadata": {
  "kernelspec": {
   "display_name": "Java",
   "language": "java",
   "name": "java"
  },
  "language_info": {
   "codemirror_mode": "java",
   "file_extension": ".jshell",
   "mimetype": "text/x-java-source",
   "name": "Java",
   "pygments_lexer": "java",
   "version": "22.0.2+9-70"
  }
 },
 "nbformat": 4,
 "nbformat_minor": 2
}
