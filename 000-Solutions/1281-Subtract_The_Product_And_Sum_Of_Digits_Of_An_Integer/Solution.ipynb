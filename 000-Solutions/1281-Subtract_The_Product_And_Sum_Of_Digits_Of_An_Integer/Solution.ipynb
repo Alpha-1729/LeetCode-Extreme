{
 "cells": [
  {
   "cell_type": "code",
   "execution_count": null,
   "metadata": {
    "vscode": {
     "languageId": "java"
    }
   },
   "outputs": [],
   "source": [
    "// Subtract The Product And Sum Of Digits Of An Integer\n",
    "\n",
    "/*\n",
    ">>>>\n",
    ">>>>\n",
    ">>>>\n",
    ">>>>\n",
    "*/\n"
   ]
  },
  {
   "cell_type": "markdown",
   "metadata": {},
   "source": [
    "# Approach 1 (Best Solution).\n",
    "- Time Complexity - O(n).\n",
    "- Space Complexity - O(1).\n",
    "\n",
    "1. **Initialization**:\n",
    "   - `product` is initialized to 1. This variable will store the product of the digits.\n",
    "   - `sum` is initialized to 0. This variable will store the sum of the digits.\n",
    "\n",
    "2. **Processing Digits**:\n",
    "   - The method uses a `while` loop to process each digit of the integer `n` until `n` becomes 0.\n",
    "   - Inside the loop:\n",
    "     - The last digit of `n` is obtained using `n % 10`.\n",
    "     - This digit is then multiplied with `product` and added to `sum`.\n",
    "     - The integer `n` is updated by removing the last digit using integer division (`n /= 10`).\n",
    "\n",
    "3. **Calculate the Difference**:\n",
    "   - After processing all the digits, the method calculates the difference between `product` and `sum`.\n",
    "\n",
    "4. **Return Value**:\n",
    "   - The method returns the result of `product - sum`.\n"
   ]
  },
  {
   "cell_type": "code",
   "execution_count": null,
   "metadata": {
    "vscode": {
     "languageId": "java"
    }
   },
   "outputs": [],
   "source": [
    "class Solution {\n",
    "    public int subtractProductAndSum(int n) {\n",
    "        int product = 1;\n",
    "        int sum = 0;\n",
    "        while (n > 0) {\n",
    "            int digit = n % 10;\n",
    "            product *= digit;\n",
    "            sum += digit;\n",
    "            n /= 10;\n",
    "        }\n",
    "\n",
    "        return product - sum;\n",
    "        \n",
    "    }\n",
    "}"
   ]
  },
  {
   "cell_type": "code",
   "execution_count": null,
   "metadata": {
    "vscode": {
     "languageId": "java"
    }
   },
   "outputs": [],
   "source": [
    "Solution solution = new Solution();\n",
    "int n = 234;\n",
    "int result = solution.subtractProductAndSum(n);\n",
    "System.out.println(result);"
   ]
  },
  {
   "cell_type": "code",
   "execution_count": null,
   "metadata": {
    "vscode": {
     "languageId": "java"
    }
   },
   "outputs": [],
   "source": []
  }
 ],
 "metadata": {
  "kernelspec": {
   "display_name": "Java",
   "language": "java",
   "name": "java"
  },
  "language_info": {
   "codemirror_mode": "java",
   "file_extension": ".jshell",
   "mimetype": "text/x-java-source",
   "name": "Java",
   "pygments_lexer": "java",
   "version": "22.0.2+9-70"
  }
 },
 "nbformat": 4,
 "nbformat_minor": 2
}
