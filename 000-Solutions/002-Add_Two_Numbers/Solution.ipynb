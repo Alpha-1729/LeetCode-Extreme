{
 "cells": [
  {
   "cell_type": "code",
   "execution_count": null,
   "metadata": {},
   "outputs": [],
   "source": [
    "// Add Two Numbers\n",
    "\n",
    "/*\n",
    ">>>>\n",
    ">>>>\n",
    ">>>>\n",
    ">>>>\n",
    "*/\n"
   ]
  },
  {
   "cell_type": "markdown",
   "metadata": {},
   "source": [
    "# Approach 1 (Best Solution).\n",
    "- Time Complexity - O(n).\n",
    "- Space Complexity - O(1).\n",
    "\n",
    "- We create a dummy ListNode.\n",
    "- We append the sum of the value in both linked list to this node."
   ]
  },
  {
   "cell_type": "code",
   "execution_count": null,
   "metadata": {},
   "outputs": [],
   "source": [
    "class Solution {\n",
    "\n",
    "  public ListNode addTwoNumbers(ListNode l1, ListNode l2) {\n",
    "    ListNode dummy = new ListNode();\n",
    "    ListNode tail = dummy;\n",
    "    int carry = 0;\n",
    "    while (l1 != null || l2 != null) {\n",
    "      int x = l1 != null ? l1.val : 0;\n",
    "      int y = l2 != null ? l2.val : 0;\n",
    "      int sum = x + y + carry;\n",
    "      carry = sum / 10;\n",
    "\n",
    "      tail.next = new ListNode(sum % 10);\n",
    "      tail = tail.next;\n",
    "\n",
    "      if (l1 != null) {\n",
    "        l1 = l1.next;\n",
    "      }\n",
    "      if (l2 != null) {\n",
    "        l2 = l2.next;\n",
    "      }\n",
    "    }\n",
    "    if (carry > 0) {\n",
    "      tail.next = new ListNode(carry);\n",
    "    }\n",
    "\n",
    "    return dummy.next;\n",
    "  }\n",
    "}\n"
   ]
  },
  {
   "cell_type": "code",
   "execution_count": null,
   "metadata": {},
   "outputs": [],
   "source": [
    "Solution s = new Solution();"
   ]
  }
 ],
 "metadata": {
  "kernelspec": {
   "display_name": "Java",
   "language": "java",
   "name": "java"
  },
  "language_info": {
   "codemirror_mode": "java",
   "file_extension": ".jshell",
   "mimetype": "text/x-java-source",
   "name": "java",
   "pygments_lexer": "java",
   "version": "21.0.2+13-LTS-58"
  }
 },
 "nbformat": 4,
 "nbformat_minor": 2
}
