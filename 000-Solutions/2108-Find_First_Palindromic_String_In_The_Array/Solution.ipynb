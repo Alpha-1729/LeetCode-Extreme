{
 "cells": [
  {
   "cell_type": "code",
   "execution_count": null,
   "metadata": {},
   "outputs": [],
   "source": [
    "// Find First Palindromic String In The Array\n",
    "\n",
    "/*\n",
    ">>>>\n",
    ">>>>\n",
    ">>>>\n",
    ">>>>\n",
    "*/\n"
   ]
  },
  {
   "cell_type": "markdown",
   "metadata": {},
   "source": [
    "# Approach 1 (Best Solution).\n",
    "- Time Complexity - O(n.m).\n",
    "- Space Complexity - O(1).\n",
    "\n",
    "- Added one function to check whether the string is a palindrome or not."
   ]
  },
  {
   "cell_type": "code",
   "execution_count": 3,
   "metadata": {},
   "outputs": [],
   "source": [
    "class Solution {\n",
    "    public String firstPalindrome(String[] words) {\n",
    "        for (int i = 0; i < words.length; i++) {\n",
    "            if (isPalindrome(words[i])) {\n",
    "                return words[i];\n",
    "            }\n",
    "        }\n",
    "\n",
    "        return \"\";\n",
    "    }\n",
    "\n",
    "    public boolean isPalindrome(String word) {\n",
    "        int left = 0;\n",
    "        int right = word.length() - 1;\n",
    "\n",
    "        while (left < right) {\n",
    "            if (word.charAt(left) != word.charAt(right)) {\n",
    "                return false;\n",
    "            }\n",
    "            left++;\n",
    "            right--;\n",
    "        }\n",
    "        return true;\n",
    "    }\n",
    "}"
   ]
  },
  {
   "cell_type": "code",
   "execution_count": 4,
   "metadata": {},
   "outputs": [
    {
     "name": "stdout",
     "output_type": "stream",
     "text": [
      "a\n"
     ]
    }
   ],
   "source": [
    "Solution solution = new Solution();\n",
    "String[] words = {\"abc\", \"car\", \"ada\", \"racecar\", \"cool\"};\n",
    "String result = solution.firstPalindrome(words);\n",
    "System.out.println(result);"
   ]
  },
  {
   "cell_type": "code",
   "execution_count": null,
   "metadata": {},
   "outputs": [],
   "source": []
  }
 ],
 "metadata": {
  "kernelspec": {
   "display_name": "Java",
   "language": "java",
   "name": "java"
  },
  "language_info": {
   "codemirror_mode": "java",
   "file_extension": ".jshell",
   "mimetype": "text/x-java-source",
   "name": "Java",
   "pygments_lexer": "java",
   "version": "22.0.2+9-70"
  }
 },
 "nbformat": 4,
 "nbformat_minor": 4
}
