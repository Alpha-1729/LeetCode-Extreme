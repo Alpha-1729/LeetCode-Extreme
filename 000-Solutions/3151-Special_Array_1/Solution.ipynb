{
 "cells": [
  {
   "cell_type": "code",
   "execution_count": null,
   "metadata": {
    "vscode": {
     "languageId": "java"
    }
   },
   "outputs": [],
   "source": [
    "// Special Array 1\n",
    "\n",
    "/*\n",
    ">>>>\n",
    ">>>>\n",
    ">>>>\n",
    ">>>>\n",
    "*/\n"
   ]
  },
  {
   "cell_type": "markdown",
   "metadata": {},
   "source": [
    "# Approach 1 (Best Solution).\n",
    "- Time Complexity - O(n).\n",
    "- Space Complexity - O(1).\n",
    "\n",
    "- Calculate the remainder of the first number.\n",
    "- Loop from second element till the end of array.\n",
    "- If the current remainder is equal to the previous remainder, return false.\n",
    "- Else Set the previousRemainder to currentRemainder."
   ]
  },
  {
   "cell_type": "code",
   "execution_count": null,
   "metadata": {
    "vscode": {
     "languageId": "java"
    }
   },
   "outputs": [],
   "source": [
    "class Solution {\n",
    "\n",
    "  public boolean isArraySpecial(int[] nums) {\n",
    "    if (nums.length == 1) {\n",
    "      return true;\n",
    "    }\n",
    "\n",
    "    int prevRemainder = nums[0] % 2;\n",
    "\n",
    "    for (int i = 1; i < nums.length; i++) {\n",
    "      int currentRemainder = nums[i] % 2;\n",
    "      if (currentRemainder == prevRemainder) {\n",
    "        return false;\n",
    "      } else {\n",
    "        prevRemainder = currentRemainder;\n",
    "      }\n",
    "    }\n",
    "    return true;\n",
    "  }\n",
    "}\n"
   ]
  },
  {
   "cell_type": "code",
   "execution_count": null,
   "metadata": {
    "vscode": {
     "languageId": "java"
    }
   },
   "outputs": [],
   "source": [
    "Solution s = new Solution();\n",
    "int[] nums = {2, 1, 4};\n",
    "boolean result = s.isArraySpecial(nums);\n",
    "System.out.println(result);"
   ]
  },
  {
   "cell_type": "code",
   "execution_count": null,
   "metadata": {
    "vscode": {
     "languageId": "java"
    }
   },
   "outputs": [],
   "source": []
  }
 ],
 "metadata": {
  "kernelspec": {
   "display_name": "Java",
   "language": "java",
   "name": "java"
  },
  "language_info": {
   "codemirror_mode": "java",
   "file_extension": ".jshell",
   "mimetype": "text/x-java-source",
   "name": "Java",
   "pygments_lexer": "java",
   "version": "22.0.1+8-16"
  }
 },
 "nbformat": 4,
 "nbformat_minor": 2
}
