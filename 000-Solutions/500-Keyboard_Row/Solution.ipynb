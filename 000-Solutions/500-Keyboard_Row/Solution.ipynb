{
 "cells": [
  {
   "cell_type": "code",
   "execution_count": null,
   "metadata": {
    "vscode": {
     "languageId": "java"
    }
   },
   "outputs": [],
   "source": [
    "// Keyboard Row\n",
    "\n",
    "/*\n",
    ">>>>\n",
    ">>>>\n",
    ">>>>\n",
    ">>>>\n",
    "*/\n"
   ]
  },
  {
   "cell_type": "markdown",
   "metadata": {},
   "source": [
    "# Approach 1 (Best Solution).\n",
    "\n",
    "- Time Complexity - O(n+m).\n",
    "- Space Complexity - O(1).\n",
    "\n",
    "- For each word, find the rowNum of the first character in the word.\n",
    "  - If the rowNum is same for other characters, Add this word to the start of the array.\n",
    "  - Keep a track of count of the words added to the start of the array.\n",
    "- Return the sub list of the actual array.\n"
   ]
  },
  {
   "cell_type": "code",
   "execution_count": 1,
   "metadata": {
    "vscode": {
     "languageId": "java"
    }
   },
   "outputs": [],
   "source": [
    "class Solution {\n",
    "\n",
    "  public String[] findWords(String[] words) {\n",
    "    int[] set = new int[128];\n",
    "    updateRowNum(set, \"qwertyuiop\", 1);\n",
    "    updateRowNum(set, \"asdfghjkl\", 2);\n",
    "    updateRowNum(set, \"zxcvbnm\", 3);\n",
    "\n",
    "    int start = 0;\n",
    "    for (int i = 0; i < words.length; i++) {\n",
    "      if (isSameRow(set, words[i])) {\n",
    "        words[start++] = words[i];\n",
    "      }\n",
    "    }\n",
    "    return Arrays.copyOfRange(words, 0, start);\n",
    "  }\n",
    "\n",
    "  public boolean isSameRow(int[] set, String word) {\n",
    "    int rowNum = set[word.charAt(0)];\n",
    "    for (int i = 1; i < word.length(); i++) {\n",
    "      if (rowNum != set[word.charAt(i)]) {\n",
    "        return false;\n",
    "      }\n",
    "    }\n",
    "\n",
    "    return true;\n",
    "  }\n",
    "\n",
    "  public void updateRowNum(int[] set, String s, int row) {\n",
    "    for (int i = 0; i < s.length(); i++) {\n",
    "      char ch = s.charAt(i);\n",
    "      set[ch] = row;\n",
    "      set[65 + ch - 'a'] = row;\n",
    "    }\n",
    "  }\n",
    "}\n"
   ]
  },
  {
   "cell_type": "code",
   "execution_count": 2,
   "metadata": {
    "vscode": {
     "languageId": "java"
    }
   },
   "outputs": [
    {
     "name": "stdout",
     "output_type": "stream",
     "text": [
      "[Alaska, Dad]\n"
     ]
    }
   ],
   "source": [
    "Solution solution = new Solution();\n",
    "String[] words = new String[]{\"Hello\", \"Alaska\", \"Dad\", \"Peace\"};\n",
    "String[] result = solution.findWords(words);\n",
    "System.out.println(Arrays.toString(result));"
   ]
  },
  {
   "cell_type": "code",
   "execution_count": null,
   "metadata": {
    "vscode": {
     "languageId": "java"
    }
   },
   "outputs": [],
   "source": []
  }
 ],
 "metadata": {
  "kernelspec": {
   "display_name": "Java",
   "language": "java",
   "name": "java"
  },
  "language_info": {
   "codemirror_mode": "java",
   "file_extension": ".jshell",
   "mimetype": "text/x-java-source",
   "name": "Java",
   "pygments_lexer": "java",
   "version": "22.0.1+8-16"
  }
 },
 "nbformat": 4,
 "nbformat_minor": 2
}
