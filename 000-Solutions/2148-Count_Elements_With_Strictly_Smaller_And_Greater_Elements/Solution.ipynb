{
 "cells": [
  {
   "cell_type": "code",
   "execution_count": null,
   "metadata": {
    "vscode": {
     "languageId": "java"
    }
   },
   "outputs": [],
   "source": [
    "// Count Elements With Strictly Smaller And Greater Elements\n",
    "\n",
    "/*\n",
    ">>>>\n",
    ">>>>\n",
    ">>>>\n",
    ">>>>\n",
    "*/\n"
   ]
  },
  {
   "cell_type": "markdown",
   "metadata": {},
   "source": [
    "# Approach 1 (Best Solution).\n",
    "- Time Complexity - O(n).\n",
    "- Space Complexity - O(1).\n",
    "\n",
    "1. **Handle Small Arrays**:\n",
    "   - If the length of the array `nums` is `2` or less, return `0` immediately because there can't be any elements strictly between the minimum and maximum.\n",
    "\n",
    "2. **Find the Minimum and Maximum Values**:\n",
    "   - Initialize two variables `min` and `max` to the first element of the array (`nums[0]`).\n",
    "   - Use a `for-each` loop to iterate over all elements in `nums`. During each iteration:\n",
    "     - If the current element `num` is greater than `max`, update `max`.\n",
    "     - If the current element `num` is less than `min`, update `min`.\n",
    "\n",
    "3. **Handle the Case Where All Elements are the Same**:\n",
    "   - If `min` is equal to `max`, return `0`, since all elements are the same, and there can be no elements strictly between the minimum and maximum.\n",
    "\n",
    "4. **Count the Elements Between min and max**:\n",
    "   - Initialize a `count` variable to `0`.\n",
    "   - Iterate over the array again. For each element `num`:\n",
    "     - If `num` is greater than `min` and less than `max`, increment `count`.\n",
    "\n",
    "5. **Return**:\n",
    "   - The method returns the `count` of elements that are strictly between the minimum and maximum values."
   ]
  },
  {
   "cell_type": "code",
   "execution_count": null,
   "metadata": {
    "vscode": {
     "languageId": "java"
    }
   },
   "outputs": [],
   "source": [
    "class Solution {\n",
    "    public int countElements(int[] nums) {\n",
    "        if (nums.length <= 2) {\n",
    "            return 0;\n",
    "        }\n",
    "\n",
    "        int min = nums[0];\n",
    "        int max = nums[0];\n",
    "\n",
    "        for (int num : nums) {\n",
    "            if (num > max) {\n",
    "                max = num;\n",
    "            }\n",
    "            if (num < min) {\n",
    "                min = num;\n",
    "            }\n",
    "        }\n",
    "\n",
    "        if (min == max) {\n",
    "            return 0;\n",
    "        }\n",
    "\n",
    "        int count = 0;\n",
    "        for (int num : nums) {\n",
    "            if (num > min && num < max) {\n",
    "                count++;\n",
    "            }\n",
    "        }\n",
    "\n",
    "        return count;\n",
    "    }\n",
    "}"
   ]
  },
  {
   "cell_type": "markdown",
   "metadata": {},
   "source": [
    "# Approach 2 (Best Solution).\n",
    "- Time Complexity - O(n).\n",
    "- Space Complexity - O(1).\n",
    "\n",
    "1. **Handle Small Arrays**:\n",
    "   - If the array `nums` has `2` or fewer elements, return `0`, since there can't be any elements strictly between the minimum and maximum.\n",
    "\n",
    "2. **Find Minimum and Maximum Values and Their Counts**:\n",
    "   - Initialize variables `min` and `max` to the first element of `nums`.\n",
    "   - Initialize `minCount` and `maxCount` to track the number of times the minimum and maximum values appear in the array.\n",
    "   - Iterate over each element in `nums`:\n",
    "     - If the current element `num` is greater than `max`, update `max` and reset `maxCount` to `1`.\n",
    "     - If `num` equals `max`, increment `maxCount`.\n",
    "     - Similarly, if `num` is less than `min`, update `min` and reset `minCount` to `1`.\n",
    "     - If `num` equals `min`, increment `minCount`.\n",
    "\n",
    "3. **Calculate Result**:\n",
    "   - The result is calculated as `nums.length - (maxCount + minCount)`. This subtracts the number of elements equal to the minimum or maximum from the total number of elements.\n",
    "   - If the result is negative (meaning all elements are the same), return `0`.\n",
    "\n",
    "4. **Return**:\n",
    "   - The method returns the result, which is the number of elements strictly between the minimum and maximum values in the array."
   ]
  },
  {
   "cell_type": "code",
   "execution_count": null,
   "metadata": {
    "vscode": {
     "languageId": "java"
    }
   },
   "outputs": [],
   "source": [
    "class Solution {\n",
    "    public int countElements(int[] nums) {\n",
    "        if (nums.length <= 2) {\n",
    "            return 0;\n",
    "        }\n",
    "\n",
    "        int min = nums[0];\n",
    "        int max = nums[0];\n",
    "        int maxCount = 0;\n",
    "        int minCount = 0;\n",
    "\n",
    "        for (int num : nums) {\n",
    "            if (num > max) {\n",
    "                maxCount = 1;\n",
    "                max = num;\n",
    "            } else if (num == max) {\n",
    "                maxCount++;\n",
    "            }\n",
    "\n",
    "            if (num < min) {\n",
    "                minCount = 1;\n",
    "                min = num;\n",
    "            } else if (num == min) {\n",
    "                minCount++;\n",
    "            }\n",
    "        }\n",
    "\n",
    "        int result = nums.length - (maxCount + minCount);\n",
    "        return result < 0 ? 0 : result;\n",
    "    }\n",
    "}"
   ]
  },
  {
   "cell_type": "code",
   "execution_count": null,
   "metadata": {
    "vscode": {
     "languageId": "java"
    }
   },
   "outputs": [],
   "source": [
    "Solution solution = new Solution();\n",
    "int[] nums = {11, 7, 2, 15};\n",
    "int result = solution.countElements(nums);\n",
    "System.out.println(result);"
   ]
  },
  {
   "cell_type": "code",
   "execution_count": null,
   "metadata": {
    "vscode": {
     "languageId": "java"
    }
   },
   "outputs": [],
   "source": []
  }
 ],
 "metadata": {
  "kernelspec": {
   "display_name": "Java",
   "language": "java",
   "name": "java"
  },
  "language_info": {
   "codemirror_mode": "java",
   "file_extension": ".jshell",
   "mimetype": "text/x-java-source",
   "name": "Java",
   "pygments_lexer": "java",
   "version": "22.0.2+9-70"
  }
 },
 "nbformat": 4,
 "nbformat_minor": 2
}
