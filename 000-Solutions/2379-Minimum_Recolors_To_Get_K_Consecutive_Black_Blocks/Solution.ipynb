{
 "cells": [
  {
   "cell_type": "code",
   "execution_count": null,
   "metadata": {},
   "outputs": [],
   "source": [
    "// Minimum Recolors To Get K Consecutive Black Blocks\n",
    "\n",
    "/*\n",
    ">>>>\n",
    ">>>>\n",
    ">>>>\n",
    ">>>>\n",
    "*/\n"
   ]
  },
  {
   "cell_type": "markdown",
   "metadata": {},
   "source": [
    "# Approach 1 (Best Solution).\n",
    "- Time Complexity - O(n).\n",
    "- Space Complexity - O(1).\n",
    "\n",
    "1. **Initialize Variables**:\n",
    "   - `start`: Points to the start of the sliding window.\n",
    "   - `right`: Points to the right end of the sliding window, starting at `k`.\n",
    "   - `maxCount`: Stores the maximum number of black blocks (`'B'`) found in any window of length `k`.\n",
    "   - `currentCount`: Stores the number of black blocks in the current window.\n",
    "\n",
    "2. **Initial Window**:\n",
    "   - The first `for` loop calculates the number of black blocks (`'B'`) in the first window of size `k`. For each black block found, `currentCount` is incremented.\n",
    "   - After the loop finishes, `maxCount` is set to `currentCount`.\n",
    "\n",
    "3. **Sliding Window**:\n",
    "   - The `while` loop slides the window one position at a time until `right` reaches the end of the `blocks` string.\n",
    "   \n",
    "   - **Right Side Check**:\n",
    "     - If the character at the `right` index is a black block (`'B'`), `currentCount` is incremented to account for the new black block entering the window.\n",
    "   \n",
    "   - **Left Side Check**:\n",
    "     - If the character at the `start` index is a black block (`'B'`), `currentCount` is decremented to account for the black block leaving the window.\n",
    "   \n",
    "   - **Update Maximum**:\n",
    "     - If the `currentCount` in the current window is greater than `maxCount`, update `maxCount` with the new value of `currentCount`.\n",
    "\n",
    "   - Increment both `right` and `start` to slide the window.\n",
    "\n",
    "4. **Return**:\n",
    "   - After the loop, the method returns `k - maxCount`, which represents the minimum number of recolors needed. This is the number of non-black blocks (`'W'`) that need to be changed to black blocks (`'B'`) in the best window found.\n"
   ]
  },
  {
   "cell_type": "code",
   "execution_count": null,
   "metadata": {},
   "outputs": [],
   "source": [
    "class Solution {\n",
    "    public int minimumRecolors(String blocks, int k) {\n",
    "        int start = 0;\n",
    "        int right = k;\n",
    "        int maxCount = 0;\n",
    "        int currentCount = 0;\n",
    "\n",
    "        for (int i = 0; i < k; i++) {\n",
    "            if (blocks.charAt(i) == 'B') {\n",
    "                currentCount++;\n",
    "            }\n",
    "        }\n",
    "        maxCount = currentCount;\n",
    "\n",
    "        while (right < blocks.length()) {\n",
    "            if (blocks.charAt(right) == 'B') {\n",
    "                currentCount++;\n",
    "            }\n",
    "\n",
    "            if (blocks.charAt(start) == 'B') {\n",
    "                currentCount--;\n",
    "            }\n",
    "\n",
    "            if (currentCount > maxCount) {\n",
    "                maxCount = currentCount;\n",
    "            }\n",
    "            right++;\n",
    "            start++;\n",
    "        }\n",
    "        return k - maxCount;\n",
    "    }\n",
    "}"
   ]
  },
  {
   "cell_type": "code",
   "execution_count": null,
   "metadata": {},
   "outputs": [],
   "source": [
    "Solution solution = new Solution();\n",
    "String blocks = \"WBBWWBBWBW\";\n",
    "int k = 7;\n",
    "int result = solution.minimumRecolors(blocks, k);\n",
    "System.out.println(result);"
   ]
  }
 ],
 "metadata": {
  "kernelspec": {
   "display_name": "Java",
   "language": "java",
   "name": "java"
  },
  "language_info": {
   "codemirror_mode": "java",
   "file_extension": ".jshell",
   "mimetype": "text/x-java-source",
   "name": "java",
   "pygments_lexer": "java",
   "version": "21.0.2+13-LTS-58"
  }
 },
 "nbformat": 4,
 "nbformat_minor": 2
}
