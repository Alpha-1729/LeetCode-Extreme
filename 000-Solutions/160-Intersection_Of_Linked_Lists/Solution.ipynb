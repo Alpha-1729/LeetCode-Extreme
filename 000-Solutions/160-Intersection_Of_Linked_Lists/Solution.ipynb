{
 "cells": [
  {
   "cell_type": "code",
   "execution_count": null,
   "metadata": {},
   "outputs": [],
   "source": [
    "// Intersection Of Linked Lists\n",
    "\n",
    "/*\n",
    ">>>>\n",
    ">>>>\n",
    ">>>>\n",
    ">>>>\n",
    "*/\n"
   ]
  },
  {
   "cell_type": "code",
   "execution_count": null,
   "metadata": {},
   "outputs": [],
   "source": [
    "public class ListNode {\n",
    "\n",
    "  int val;\n",
    "  ListNode next;\n",
    "\n",
    "  ListNode(int x) {\n",
    "    val = x;\n",
    "    next = null;\n",
    "  }\n",
    "}\n"
   ]
  },
  {
   "cell_type": "markdown",
   "metadata": {},
   "source": [
    "# Approach 1 (Best Solution).\n",
    "- Time Complexity - O(n).\n",
    "- Space Complexity - O(1).\n",
    "\n",
    "- Get the count of nodes in the linked list A.\n",
    "- Get the count of nodes in the linked list B.\n",
    "- Pick the linked list with largest length.\n",
    "- Iterate through the node in the largest linked list, such that the current node is x distance from the end of the current linked list. Where x is the length of the smallest linked list.\n",
    "- Now both the head of the linked list is equidistant from the end of the corresponding linked list.\n",
    "- Iterate through both the linked list, return the node in which they meet."
   ]
  },
  {
   "cell_type": "code",
   "execution_count": null,
   "metadata": {},
   "outputs": [],
   "source": [
    "public class Solution {\n",
    "\n",
    "  public ListNode getIntersectionNode(ListNode headA, ListNode headB) {\n",
    "    ListNode a = headA;\n",
    "    ListNode b = headB;\n",
    "\n",
    "    int countA = 0;\n",
    "    int countB = 0;\n",
    "\n",
    "    // Getting the count of nodes in the ListNode A.\n",
    "    while (a != null) {\n",
    "      a = a.next;\n",
    "      countA++;\n",
    "    }\n",
    "\n",
    "    // Getting the count of nodes in the ListNode B.\n",
    "    while (b != null) {\n",
    "      b = b.next;\n",
    "      countB++;\n",
    "    }\n",
    "\n",
    "    // Move to a node in linked list A and B, such that these nodes are equidistant from the end of the linked list.\n",
    "    while (countA > countB) {\n",
    "      headA = headA.next;\n",
    "      countA--;\n",
    "    }\n",
    "\n",
    "    while (countB > countA) {\n",
    "      headB = headB.next;\n",
    "      countB--;\n",
    "    }\n",
    "\n",
    "    // Iterate through the linked list to get the meeting point.\n",
    "    // It they did not meet, then the end of the both the linked list will be null.\n",
    "    while (headA != headB) {\n",
    "      headA = headA.next;\n",
    "      headB = headB.next;\n",
    "    }\n",
    "\n",
    "    return headA;\n",
    "  }\n",
    "}\n"
   ]
  },
  {
   "cell_type": "markdown",
   "metadata": {},
   "source": [
    "# Approach 2 (Best Solution).\n",
    "- Time Complexity - O(n).\n",
    "- Space Complexity - O(1).\n",
    "\n",
    "- This solution is the simplest version of the Approach 1.\n",
    "- We can use two iterations to do that.\n",
    "- In the first iteration, we will reset the pointer of one linked list to the head of another linked list after it reaches the tail node.\n",
    "- In the second iteration, we will move two pointers until they points to the same node.\n",
    "- Our operations in first iteration will help us counteract the difference.\n",
    "- So if two linked list intersects, the meeting point in second iteration must be the intersection point.\n",
    "- If the two linked lists have no intersection at all, then the meeting pointer in second iteration must be the tail node of both lists, which is null\n"
   ]
  },
  {
   "cell_type": "code",
   "execution_count": null,
   "metadata": {},
   "outputs": [],
   "source": [
    "public class Solution {\n",
    "\n",
    "  public ListNode getIntersectionNode(ListNode headA, ListNode headB) {\n",
    "    ListNode a = headA;\n",
    "    ListNode b = headB;\n",
    "\n",
    "    while (a != b) {\n",
    "      a = a == null ? headA : a.next;\n",
    "      b = b == null ? headB : b.next;\n",
    "    }\n",
    "\n",
    "    return a;\n",
    "  }\n",
    "}\n"
   ]
  },
  {
   "cell_type": "code",
   "execution_count": null,
   "metadata": {},
   "outputs": [],
   "source": [
    "Solution s = new Solution();"
   ]
  }
 ],
 "metadata": {
  "kernelspec": {
   "display_name": "Java",
   "language": "java",
   "name": "java"
  },
  "language_info": {
   "codemirror_mode": "java",
   "file_extension": ".jshell",
   "mimetype": "text/x-java-source",
   "name": "java",
   "pygments_lexer": "java",
   "version": "21.0.2+13-LTS-58"
  }
 },
 "nbformat": 4,
 "nbformat_minor": 2
}
