{
 "cells": [
  {
   "cell_type": "code",
   "execution_count": null,
   "metadata": {},
   "outputs": [],
   "source": [
    "// Merge Two Sorted Lists\n",
    "\n",
    "/*\n",
    ">>>>\n",
    ">>>>\n",
    ">>>>\n",
    ">>>>\n",
    "*/\n"
   ]
  },
  {
   "cell_type": "code",
   "execution_count": null,
   "metadata": {},
   "outputs": [],
   "source": [
    "public class ListNode {\n",
    "\n",
    "  int val;\n",
    "  ListNode next;\n",
    "\n",
    "  ListNode() {}\n",
    "\n",
    "  ListNode(int val) {\n",
    "    this.val = val;\n",
    "  }\n",
    "\n",
    "  ListNode(int val, ListNode next) {\n",
    "    this.val = val;\n",
    "    this.next = next;\n",
    "  }\n",
    "}\n"
   ]
  },
  {
   "cell_type": "markdown",
   "metadata": {},
   "source": [
    "# Approach 1 (Best Solution).\n",
    "- Time Complexity - O(n).\n",
    "- Space Complexity - O(1).\n",
    "\n",
    "- We create a ListNode tail with a dummy node at the head.\n",
    "- We compare the each element in the list1 and list2, and add the smallest node to tail.\n",
    "- If one of the linked list reaches the end, we append the other linked list to the end of the tail.\n",
    "- Return the head of the linked list.\n"
   ]
  },
  {
   "cell_type": "code",
   "execution_count": null,
   "metadata": {},
   "outputs": [],
   "source": [
    "class Solution {\n",
    "\n",
    "  class Solution {\n",
    "\n",
    "    public ListNode mergeTwoLists(ListNode list1, ListNode list2) {\n",
    "      ListNode dummy = new ListNode(0);\n",
    "      ListNode tail = dummy;\n",
    "\n",
    "      while (list1 != null && list2 != null) {\n",
    "        if (list1.val <= list2.val) {\n",
    "          tail.next = list1;\n",
    "          list1 = list1.next;\n",
    "        } else {\n",
    "          tail.next = list2;\n",
    "          list2 = list2.next;\n",
    "        }\n",
    "        tail = tail.next;\n",
    "      }\n",
    "      if (list1 == null) {\n",
    "        tail.next = list2;\n",
    "      } else {\n",
    "        tail.next = list1;\n",
    "      }\n",
    "\n",
    "      return dummy.next;\n",
    "    }\n",
    "  }\n",
    "}\n"
   ]
  },
  {
   "cell_type": "code",
   "execution_count": null,
   "metadata": {},
   "outputs": [],
   "source": [
    "Solution s = new Solution();"
   ]
  }
 ],
 "metadata": {
  "kernelspec": {
   "display_name": "Java",
   "language": "java",
   "name": "java"
  },
  "language_info": {
   "codemirror_mode": "java",
   "file_extension": ".jshell",
   "mimetype": "text/x-java-source",
   "name": "java",
   "pygments_lexer": "java",
   "version": "21.0.2+13-LTS-58"
  }
 },
 "nbformat": 4,
 "nbformat_minor": 2
}
