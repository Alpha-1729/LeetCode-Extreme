{
 "cells": [
  {
   "cell_type": "code",
   "execution_count": null,
   "metadata": {},
   "outputs": [],
   "source": [
    "// Linked List Cycle 2\n",
    "\n",
    "/*\n",
    ">>>>\n",
    ">>>>\n",
    ">>>>\n",
    ">>>>\n",
    "*/\n"
   ]
  },
  {
   "cell_type": "markdown",
   "metadata": {},
   "source": [
    "# Approach 1 (Best Solution).\n",
    "- Time Complexity - O(n).\n",
    "- Space Complexity - O(1).\n",
    "\n",
    "1. **Edge Cases**:\n",
    "   - If the list is empty (`head == null`) or has only one node (`head.next == null`), there can't be a cycle, so return `null`.\n",
    "\n",
    "2. **Two Pointers (Slow and Fast)**:\n",
    "   - Use two pointers, `slow` and `fast`, both starting at the `head` of the list.\n",
    "   - Move `slow` by one step and `fast` by two steps until they either meet or reach the end of the list.\n",
    "\n",
    "3. **Cycle Detection**:\n",
    "   - If `slow` and `fast` meet, a cycle is detected.\n",
    "   - If `fast` reaches the end (`fast == null` or `fast.next == null`), there is no cycle, return `null`.\n",
    "\n",
    "4. **Finding the Start of the Cycle**:\n",
    "   - Once a cycle is detected, reset `slow` to the `head`.\n",
    "   - Move both `slow` and `fast` one step at a time until they meet again. The meeting point will be the start of the cycle.\n",
    "\n",
    "5. **Return the Start of the Cycle**:\n",
    "   - Return the node where `slow` and `fast` meet, which is the starting point of the cycle.\n",
    "   - If no cycle is detected, return `null`.\n",
    "\n"
   ]
  },
  {
   "cell_type": "code",
   "execution_count": null,
   "metadata": {},
   "outputs": [],
   "source": [
    "// Definition for singly-linked list.\n",
    "class ListNode {\n",
    "    int val;\n",
    "    ListNode next;\n",
    "\n",
    "    ListNode(int x) {\n",
    "        val = x;\n",
    "        next = null;\n",
    "    }\n",
    "}\n",
    "\n",
    "public class Solution {\n",
    "    public ListNode detectCycle(ListNode head) {\n",
    "        if (head == null || head.next == null) {\n",
    "            return null;\n",
    "        }\n",
    "\n",
    "        ListNode slow = head;\n",
    "        ListNode fast = head;\n",
    "\n",
    "        while (fast != null && fast.next != null) {\n",
    "            fast = fast.next.next;\n",
    "            slow = slow.next;\n",
    "\n",
    "            if (slow == fast) {\n",
    "                // Loop is present.\n",
    "                slow = head;\n",
    "                while (slow != fast) {\n",
    "                    slow = slow.next;\n",
    "                    fast = fast.next;\n",
    "                }\n",
    "                return slow;\n",
    "            }\n",
    "        }\n",
    "        return null;\n",
    "    }\n",
    "}"
   ]
  },
  {
   "cell_type": "code",
   "execution_count": null,
   "metadata": {},
   "outputs": [],
   "source": [
    "Solution solution = new Solution();"
   ]
  }
 ],
 "metadata": {
  "kernelspec": {
   "display_name": "Java",
   "language": "java",
   "name": "java"
  },
  "language_info": {
   "codemirror_mode": "java",
   "file_extension": ".jshell",
   "mimetype": "text/x-java-source",
   "name": "java",
   "pygments_lexer": "java",
   "version": "21.0.2+13-LTS-58"
  }
 },
 "nbformat": 4,
 "nbformat_minor": 2
}
