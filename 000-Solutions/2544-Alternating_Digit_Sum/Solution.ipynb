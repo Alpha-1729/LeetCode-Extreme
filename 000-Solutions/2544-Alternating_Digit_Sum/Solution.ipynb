{
 "cells": [
  {
   "cell_type": "code",
   "execution_count": null,
   "metadata": {
    "vscode": {
     "languageId": "java"
    }
   },
   "outputs": [],
   "source": [
    "// Alternating Digit Sum\n",
    "\n",
    "/*\n",
    ">>>>\n",
    ">>>>\n",
    ">>>>\n",
    ">>>>\n",
    "*/\n"
   ]
  },
  {
   "cell_type": "markdown",
   "metadata": {},
   "source": [
    "# Approach 1 (Best Solution).\n",
    "- Time Complexity - O(1).\n",
    "- Space Complexity - O(1).\n",
    "\n",
    "- **Variables**:\n",
    "  - `int sum = 0;`: Initializes the variable `sum` to accumulate the alternate sum of the digits.\n",
    "  - `int length = (int) Math.log10(n) + 1;`: Calculates the number of digits in `n` using the base-10 logarithm. Adding 1 adjusts for zero-based indexing.\n",
    "  - `boolean isNegative = length % 2 == 0 ? true : false;`: Determines whether the most significant digit should be treated as negative. If the number of digits (`length`) is even, `isNegative` is `true`; otherwise, it is `false`.\n",
    "\n",
    "- **While Loop**:\n",
    "  - `while (n > 0)`: Continues executing as long as `n` has digits left to process.\n",
    "  - Inside the loop:\n",
    "    - `int digit = n % 10;`: Extracts the last digit of `n`.\n",
    "    - `if (isNegative)`: Checks if the current digit should be negative based on the `isNegative` flag.\n",
    "      - `digit *= -1;`: Negates the digit if `isNegative` is `true`.\n",
    "    - `sum += digit;`: Adds (or subtracts) the digit to/from `sum`.\n",
    "    - `isNegative = !isNegative;`: Flips the `isNegative` flag to alternate the sign for the next digit.\n",
    "    - `n /= 10;`: Removes the last digit from `n` by performing integer division.\n",
    "\n",
    "- **Return Statement**:\n",
    "  - `return sum;`: Returns the computed alternate sum after processing all digits."
   ]
  },
  {
   "cell_type": "code",
   "execution_count": null,
   "metadata": {
    "vscode": {
     "languageId": "java"
    }
   },
   "outputs": [],
   "source": [
    "class Solution {\n",
    "    public int alternateDigitSum(int n) {\n",
    "        int sum = 0;\n",
    "        int length = (int) Math.log10(n) + 1;\n",
    "        boolean isNegative = length % 2 == 0 ? true : false;\n",
    "        while (n > 0) {\n",
    "            int digit = n % 10;\n",
    "            if (isNegative) {\n",
    "                digit *= -1;\n",
    "            }\n",
    "            sum += digit;\n",
    "            isNegative = !isNegative;\n",
    "            n /= 10;\n",
    "        }\n",
    "        return sum;\n",
    "    }\n",
    "}"
   ]
  },
  {
   "cell_type": "code",
   "execution_count": null,
   "metadata": {
    "vscode": {
     "languageId": "java"
    }
   },
   "outputs": [],
   "source": [
    "Solution solution = new Solution();\n",
    "int n = 521;\n",
    "int result = solution.alternateDigitSum(n);\n",
    "System.out.println(result);"
   ]
  },
  {
   "cell_type": "code",
   "execution_count": null,
   "metadata": {
    "vscode": {
     "languageId": "java"
    }
   },
   "outputs": [],
   "source": []
  }
 ],
 "metadata": {
  "kernelspec": {
   "display_name": "Java",
   "language": "java",
   "name": "java"
  },
  "language_info": {
   "codemirror_mode": "java",
   "file_extension": ".jshell",
   "mimetype": "text/x-java-source",
   "name": "Java",
   "pygments_lexer": "java",
   "version": "22.0.2+9-70"
  }
 },
 "nbformat": 4,
 "nbformat_minor": 2
}
