{
 "cells": [
  {
   "cell_type": "code",
   "execution_count": null,
   "metadata": {
    "vscode": {
     "languageId": "java"
    }
   },
   "outputs": [],
   "source": [
    "// 3sum Closest\n",
    "\n",
    "/*\n",
    ">>>>\n",
    ">>>>\n",
    ">>>>\n",
    ">>>>\n",
    "*/\n"
   ]
  },
  {
   "cell_type": "markdown",
   "metadata": {},
   "source": [
    "# Approach 1 (Best Solution).\n",
    "- Time Complexity - O(n^2).\n",
    "- Space Complexity - O(1).\n",
    "\n",
    "1. **Sorting**:\n",
    "   - The array is sorted to enable efficient searching with the two-pointer technique.\n",
    "\n",
    "2. **Initial Closest Sum**:\n",
    "   - The method initializes the closest sum to the sum of the first three elements in the sorted array.\n",
    "\n",
    "3. **Iterating with Two Pointers**:\n",
    "   - For each element in the array, two pointers are used:\n",
    "     - `left` starts just after the current element.\n",
    "     - `right` starts at the end of the array.\n",
    "   - The goal is to find three numbers (one fixed and two with pointers) whose sum is closest to the target value.\n",
    "\n",
    "4. **Adjusting Pointers**:\n",
    "   - Compare the current sum of the three numbers to the target:\n",
    "     - If the current sum is closer to the target than the previously recorded closest sum, update the closest sum.\n",
    "     - Adjust the pointers based on whether the current sum is greater than or less than the target:\n",
    "       - Move the `right` pointer left if the sum is too high.\n",
    "       - Move the `left` pointer right if the sum is too low.\n",
    "     - If the sum exactly matches the target, return it immediately.\n",
    "\n",
    "5. **Returning the Closest Sum**:\n",
    "   - After evaluating all possible combinations, return the closest sum found.\n"
   ]
  },
  {
   "cell_type": "markdown",
   "metadata": {
    "vscode": {
     "languageId": "java"
    }
   },
   "source": []
  },
  {
   "cell_type": "code",
   "execution_count": null,
   "metadata": {
    "vscode": {
     "languageId": "java"
    }
   },
   "outputs": [],
   "source": [
    "class Solution {\n",
    "    public int threeSumClosest(int[] nums, int target) {\n",
    "        Arrays.sort(nums);\n",
    "        int closest = nums[0] + nums[1] + nums[2];\n",
    "        for (int i = 0; i < nums.length - 2; i++) {\n",
    "            int left = i + 1;\n",
    "            int right = nums.length - 1;\n",
    "\n",
    "            while (left < right) {\n",
    "                int sum = nums[i] + nums[left] + nums[right];\n",
    "                if (Math.abs(target - closest) > Math.abs(target - sum)) {\n",
    "                    closest = sum;\n",
    "                }\n",
    "\n",
    "                if (sum > target) {\n",
    "                    right--;\n",
    "                } else if (sum < target) {\n",
    "                    left++;\n",
    "                } else {\n",
    "                    return sum;\n",
    "                }\n",
    "            }\n",
    "        }\n",
    "        return closest;\n",
    "    }\n",
    "}"
   ]
  },
  {
   "cell_type": "markdown",
   "metadata": {
    "vscode": {
     "languageId": "java"
    }
   },
   "source": [
    "# Approach 2 (Best Solution with using extra memory for sorting).\n",
    "- Time Complexity - O(n^2).\n",
    "- Space Complexity - O(n).\n",
    "\n",
    "1. **Sorting Using Extra Memory**:\n",
    "   - **Create and Populate Occurrences Array**:\n",
    "     - A `short` array `occurrences` of size `2001` is used to count the frequency of each number shifted by `1000`. This is to handle negative numbers in the array.\n",
    "     - For each number in `nums`, increment the count at the index corresponding to that number plus `1000`.\n",
    "   \n",
    "   - **Repopulate the `nums` Array**:\n",
    "     - Iterate through the `occurrences` array to reconstruct the `nums` array based on the counts stored in `occurrences`. This effectively sorts the `nums` array.\n",
    "\n",
    "2. **Initialization**:\n",
    "   - `closest` is initialized to the sum of the first three numbers in the sorted `nums` array. This variable will track the closest sum to the target.\n",
    "\n",
    "3. **Main Loop**:\n",
    "   - Loop through each element of the sorted array (up to the third last element) with the index `i`.\n",
    "   - For each `i`, set up two pointers:\n",
    "     - `left` starts just after `i`.\n",
    "     - `right` starts at the end of the array.\n",
    "\n",
    "4. **Two-Pointer Technique**:\n",
    "   - **Calculate Sum**:\n",
    "     - Compute the sum of the elements at `i`, `left`, and `right`.\n",
    "     - Update `closest` if this sum is closer to the `target` compared to the previous closest sum.\n",
    "   \n",
    "   - **Adjust Pointers**:\n",
    "     - If the `sum` is greater than `target`, decrement the `right` pointer to reduce the sum.\n",
    "     - If the `sum` is less than `target`, increment the `left` pointer to increase the sum.\n",
    "     - If the `sum` equals the `target`, return this sum immediately as it's the closest possible value.\n",
    "\n",
    "5. **Return the Closest Sum**:\n",
    "   - After checking all possible combinations of three numbers, return the `closest` sum found.\n"
   ]
  },
  {
   "cell_type": "code",
   "execution_count": null,
   "metadata": {
    "vscode": {
     "languageId": "java"
    }
   },
   "outputs": [],
   "source": [
    "class Solution {\n",
    "    public int threeSumClosest(int[] nums, int target) {\n",
    "\n",
    "        // Sorting array using extra memory.\n",
    "        {\n",
    "            short[] occurrences = new short[2001];\n",
    "            for (int num : nums) {\n",
    "                occurrences[num + 1000]++;\n",
    "            }\n",
    "\n",
    "            for (int i = 0, start = 0; i < 2001; i++) {\n",
    "                if (occurrences[i] > 0) {\n",
    "                    nums[start++] = i - 1000;\n",
    "                    occurrences[i--]--;\n",
    "                }\n",
    "            }\n",
    "        }\n",
    "\n",
    "        int closest = nums[0] + nums[1] + nums[2];\n",
    "        for (int i = 0; i < nums.length - 2; i++) {\n",
    "            int left = i + 1;\n",
    "            int right = nums.length - 1;\n",
    "\n",
    "            while (left < right) {\n",
    "                int sum = nums[i] + nums[left] + nums[right];\n",
    "                if (Math.abs(target - closest) > Math.abs(target - sum)) {\n",
    "                    closest = sum;\n",
    "                }\n",
    "\n",
    "                if (sum > target) {\n",
    "                    right--;\n",
    "                } else if (sum < target) {\n",
    "                    left++;\n",
    "                } else {\n",
    "                    return sum;\n",
    "                }\n",
    "            }\n",
    "        }\n",
    "        return closest;\n",
    "    }\n",
    "}"
   ]
  },
  {
   "cell_type": "code",
   "execution_count": null,
   "metadata": {
    "vscode": {
     "languageId": "java"
    }
   },
   "outputs": [],
   "source": [
    "Solution solution = new Solution();\n",
    "int[] nums = {-1, 2, 1, -4};\n",
    "int target = 1;\n",
    "int result = solution.threeSumClosest(nums, target);\n",
    "System.out.println(result);"
   ]
  },
  {
   "cell_type": "code",
   "execution_count": null,
   "metadata": {
    "vscode": {
     "languageId": "java"
    }
   },
   "outputs": [],
   "source": []
  }
 ],
 "metadata": {
  "kernelspec": {
   "display_name": "Java",
   "language": "java",
   "name": "java"
  },
  "language_info": {
   "codemirror_mode": "java",
   "file_extension": ".jshell",
   "mimetype": "text/x-java-source",
   "name": "Java",
   "pygments_lexer": "java",
   "version": "22.0.2+9-70"
  }
 },
 "nbformat": 4,
 "nbformat_minor": 2
}
