{
 "cells": [
  {
   "cell_type": "code",
   "execution_count": null,
   "metadata": {
    "vscode": {
     "languageId": "java"
    }
   },
   "outputs": [],
   "source": [
    "// Reverse String\n",
    "\n",
    "/*\n",
    ">>>>\n",
    ">>>>\n",
    ">>>>\n",
    ">>>>\n",
    "*/\n"
   ]
  },
  {
   "cell_type": "markdown",
   "metadata": {},
   "source": [
    "# Approach 1 (Best Solution).\n",
    "\n",
    "- Time Complexity - O(n).\n",
    "- Space Complexity - O(1).\n",
    "\n",
    "- Swap the characters in the left and right most end.\n",
    "- Repeat this process.\n"
   ]
  },
  {
   "cell_type": "code",
   "execution_count": null,
   "metadata": {
    "vscode": {
     "languageId": "java"
    }
   },
   "outputs": [],
   "source": [
    "class Solution {\n",
    "\n",
    "  public void reverseString(char[] s) {\n",
    "    int left = 0;\n",
    "    int right = s.length - 1;\n",
    "\n",
    "    while (left < right) {\n",
    "      char temp = s[right];\n",
    "      s[right] = s[left];\n",
    "      s[left] = temp;\n",
    "      left++;\n",
    "      right--;\n",
    "    }\n",
    "  }\n",
    "}\n"
   ]
  },
  {
   "cell_type": "code",
   "execution_count": null,
   "metadata": {
    "vscode": {
     "languageId": "java"
    }
   },
   "outputs": [],
   "source": [
    "Solution solution = new Solution();\n",
    "char[] s = new char[] {'h', 'e', 'l', 'l', 'o'};\n",
    "solution.reverseString(s);\n",
    "System.out.println(Arrays.toString(s));"
   ]
  },
  {
   "cell_type": "code",
   "execution_count": null,
   "metadata": {
    "vscode": {
     "languageId": "java"
    }
   },
   "outputs": [],
   "source": []
  }
 ],
 "metadata": {
  "kernelspec": {
   "display_name": "Java",
   "language": "java",
   "name": "java"
  },
  "language_info": {
   "codemirror_mode": "java",
   "file_extension": ".jshell",
   "mimetype": "text/x-java-source",
   "name": "Java",
   "pygments_lexer": "java",
   "version": "22.0.1+8-16"
  }
 },
 "nbformat": 4,
 "nbformat_minor": 2
}
