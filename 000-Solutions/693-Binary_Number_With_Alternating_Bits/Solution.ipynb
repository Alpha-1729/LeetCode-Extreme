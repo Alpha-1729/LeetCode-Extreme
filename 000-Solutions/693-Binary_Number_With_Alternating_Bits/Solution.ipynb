{
 "cells": [
  {
   "cell_type": "code",
   "execution_count": null,
   "metadata": {
    "vscode": {
     "languageId": "java"
    }
   },
   "outputs": [],
   "source": [
    "// Binary Number With Alternating Bits\n",
    "\n",
    "/*\n",
    ">>>>\n",
    ">>>>\n",
    ">>>>\n",
    ">>>>\n",
    "*/\n"
   ]
  },
  {
   "cell_type": "markdown",
   "metadata": {},
   "source": [
    "# Approach 1 (Best Solution).\n",
    "- Time Complexity - O(log.n).\n",
    "- Space Complexity - O(1).\n",
    "\n",
    "1. **Bitwise Comparison**:\n",
    "   - The method uses a bitwise approach to compare consecutive bits of the integer `n`.\n",
    "\n",
    "2. **Iterate Through Bits**:\n",
    "   - While `n` is greater than zero, the method processes the least significant bit (LSB) and the second least significant bit of `n` using bitwise operations.\n",
    "\n",
    "3. **Bitwise & and Shift**:\n",
    "   - The expression `(n & 1)` retrieves the LSB of `n` (the current bit).\n",
    "   - The expression `((n >> 1) & 1)` retrieves the second least significant bit by shifting `n` to the right by 1 bit and then applying a bitwise AND.\n",
    "   - If these two bits are the same, it means there is no alternation between consecutive bits, so the method returns `false`.\n",
    "\n",
    "4. **Shift n**:\n",
    "   - If the consecutive bits are alternating (i.e., different), the method shifts `n` to the right by 1 bit (using `n = n >> 1`) and continues checking the next pair of bits.\n",
    "\n",
    "5. **Return Result**:\n",
    "   - If the loop completes without finding any pair of consecutive bits that are the same, the method returns `true`, indicating that the bits in `n` are alternating.\n"
   ]
  },
  {
   "cell_type": "code",
   "execution_count": null,
   "metadata": {
    "vscode": {
     "languageId": "java"
    }
   },
   "outputs": [],
   "source": [
    "class Solution {\n",
    "    public boolean hasAlternatingBits(int n) {\n",
    "        while (n > 0) {\n",
    "            if ((n & 1) == ((n >> 1) & 1)) {\n",
    "                return false;\n",
    "            }\n",
    "            n = n >> 1;\n",
    "        }\n",
    "        return true;\n",
    "    }\n",
    "}"
   ]
  },
  {
   "cell_type": "code",
   "execution_count": null,
   "metadata": {
    "vscode": {
     "languageId": "java"
    }
   },
   "outputs": [],
   "source": [
    "Solution solution = new Solution();\n",
    "int n = 7;\n",
    "boolean result = solution.hasAlternatingBits(n);\n",
    "System.out.println(result);"
   ]
  },
  {
   "cell_type": "code",
   "execution_count": null,
   "metadata": {
    "vscode": {
     "languageId": "java"
    }
   },
   "outputs": [],
   "source": []
  }
 ],
 "metadata": {
  "kernelspec": {
   "display_name": "Java",
   "language": "java",
   "name": "java"
  },
  "language_info": {
   "codemirror_mode": "java",
   "file_extension": ".jshell",
   "mimetype": "text/x-java-source",
   "name": "Java",
   "pygments_lexer": "java",
   "version": "22.0.2+9-70"
  }
 },
 "nbformat": 4,
 "nbformat_minor": 2
}
