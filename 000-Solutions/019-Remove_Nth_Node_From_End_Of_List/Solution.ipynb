{
 "cells": [
  {
   "cell_type": "code",
   "execution_count": null,
   "metadata": {},
   "outputs": [],
   "source": [
    "// Remove Nth Node From End Of List\n",
    "\n",
    "/*\n",
    ">>>>\n",
    ">>>>\n",
    ">>>>\n",
    ">>>>\n",
    "*/\n"
   ]
  },
  {
   "cell_type": "markdown",
   "metadata": {},
   "source": [
    "# Approach 1 (Best Solution).\n",
    "- Time Complexity - O(n).\n",
    "- Space Complexity - O(1).\n",
    "\n",
    "- Move the right pointer to the n node after the head.\n",
    "- Now move the left and right pointer, till the right pointer reach the end.\n",
    "- Now the left pointer will be in the previous node of the deleted node.\n",
    "- Advance the left pointer after skipping the node to delete."
   ]
  },
  {
   "cell_type": "code",
   "execution_count": null,
   "metadata": {},
   "outputs": [],
   "source": [
    "class Solution {\n",
    "\n",
    "  public ListNode removeNthFromEnd(ListNode head, int n) {\n",
    "    ListNode dummy = new ListNode(0, head);\n",
    "    ListNode left = dummy;\n",
    "    ListNode right = head;\n",
    "\n",
    "    while (n > 0 && right != null) {\n",
    "      right = right.next;\n",
    "      n--;\n",
    "    }\n",
    "\n",
    "    while (right != null) {\n",
    "      left = left.next;\n",
    "      right = right.next;\n",
    "    }\n",
    "    left.next = left.next.next;\n",
    "\n",
    "    return dummy.next;\n",
    "  }\n",
    "}\n"
   ]
  },
  {
   "cell_type": "markdown",
   "metadata": {},
   "source": [
    "# Approach 2.\n",
    "- Time Complexity - O(n).\n",
    "- Space Complexity - O(1).\n",
    "\n",
    "- Get count of node in the linked list.\n",
    "- If the node is at start or end, Update the head and the tail.\n",
    "- Else reach to the previous of the node to be deleted.\n",
    "- Move the pointer of the previous node to the node after the deleted node."
   ]
  },
  {
   "cell_type": "code",
   "execution_count": null,
   "metadata": {},
   "outputs": [],
   "source": [
    "class Solution {\n",
    "\n",
    "  public ListNode removeNthFromEnd(ListNode head, int n) {\n",
    "    int nodeCount = 0;\n",
    "\n",
    "    ListNode temp = head;\n",
    "    ListNode prev = null;\n",
    "    while (temp.next != null) {\n",
    "      prev = temp;\n",
    "      temp = temp.next;\n",
    "      nodeCount++;\n",
    "    }\n",
    "    nodeCount++;\n",
    "\n",
    "    // Remove the last node.\n",
    "    if (n == nodeCount) {\n",
    "      head = head.next;\n",
    "    } else if (n == 1) {\n",
    "      prev.next = null;\n",
    "    } else {\n",
    "      temp = head;\n",
    "      for (int i = 1; i < nodeCount - n; i++) {\n",
    "        temp = temp.next;\n",
    "      }\n",
    "      temp.next = temp.next.next;\n",
    "    }\n",
    "\n",
    "    return head;\n",
    "  }\n",
    "}\n"
   ]
  },
  {
   "cell_type": "code",
   "execution_count": null,
   "metadata": {},
   "outputs": [],
   "source": [
    "Solution s = new Solution();"
   ]
  }
 ],
 "metadata": {
  "kernelspec": {
   "display_name": "Java",
   "language": "java",
   "name": "java"
  },
  "language_info": {
   "codemirror_mode": "java",
   "file_extension": ".jshell",
   "mimetype": "text/x-java-source",
   "name": "java",
   "pygments_lexer": "java",
   "version": "21.0.2+13-LTS-58"
  }
 },
 "nbformat": 4,
 "nbformat_minor": 2
}
