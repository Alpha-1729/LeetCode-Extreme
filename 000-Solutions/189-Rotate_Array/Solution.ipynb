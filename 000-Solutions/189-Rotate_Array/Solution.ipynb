{
 "cells": [
  {
   "cell_type": "code",
   "execution_count": null,
   "metadata": {
    "vscode": {
     "languageId": "java"
    }
   },
   "outputs": [],
   "source": [
    "// Rotate Array\n",
    "\n",
    "/*\n",
    ">>>>\n",
    ">>>>\n",
    ">>>>\n",
    ">>>>\n",
    "*/\n"
   ]
  },
  {
   "cell_type": "markdown",
   "metadata": {},
   "source": [
    "# Approach 1 (Best Solution).\n",
    "\n",
    "- Time Complexity - O(n).\n",
    "- Space Complexity - O(1).\n",
    "\n",
    "- Reverse the full array.\n",
    "- Reverse the elements from index 0 to k;\n",
    "- Reverse the elements from k to end.\n"
   ]
  },
  {
   "cell_type": "code",
   "execution_count": 1,
   "metadata": {
    "vscode": {
     "languageId": "java"
    }
   },
   "outputs": [],
   "source": [
    "class Solution {\n",
    "\n",
    "  public void rotate(int[] nums, int k) {\n",
    "    int n = nums.length;\n",
    "    k %= n;\n",
    "\n",
    "    reverse(nums, 0, n - 1);\n",
    "    reverse(nums, 0, k - 1);\n",
    "    reverse(nums, k, n - 1);\n",
    "  }\n",
    "\n",
    "  public void swap(int[] nums, int i, int j) {\n",
    "    int temp = nums[j];\n",
    "    nums[j] = nums[i];\n",
    "    nums[i] = temp;\n",
    "  }\n",
    "\n",
    "  public void reverse(int[] nums, int left, int right) {\n",
    "    while (left < right) {\n",
    "      swap(nums, left++, right--);\n",
    "    }\n",
    "  }\n",
    "}\n"
   ]
  },
  {
   "cell_type": "code",
   "execution_count": 2,
   "metadata": {
    "vscode": {
     "languageId": "java"
    }
   },
   "outputs": [
    {
     "name": "stdout",
     "output_type": "stream",
     "text": [
      "[5, 6, 7, 1, 2, 3, 4]\n"
     ]
    }
   ],
   "source": [
    "Solution solution = new Solution();\n",
    "int[] nums = {1, 2, 3, 4, 5, 6, 7};\n",
    "int k = 3;\n",
    "solution.rotate(nums, k);\n",
    "System.out.println(Arrays.toString(nums));"
   ]
  },
  {
   "cell_type": "code",
   "execution_count": null,
   "metadata": {
    "vscode": {
     "languageId": "java"
    }
   },
   "outputs": [],
   "source": []
  }
 ],
 "metadata": {
  "kernelspec": {
   "display_name": "Java",
   "language": "java",
   "name": "java"
  },
  "language_info": {
   "codemirror_mode": "java",
   "file_extension": ".jshell",
   "mimetype": "text/x-java-source",
   "name": "Java",
   "pygments_lexer": "java",
   "version": "22.0.1+8-16"
  }
 },
 "nbformat": 4,
 "nbformat_minor": 2
}
