{
 "cells": [
  {
   "cell_type": "code",
   "execution_count": null,
   "metadata": {
    "vscode": {
     "languageId": "java"
    }
   },
   "outputs": [],
   "source": [
    "// Isomorphic Strings\n",
    "\n",
    "/*\n",
    ">>>>\n",
    ">>>>\n",
    ">>>>\n",
    ">>>>\n",
    "*/\n"
   ]
  },
  {
   "cell_type": "markdown",
   "metadata": {},
   "source": [
    "# Approach 1 (Best Solution).\n",
    "- Time Complexity - O(n).\n",
    "- Space Complexity - O(1).\n",
    "\n",
    "- Create an integer array to store the key-mapping relationship between two strings.\n",
    "- Create an boolean array to store the mapped the characters.\n",
    "- Loop through the character in the first string.\n",
    "- Check if there is any mismatch in the key-value pairing and also whether the character is already mapped or not.\n",
    "- In that case return false.\n",
    "- Finally return true."
   ]
  },
  {
   "cell_type": "code",
   "execution_count": null,
   "metadata": {
    "vscode": {
     "languageId": "java"
    }
   },
   "outputs": [],
   "source": [
    "class Solution {\n",
    "    public boolean isIsomorphic(String s, String t) {\n",
    "        \n",
    "        int[] set = new int[129];\n",
    "        boolean[] mapped = new boolean[129];\n",
    "\n",
    "        for (int i = 0; i < s.length(); i++) {         \n",
    "            int c1  = s.charAt(i) + 1;\n",
    "            int c2 = t.charAt(i) + 1;\n",
    "\n",
    "            if (set[c1] == 0) {\n",
    "                if (mapped[c2]) {\n",
    "                    return false;\n",
    "                }\n",
    "                set[c1] = c2;\n",
    "                mapped[c2] = true;\n",
    "            } else if (set[c1] != c2) {\n",
    "                return false;\n",
    "            }\n",
    "        }\n",
    "        \n",
    "        return true;\n",
    "    }\n",
    "}"
   ]
  },
  {
   "cell_type": "markdown",
   "metadata": {
    "vscode": {
     "languageId": "java"
    }
   },
   "source": [
    "# Approach 2 (Best Solution).\n",
    "- Time Complexity - O(n).\n",
    "- Space Complexity - O(1).\n",
    "\n",
    "- Create an hashmap to store the key-mapping relationship between two strings.\n",
    "- Loop through the character in the first string.\n",
    "- Check if there is any mismatch in the key-value pairing and also whether the character is already mapped or not.\n",
    "- In that case return false.\n",
    "- Finally return true."
   ]
  },
  {
   "cell_type": "code",
   "execution_count": null,
   "metadata": {
    "vscode": {
     "languageId": "java"
    }
   },
   "outputs": [],
   "source": [
    "class Solution {\n",
    "    public boolean isIsomorphic(String s, String t) {\n",
    "        \n",
    "        HashMap<Character, Character> map = new HashMap<>();\n",
    "\n",
    "        for (int i = 0; i < s.length(); i++) {         \n",
    "            char c1  = s.charAt(i);\n",
    "            char c2 = t.charAt(i);\n",
    "\n",
    "            if (!map.containsKey(c1)) {\n",
    "                if (map.containsValue(c2)) {\n",
    "                    return false;\n",
    "                }\n",
    "                map.put(c1, c2);\n",
    "            } else if (map.get(c1) != c2) {\n",
    "                return false;\n",
    "            }\n",
    "        }\n",
    "        \n",
    "        return true;\n",
    "    }\n",
    "}"
   ]
  },
  {
   "cell_type": "code",
   "execution_count": null,
   "metadata": {
    "vscode": {
     "languageId": "java"
    }
   },
   "outputs": [],
   "source": [
    "Solution solution = new Solution();\n",
    "String s = \"badc\";\n",
    "String t = \"baba\";\n",
    "\n",
    "boolean result = solution.isIsomorphic(s, t);\n",
    "System.out.println(result);"
   ]
  },
  {
   "cell_type": "code",
   "execution_count": null,
   "metadata": {
    "vscode": {
     "languageId": "java"
    }
   },
   "outputs": [],
   "source": []
  }
 ],
 "metadata": {
  "kernelspec": {
   "display_name": "Java",
   "language": "java",
   "name": "java"
  },
  "language_info": {
   "codemirror_mode": "java",
   "file_extension": ".jshell",
   "mimetype": "text/x-java-source",
   "name": "Java",
   "pygments_lexer": "java",
   "version": "22.0.2+9-70"
  }
 },
 "nbformat": 4,
 "nbformat_minor": 2
}
