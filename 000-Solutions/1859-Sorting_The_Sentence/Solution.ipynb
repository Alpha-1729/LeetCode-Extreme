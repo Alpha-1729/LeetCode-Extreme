{
 "cells": [
  {
   "cell_type": "code",
   "execution_count": null,
   "metadata": {
    "vscode": {
     "languageId": "java"
    }
   },
   "outputs": [],
   "source": [
    "// Sorting The Sentence\n",
    "\n",
    "/*\n",
    ">>>>\n",
    ">>>>\n",
    ">>>>\n",
    ">>>>\n",
    "*/\n"
   ]
  },
  {
   "cell_type": "markdown",
   "metadata": {},
   "source": [
    "# Approach 1 (Best Solution).\n",
    "- Time Complexity - O(n).\n",
    "- Space Complexity - O(n).\n",
    "\n",
    "- Create two int arrays to store the start and end index of each word in the final sentence.\n",
    "- Each index in this arrays contain the word in the final sentence.\n",
    "- Generate the final string using the string builder.\n",
    "- Remove the space after the last word.\n",
    "- Return the final sentence."
   ]
  },
  {
   "cell_type": "code",
   "execution_count": null,
   "metadata": {
    "vscode": {
     "languageId": "java"
    }
   },
   "outputs": [],
   "source": [
    "class Solution {\n",
    "\n",
    "  public String sortSentence(String s) {\n",
    "    // Arrays to store the start and end index of each word.\n",
    "    int[] start = new int[10];\n",
    "    int[] end = new int[10];\n",
    "\n",
    "    int prevIndex = 0;\n",
    "    for (int i = 0; i < s.length(); i++) {\n",
    "      char ch = s.charAt(i);\n",
    "\n",
    "      if (Character.isDigit(ch)) {\n",
    "        int index = ch - '0' - 1;\n",
    "        start[index] = prevIndex;\n",
    "        end[index] = i;\n",
    "        prevIndex = i + 2;\n",
    "      }\n",
    "    }\n",
    "\n",
    "    StringBuilder sb = new StringBuilder();\n",
    "    int i = 0;\n",
    "    while (end[i] > start[i]) {\n",
    "      sb.append(s.substring(start[i], end[i])).append(\" \");\n",
    "      i++;\n",
    "    }\n",
    "\n",
    "    return sb.toString().trim();\n",
    "  }\n",
    "}\n"
   ]
  },
  {
   "cell_type": "code",
   "execution_count": null,
   "metadata": {
    "vscode": {
     "languageId": "java"
    }
   },
   "outputs": [],
   "source": [
    "Solution solution = new Solution();\n",
    "String s = \"is2 sentence4 This1 a3\";\n",
    "String result = solution.sortSentence(s);\n",
    "System.out.println(result)"
   ]
  },
  {
   "cell_type": "code",
   "execution_count": null,
   "metadata": {
    "vscode": {
     "languageId": "java"
    }
   },
   "outputs": [],
   "source": []
  }
 ],
 "metadata": {
  "kernelspec": {
   "display_name": "Java",
   "language": "java",
   "name": "java"
  },
  "language_info": {
   "codemirror_mode": "java",
   "file_extension": ".jshell",
   "mimetype": "text/x-java-source",
   "name": "Java",
   "pygments_lexer": "java",
   "version": "22.0.1+8-16"
  }
 },
 "nbformat": 4,
 "nbformat_minor": 2
}
