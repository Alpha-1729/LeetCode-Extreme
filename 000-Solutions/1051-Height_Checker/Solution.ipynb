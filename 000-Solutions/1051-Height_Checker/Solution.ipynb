{
 "cells": [
  {
   "cell_type": "code",
   "execution_count": null,
   "metadata": {
    "vscode": {
     "languageId": "java"
    }
   },
   "outputs": [],
   "source": [
    "// Height Checker\n",
    "\n",
    "/*\n",
    ">>>>\n",
    ">>>>\n",
    ">>>>\n",
    ">>>>\n",
    "*/\n"
   ]
  },
  {
   "cell_type": "markdown",
   "metadata": {},
   "source": [
    "# Approach 1 (Best Solution).\n",
    "- Time Complexity - O(n).\n",
    "- Space Complexity - O(n).\n",
    "\n",
    "- Create an array countArray, which contain the count of each elements in the array from 1 - 100;\n",
    "- Also the sorted elements can be get from this array.\n",
    "- We compare the each non-zero elements from the countArray and the heights array.\n",
    "- Update the mismatch height.\n",
    "- Return the mismatch count."
   ]
  },
  {
   "cell_type": "code",
   "execution_count": 3,
   "metadata": {
    "vscode": {
     "languageId": "java"
    }
   },
   "outputs": [],
   "source": [
    "class Solution {\n",
    "\n",
    "  public int heightChecker(int[] heights) {\n",
    "    // Logic to store the count of each elements in the array.\n",
    "    // This will also sort the elements in the array.\n",
    "    int[] countArray = new int[101];\n",
    "    for (int i = 0; i < heights.length; i++) {\n",
    "      countArray[heights[i]]++;\n",
    "    }\n",
    "\n",
    "    int height = 0;\n",
    "    int mismatchCount = 0;\n",
    "\n",
    "    // Check the first non-zero elements in the height array and the countArray.\n",
    "    for (int i = 0; i < heights.length; i++) {\n",
    "      // Picking only non-zero elements.\n",
    "      while (countArray[height] <= 0) {\n",
    "        height++;\n",
    "      }\n",
    "\n",
    "      if (height != heights[i]) {\n",
    "        mismatchCount++;\n",
    "      }\n",
    "      countArray[height]--;\n",
    "    }\n",
    "\n",
    "    return mismatchCount;\n",
    "  }\n",
    "}\n"
   ]
  },
  {
   "cell_type": "code",
   "execution_count": 4,
   "metadata": {
    "vscode": {
     "languageId": "java"
    }
   },
   "outputs": [
    {
     "name": "stdout",
     "output_type": "stream",
     "text": [
      "3\n"
     ]
    }
   ],
   "source": [
    "Solution solution = new Solution();\n",
    "int[] heights = {1, 1, 4, 2, 1, 3};\n",
    "int result = solution.heightChecker(heights);\n",
    "System.out.println(result);"
   ]
  },
  {
   "cell_type": "code",
   "execution_count": null,
   "metadata": {
    "vscode": {
     "languageId": "java"
    }
   },
   "outputs": [],
   "source": []
  }
 ],
 "metadata": {
  "kernelspec": {
   "display_name": "Java",
   "language": "java",
   "name": "java"
  },
  "language_info": {
   "codemirror_mode": "java",
   "file_extension": ".jshell",
   "mimetype": "text/x-java-source",
   "name": "Java",
   "pygments_lexer": "java",
   "version": "22.0.1+8-16"
  }
 },
 "nbformat": 4,
 "nbformat_minor": 2
}
