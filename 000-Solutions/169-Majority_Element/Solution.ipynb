{
 "cells": [
  {
   "cell_type": "code",
   "execution_count": null,
   "metadata": {
    "vscode": {
     "languageId": "java"
    }
   },
   "outputs": [],
   "source": [
    "// Majority Element\n",
    "\n",
    "/*\n",
    ">>>>\n",
    ">>>>\n",
    ">>>>\n",
    ">>>>\n",
    "*/\n"
   ]
  },
  {
   "cell_type": "markdown",
   "metadata": {},
   "source": [
    "# Approach 1 (Best Solution).\n",
    "- Time Complexity - O(n).\n",
    "- Space Complexity - O(1).\n",
    "\n",
    "- This solution uses the Boyer-Moore Voting Algorithm.\n",
    "- This algorithm is used to find the majority element in an array.\n",
    "- This algorithm maintains a counter for the majority element and decrements this counter when it encounters a different element. - It's a practical and efficient algorithm often used in software development for array scanning and majority element locating tasks.\n"
   ]
  },
  {
   "cell_type": "code",
   "execution_count": null,
   "metadata": {
    "vscode": {
     "languageId": "java"
    }
   },
   "outputs": [],
   "source": [
    "// Boyer-Moore Voting Algorithm\n",
    "class Solution {\n",
    "\n",
    "  public int majorityElement(int[] nums) {\n",
    "    int count = 0, candidate = 0;\n",
    "    for (int num : nums) {\n",
    "      if (count == 0) {\n",
    "        candidate = num;\n",
    "      }\n",
    "      if (candidate == num) {\n",
    "        count++;\n",
    "      } else {\n",
    "        count--;\n",
    "      }\n",
    "    }\n",
    "    return candidate;\n",
    "  }\n",
    "}\n"
   ]
  },
  {
   "cell_type": "markdown",
   "metadata": {},
   "source": [
    "# Approach 2 (Solution using HashMap).\n",
    "- Time Complexity - O(n).\n",
    "- Space Complexity - O(n).\n",
    "\n",
    "- Create a HashSet to store the count of each numbers in the array.\n",
    "- Calculate the half of the array length in a variable \"halfCount\".\n",
    "- Whenever the count of any number is greater than halfCount, return that number."
   ]
  },
  {
   "cell_type": "code",
   "execution_count": 1,
   "metadata": {
    "vscode": {
     "languageId": "java"
    }
   },
   "outputs": [],
   "source": [
    "class Solution {\n",
    "\n",
    "  public int majorityElement(int[] nums) {\n",
    "    Map<Integer, Integer> numMap = new HashMap<>();\n",
    "    int halfCount = nums.length / 2;\n",
    "    for (int num : nums) {\n",
    "      int freq = numMap.getOrDefault(num, 0) + 1;\n",
    "      if (freq > halfCount) {\n",
    "        return num;\n",
    "      }\n",
    "      numMap.put(num, freq);\n",
    "    }\n",
    "    return 0;\n",
    "  }\n",
    "}\n"
   ]
  },
  {
   "cell_type": "code",
   "execution_count": 2,
   "metadata": {
    "vscode": {
     "languageId": "java"
    }
   },
   "outputs": [
    {
     "name": "stdout",
     "output_type": "stream",
     "text": [
      "2\n"
     ]
    }
   ],
   "source": [
    "Solution solution = new Solution();\n",
    "int[] nums = {2, 2, 1, 1, 1, 2, 2};\n",
    "int result = solution.majorityElement(nums);\n",
    "System.out.println(result);"
   ]
  },
  {
   "cell_type": "code",
   "execution_count": null,
   "metadata": {
    "vscode": {
     "languageId": "java"
    }
   },
   "outputs": [],
   "source": []
  }
 ],
 "metadata": {
  "kernelspec": {
   "display_name": "Java",
   "language": "java",
   "name": "java"
  },
  "language_info": {
   "codemirror_mode": "java",
   "file_extension": ".jshell",
   "mimetype": "text/x-java-source",
   "name": "Java",
   "pygments_lexer": "java",
   "version": "22.0.1+8-16"
  }
 },
 "nbformat": 4,
 "nbformat_minor": 2
}
