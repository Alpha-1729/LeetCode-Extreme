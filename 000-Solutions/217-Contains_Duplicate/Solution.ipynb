{
 "cells": [
  {
   "cell_type": "code",
   "execution_count": null,
   "metadata": {
    "vscode": {
     "languageId": "java"
    }
   },
   "outputs": [],
   "source": [
    "// Contains Duplicate\n",
    "\n",
    "/*\n",
    ">>>>\n",
    ">>>>\n",
    ">>>>\n",
    ">>>>\n",
    "*/\n"
   ]
  },
  {
   "cell_type": "markdown",
   "metadata": {},
   "source": [
    "# Approach 1 (Best Solution).\n",
    "- Time Complexity - O(n).\n",
    "- Space Complexity - O(n).\n",
    "\n",
    "- Loop through the int array.\n",
    "- Check whether the element exist in the HashSet or not.\n",
    "- If the element does not exist, add it to the HashSet.\n",
    "- Else, return true.\n",
    "- Finally return false.\n"
   ]
  },
  {
   "cell_type": "code",
   "execution_count": 1,
   "metadata": {
    "vscode": {
     "languageId": "java"
    }
   },
   "outputs": [],
   "source": [
    "class Solution {\n",
    "\n",
    "  public boolean containsDuplicate(int[] nums) {\n",
    "    Set<Integer> set = new HashSet<Integer>();\n",
    "    for (int num : nums) {\n",
    "      if (set.contains(num)) {\n",
    "        return true;\n",
    "      }\n",
    "      set.add(num);\n",
    "    }\n",
    "    return false;\n",
    "  }\n",
    "}\n"
   ]
  },
  {
   "cell_type": "code",
   "execution_count": 2,
   "metadata": {
    "vscode": {
     "languageId": "java"
    }
   },
   "outputs": [
    {
     "name": "stdout",
     "output_type": "stream",
     "text": [
      "true\n"
     ]
    }
   ],
   "source": [
    "Solution s = new Solution();\n",
    "\n",
    "int[] nums = {1, 2, 3, 4, 5, 2};\n",
    "boolean result = s.containsDuplicate(nums);\n",
    "System.out.println(result);\n"
   ]
  },
  {
   "cell_type": "code",
   "execution_count": null,
   "metadata": {
    "vscode": {
     "languageId": "java"
    }
   },
   "outputs": [],
   "source": []
  }
 ],
 "metadata": {
  "kernelspec": {
   "display_name": "Java",
   "language": "java",
   "name": "java"
  },
  "language_info": {
   "codemirror_mode": "java",
   "file_extension": ".jshell",
   "mimetype": "text/x-java-source",
   "name": "Java",
   "pygments_lexer": "java",
   "version": "22.0.1+8-16"
  }
 },
 "nbformat": 4,
 "nbformat_minor": 2
}
