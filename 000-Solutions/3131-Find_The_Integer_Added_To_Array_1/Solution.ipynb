{
 "cells": [
  {
   "cell_type": "code",
   "execution_count": null,
   "metadata": {
    "vscode": {
     "languageId": "java"
    }
   },
   "outputs": [],
   "source": [
    "// Find The Integer Added To Array 1\n",
    "\n",
    "/*\n",
    ">>>>\n",
    ">>>>\n",
    ">>>>\n",
    ">>>>\n",
    "*/\n"
   ]
  },
  {
   "cell_type": "markdown",
   "metadata": {},
   "source": [
    "# Approach 1 (Best Solution).\n",
    "- Time Complexity - O(n).\n",
    "- Space Complexity - O(1).\n",
    "\n",
    "- Find the max element in array1 and array2.\n",
    "- Return the difference of max element in the array2 and array1."
   ]
  },
  {
   "cell_type": "code",
   "execution_count": null,
   "metadata": {
    "vscode": {
     "languageId": "java"
    }
   },
   "outputs": [],
   "source": [
    "class Solution {\n",
    "\n",
    "  public int addedInteger(int[] nums1, int[] nums2) {\n",
    "    int arrayOneMax = 0;\n",
    "    int arrayTwoMax = 0;\n",
    "    int limit = nums1.length;\n",
    "\n",
    "    for (int i = 0; i < limit; i++) {\n",
    "      arrayOneMax = Math.max(nums1[i], arrayOneMax);\n",
    "      arrayTwoMax = Math.max(nums2[i], arrayTwoMax);\n",
    "    }\n",
    "\n",
    "    return arrayTwoMax - arrayOneMax;\n",
    "  }\n",
    "}\n"
   ]
  },
  {
   "cell_type": "code",
   "execution_count": null,
   "metadata": {
    "vscode": {
     "languageId": "java"
    }
   },
   "outputs": [],
   "source": [
    "Solution s = new Solution();\n",
    "int[] nums1 = {2, 6, 4};\n",
    "int[] nums2 = {9, 7, 5};\n",
    "\n",
    "int result = s.addedInteger(nums1, nums2);\n",
    "System.out.println(result);"
   ]
  },
  {
   "cell_type": "code",
   "execution_count": null,
   "metadata": {
    "vscode": {
     "languageId": "java"
    }
   },
   "outputs": [],
   "source": []
  }
 ],
 "metadata": {
  "kernelspec": {
   "display_name": "Java",
   "language": "java",
   "name": "java"
  },
  "language_info": {
   "codemirror_mode": "java",
   "file_extension": ".jshell",
   "mimetype": "text/x-java-source",
   "name": "Java",
   "pygments_lexer": "java",
   "version": "22.0.1+8-16"
  }
 },
 "nbformat": 4,
 "nbformat_minor": 2
}
