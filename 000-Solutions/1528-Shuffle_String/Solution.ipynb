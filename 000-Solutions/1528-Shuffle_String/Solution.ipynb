{
 "cells": [
  {
   "cell_type": "code",
   "execution_count": null,
   "metadata": {},
   "outputs": [],
   "source": [
    "// Shuffle String\n",
    "\n",
    "/*\n",
    ">>>>\n",
    ">>>>\n",
    ">>>>\n",
    ">>>>\n",
    "*/\n"
   ]
  },
  {
   "cell_type": "markdown",
   "metadata": {},
   "source": [
    "# Approach 1 (Best Solution).\n",
    "- Time Complexity - O(n).\n",
    "- Space Complexity - O(n).\n",
    "\n",
    "\n",
    "1. **Initialize Variables:**\n",
    "   - `n`: The length of the string `s`.\n",
    "   - `result`: A character array of the same length as `s` to store the restored string.\n",
    "\n",
    "2. **Loop Through the String:**\n",
    "   - Iterate over each character in the string `s`.\n",
    "   - For each character at position `i` in `s`, place it in the `result` array at the position specified by `indices[i]`.\n",
    "\n",
    "3. **Return the Result:**\n",
    "   - Convert the `result` character array back into a string and return it.\n"
   ]
  },
  {
   "cell_type": "code",
   "execution_count": null,
   "metadata": {},
   "outputs": [],
   "source": [
    "class Solution {\n",
    "    public String restoreString(String s, int[] indices) {\n",
    "        int n = s.length();\n",
    "        char[] result = new char[n];\n",
    "        for (int i = 0; i < n; i++) {\n",
    "            result[indices[i]] = s.charAt(i);\n",
    "        }\n",
    "\n",
    "        return new String(result);\n",
    "    }\n",
    "}"
   ]
  },
  {
   "cell_type": "code",
   "execution_count": null,
   "metadata": {},
   "outputs": [],
   "source": [
    "Solution solution = new Solution();\n",
    "String[] s = \"codeleet\";\n",
    "int[] indices = {4, 5, 6, 7, 0, 2, 1, 3};\n",
    "String result = solution.restoreString(s, indices);\n",
    "System.out.println(result);"
   ]
  }
 ],
 "metadata": {
  "kernelspec": {
   "display_name": "Java",
   "language": "java",
   "name": "java"
  },
  "language_info": {
   "codemirror_mode": "java",
   "file_extension": ".jshell",
   "mimetype": "text/x-java-source",
   "name": "java",
   "pygments_lexer": "java",
   "version": "21.0.2+13-LTS-58"
  }
 },
 "nbformat": 4,
 "nbformat_minor": 2
}
