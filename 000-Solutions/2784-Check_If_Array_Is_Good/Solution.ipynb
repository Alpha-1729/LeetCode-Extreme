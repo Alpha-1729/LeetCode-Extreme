{
 "cells": [
  {
   "cell_type": "code",
   "execution_count": null,
   "metadata": {
    "vscode": {
     "languageId": "java"
    }
   },
   "outputs": [],
   "source": [
    "// Check If Array Is Good\n",
    "\n",
    "/*\n",
    ">>>>\n",
    ">>>>\n",
    ">>>>\n",
    ">>>>\n",
    "*/\n"
   ]
  },
  {
   "cell_type": "markdown",
   "metadata": {},
   "source": [
    "# Approach 1 (Best Solution).\n",
    "\n",
    "- Time Complexity - O(n).\n",
    "- Space Complexity - O(n).\n",
    "\n",
    "- Set the max element in the array as the max index in the array.\n",
    "- If the array contain an element greater than max, return false.\n",
    "- If any of elements in the range 1 - (n-1) repeat twice, return false.\n",
    "- The count of the max element should be 2, else return false.\n"
   ]
  },
  {
   "cell_type": "code",
   "execution_count": null,
   "metadata": {
    "vscode": {
     "languageId": "java"
    }
   },
   "outputs": [],
   "source": [
    "class Solution {\n",
    "\n",
    "  public boolean isGood(int[] nums) {\n",
    "    int n = nums.length - 1;\n",
    "    int[] set = new int[n + 1];\n",
    "    int maxValueCount = 0;\n",
    "    for (int num : nums) {\n",
    "      if (num > n) {\n",
    "        return false;\n",
    "      } else if (num == n) {\n",
    "        maxValueCount += 1;\n",
    "      } else if (set[num] == 1) {\n",
    "        return false;\n",
    "      }\n",
    "      set[num]++;\n",
    "    }\n",
    "    return maxValueCount == 2;\n",
    "  }\n",
    "}\n"
   ]
  },
  {
   "cell_type": "markdown",
   "metadata": {},
   "source": [
    "# Approach 2 (Best Solution).\n",
    "\n",
    "- Time Complexity - O(n).\n",
    "- Space Complexity - O(n).\n",
    "\n",
    "- Set the max element in the array as the max index in the array.\n",
    "- If the array contain an element greater than max, return false.\n",
    "- If any of elements in the range 1 - (n-1) repeat twice, return false.\n",
    "- The count of the max element should be 2, else return false.\n"
   ]
  },
  {
   "cell_type": "code",
   "execution_count": null,
   "metadata": {
    "vscode": {
     "languageId": "java"
    }
   },
   "outputs": [],
   "source": [
    "class Solution {\n",
    "\n",
    "  public boolean isGood(int[] nums) {\n",
    "    int n = nums.length - 1;\n",
    "    int[] set = new int[n + 1];\n",
    "\n",
    "    for (int num : nums) {\n",
    "      if (num > n) {\n",
    "        return false;\n",
    "      }\n",
    "      set[num]++;\n",
    "    }\n",
    "\n",
    "    for (int i = 1; i < n; i++) {\n",
    "      if (set[i] != 1) {\n",
    "        return false;\n",
    "      }\n",
    "    }\n",
    "\n",
    "    return set[n] == 2;\n",
    "  }\n",
    "}\n"
   ]
  },
  {
   "cell_type": "code",
   "execution_count": null,
   "metadata": {
    "vscode": {
     "languageId": "java"
    }
   },
   "outputs": [],
   "source": [
    "Solution solution = new Solution();\n",
    "int[] nums = {2, 1, 3};\n",
    "boolean result = solution.isGood(nums);\n",
    "System.out.println(result);"
   ]
  },
  {
   "cell_type": "code",
   "execution_count": null,
   "metadata": {
    "vscode": {
     "languageId": "java"
    }
   },
   "outputs": [],
   "source": []
  }
 ],
 "metadata": {
  "kernelspec": {
   "display_name": "Java",
   "language": "java",
   "name": "java"
  },
  "language_info": {
   "codemirror_mode": "java",
   "file_extension": ".jshell",
   "mimetype": "text/x-java-source",
   "name": "Java",
   "pygments_lexer": "java",
   "version": "22.0.1+8-16"
  }
 },
 "nbformat": 4,
 "nbformat_minor": 2
}
