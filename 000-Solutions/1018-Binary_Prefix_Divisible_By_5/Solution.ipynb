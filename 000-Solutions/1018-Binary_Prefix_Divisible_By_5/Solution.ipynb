{
 "cells": [
  {
   "cell_type": "code",
   "execution_count": null,
   "metadata": {
    "vscode": {
     "languageId": "java"
    }
   },
   "outputs": [],
   "source": [
    "// Binary Prefix Divisible By 5\n",
    "\n",
    "/*\n",
    ">>>>\n",
    ">>>>\n",
    ">>>>\n",
    ">>>>\n",
    "*/\n"
   ]
  },
  {
   "cell_type": "markdown",
   "metadata": {},
   "source": [
    "# Approach 1 (Best Solution).\n",
    "- Time Complexity - O(n).\n",
    "- Space Complexity - O(n).\n",
    "\n",
    "1. **Initialize Result List**:\n",
    "   - Create a `List<Boolean>` called `output` to store the result for each prefix.\n",
    "\n",
    "2. **Initialize Cumulative Variable `res`**:\n",
    "   - Initialize an integer `res` to `0`. This variable will store the cumulative value of the binary number formed by the current prefix.\n",
    "\n",
    "3. **Iterate Through the Array**:\n",
    "   - Use a `for` loop to iterate through each bit `nums[i]` in the input array `nums`.\n",
    "   - For each bit, perform the following operations:\n",
    "     - **Left Shift `res`**: `res << 1` shifts the current value of `res` to the left by 1 bit (equivalent to multiplying it by 2).\n",
    "     - **Add the Current Bit**: The expression `res | nums[i]` adds the current bit to `res`.\n",
    "     - **Modulo 5**: Use the modulo operation `% 5` to get the remainder when the current binary prefix is divided by 5. This ensures the result doesn't overflow for large binary numbers.\n",
    "   \n",
    "4. **Check Divisibility by 5**:\n",
    "   - After each iteration, check if `res == 0`, which indicates that the current binary prefix is divisible by 5. Add `true` to the `output` list if divisible, otherwise add `false`.\n",
    "\n",
    "5. **Return Result**:\n",
    "   - Once the loop is complete, return the `output` list, which contains the divisibility results for each prefix."
   ]
  },
  {
   "cell_type": "code",
   "execution_count": null,
   "metadata": {
    "vscode": {
     "languageId": "java"
    }
   },
   "outputs": [],
   "source": [
    "class Solution {\n",
    "    public List<Boolean> prefixesDivBy5(int[] nums) {\n",
    "        List<Boolean> output = new ArrayList<>();\n",
    "\n",
    "        int res = 0;\n",
    "        for (int i = 0 ; i < nums.length; i++) {\n",
    "            res = ((res << 1) | nums[i]) % 5;\n",
    "            output.add(res == 0);\n",
    "        }\n",
    "\n",
    "        return output;\n",
    "    }\n",
    "}"
   ]
  },
  {
   "cell_type": "code",
   "execution_count": null,
   "metadata": {
    "vscode": {
     "languageId": "java"
    }
   },
   "outputs": [],
   "source": [
    "Solution solution = new Solution();\n",
    "int[] nums = {0, 1, 1};\n",
    "List<Boolean> result = solution.prefixesDivBy5(nums);\n",
    "System.out.println(result);"
   ]
  },
  {
   "cell_type": "code",
   "execution_count": null,
   "metadata": {
    "vscode": {
     "languageId": "java"
    }
   },
   "outputs": [],
   "source": []
  }
 ],
 "metadata": {
  "kernelspec": {
   "display_name": "Java",
   "language": "java",
   "name": "java"
  },
  "language_info": {
   "codemirror_mode": "java",
   "file_extension": ".jshell",
   "mimetype": "text/x-java-source",
   "name": "Java",
   "pygments_lexer": "java",
   "version": "22.0.2+9-70"
  }
 },
 "nbformat": 4,
 "nbformat_minor": 2
}
