{
 "cells": [
  {
   "cell_type": "code",
   "execution_count": null,
   "metadata": {
    "vscode": {
     "languageId": "java"
    }
   },
   "outputs": [],
   "source": [
    "// Max Consecutive Ones\n",
    "\n",
    "/*\n",
    ">>>>\n",
    ">>>>\n",
    ">>>>\n",
    ">>>>\n",
    "*/\n"
   ]
  },
  {
   "cell_type": "markdown",
   "metadata": {},
   "source": [
    "# Approach 1 (Best Solution).\n",
    "- Time Complexity - O(n).\n",
    "- Space Complexity - O(1).\n",
    "\n",
    "- Keep two variable to track the maxOneCount and oneCount.\n",
    "- If current value is 1, then increment the oneCount variable.\n",
    "- Else update the maxOneCount with largest value.\n"
   ]
  },
  {
   "cell_type": "code",
   "execution_count": 1,
   "metadata": {
    "vscode": {
     "languageId": "java"
    }
   },
   "outputs": [],
   "source": [
    "class Solution {\n",
    "\n",
    "  public int findMaxConsecutiveOnes(int[] nums) {\n",
    "    int oneCount = 0;\n",
    "    int maxOneCount = 0;\n",
    "\n",
    "    for (int i = 0; i < nums.length; i++) {\n",
    "      if (nums[i] == 1) {\n",
    "        oneCount++;\n",
    "        continue;\n",
    "      }\n",
    "      if (oneCount > maxOneCount) {\n",
    "        maxOneCount = oneCount;\n",
    "      }\n",
    "      oneCount = 0;\n",
    "    }\n",
    "\n",
    "    return Math.max(oneCount, maxOneCount);\n",
    "  }\n",
    "}\n"
   ]
  },
  {
   "cell_type": "code",
   "execution_count": 2,
   "metadata": {
    "vscode": {
     "languageId": "java"
    }
   },
   "outputs": [
    {
     "name": "stdout",
     "output_type": "stream",
     "text": [
      "3\n"
     ]
    }
   ],
   "source": [
    "Solution s = new Solution();\n",
    "int[] nums = {1, 1, 0, 1, 1, 1};\n",
    "int result = s.findMaxConsecutiveOnes(nums);\n",
    "System.out.println(result);"
   ]
  },
  {
   "cell_type": "code",
   "execution_count": null,
   "metadata": {
    "vscode": {
     "languageId": "java"
    }
   },
   "outputs": [],
   "source": []
  }
 ],
 "metadata": {
  "kernelspec": {
   "display_name": "Java",
   "language": "java",
   "name": "java"
  },
  "language_info": {
   "codemirror_mode": "java",
   "file_extension": ".jshell",
   "mimetype": "text/x-java-source",
   "name": "Java",
   "pygments_lexer": "java",
   "version": "22.0.1+8-16"
  }
 },
 "nbformat": 4,
 "nbformat_minor": 2
}
