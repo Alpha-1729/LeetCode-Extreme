{
 "cells": [
  {
   "cell_type": "code",
   "execution_count": null,
   "metadata": {
    "vscode": {
     "languageId": "java"
    }
   },
   "outputs": [],
   "source": [
    "// Triangle\n",
    "\n",
    "/*\n",
    ">>>>\n",
    ">>>>\n",
    ">>>>\n",
    ">>>>\n",
    "*/\n"
   ]
  },
  {
   "cell_type": "markdown",
   "metadata": {},
   "source": [
    "# Approach 1 (Best Solution).\n",
    "- Time Complexity - O(n^2).\n",
    "- Space Complexity - O(n).\n",
    "\n",
    "- Create an int array dp to store the minimum sum of each index.\n",
    "- With all values set to 0.\n",
    "- Loop from the last row of the triangle to the first row.\n",
    "- For each item in the row, calculate the min of value in the dp array\n",
    "- Update the current position in the dp array with sum of current value and the min value in the dp array.\n",
    "- Return the first value in the dp array."
   ]
  },
  {
   "cell_type": "code",
   "execution_count": 2,
   "metadata": {
    "vscode": {
     "languageId": "java"
    }
   },
   "outputs": [],
   "source": [
    "class Solution {\n",
    "\n",
    "  public int minimumTotal(List<List<Integer>> triangle) {\n",
    "    int rows = triangle.size();\n",
    "    int[] dp = new int[rows + 1];\n",
    "\n",
    "    for (int i = rows - 1; i >= 0; i--) {\n",
    "      for (int j = 0; j < triangle.get(i).size(); j++) {\n",
    "        int current = triangle.get(i).get(j);\n",
    "        int prevMin = Math.min(dp[j], dp[j + 1]);\n",
    "        dp[j] = current + prevMin;\n",
    "      }\n",
    "    }\n",
    "\n",
    "    return dp[0];\n",
    "  }\n",
    "}\n"
   ]
  },
  {
   "cell_type": "code",
   "execution_count": 4,
   "metadata": {
    "vscode": {
     "languageId": "java"
    }
   },
   "outputs": [
    {
     "name": "stdout",
     "output_type": "stream",
     "text": [
      "11\n"
     ]
    }
   ],
   "source": [
    "Solution s = new Solution();\n",
    "\n",
    "List<List<Integer>> triangle = new ArrayList<>();\n",
    "triangle.add(Arrays.asList(2));\n",
    "triangle.add(Arrays.asList(3, 4));\n",
    "triangle.add(Arrays.asList(6, 5, 7));\n",
    "triangle.add(Arrays.asList(4, 1, 8, 3));\n",
    "\n",
    "int result = s.minimumTotal(triangle);\n",
    "System.out.println(result);"
   ]
  },
  {
   "cell_type": "code",
   "execution_count": null,
   "metadata": {
    "vscode": {
     "languageId": "java"
    }
   },
   "outputs": [],
   "source": []
  },
  {
   "cell_type": "code",
   "execution_count": null,
   "metadata": {
    "vscode": {
     "languageId": "java"
    }
   },
   "outputs": [],
   "source": []
  }
 ],
 "metadata": {
  "kernelspec": {
   "display_name": "Java",
   "language": "java",
   "name": "java"
  },
  "language_info": {
   "codemirror_mode": "java",
   "file_extension": ".jshell",
   "mimetype": "text/x-java-source",
   "name": "Java",
   "pygments_lexer": "java",
   "version": "22.0.1+8-16"
  }
 },
 "nbformat": 4,
 "nbformat_minor": 2
}
