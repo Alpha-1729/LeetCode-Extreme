{
 "cells": [
  {
   "cell_type": "code",
   "execution_count": null,
   "metadata": {
    "vscode": {
     "languageId": "java"
    }
   },
   "outputs": [],
   "source": [
    "// Number Of Rectangles That Can Form The Largest Square\n",
    "\n",
    "/*\n",
    ">>>>\n",
    ">>>>\n",
    ">>>>\n",
    ">>>>\n",
    "*/\n"
   ]
  },
  {
   "cell_type": "markdown",
   "metadata": {},
   "source": [
    "# Approach 1 (Best Solution).\n",
    "- Time Complexity - O(n).\n",
    "- Space Complexity - O(1).\n",
    "\n",
    "- For each side in the rectangle array, max side of the square is the minimum side of the rectangle.\n",
    "- Keep track of the max side and count of the max side square.\n",
    "- Return the count of the max side square."
   ]
  },
  {
   "cell_type": "code",
   "execution_count": 1,
   "metadata": {
    "vscode": {
     "languageId": "java"
    }
   },
   "outputs": [],
   "source": [
    "class Solution {\n",
    "\n",
    "  public int countGoodRectangles(int[][] rectangles) {\n",
    "    int currentMaxSide = 0;\n",
    "    int maxSquareCount = 0;\n",
    "    for (int i = 0; i < rectangles.length; i++) {\n",
    "      int squareSide = Math.min(rectangles[i][0], rectangles[i][1]);\n",
    "\n",
    "      if (squareSide > currentMaxSide) {\n",
    "        currentMaxSide = squareSide;\n",
    "        maxSquareCount = 1;\n",
    "      } else if (squareSide == currentMaxSide) {\n",
    "        maxSquareCount++;\n",
    "      }\n",
    "    }\n",
    "    return maxSquareCount;\n",
    "  }\n",
    "}\n"
   ]
  },
  {
   "cell_type": "code",
   "execution_count": 2,
   "metadata": {
    "vscode": {
     "languageId": "java"
    }
   },
   "outputs": [
    {
     "name": "stdout",
     "output_type": "stream",
     "text": [
      "3\n"
     ]
    }
   ],
   "source": [
    "Solution s = new Solution();\n",
    "int[][] rectangles = {{5, 8}, {3, 9}, {5, 12}, {16, 5}};\n",
    "int result = s.countGoodRectangles(rectangles);\n",
    "System.out.println(result);"
   ]
  },
  {
   "cell_type": "code",
   "execution_count": null,
   "metadata": {
    "vscode": {
     "languageId": "java"
    }
   },
   "outputs": [],
   "source": []
  }
 ],
 "metadata": {
  "kernelspec": {
   "display_name": "Java",
   "language": "java",
   "name": "java"
  },
  "language_info": {
   "codemirror_mode": "java",
   "file_extension": ".jshell",
   "mimetype": "text/x-java-source",
   "name": "Java",
   "pygments_lexer": "java",
   "version": "22.0.1+8-16"
  }
 },
 "nbformat": 4,
 "nbformat_minor": 2
}
