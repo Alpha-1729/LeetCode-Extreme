{
 "cells": [
  {
   "cell_type": "code",
   "execution_count": null,
   "metadata": {
    "vscode": {
     "languageId": "java"
    }
   },
   "outputs": [],
   "source": [
    "// Hamming Distance\n",
    "\n",
    "/*\n",
    ">>>>\n",
    ">>>>\n",
    ">>>>\n",
    ">>>>\n",
    "*/\n"
   ]
  },
  {
   "cell_type": "markdown",
   "metadata": {},
   "source": [
    "# Approach 1 (Best Solution).\n",
    "- Time Complexity - O(logn).\n",
    "- Space Complexity - O(1).\n",
    "\n",
    "1. **XOR the Two Numbers**:\n",
    "   - The expression `x ^ y` (XOR) gives a result where each bit is `1` if the bits of `x` and `y` at that position are different, and `0` if they are the same.\n",
    "   - Store this result in the variable `res`.\n",
    "\n",
    "2. **Count the Number of 1's in the Result**:\n",
    "   - Initialize `count` to `0`, which will store the number of differing bits (i.e., the Hamming distance).\n",
    "   - Use a `while` loop to count the number of `1` bits in `res`:\n",
    "     - The expression `res & (res - 1)` clears the rightmost set bit (`1`) in `res`. This operation is repeated until `res` becomes `0`.\n",
    "     - Each time a bit is cleared, increment `count`.\n",
    "\n",
    "3. **Return**:\n",
    "   - After the loop finishes, return `count`, which represents the Hamming Distance between `x` and `y`."
   ]
  },
  {
   "cell_type": "code",
   "execution_count": null,
   "metadata": {
    "vscode": {
     "languageId": "java"
    }
   },
   "outputs": [],
   "source": [
    "class Solution {\n",
    "    public int hammingDistance(int x, int y) {\n",
    "        int res = x ^ y;\n",
    "        int count = 0;\n",
    "\n",
    "        while (res != 0) {\n",
    "            res = (res & (res - 1));\n",
    "            count++;\n",
    "        }\n",
    "        return count;\n",
    "    }\n",
    "}"
   ]
  },
  {
   "cell_type": "code",
   "execution_count": null,
   "metadata": {
    "vscode": {
     "languageId": "java"
    }
   },
   "outputs": [],
   "source": [
    "Solution solution = new Solution();\n",
    "int x = 1;\n",
    "int y = 4;\n",
    "int result = solution.hammingDistance(x, y);\n",
    "System.out.println(result);"
   ]
  },
  {
   "cell_type": "code",
   "execution_count": null,
   "metadata": {
    "vscode": {
     "languageId": "java"
    }
   },
   "outputs": [],
   "source": []
  }
 ],
 "metadata": {
  "kernelspec": {
   "display_name": "Java",
   "language": "java",
   "name": "java"
  },
  "language_info": {
   "codemirror_mode": "java",
   "file_extension": ".jshell",
   "mimetype": "text/x-java-source",
   "name": "Java",
   "pygments_lexer": "java",
   "version": "22.0.2+9-70"
  }
 },
 "nbformat": 4,
 "nbformat_minor": 2
}
