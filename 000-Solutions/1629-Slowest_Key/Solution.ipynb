{
 "cells": [
  {
   "cell_type": "code",
   "execution_count": null,
   "metadata": {
    "vscode": {
     "languageId": "java"
    }
   },
   "outputs": [],
   "source": [
    "// Slowest Key\n",
    "\n",
    "/*\n",
    ">>>>\n",
    ">>>>\n",
    ">>>>\n",
    ">>>>\n",
    "*/\n"
   ]
  },
  {
   "cell_type": "markdown",
   "metadata": {},
   "source": [
    "# Approach 1 (Best Solution).\n",
    "- Time Complexity - O(n).\n",
    "- Space Complexity - O(1).\n",
    "\n",
    "- Track the max release time and identify the slowest character while looping through the releaseTimes array.\n",
    "- Return the slowestKey."
   ]
  },
  {
   "cell_type": "code",
   "execution_count": 2,
   "metadata": {
    "vscode": {
     "languageId": "java"
    }
   },
   "outputs": [],
   "source": [
    "class Solution {\n",
    "    public char slowestKey(int[] releaseTimes, String keysPressed) {\n",
    "        int[] set = new int[26];\n",
    "\n",
    "        char slowestKey = '\\0';\n",
    "        int maxTime = 0;\n",
    "        int previous = 0;\n",
    "        for (int i = 0; i < releaseTimes.length; i++) {\n",
    "            int timeDiff = releaseTimes[i] - previous;\n",
    "            char currentKey = keysPressed.charAt(i);\n",
    "\n",
    "            if (timeDiff > maxTime)\n",
    "            {\n",
    "                maxTime = timeDiff;\n",
    "                slowestKey = currentKey;\n",
    "            }\n",
    "            else if (timeDiff == maxTime) {\n",
    "                slowestKey = slowestKey > currentKey ? slowestKey : currentKey;\n",
    "            }\n",
    "\n",
    "            previous = releaseTimes[i];\n",
    "        }\n",
    "\n",
    "        return slowestKey;\n",
    "    }\n",
    "}"
   ]
  },
  {
   "cell_type": "code",
   "execution_count": 3,
   "metadata": {
    "vscode": {
     "languageId": "java"
    }
   },
   "outputs": [
    {
     "name": "stdout",
     "output_type": "stream",
     "text": [
      "c\n"
     ]
    }
   ],
   "source": [
    "Solution solution = new Solution();\n",
    "int[] releaseTimes = {9, 29, 49, 50}; \n",
    "String keysPressed = \"cbcd\";\n",
    "char result = solution.slowestKey(releaseTimes, keysPressed);\n",
    "System.out.println(result);"
   ]
  },
  {
   "cell_type": "code",
   "execution_count": null,
   "metadata": {
    "vscode": {
     "languageId": "java"
    }
   },
   "outputs": [],
   "source": []
  }
 ],
 "metadata": {
  "kernelspec": {
   "display_name": "Java",
   "language": "java",
   "name": "java"
  },
  "language_info": {
   "codemirror_mode": "java",
   "file_extension": ".jshell",
   "mimetype": "text/x-java-source",
   "name": "Java",
   "pygments_lexer": "java",
   "version": "22.0.1+8-16"
  }
 },
 "nbformat": 4,
 "nbformat_minor": 2
}
