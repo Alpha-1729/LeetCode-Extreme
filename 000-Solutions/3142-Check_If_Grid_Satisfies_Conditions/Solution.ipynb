{
 "cells": [
  {
   "cell_type": "code",
   "execution_count": null,
   "metadata": {
    "vscode": {
     "languageId": "java"
    }
   },
   "outputs": [],
   "source": [
    "// Check If Grid Satisfies Conditions\n",
    "\n",
    "/*\n",
    ">>>>\n",
    ">>>>\n",
    ">>>>\n",
    ">>>>\n",
    "*/\n"
   ]
  },
  {
   "cell_type": "markdown",
   "metadata": {},
   "source": [
    "# Approach 1 (Best Solution).\n",
    "- Time Complexity - O(mxn).\n",
    "- Space Complexity - O(1).\n",
    "\n",
    "- On each iteration, check the current item and item on the right side.\n",
    "- Also check the current item and item below the current item.\n",
    "- Check the condition mentioned in th question.\n"
   ]
  },
  {
   "cell_type": "code",
   "execution_count": 1,
   "metadata": {
    "vscode": {
     "languageId": "java"
    }
   },
   "outputs": [],
   "source": [
    "class Solution {\n",
    "\n",
    "  public boolean satisfiesConditions(int[][] grid) {\n",
    "    int r = grid.length;\n",
    "    int c = grid[0].length;\n",
    "\n",
    "    for (int i = 0; i < r; i++) {\n",
    "      for (int j = 0; j < c; j++) {\n",
    "        if (j < c - 1) {\n",
    "          if (grid[i][j] == grid[i][j + 1]) {\n",
    "            return false;\n",
    "          }\n",
    "        }\n",
    "        if (i < r - 1) {\n",
    "          if (grid[i][j] != grid[i + 1][j]) {\n",
    "            return false;\n",
    "          }\n",
    "        }\n",
    "      }\n",
    "    }\n",
    "\n",
    "    return true;\n",
    "  }\n",
    "}\n"
   ]
  },
  {
   "cell_type": "code",
   "execution_count": 2,
   "metadata": {
    "vscode": {
     "languageId": "java"
    }
   },
   "outputs": [
    {
     "name": "stdout",
     "output_type": "stream",
     "text": [
      "true\n"
     ]
    }
   ],
   "source": [
    "Solution s = new Solution();\n",
    "int[][] grid = {{1, 0, 2}, {1, 0, 2}};\n",
    "boolean result = s.satisfiesConditions(grid);\n",
    "System.out.println(result);"
   ]
  },
  {
   "cell_type": "code",
   "execution_count": null,
   "metadata": {
    "vscode": {
     "languageId": "java"
    }
   },
   "outputs": [],
   "source": []
  }
 ],
 "metadata": {
  "kernelspec": {
   "display_name": "Java",
   "language": "java",
   "name": "java"
  },
  "language_info": {
   "codemirror_mode": "java",
   "file_extension": ".jshell",
   "mimetype": "text/x-java-source",
   "name": "Java",
   "pygments_lexer": "java",
   "version": "22.0.1+8-16"
  }
 },
 "nbformat": 4,
 "nbformat_minor": 2
}
