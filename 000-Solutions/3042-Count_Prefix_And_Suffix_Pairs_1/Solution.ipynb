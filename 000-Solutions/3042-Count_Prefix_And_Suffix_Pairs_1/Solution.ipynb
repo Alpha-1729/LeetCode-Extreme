{
 "cells": [
  {
   "cell_type": "code",
   "execution_count": null,
   "metadata": {
    "vscode": {
     "languageId": "java"
    }
   },
   "outputs": [],
   "source": [
    "// Count Prefix And Suffix Pairs 1\n",
    "\n",
    "/*\n",
    ">>>>\n",
    ">>>>\n",
    ">>>>\n",
    ">>>>\n",
    "*/\n"
   ]
  },
  {
   "cell_type": "markdown",
   "metadata": {},
   "source": [
    "# Approach 1 (Best Solution).\n",
    "- Time Complexity - O(n^2).\n",
    "- Space Complexity - O(1).\n",
    "\n",
    "- Compare each words in the list with words after that.\n",
    "- Check first word with the prefix and suffix of the second word.\n",
    "- Return the count."
   ]
  },
  {
   "cell_type": "code",
   "execution_count": null,
   "metadata": {
    "vscode": {
     "languageId": "java"
    }
   },
   "outputs": [],
   "source": [
    "class Solution {\n",
    "    public int countPrefixSuffixPairs(String[] words) {\n",
    "        int count = 0;\n",
    "        for (int i = 0; i < words.length; i++) {\n",
    "            String first = words[i];\n",
    "            for (int j = i + 1; j < words.length; j++) {\n",
    "                String second = words[j];\n",
    "\n",
    "                if (second.length() < first.length()) {\n",
    "                    continue;\n",
    "                }\n",
    "\n",
    "                for (int k = 0; k < first.length(); k++) {\n",
    "                    char firstStartChar = first.charAt(k);\n",
    "                    char secondStartChar = second.charAt(k);\n",
    "                    char secondEndChar = second.charAt(second.length() - first.length() + k);\n",
    "                    \n",
    "                    if (firstStartChar != secondStartChar || firstStartChar != secondEndChar) {\n",
    "                        count--;\n",
    "                        break;\n",
    "                    }\n",
    "                }\n",
    "                count++;\n",
    "            }\n",
    "        }\n",
    "        return count;\n",
    "    }\n",
    "}"
   ]
  },
  {
   "cell_type": "code",
   "execution_count": null,
   "metadata": {
    "vscode": {
     "languageId": "java"
    }
   },
   "outputs": [],
   "source": [
    "Solution solution = new Solution();\n",
    "String[] words = {\"pa\", \"papa\", \"ma\", \"mama\"};\n",
    "int result = solution.countPrefixSuffixPairs(words);\n",
    "System.out.println(result);"
   ]
  },
  {
   "cell_type": "code",
   "execution_count": null,
   "metadata": {
    "vscode": {
     "languageId": "java"
    }
   },
   "outputs": [],
   "source": []
  }
 ],
 "metadata": {
  "kernelspec": {
   "display_name": "Java",
   "language": "java",
   "name": "java"
  },
  "language_info": {
   "codemirror_mode": "java",
   "file_extension": ".jshell",
   "mimetype": "text/x-java-source",
   "name": "Java",
   "pygments_lexer": "java",
   "version": "21.0.3+9-Debian-2"
  }
 },
 "nbformat": 4,
 "nbformat_minor": 2
}
