{
 "cells": [
  {
   "cell_type": "code",
   "execution_count": null,
   "metadata": {
    "vscode": {
     "languageId": "java"
    }
   },
   "outputs": [],
   "source": [
    "// Convert 1d Array Into 2d Array\n",
    "\n",
    "/*\n",
    ">>>>\n",
    ">>>>\n",
    ">>>>\n",
    ">>>>\n",
    "*/\n"
   ]
  },
  {
   "cell_type": "markdown",
   "metadata": {},
   "source": [
    "# Approach 1 (Best Solution).\n",
    "- Time Complexity - O(n).\n",
    "- Space Complexity - O(mxn).\n",
    "\n",
    "- Loop through all the elements in the one dimensional array and store it directly into the 2D array."
   ]
  },
  {
   "cell_type": "code",
   "execution_count": null,
   "metadata": {
    "vscode": {
     "languageId": "java"
    }
   },
   "outputs": [],
   "source": [
    "class Solution {\n",
    "\n",
    "  public int[][] construct2DArray(int[] original, int m, int n) {\n",
    "    if ((m * n) != original.length) {\n",
    "      return new int[0][0];\n",
    "    }\n",
    "\n",
    "    int[][] result = new int[m][n];\n",
    "\n",
    "    int rowNum = 0;\n",
    "    int columnNum = 0;\n",
    "    for (int i = 0; i < original.length; i++) {\n",
    "      result[rowNum][columnNum] = original[i];\n",
    "      columnNum++;\n",
    "      if (columnNum == n) {\n",
    "        columnNum = 0;\n",
    "        rowNum++;\n",
    "      }\n",
    "    }\n",
    "\n",
    "    return result;\n",
    "  }\n",
    "}\n"
   ]
  },
  {
   "cell_type": "code",
   "execution_count": null,
   "metadata": {
    "vscode": {
     "languageId": "java"
    }
   },
   "outputs": [],
   "source": [
    "Solution s = new Solution();\n",
    "int[] original = {1, 2, 3};\n",
    "int m = 1;\n",
    "int n = 3;\n",
    "int[][] result = s.construct2DArray(original, m, n);\n",
    "for (int[] row : result)\n",
    "{\n",
    "\tSystem.out.println(Arrays.toString(row));\n",
    "}"
   ]
  },
  {
   "cell_type": "code",
   "execution_count": null,
   "metadata": {
    "vscode": {
     "languageId": "java"
    }
   },
   "outputs": [],
   "source": []
  }
 ],
 "metadata": {
  "kernelspec": {
   "display_name": "Java",
   "language": "java",
   "name": "java"
  },
  "language_info": {
   "codemirror_mode": "java",
   "file_extension": ".jshell",
   "mimetype": "text/x-java-source",
   "name": "Java",
   "pygments_lexer": "java",
   "version": "22.0.1+8-16"
  }
 },
 "nbformat": 4,
 "nbformat_minor": 2
}
