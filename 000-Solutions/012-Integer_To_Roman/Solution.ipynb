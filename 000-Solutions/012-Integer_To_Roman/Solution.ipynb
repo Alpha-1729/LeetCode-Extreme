{
 "cells": [
  {
   "cell_type": "code",
   "execution_count": null,
   "metadata": {
    "vscode": {
     "languageId": "java"
    }
   },
   "outputs": [],
   "source": [
    "// Integer To Roman\n",
    "\n",
    "/*\n",
    ">>>>\n",
    ">>>>\n",
    ">>>>\n",
    ">>>>\n",
    "*/\n"
   ]
  },
  {
   "cell_type": "markdown",
   "metadata": {},
   "source": [
    "# Approach 1 (Best Solution).\n",
    "- Time Complexity - O(1).\n",
    "- Space Complexity - O(1).\n",
    "\n",
    "1. **Predefined Roman Numeral Arrays**:\n",
    "   - There are four arrays: `ones`, `tens`, `hundreds`, and `thousands`, each containing Roman numeral representations for numbers 0-9, 10-90, 100-900, and 1000-3000 respectively.\n",
    "\n",
    "2. **StringBuilder for the Result**:\n",
    "   - A `StringBuilder` is used to construct the Roman numeral string efficiently.\n",
    "\n",
    "3. **Conversion Logic**:\n",
    "   - The method appends the appropriate Roman numeral segments to the `StringBuilder` by indexing into the predefined arrays based on the digits in `num`.\n",
    "   - It handles each digit place (thousands, hundreds, tens, ones) separately.\n",
    "\n",
    "4. **Returning the Result**:\n",
    "   - The method returns the final Roman numeral string after constructing it from the thousands, hundreds, tens, and ones places.\n"
   ]
  },
  {
   "cell_type": "code",
   "execution_count": null,
   "metadata": {
    "vscode": {
     "languageId": "java"
    }
   },
   "outputs": [],
   "source": [
    "class Solution {\n",
    "    public static final String ones[] = {\"\", \"I\", \"II\", \"III\", \"IV\", \"V\", \"VI\", \"VII\", \"VIII\", \"IX\"};\n",
    "    public static final String tens[] = {\"\", \"X\", \"XX\", \"XXX\", \"XL\", \"L\", \"LX\", \"LXX\", \"LXXX\", \"XC\"};\n",
    "    public static final String hundreds[] = {\"\", \"C\", \"CC\", \"CCC\", \"CD\", \"D\", \"DC\", \"DCC\", \"DCCC\", \"CM\"};\n",
    "    public static final String thousands[] = {\"\", \"M\", \"MM\", \"MMM\"};\n",
    "    \n",
    "    public String intToRoman(int num) {\n",
    "        StringBuilder sb = new StringBuilder();\n",
    "        sb.append(thousands[num / 1000]);\n",
    "        sb.append(hundreds[(num % 1000) / 100]);\n",
    "        sb.append(tens[(num % 100) / 10]);\n",
    "        sb.append(ones[num % 10]);\n",
    "\n",
    "        return sb.toString();\n",
    "    }\n",
    "}"
   ]
  },
  {
   "cell_type": "markdown",
   "metadata": {
    "vscode": {
     "languageId": "java"
    }
   },
   "source": [
    "# Approach 2.\n",
    "- Time Complexity - O(1).\n",
    "- Space Complexity - O(1).\n",
    "\n",
    "1. **Roman Numerals and Values**:\n",
    "   - Two arrays are defined: one for Roman numeral symbols in descending order of value, and another for the corresponding integer values.\n",
    "\n",
    "2. **StringBuilder for the Result**:\n",
    "   - A `StringBuilder` is used to efficiently build the final Roman numeral string.\n",
    "\n",
    "3. **Conversion Logic**:\n",
    "   - The method iterates over each value in the numeral array.\n",
    "   - For each numeral, the method appends the corresponding Roman symbol to the `StringBuilder` as long as `num` is greater than or equal to the numeral value.\n",
    "   - The value of `num` is decreased accordingly.\n",
    "\n",
    "4. **Returning the Result**:\n",
    "   - After processing all numeral values, the method returns the final Roman numeral string."
   ]
  },
  {
   "cell_type": "code",
   "execution_count": null,
   "metadata": {
    "vscode": {
     "languageId": "java"
    }
   },
   "outputs": [],
   "source": [
    "class Solution {\n",
    "    public String intToRoman(int num) {\n",
    "        String[] roman = new String[] { \"M\", \"CM\", \"D\", \"CD\", \"C\", \"XC\", \"L\", \"XL\", \"X\", \"IX\", \"V\", \"IV\", \"I\" };\n",
    "        int[] numeral = new int[] { 1000, 900, 500, 400, 100, 90, 50, 40, 10, 9, 5, 4, 1 };\n",
    "\n",
    "        StringBuilder sb = new StringBuilder();\n",
    "\n",
    "        for (int i = 0; i < numeral.length; i++) {\n",
    "            while (num >= numeral[i]) {\n",
    "                sb.append(roman[i]);\n",
    "                num -= numeral[i];\n",
    "            }\n",
    "        }\n",
    "\n",
    "        return sb.toString();\n",
    "    }\n",
    "}"
   ]
  },
  {
   "cell_type": "code",
   "execution_count": null,
   "metadata": {
    "vscode": {
     "languageId": "java"
    }
   },
   "outputs": [],
   "source": [
    "Solution solution = new Solution();\n",
    "int num = 3749;\n",
    "String result = solution.intToRoman(num);\n",
    "System.out.println(result);"
   ]
  },
  {
   "cell_type": "code",
   "execution_count": null,
   "metadata": {
    "vscode": {
     "languageId": "java"
    }
   },
   "outputs": [],
   "source": []
  },
  {
   "cell_type": "code",
   "execution_count": null,
   "metadata": {
    "vscode": {
     "languageId": "java"
    }
   },
   "outputs": [],
   "source": []
  }
 ],
 "metadata": {
  "kernelspec": {
   "display_name": "Java",
   "language": "java",
   "name": "java"
  },
  "language_info": {
   "codemirror_mode": "java",
   "file_extension": ".jshell",
   "mimetype": "text/x-java-source",
   "name": "Java",
   "pygments_lexer": "java",
   "version": "22.0.2+9-70"
  }
 },
 "nbformat": 4,
 "nbformat_minor": 2
}
