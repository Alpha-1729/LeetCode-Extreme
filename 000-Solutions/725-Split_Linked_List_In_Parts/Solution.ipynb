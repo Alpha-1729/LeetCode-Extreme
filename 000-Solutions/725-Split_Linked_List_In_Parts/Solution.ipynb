{
 "cells": [
  {
   "cell_type": "code",
   "execution_count": null,
   "metadata": {},
   "outputs": [],
   "source": [
    "// Split Linked List In Parts\n",
    "\n",
    "/*\n",
    ">>>>\n",
    ">>>>\n",
    ">>>>\n",
    ">>>>\n",
    "*/\n"
   ]
  },
  {
   "cell_type": "markdown",
   "metadata": {},
   "source": [
    "# Approach 1 (Best Solution).\n",
    "- Time Complexity - O(n).\n",
    "- Space Complexity - O(1).\n",
    "\n",
    "- Get the number of nodes in the linked list.\n",
    "- Calculate the number of nodes that can be available in the index of the final array.\n",
    "- Calculate the extra nodes in the linked list that can the added in the initial index of the array.\n",
    "- Move through the nodes of the linked list and place each node in the index of the array.\n",
    "- Set the last node in the each index to null.\n"
   ]
  },
  {
   "cell_type": "code",
   "execution_count": null,
   "metadata": {},
   "outputs": [],
   "source": [
    "public class ListNode {\n",
    "\n",
    "  int val;\n",
    "  ListNode next;\n",
    "\n",
    "  ListNode() {}\n",
    "\n",
    "  ListNode(int val) {\n",
    "    this.val = val;\n",
    "  }\n",
    "\n",
    "  ListNode(int val, ListNode next) {\n",
    "    this.val = val;\n",
    "    this.next = next;\n",
    "  }\n",
    "}\n"
   ]
  },
  {
   "cell_type": "code",
   "execution_count": null,
   "metadata": {},
   "outputs": [],
   "source": [
    "class Solution {\n",
    "\n",
    "  public ListNode[] splitListToParts(ListNode head, int k) {\n",
    "    ListNode[] result = new ListNode[k];\n",
    "\n",
    "    // Getting the count of the node in the Linked List.\n",
    "    int nodeCount = 0;\n",
    "    for (ListNode current = head; current != null; current = current.next) {\n",
    "      nodeCount++;\n",
    "    }\n",
    "\n",
    "    ListNode prevNode = head;\n",
    "    int extras = nodeCount % k;\n",
    "    int split = nodeCount / k;\n",
    "\n",
    "    for (int i = 0; head != null && i < k; i++, extras--) {\n",
    "      result[i] = head;\n",
    "\n",
    "      for (int j = 0; j < split + (extras > 0 ? 1 : 0); j++) {\n",
    "        prevNode = head;\n",
    "        head = head.next;\n",
    "      }\n",
    "      prevNode.next = null;\n",
    "    }\n",
    "    return result;\n",
    "  }\n",
    "}\n"
   ]
  },
  {
   "cell_type": "code",
   "execution_count": null,
   "metadata": {},
   "outputs": [],
   "source": [
    "Solution s = new Solution();"
   ]
  }
 ],
 "metadata": {
  "kernelspec": {
   "display_name": "Java",
   "language": "java",
   "name": "java"
  },
  "language_info": {
   "codemirror_mode": "java",
   "file_extension": ".jshell",
   "mimetype": "text/x-java-source",
   "name": "java",
   "pygments_lexer": "java",
   "version": "21.0.2+13-LTS-58"
  }
 },
 "nbformat": 4,
 "nbformat_minor": 2
}
