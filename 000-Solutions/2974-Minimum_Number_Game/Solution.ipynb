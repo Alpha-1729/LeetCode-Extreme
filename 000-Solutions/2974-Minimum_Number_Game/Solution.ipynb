{
 "cells": [
  {
   "cell_type": "code",
   "execution_count": null,
   "metadata": {
    "vscode": {
     "languageId": "java"
    }
   },
   "outputs": [],
   "source": [
    "// Minimum Number Game\n",
    "\n",
    "/*\n",
    ">>>>\n",
    ">>>>\n",
    ">>>>\n",
    ">>>>\n",
    "*/\n"
   ]
  },
  {
   "cell_type": "markdown",
   "metadata": {},
   "source": [
    "# Approach 1 (Best Solution).\n",
    "\n",
    "- Time Complexity - O(n).\n",
    "- Space Complexity - O(n).\n",
    "\n",
    "- First sort the array.\n",
    "- Shuffle the elements in the odd and even positions.\n"
   ]
  },
  {
   "cell_type": "code",
   "execution_count": null,
   "metadata": {
    "vscode": {
     "languageId": "java"
    }
   },
   "outputs": [],
   "source": [
    "class Solution {\n",
    "\n",
    "  public int[] numberGame(int[] nums) {\n",
    "    int[] set = new int[101];\n",
    "\n",
    "    // Store the count of each numbers in the array.\n",
    "    for (int num : nums) {\n",
    "      set[num]++;\n",
    "    }\n",
    "\n",
    "    // Sort the array.\n",
    "    int j = 0;\n",
    "    for (int i = 1; i < 101; i++) {\n",
    "      while (set[i] > 0) {\n",
    "        set[i]--;\n",
    "        nums[j++] = i;\n",
    "      }\n",
    "    }\n",
    "\n",
    "    // Shuffle the elements.\n",
    "    for (int i = 0; i < nums.length; i += 2) {\n",
    "      int temp = nums[i];\n",
    "      nums[i] = nums[i + 1];\n",
    "      nums[i + 1] = temp;\n",
    "    }\n",
    "\n",
    "    return nums;\n",
    "  }\n",
    "}\n"
   ]
  },
  {
   "cell_type": "code",
   "execution_count": null,
   "metadata": {
    "vscode": {
     "languageId": "java"
    }
   },
   "outputs": [],
   "source": [
    "Solution solution = new Solution();\n",
    "int[] nums = {5, 4, 2, 3};\n",
    "int[] result = solution.numberGame(nums);\n",
    "System.out.println(Arrays.toString(result));"
   ]
  },
  {
   "cell_type": "code",
   "execution_count": null,
   "metadata": {
    "vscode": {
     "languageId": "java"
    }
   },
   "outputs": [],
   "source": []
  }
 ],
 "metadata": {
  "kernelspec": {
   "display_name": "Java",
   "language": "java",
   "name": "java"
  },
  "language_info": {
   "codemirror_mode": "java",
   "file_extension": ".jshell",
   "mimetype": "text/x-java-source",
   "name": "Java",
   "pygments_lexer": "java",
   "version": "22.0.1+8-16"
  }
 },
 "nbformat": 4,
 "nbformat_minor": 2
}
