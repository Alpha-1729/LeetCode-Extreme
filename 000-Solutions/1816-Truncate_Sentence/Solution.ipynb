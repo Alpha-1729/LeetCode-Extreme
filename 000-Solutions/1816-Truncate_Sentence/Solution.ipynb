{
 "cells": [
  {
   "cell_type": "code",
   "execution_count": null,
   "metadata": {
    "vscode": {
     "languageId": "java"
    }
   },
   "outputs": [],
   "source": [
    "// Truncate Sentence\n",
    "\n",
    "/*\n",
    ">>>>\n",
    ">>>>\n",
    ">>>>\n",
    ">>>>\n",
    "*/\n"
   ]
  },
  {
   "cell_type": "markdown",
   "metadata": {},
   "source": [
    "# Approach 1 (Best Solution).\n",
    "- Time Complexity - O(n).\n",
    "- Space Complexity - O(n).\n",
    "\n",
    "- Loop through the characters in string.\n",
    "- Track the count of spaces in the string.\n",
    "- If the count of spaces equals k, return the string before the last spaces.\n",
    "- Else return the entire string."
   ]
  },
  {
   "cell_type": "code",
   "execution_count": null,
   "metadata": {
    "vscode": {
     "languageId": "java"
    }
   },
   "outputs": [],
   "source": [
    "class Solution {\n",
    "\n",
    "  public String truncateSentence(String s, int k) {\n",
    "    for (int i = 0; i < s.length(); i++) {\n",
    "      char ch = s.charAt(i);\n",
    "      if (ch == ' ') {\n",
    "        k--;\n",
    "      }\n",
    "\n",
    "      if (k == 0) {\n",
    "        return s.substring(0, i);\n",
    "      }\n",
    "    }\n",
    "\n",
    "    return s;\n",
    "  }\n",
    "}\n"
   ]
  },
  {
   "cell_type": "markdown",
   "metadata": {
    "vscode": {
     "languageId": "java"
    }
   },
   "source": [
    "# Approach 2 (Best Solution using String Builder).\n",
    "- Time Complexity - O(n).\n",
    "- Space Complexity - O(n).\n",
    "\n",
    "- Loop through the characters in string.\n",
    "- Track the count of spaces in the string.\n",
    "- If the count of spaces equals k, return the string before the last spaces.\n",
    "- Else return the entire string."
   ]
  },
  {
   "cell_type": "code",
   "execution_count": null,
   "metadata": {
    "vscode": {
     "languageId": "java"
    }
   },
   "outputs": [],
   "source": [
    "class Solution {\n",
    "    public String truncateSentence(String s, int k) {\n",
    "        StringBuilder sb = new StringBuilder();\n",
    "\n",
    "        for (int i = 0; i < s.length(); i++) {\n",
    "            char ch = s.charAt(i);\n",
    "            if ((ch == ' ') && (--k == 0)) {\n",
    "                return sb.toString();\n",
    "            }\n",
    "            sb.append(ch);\n",
    "        }\n",
    "\n",
    "        return s;\n",
    "    }\n",
    "}"
   ]
  },
  {
   "cell_type": "code",
   "execution_count": null,
   "metadata": {
    "vscode": {
     "languageId": "java"
    }
   },
   "outputs": [],
   "source": [
    "Solution solution = new Solution();\n",
    "String s = \"Hello how are you Contestant\";\n",
    "int k = 4;\n",
    "String result = solution.truncateSentence(s, k);\n",
    "System.out.println(result);"
   ]
  },
  {
   "cell_type": "code",
   "execution_count": null,
   "metadata": {
    "vscode": {
     "languageId": "java"
    }
   },
   "outputs": [],
   "source": []
  }
 ],
 "metadata": {
  "kernelspec": {
   "display_name": "Java",
   "language": "java",
   "name": "java"
  },
  "language_info": {
   "codemirror_mode": "java",
   "file_extension": ".jshell",
   "mimetype": "text/x-java-source",
   "name": "Java",
   "pygments_lexer": "java",
   "version": "22.0.1+8-16"
  }
 },
 "nbformat": 4,
 "nbformat_minor": 2
}
