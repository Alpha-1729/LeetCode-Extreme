{
 "cells": [
  {
   "cell_type": "code",
   "execution_count": null,
   "metadata": {
    "vscode": {
     "languageId": "java"
    }
   },
   "outputs": [],
   "source": [
    "// Detect Capital\n",
    "\n",
    "/*\n",
    ">>>>\n",
    ">>>>\n",
    ">>>>\n",
    ">>>>\n",
    "*/\n"
   ]
  },
  {
   "cell_type": "markdown",
   "metadata": {},
   "source": [
    "# Approach 1 (Best Solution).\n",
    "- Time Complexity - O(n).\n",
    "- Space Complexity - O(1).\n",
    "\n",
    "- Check the similarity of all the characters after the first character.\n",
    "  - If there is a mismatch in the similarity, return false.\n",
    "- If the last character is upper case and first character is lower case, return false.\n",
    "- Finally return true."
   ]
  },
  {
   "cell_type": "code",
   "execution_count": null,
   "metadata": {
    "vscode": {
     "languageId": "java"
    }
   },
   "outputs": [],
   "source": [
    "class Solution {\n",
    "    public boolean detectCapitalUse(String word) {\n",
    "        if (word.length() == 1) {\n",
    "            return true;\n",
    "        }\n",
    "\n",
    "        boolean isStartLower = isLowerType(word, 0);\n",
    "        boolean isEndLower = isLowerType(word, word.length() - 1);\n",
    "\n",
    "        // If the last character is upper case and first character is a lower case.\n",
    "        if (isStartLower && !isEndLower)\n",
    "        {\n",
    "            return false;\n",
    "        }\n",
    "        \n",
    "        // Checking the similarity of all character other that the first character.\n",
    "        for (int i = 1; i < word.length(); i++) {\n",
    "            boolean isCurrentCharLower = isLowerType(word, i);\n",
    "            if (isEndLower != isCurrentCharLower)\n",
    "            {\n",
    "                return false;\n",
    "            }\n",
    "        }\n",
    "        return true;\n",
    "    }\n",
    "\n",
    "    // Return true, if character is lower.\n",
    "    public boolean isLowerType(String s, int index) {\n",
    "        char ch = s.charAt(index);\n",
    "\n",
    "        if (ch >= 'a' && ch <= 'z') {\n",
    "            return true;\n",
    "        }\n",
    "        return false;\n",
    "    }\n",
    "}"
   ]
  },
  {
   "cell_type": "code",
   "execution_count": null,
   "metadata": {
    "vscode": {
     "languageId": "java"
    }
   },
   "outputs": [],
   "source": [
    "Solution solution = new Solution();\n",
    "String word = \"USA\";\n",
    "boolean result = solution.detectCapitalUse(word);\n",
    "System.out.println(result);"
   ]
  },
  {
   "cell_type": "code",
   "execution_count": null,
   "metadata": {
    "vscode": {
     "languageId": "java"
    }
   },
   "outputs": [],
   "source": []
  }
 ],
 "metadata": {
  "kernelspec": {
   "display_name": "Java",
   "language": "java",
   "name": "java"
  },
  "language_info": {
   "codemirror_mode": "java",
   "file_extension": ".jshell",
   "mimetype": "text/x-java-source",
   "name": "Java",
   "pygments_lexer": "java",
   "version": "22.0.1+8-16"
  }
 },
 "nbformat": 4,
 "nbformat_minor": 2
}
