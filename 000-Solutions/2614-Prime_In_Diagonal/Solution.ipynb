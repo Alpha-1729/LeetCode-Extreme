{
 "cells": [
  {
   "cell_type": "code",
   "execution_count": null,
   "metadata": {
    "vscode": {
     "languageId": "java"
    }
   },
   "outputs": [],
   "source": [
    "// Prime In Diagonal\n",
    "\n",
    "/*\n",
    ">>>>\n",
    ">>>>\n",
    ">>>>\n",
    ">>>>\n",
    "*/\n"
   ]
  },
  {
   "cell_type": "markdown",
   "metadata": {},
   "source": [
    "# Approach 1 (Best Solution).\n",
    "\n",
    "- Time Complexity - O(nlogn).\n",
    "- Space Complexity - O(1).\n",
    "\n",
    "- Create a variable to store the largest prime number.\n",
    "- Loop through all the diagonal elements in the each row of the grid.\n",
    "- Check whether the diagonal element is greater than the current largest prime.\n",
    "- If it is greater than largest prime, check whether the number is prime or not.\n",
    "- If the number is prime, update the largestPrime with this variable.\n",
    "- Return the largestPrime variable.\n"
   ]
  },
  {
   "cell_type": "code",
   "execution_count": 1,
   "metadata": {
    "vscode": {
     "languageId": "java"
    }
   },
   "outputs": [],
   "source": [
    "class Solution {\n",
    "\n",
    "  public int diagonalPrime(int[][] nums) {\n",
    "    int n = nums.length;\n",
    "    int largestPrime = 0;\n",
    "\n",
    "    for (int i = 0; i < n; i++) {\n",
    "      int diagonalOneNum = nums[i][i];\n",
    "      if (diagonalOneNum > largestPrime) {\n",
    "        if (isPrime(diagonalOneNum)) {\n",
    "          largestPrime = diagonalOneNum;\n",
    "        }\n",
    "      }\n",
    "\n",
    "      int diagonalTwoNum = nums[i][n - i - 1];\n",
    "      if (diagonalTwoNum > largestPrime) {\n",
    "        if (isPrime(diagonalTwoNum)) {\n",
    "          largestPrime = diagonalTwoNum;\n",
    "        }\n",
    "      }\n",
    "    }\n",
    "\n",
    "    return largestPrime;\n",
    "  }\n",
    "\n",
    "  public boolean isPrime(int num) {\n",
    "    if (num < 2) {\n",
    "      return false;\n",
    "    }\n",
    "\n",
    "    int limit = (int) Math.sqrt(num);\n",
    "\n",
    "    for (int i = 2; i <= limit; i++) {\n",
    "      if (num % i == 0) {\n",
    "        return false;\n",
    "      }\n",
    "    }\n",
    "\n",
    "    return true;\n",
    "  }\n",
    "}\n"
   ]
  },
  {
   "cell_type": "code",
   "execution_count": 2,
   "metadata": {
    "vscode": {
     "languageId": "java"
    }
   },
   "outputs": [
    {
     "name": "stdout",
     "output_type": "stream",
     "text": [
      "17\n"
     ]
    }
   ],
   "source": [
    "Solution solution = new Solution();\n",
    "int[][] nums = {{1, 2, 3}, {5, 17, 7}, {9, 11, 10}};\n",
    "int result = solution.diagonalPrime(nums);\n",
    "System.out.println(result);"
   ]
  },
  {
   "cell_type": "code",
   "execution_count": null,
   "metadata": {
    "vscode": {
     "languageId": "java"
    }
   },
   "outputs": [],
   "source": []
  }
 ],
 "metadata": {
  "kernelspec": {
   "display_name": "Java",
   "language": "java",
   "name": "java"
  },
  "language_info": {
   "codemirror_mode": "java",
   "file_extension": ".jshell",
   "mimetype": "text/x-java-source",
   "name": "Java",
   "pygments_lexer": "java",
   "version": "22.0.1+8-16"
  }
 },
 "nbformat": 4,
 "nbformat_minor": 2
}
