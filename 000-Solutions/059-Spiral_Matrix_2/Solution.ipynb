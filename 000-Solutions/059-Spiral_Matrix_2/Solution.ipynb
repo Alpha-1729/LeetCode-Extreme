{
 "cells": [
  {
   "cell_type": "code",
   "execution_count": null,
   "metadata": {
    "vscode": {
     "languageId": "java"
    }
   },
   "outputs": [],
   "source": [
    "// Spiral Matrix 2\n",
    "\n",
    "/*\n",
    ">>>>\n",
    ">>>>\n",
    ">>>>\n",
    ">>>>\n",
    "*/\n"
   ]
  },
  {
   "cell_type": "markdown",
   "metadata": {},
   "source": [
    "# Approach 1 (Best Solution).\n",
    "- Time Complexity - O(n^2).\n",
    "- Space Complexity - O(1).\n",
    "\n",
    "\n",
    "- Loop through the matrix in a spiral pattern.\n",
    "- Go right, down, left, up till all elements are filled with number from 1 to n^2."
   ]
  },
  {
   "cell_type": "code",
   "execution_count": 1,
   "metadata": {
    "vscode": {
     "languageId": "java"
    }
   },
   "outputs": [],
   "source": [
    "class Solution {\n",
    "\n",
    "  public int[][] generateMatrix(int n) {\n",
    "    int left = 0;\n",
    "    int right = n;\n",
    "    int top = 0;\n",
    "    int bottom = n;\n",
    "    int number = 1;\n",
    "    int[][] matrix = new int[n][n];\n",
    "\n",
    "    while (left < right && top < bottom) {\n",
    "      // Move Right\n",
    "      for (int i = left; i < right; i++) {\n",
    "        matrix[top][i] = number++;\n",
    "      }\n",
    "      top++;\n",
    "\n",
    "      // Move Down\n",
    "      for (int i = top; i < bottom; i++) {\n",
    "        matrix[i][right - 1] = number++;\n",
    "      }\n",
    "      right--;\n",
    "\n",
    "      if (!(left < right && top < bottom)) {\n",
    "        break;\n",
    "      }\n",
    "\n",
    "      // Move Left\n",
    "      for (int i = right - 1; i >= left; i--) {\n",
    "        matrix[bottom - 1][i] = number++;\n",
    "      }\n",
    "      bottom--;\n",
    "\n",
    "      // Move Down.\n",
    "      for (int i = bottom - 1; i >= top; i--) {\n",
    "        matrix[i][left] = number++;\n",
    "      }\n",
    "      left++;\n",
    "    }\n",
    "    return matrix;\n",
    "  }\n",
    "}\n"
   ]
  },
  {
   "cell_type": "code",
   "execution_count": 2,
   "metadata": {
    "vscode": {
     "languageId": "java"
    }
   },
   "outputs": [
    {
     "name": "stdout",
     "output_type": "stream",
     "text": [
      "[1, 2, 3, 4, 5]\n",
      "[16, 17, 18, 19, 6]\n",
      "[15, 24, 25, 20, 7]\n",
      "[14, 23, 22, 21, 8]\n",
      "[13, 12, 11, 10, 9]\n"
     ]
    }
   ],
   "source": [
    "Solution s = new Solution();\n",
    "int[][] result = s.generateMatrix(5);\n",
    "for (int[] rows : result)\n",
    "{\n",
    "\tSystem.out.println(Arrays.toString(rows));\n",
    "}"
   ]
  },
  {
   "cell_type": "code",
   "execution_count": null,
   "metadata": {
    "vscode": {
     "languageId": "java"
    }
   },
   "outputs": [],
   "source": []
  }
 ],
 "metadata": {
  "kernelspec": {
   "display_name": "Java",
   "language": "java",
   "name": "java"
  },
  "language_info": {
   "codemirror_mode": "java",
   "file_extension": ".jshell",
   "mimetype": "text/x-java-source",
   "name": "Java",
   "pygments_lexer": "java",
   "version": "22.0.1+8-16"
  }
 },
 "nbformat": 4,
 "nbformat_minor": 2
}
