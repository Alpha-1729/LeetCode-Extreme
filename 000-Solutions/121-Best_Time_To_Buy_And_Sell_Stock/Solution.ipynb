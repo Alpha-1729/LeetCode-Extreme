{
 "cells": [
  {
   "cell_type": "code",
   "execution_count": null,
   "metadata": {
    "vscode": {
     "languageId": "java"
    }
   },
   "outputs": [],
   "source": [
    "// Best Time To Buy And Sell Stock\n",
    "\n",
    "/*\n",
    ">>>>\n",
    ">>>>\n",
    ">>>>\n",
    ">>>>\n",
    "*/\n"
   ]
  },
  {
   "cell_type": "markdown",
   "metadata": {},
   "source": [
    "# Approach 1 (Best Solution).\n",
    "\n",
    "- Time Complexity - O(n).\n",
    "- Space Complexity - O(1).\n",
    "\n",
    "- Set the first value in the array as the buyPrice.\n",
    "- Update the buyPrice, when a small value is found.\n",
    "- Update the profit.\n",
    "- Return the profit.\n"
   ]
  },
  {
   "cell_type": "code",
   "execution_count": 1,
   "metadata": {
    "vscode": {
     "languageId": "java"
    }
   },
   "outputs": [],
   "source": [
    "class Solution {\n",
    "\n",
    "  public int maxProfit(int[] prices) {\n",
    "    int buyPrice = prices[0];\n",
    "    int profit = 0;\n",
    "    for (int i = 1; i < prices.length; i++) {\n",
    "      if (prices[i] < buyPrice) {\n",
    "        buyPrice = prices[i];\n",
    "      }\n",
    "      profit = Math.max(profit, (prices[i] - buyPrice));\n",
    "    }\n",
    "    return profit;\n",
    "  }\n",
    "}\n"
   ]
  },
  {
   "cell_type": "code",
   "execution_count": 2,
   "metadata": {
    "vscode": {
     "languageId": "java"
    }
   },
   "outputs": [
    {
     "name": "stdout",
     "output_type": "stream",
     "text": [
      "5\n"
     ]
    }
   ],
   "source": [
    "Solution solution = new Solution();\n",
    "int[] prices = {7, 1, 5, 3, 6, 4};\n",
    "int result = solution.maxProfit(prices);\n",
    "System.out.println(result);"
   ]
  },
  {
   "cell_type": "code",
   "execution_count": null,
   "metadata": {
    "vscode": {
     "languageId": "java"
    }
   },
   "outputs": [],
   "source": []
  }
 ],
 "metadata": {
  "kernelspec": {
   "display_name": "Java",
   "language": "java",
   "name": "java"
  },
  "language_info": {
   "codemirror_mode": "java",
   "file_extension": ".jshell",
   "mimetype": "text/x-java-source",
   "name": "Java",
   "pygments_lexer": "java",
   "version": "22.0.1+8-16"
  }
 },
 "nbformat": 4,
 "nbformat_minor": 2
}
