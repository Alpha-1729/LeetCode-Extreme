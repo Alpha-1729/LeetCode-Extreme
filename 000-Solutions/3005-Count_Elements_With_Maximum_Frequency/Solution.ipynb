{
 "cells": [
  {
   "cell_type": "code",
   "execution_count": null,
   "metadata": {},
   "outputs": [],
   "source": [
    "// Count Elements With Maximum Frequency\n",
    "\n",
    "/*\n",
    ">>>>\n",
    ">>>>\n",
    ">>>>\n",
    ">>>>\n",
    "*/\n"
   ]
  },
  {
   "cell_type": "markdown",
   "metadata": {},
   "source": [
    "# Approach 1 (Best Solution).\n",
    "- Time Complexity - O(n).\n",
    "- Space Complexity - O(n).\n",
    "\n",
    "- Create a array to store the count of each number.\n",
    "- Create two variable maxFreq, maxFreqCount to store the maximum frequency and total frequency of all maxFreq element.\n",
    "- Update the variable accoordingly.\n",
    "- Return the maxFreqCount."
   ]
  },
  {
   "cell_type": "code",
   "execution_count": 4,
   "metadata": {},
   "outputs": [],
   "source": [
    "class Solution {\n",
    "    public int maxFrequencyElements(int[] nums) {\n",
    "        int maxNum = -1;\n",
    "\n",
    "        for (int num : nums) {\n",
    "            if (num > maxNum) {\n",
    "                maxNum = num;\n",
    "            }\n",
    "        }\n",
    "\n",
    "        int[] map = new int[maxNum];\n",
    "\n",
    "        int maxFreq = 0;\n",
    "        int maxFreqCount = 0;\n",
    "        for (int num : nums) {\n",
    "            map[num - 1]++;\n",
    "\n",
    "            if (map[num - 1] > maxFreq) {\n",
    "                maxFreq = map[num - 1];\n",
    "                maxFreqCount = maxFreq;\n",
    "            }\n",
    "            else if (map[num - 1] == maxFreq) {\n",
    "                maxFreqCount += maxFreq;\n",
    "            }\n",
    "        }\n",
    "        return maxFreqCount;\n",
    "    }\n",
    "}"
   ]
  },
  {
   "cell_type": "code",
   "execution_count": 5,
   "metadata": {},
   "outputs": [
    {
     "name": "stdout",
     "output_type": "stream",
     "text": [
      "4\n"
     ]
    }
   ],
   "source": [
    "Solution solution = new Solution();\n",
    "int[] nums = {1, 2, 2, 3, 1, 4};\n",
    "int result = solution.maxFrequencyElements(nums);\n",
    "System.out.println(result);"
   ]
  },
  {
   "cell_type": "code",
   "execution_count": null,
   "metadata": {},
   "outputs": [],
   "source": []
  }
 ],
 "metadata": {
  "kernelspec": {
   "display_name": "Java",
   "language": "java",
   "name": "java"
  },
  "language_info": {
   "codemirror_mode": "java",
   "file_extension": ".jshell",
   "mimetype": "text/x-java-source",
   "name": "Java",
   "pygments_lexer": "java",
   "version": "21.0.3+9-Debian-2"
  }
 },
 "nbformat": 4,
 "nbformat_minor": 4
}
