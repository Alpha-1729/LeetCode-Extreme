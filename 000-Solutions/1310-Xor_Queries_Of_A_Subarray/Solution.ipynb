{
 "cells": [
  {
   "cell_type": "code",
   "execution_count": null,
   "metadata": {},
   "outputs": [],
   "source": [
    "// Xor Queries Of A Subarray\n",
    "\n",
    "/*\n",
    ">>>>\n",
    ">>>>\n",
    ">>>>\n",
    ">>>>\n",
    "*/\n"
   ]
  },
  {
   "cell_type": "markdown",
   "metadata": {},
   "source": [
    "# Approach 1 (Best Solution).\n",
    "- Time Complexity - O(n).\n",
    "- Space Complexity - O(n).\n",
    "\n",
    "1. **Prefix XOR Calculation**:\n",
    "   - The `for` loop iterates through the array `arr` starting from index `1`.\n",
    "   - At each step, the current element `arr[i]` is updated to be the XOR of itself and the previous element `arr[i - 1]`. This creates a prefix XOR array, where each element represents the XOR of all elements from the start of the array to the current position.\n",
    "   - After this step, `arr[i]` holds the XOR of `arr[0]` to `arr[i]`.\n",
    "\n",
    "2. **Initialize Result Array**:\n",
    "   - `res`: An array to store the result of each query, with the same length as the `queries` array.\n",
    "\n",
    "3. **Process Queries**:\n",
    "   - The second `for` loop iterates through each query in the `queries` array.\n",
    "   - For each query, it extracts the `start` and `end` indices.\n",
    "\n",
    "   - **Three Cases**:\n",
    "     - **Case 1**: If `start == 0` and `end == 0`, the result is the first element `arr[0]`, since the query is only asking for the first element.\n",
    "     - **Case 2**: If `start == 0`, the result is `arr[end]`, which already holds the XOR of all elements from `arr[0]` to `arr[end]`.\n",
    "     - **Case 3**: For other queries, the result is calculated as `arr[start - 1] ^ arr[end]`. This works because the XOR from `arr[start]` to `arr[end]` can be derived by XORing the prefix XOR at `arr[end]` with the prefix XOR at `arr[start - 1]`.\n",
    "\n",
    "4. **Return**:\n",
    "   - The method returns the result array `res`, containing the XOR results for all queries."
   ]
  },
  {
   "cell_type": "code",
   "execution_count": null,
   "metadata": {},
   "outputs": [],
   "source": [
    "class Solution {\n",
    "    public int[] xorQueries(int[] arr, int[][] queries) {\n",
    "        for (int i = 1; i < arr.length; i++) {\n",
    "            arr[i] = arr[i - 1] ^ arr[i];\n",
    "        }\n",
    "\n",
    "        int[] res = new int[queries.length];\n",
    "        for (int i = 0; i < queries.length; i++) {\n",
    "            int start = queries[i][0];\n",
    "            int end = queries[i][1];\n",
    "            if (start == 0 && end == 0) {\n",
    "                res[i] = arr[0];\n",
    "            } else if (start == 0) {\n",
    "                res[i] = arr[end];\n",
    "            } else {\n",
    "                res[i] = arr[start - 1] ^ arr[end];\n",
    "            }\n",
    "        }\n",
    "\n",
    "        return res;\n",
    "    }\n",
    "}"
   ]
  },
  {
   "cell_type": "code",
   "execution_count": null,
   "metadata": {},
   "outputs": [],
   "source": [
    "Solution solution = new Solution();\n",
    "int[] arr = {1, 3, 4, 8};\n",
    "int[][] queries = {{0, 1}, {1, 2}, {0, 3}, {3, 3}};\n",
    "int[] result = solution.xorQueries(arr, queries);\n",
    "System.out.println(Arrays.toString(result));"
   ]
  }
 ],
 "metadata": {
  "kernelspec": {
   "display_name": "Java",
   "language": "java",
   "name": "java"
  },
  "language_info": {
   "codemirror_mode": "java",
   "file_extension": ".jshell",
   "mimetype": "text/x-java-source",
   "name": "java",
   "pygments_lexer": "java",
   "version": "21.0.2+13-LTS-58"
  }
 },
 "nbformat": 4,
 "nbformat_minor": 2
}
