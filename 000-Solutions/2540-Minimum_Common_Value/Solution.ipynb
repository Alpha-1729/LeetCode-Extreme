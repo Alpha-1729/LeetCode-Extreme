{
 "cells": [
  {
   "cell_type": "code",
   "execution_count": null,
   "metadata": {},
   "outputs": [],
   "source": [
    "// Minimum Common Value\n",
    "\n",
    "/*\n",
    ">>>>\n",
    ">>>>\n",
    ">>>>\n",
    ">>>>\n",
    "*/\n"
   ]
  },
  {
   "cell_type": "markdown",
   "metadata": {},
   "source": [
    "# Approach 1 (Best Solution).\n",
    "- Time Complexity - O(n + m).\n",
    "- Space Complexity - O(1).\n",
    "\n",
    "- Use two pointer approach.\n",
    "- Position two pointer at the start of the both arrays.\n",
    "- Check the value at the each index.\n",
    "- Update the index of the each pointer till any pointer reach the end of the corresponding array.\n",
    "- If any match found, return that element.\n",
    "- Else return -1.\n"
   ]
  },
  {
   "cell_type": "code",
   "execution_count": 1,
   "metadata": {},
   "outputs": [],
   "source": [
    "class Solution {\n",
    "    public int getCommon(int[] nums1, int[] nums2) {\n",
    "        int oneIndex = 0;\n",
    "        int twoIndex = 0;\n",
    "\n",
    "        if (nums1[0] > nums2[nums2.length - 1] || nums2[0] > nums1[nums1.length - 1]) {\n",
    "            return -1;\n",
    "        }\n",
    "\n",
    "        while (oneIndex < nums1.length && twoIndex < nums2.length) {\n",
    "            int first = nums1[oneIndex];\n",
    "            int second = nums2[twoIndex];\n",
    "            if (first == second) {\n",
    "                return first;\n",
    "            } else if (first > second) {\n",
    "                twoIndex++;\n",
    "            } else {\n",
    "                oneIndex++;\n",
    "            }\n",
    "        }\n",
    "        return -1;\n",
    "    }\n",
    "}\n"
   ]
  },
  {
   "cell_type": "code",
   "execution_count": 2,
   "metadata": {},
   "outputs": [
    {
     "name": "stdout",
     "output_type": "stream",
     "text": [
      "2\n"
     ]
    }
   ],
   "source": [
    "Solution solution = new Solution();\n",
    "int[] nums1 = {1, 2, 3};\n",
    "int[] nums2 = {2, 4};\n",
    "int result = solution.getCommon(nums1, nums2);\n",
    "System.out.println(result);"
   ]
  },
  {
   "cell_type": "code",
   "execution_count": null,
   "metadata": {},
   "outputs": [],
   "source": []
  }
 ],
 "metadata": {
  "kernelspec": {
   "display_name": "Java",
   "language": "java",
   "name": "java"
  },
  "language_info": {
   "codemirror_mode": "java",
   "file_extension": ".jshell",
   "mimetype": "text/x-java-source",
   "name": "Java",
   "pygments_lexer": "java",
   "version": "21.0.3+9-Debian-2"
  }
 },
 "nbformat": 4,
 "nbformat_minor": 4
}
