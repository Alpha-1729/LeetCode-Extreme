{
 "cells": [
  {
   "cell_type": "code",
   "execution_count": null,
   "metadata": {
    "vscode": {
     "languageId": "java"
    }
   },
   "outputs": [],
   "source": [
    "// Set Mismatch\n",
    "\n",
    "/*\n",
    ">>>>\n",
    ">>>>\n",
    ">>>>\n",
    ">>>>\n",
    "*/\n"
   ]
  },
  {
   "cell_type": "markdown",
   "metadata": {},
   "source": [
    "# Approach 1 (Best Solution).\n",
    "- Time Complexity - O(n).\n",
    "- Space Complexity - O(1).\n",
    "\n",
    "- Since all the elements in the array is positive.\n",
    "- After visiting the value in the array, we make that element that negative.\n",
    "- When we check a negative number next time, which means that this number is duplicate.\n",
    "- Finally we calculate the missing number using the sum of the numbers in the array."
   ]
  },
  {
   "cell_type": "code",
   "execution_count": null,
   "metadata": {
    "vscode": {
     "languageId": "java"
    }
   },
   "outputs": [],
   "source": [
    "class Solution {\n",
    "\n",
    "  public int[] findErrorNums(int[] nums) {\n",
    "    int n = nums.length;\n",
    "    int sumExpected = (n * (n + 1)) / 2;\n",
    "    int sumActual = 0;\n",
    "    int duplicate = -1;\n",
    "\n",
    "    for (int num : nums) {\n",
    "      if (nums[Math.abs(num) - 1] < 0) {\n",
    "        duplicate = Math.abs(num);\n",
    "      }\n",
    "\n",
    "      sumActual += Math.abs(num);\n",
    "      nums[Math.abs(num) - 1] *= -1;\n",
    "    }\n",
    "\n",
    "    int missing = sumExpected - sumActual + duplicate;\n",
    "    return new int[] { duplicate, missing };\n",
    "  }\n",
    "}\n"
   ]
  },
  {
   "cell_type": "code",
   "execution_count": null,
   "metadata": {
    "vscode": {
     "languageId": "java"
    }
   },
   "outputs": [],
   "source": [
    "Solution solution = new Solution();\n",
    "int[] nums = {1, 2, 2, 4};\n",
    "int[] result = solution.findErrorNums(nums);\n",
    "System.out.println(Arrays.toString(result));"
   ]
  },
  {
   "cell_type": "code",
   "execution_count": null,
   "metadata": {
    "vscode": {
     "languageId": "java"
    }
   },
   "outputs": [],
   "source": []
  },
  {
   "cell_type": "code",
   "execution_count": null,
   "metadata": {
    "vscode": {
     "languageId": "java"
    }
   },
   "outputs": [],
   "source": []
  }
 ],
 "metadata": {
  "kernelspec": {
   "display_name": "Java",
   "language": "java",
   "name": "java"
  },
  "language_info": {
   "codemirror_mode": "java",
   "file_extension": ".jshell",
   "mimetype": "text/x-java-source",
   "name": "Java",
   "pygments_lexer": "java",
   "version": "22.0.1+8-16"
  }
 },
 "nbformat": 4,
 "nbformat_minor": 2
}
