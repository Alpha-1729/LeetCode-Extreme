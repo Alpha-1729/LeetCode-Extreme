{
 "cells": [
  {
   "cell_type": "code",
   "execution_count": null,
   "metadata": {
    "vscode": {
     "languageId": "java"
    }
   },
   "outputs": [],
   "source": [
    "// Power Of Four\n",
    "\n",
    "/*\n",
    ">>>>\n",
    ">>>>\n",
    ">>>>\n",
    ">>>>\n",
    "*/\n"
   ]
  },
  {
   "cell_type": "markdown",
   "metadata": {},
   "source": [
    "# Approach 1 (Best Solution).\n",
    "- Time Complexity - O(1).\n",
    "- Space Complexity - O(1).\n",
    "\n",
    "1. **Base Case Check**:\n",
    "   - The method first checks if `n` is less than 1. If `n` is less than 1 (e.g., negative numbers or 0), it is not a power of 4. In this case, return `false`.\n",
    "\n",
    "2. **Logarithmic Check**:\n",
    "   - The mathematical condition for checking whether a number is a power of 4 is if `log₄(n)` is an integer.\n",
    "   - To calculate `log₄(n)`, we can use the property that `log₄(n) = log(n) / log(4)`. This converts the logarithm base 4 into a base 10 logarithmic operation.\n",
    "   - The result `(Math.log(n) / Math.log(4))` computes `log₄(n)`.\n",
    "   \n",
    "3. **Check if Result is an Integer**:\n",
    "   - The method checks if the result of the logarithmic operation is an integer by verifying whether the remainder when divided by 1 is 0 (`% 1 == 0`). If the result is an integer, `n` is a power of 4.\n",
    "\n",
    "4. **Return the Result**:\n",
    "   - If the logarithmic result is an integer, the method returns `true`, meaning `n` is a power of 4. Otherwise, it returns `false`."
   ]
  },
  {
   "cell_type": "code",
   "execution_count": null,
   "metadata": {
    "vscode": {
     "languageId": "java"
    }
   },
   "outputs": [],
   "source": [
    "class Solution {\n",
    "    public boolean isPowerOfFour(int n) {\n",
    "        if (n < 1) return false;\n",
    "        return (Math.log(n) / Math.log(4)) % 1 == 0;\n",
    "    }\n",
    "}"
   ]
  },
  {
   "cell_type": "code",
   "execution_count": null,
   "metadata": {
    "vscode": {
     "languageId": "java"
    }
   },
   "outputs": [],
   "source": [
    "Solution solution = new Solution();\n",
    "int n = 16;\n",
    "boolean result = solution.isPowerOfFour(n);\n",
    "System.out.println(result);"
   ]
  },
  {
   "cell_type": "code",
   "execution_count": null,
   "metadata": {
    "vscode": {
     "languageId": "java"
    }
   },
   "outputs": [],
   "source": []
  }
 ],
 "metadata": {
  "kernelspec": {
   "display_name": "Java",
   "language": "java",
   "name": "java"
  },
  "language_info": {
   "codemirror_mode": "java",
   "file_extension": ".jshell",
   "mimetype": "text/x-java-source",
   "name": "Java",
   "pygments_lexer": "java",
   "version": "22.0.2+9-70"
  }
 },
 "nbformat": 4,
 "nbformat_minor": 2
}
