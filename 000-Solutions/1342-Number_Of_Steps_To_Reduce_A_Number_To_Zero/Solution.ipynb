{
 "cells": [
  {
   "cell_type": "code",
   "execution_count": null,
   "metadata": {},
   "outputs": [],
   "source": [
    "// Number Of Steps To Reduce A Number To Zero\n",
    "\n",
    "/*\n",
    ">>>>\n",
    ">>>>\n",
    ">>>>\n",
    ">>>>\n",
    "*/\n"
   ]
  },
  {
   "cell_type": "markdown",
   "metadata": {},
   "source": [
    "# Approach 1 (Best Solution).\n",
    "- Time Complexity - O(log n).\n",
    "- Space Complexity - O(1).\n",
    "- We update the number till the number become zero.\n",
    "- If the number is even, we divide the number by 2.\n",
    "- Else we subtract 1 from the number.\n",
    "- We increment the count of steps.\n",
    "- Return the steps."
   ]
  },
  {
   "cell_type": "code",
   "execution_count": null,
   "metadata": {},
   "outputs": [],
   "source": [
    "class Solution {\n",
    "\n",
    "  public int numberOfSteps(int num) {\n",
    "    int steps = 0;\n",
    "\n",
    "    while (num > 0) {\n",
    "      if (num % 2 == 0) {\n",
    "        num /= 2;\n",
    "      } else {\n",
    "        num--;\n",
    "      }\n",
    "      steps++;\n",
    "    }\n",
    "    return steps;\n",
    "  }\n",
    "}\n"
   ]
  },
  {
   "cell_type": "markdown",
   "metadata": {},
   "source": [
    "# Approach 2 (Best Solution) Bitwise approach..\n",
    "- Time Complexity - O(log n).\n",
    "- Space Complexity - O(1).\n",
    "- We check whether the number is even using last bit of the number using the bitmask(1).\n",
    "- number & (1)000000001: One(if number is odd) and Zero(if number is even).\n",
    "- If the number is even, We right shift the number.\n",
    "- Else we subtract 1 from the number.\n",
    "- We increment the count of steps.\n",
    "- Return the steps."
   ]
  },
  {
   "cell_type": "code",
   "execution_count": null,
   "metadata": {},
   "outputs": [],
   "source": [
    "class Solution {\n",
    "\n",
    "  public int numberOfSteps(int num) {\n",
    "    int steps = 0;\n",
    "\n",
    "    while (num > 0) {\n",
    "      if ((num & 1) == 0) { // Bitmask.\n",
    "        num = num >> 1; // Right shift the number.\n",
    "      } else {\n",
    "        num--;\n",
    "      }\n",
    "      steps++;\n",
    "    }\n",
    "    return steps;\n",
    "  }\n",
    "}\n"
   ]
  },
  {
   "cell_type": "code",
   "execution_count": null,
   "metadata": {},
   "outputs": [],
   "source": [
    "Solution s = new Solution();\n",
    "\n",
    "int num = 10;\n",
    "int result = s.numberOfSteps(num);\n",
    "System.out.println(result);"
   ]
  }
 ],
 "metadata": {
  "kernelspec": {
   "display_name": "Java",
   "language": "java",
   "name": "java"
  },
  "language_info": {
   "codemirror_mode": "java",
   "file_extension": ".jshell",
   "mimetype": "text/x-java-source",
   "name": "java",
   "pygments_lexer": "java",
   "version": "21.0.2+13-LTS-58"
  }
 },
 "nbformat": 4,
 "nbformat_minor": 2
}
