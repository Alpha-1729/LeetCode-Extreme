{
 "cells": [
  {
   "cell_type": "code",
   "execution_count": null,
   "metadata": {
    "vscode": {
     "languageId": "java"
    }
   },
   "outputs": [],
   "source": [
    "// Check If One String Swap Can Make Strings Equal\n",
    "\n",
    "/*\n",
    ">>>>\n",
    ">>>>\n",
    ">>>>\n",
    ">>>>\n",
    "*/\n"
   ]
  },
  {
   "cell_type": "markdown",
   "metadata": {},
   "source": [
    "# Approach 1 (Best Solution).\n",
    "- Time Complexity - O(n).\n",
    "- Space Complexity - O(1).\n",
    "\n",
    "- Start a for loop from 0 to the length of the string.\n",
    "- Match character from first string and second string.\n",
    "- If they didn't match, increment the swap variable value.\n",
    "- If the character unmatched for the first time, store that in the variable a and b.\n",
    "- If the opposite of the previous order of the character is found in the string one and two, set the variable a and back to 0.\n",
    "- Finally at the end return boolean based on the value of the a and b and the swap variable."
   ]
  },
  {
   "cell_type": "code",
   "execution_count": null,
   "metadata": {
    "vscode": {
     "languageId": "java"
    }
   },
   "outputs": [],
   "source": [
    "class Solution {\n",
    "\n",
    "  public boolean areAlmostEqual(String s1, String s2) {\n",
    "    int swap = 0;\n",
    "    int a = 0;\n",
    "    int b = 0;\n",
    "    for (int i = 0; i < s1.length() && swap < 2; i++) {\n",
    "      char first = s1.charAt(i);\n",
    "      char second = s2.charAt(i);\n",
    "\t  \n",
    "\t  // This is to check that the opposite characters are in the mismatched previous index.\n",
    "      if (a == second && b == first) {\n",
    "        a = 0;\n",
    "        b = 0;\n",
    "      } else if (first != second) {\n",
    "        swap++;\n",
    "        a = first;\n",
    "        b = second;\n",
    "      }\n",
    "    }\n",
    "\n",
    "    return a + b == 0 && swap < 2;\n",
    "  }\n",
    "}\n"
   ]
  },
  {
   "cell_type": "markdown",
   "metadata": {},
   "source": [
    "# Approach 2.\n",
    "- Time Complexity - O(n).\n",
    "- Space Complexity - O(1).\n",
    "\n",
    "- Create a array to store the count of the each character in the first string.\n",
    "- Loop through the first string and store the count of each character in the array.\n",
    "- Loop through the characters in the second string.\n",
    "- If the character is not present in the array, return false.\n",
    "- If the character is present in the array, decrement the count in the array.\n",
    "- If characters are not equal in the first string and second string, increment the swap variable.\n",
    "- If value of the swap variable is more than 2, return false.\n",
    "- Finally return true."
   ]
  },
  {
   "cell_type": "code",
   "execution_count": null,
   "metadata": {
    "vscode": {
     "languageId": "java"
    }
   },
   "outputs": [],
   "source": [
    "class Solution {\n",
    "\n",
    "  public boolean areAlmostEqual(String s1, String s2) {\n",
    "    int[] charArray = new int[26];\n",
    "    int swap = 0;\n",
    "\n",
    "    // Looping through the first string and store the count of each character.\n",
    "    for (int i = 0; i < s1.length(); i++) {\n",
    "      int index = s1.charAt(i) - 'a';\n",
    "      charArray[index]++;\n",
    "    }\n",
    "\n",
    "    for (int i = 0; i < s2.length(); i++) {\n",
    "      int index = s2.charAt(i) - 'a';\n",
    "      if (charArray[index] == 0) {\n",
    "        return false;\n",
    "      } else {\n",
    "        charArray[index]--;\n",
    "      }\n",
    "\n",
    "      if (s1.charAt(i) != s2.charAt(i)) {\n",
    "        swap++;\n",
    "      }\n",
    "      if (swap > 2) {\n",
    "        return false;\n",
    "      }\n",
    "    }\n",
    "\n",
    "    return true;\n",
    "  }\n",
    "}\n"
   ]
  },
  {
   "cell_type": "code",
   "execution_count": null,
   "metadata": {
    "vscode": {
     "languageId": "java"
    }
   },
   "outputs": [],
   "source": [
    "Solution s = new Solution();\n",
    "String s1 = \"bank\";\n",
    "String s2 = \"kanb\";\n",
    "boolean result = s.areAlmostEqual(s1, s2);\n",
    "System.out.println(result);"
   ]
  },
  {
   "cell_type": "code",
   "execution_count": null,
   "metadata": {
    "vscode": {
     "languageId": "java"
    }
   },
   "outputs": [],
   "source": []
  }
 ],
 "metadata": {
  "kernelspec": {
   "display_name": "Java",
   "language": "java",
   "name": "java"
  },
  "language_info": {
   "codemirror_mode": "java",
   "file_extension": ".jshell",
   "mimetype": "text/x-java-source",
   "name": "Java",
   "pygments_lexer": "java",
   "version": "22.0.1+8-16"
  }
 },
 "nbformat": 4,
 "nbformat_minor": 2
}
